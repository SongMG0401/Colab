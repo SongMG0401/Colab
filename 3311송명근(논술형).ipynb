{
  "nbformat": 4,
  "nbformat_minor": 0,
  "metadata": {
    "colab": {
      "name": "3311송명근(논술형).ipynb",
      "provenance": [],
      "authorship_tag": "ABX9TyNI51ypbWE5dk+ZtpBc7v6J",
      "include_colab_link": true
    },
    "kernelspec": {
      "name": "python3",
      "display_name": "Python 3"
    },
    "language_info": {
      "name": "python"
    }
  },
  "cells": [
    {
      "cell_type": "markdown",
      "metadata": {
        "id": "view-in-github",
        "colab_type": "text"
      },
      "source": [
        "<a href=\"https://colab.research.google.com/github/SongMG0401/Colab/blob/main/3311%EC%86%A1%EB%AA%85%EA%B7%BC(%EB%85%BC%EC%88%A0%ED%98%95).ipynb\" target=\"_parent\"><img src=\"https://colab.research.google.com/assets/colab-badge.svg\" alt=\"Open In Colab\"/></a>"
      ]
    },
    {
      "cell_type": "markdown",
      "source": [
        "컴퓨터과 3학년 3반 11번 송명근"
      ],
      "metadata": {
        "id": "ua-gpeHAEs1Z"
      }
    },
    {
      "cell_type": "code",
      "execution_count": 2,
      "metadata": {
        "colab": {
          "base_uri": "https://localhost:8080/"
        },
        "id": "IW3JHtLmElIt",
        "outputId": "adaa2689-5ecb-439f-ba47-c20de422d678"
      },
      "outputs": [
        {
          "output_type": "stream",
          "name": "stdout",
          "text": [
            "첫번째 숫자를 입력하세요 : 100\n",
            "두번째 숫자를 입력하세요 : 10\n",
            "num1과 num2의 합은 110.0 입니다.\n",
            "num1과 num2의 차는 90.0 입니다.\n",
            "num1과 num2의 곱은 1000.0 입니다.\n",
            "num1과 num2의 나눗셈은 10.0 입니다.\n",
            "num1과 num2의 몫은 10.0 입니다.\n",
            "num1과 num2의 나머지는 0.0 입니다.\n",
            "num1과 num2의 승수는 1e+20 입니다.\n"
          ]
        }
      ],
      "source": [
        "num1 = float(input(\"첫번째 숫자를 입력하세요 : \"))\n",
        "num2 = float(input(\"두번째 숫자를 입력하세요 : \"))\n",
        "\n",
        "result1 = num1 + num2\n",
        "result2 = num1 - num2\n",
        "result3 = num1 * num2\n",
        "result4 = num1 / num2\n",
        "result5 = num1 // num2\n",
        "result6 = num1 % num2\n",
        "result7 = num1 ** num2\n",
        "\n",
        "print(\"num1과 num2의 합은\", result1,\"입니다.\")\n",
        "print(\"num1과 num2의 차는\", result2,\"입니다.\")\n",
        "print(\"num1과 num2의 곱은\", result3,\"입니다.\")\n",
        "print(\"num1과 num2의 나눗셈은\", result4,\"입니다.\")\n",
        "print(\"num1과 num2의 몫은\", result5,\"입니다.\")\n",
        "print(\"num1과 num2의 나머지는\", result6,\"입니다.\")\n",
        "print(\"num1과 num2의 승수는\", result7,\"입니다.\")"
      ]
    },
    {
      "cell_type": "code",
      "source": [],
      "metadata": {
        "id": "1jcVBjBDHN5q"
      },
      "execution_count": null,
      "outputs": []
    }
  ]
}