{
  "nbformat": 4,
  "nbformat_minor": 0,
  "metadata": {
    "colab": {
      "provenance": [],
      "collapsed_sections": [],
      "authorship_tag": "ABX9TyPIjperF0mj1a6KdoNKq4pM",
      "include_colab_link": true
    },
    "kernelspec": {
      "name": "python3",
      "display_name": "Python 3"
    },
    "language_info": {
      "name": "python"
    }
  },
  "cells": [
    {
      "cell_type": "markdown",
      "metadata": {
        "id": "view-in-github",
        "colab_type": "text"
      },
      "source": [
        "<a href=\"https://colab.research.google.com/github/SongMG0401/Colab/blob/main/Lession7.ipynb\" target=\"_parent\"><img src=\"https://colab.research.google.com/assets/colab-badge.svg\" alt=\"Open In Colab\"/></a>"
      ]
    },
    {
      "cell_type": "code",
      "execution_count": 2,
      "metadata": {
        "colab": {
          "base_uri": "https://localhost:8080/"
        },
        "id": "Tgp0uMW6IbeC",
        "outputId": "241c8933-dba1-4a80-9cf1-e9d38987eb22"
      },
      "outputs": [
        {
          "output_type": "stream",
          "name": "stdout",
          "text": [
            "숫자 :3\n",
            "숫자 :4\n",
            "숫자 :18\n",
            "숫자 :6\n",
            "합계 : 31\n"
          ]
        }
      ],
      "source": [
        "nl = []\n",
        "for i in range(0, 4) :\n",
        "  nl.append(0)\n",
        "\n",
        "h = 0\n",
        "\n",
        "for i in range(0, 4) :\n",
        "  nl[i] = int(input(\"숫자 :\"))\n",
        "h = nl[0] + nl[1] + nl[2] + nl[3]\n",
        "\n",
        "print(\"합계 :\", h)"
      ]
    },
    {
      "cell_type": "code",
      "source": [
        "import random\n",
        "\n",
        "l = [\"1번째 명언입니다. 삶이 있는 한 희망은 있다  -키케로\",\\\n",
        "\"2번째 명언입니다. 산다는것 그것은 치열한 전투이다.  -로망로랑\",\\\n",
        "\"3번째 명언입니다. 하루에 3시간을 걸으면 7년 후에 지구를 한바퀴 돌 수 있다. -사무엘존슨\",\\\n",
        "\"4번째 명언입니다. 언제나 현재에 집중할수 있다면 행복할것이다. -파울로 코엘료\",\\\n",
        "\"5번째 명언입니다. 진정으로 웃으려면 고통을 참아야하며 , 나아가 고통을 즐길 줄 알아야 해 -찰리 채플린\",\\\n",
        "\"6번째 명언입니다. 직업에서 행복을 찾아라. 아니면 행복이 무엇인지 절대 모를 것이다 -엘버트 허버드\",\\\n",
        "\"7번째 명언입니다. 신은 용기있는자를 결코 버리지 않는다 -켄러\",\\\n",
        "\"8번째 명언입니다. 행복의 문이 하나 닫히면 다른 문이 열린다 그러나 우리는 종종 닫힌 문을 멍하니 바라보다가\",\\\n",
        "\"9번째 명언입니다. 우리를 향해 열린 문을 보지 못하게 된다  – 헬렌켈러\",\\\n",
        "\"10번째 명언입니다. 피할수 없으면 즐겨라 – 로버트 엘리엇\",\\\n",
        "\"11번째 명언입니다. 단순하게 살아라. 현대인은 쓸데없는 절차와 일 때문에 얼마나 복잡한 삶을 살아가는가? - 이드리스 샤흐\",\\\n",
        "\"12번째 명언입니다. 먼저 자신을 비웃어라. 다른 사람이 당신을 비웃기 전에  – 엘사 맥스웰\",\\\n",
        "\"13번째 명언입니다. 먼저핀꽃은 먼저진다  남보다 먼저 공을 세우려고 조급히 서둘것이 아니다 – 채근담\",\\\n",
        "\"14번째 명언입니다. 행복한 삶을 살기위해 필요한 것은 거의 없다. -마르쿠스 아우렐리우스 안토니우스\",\\\n",
        "\"15번째 명언입니다. 절대 어제를 후회하지 마라 . 인생은 오늘의 나 안에 있고 내일은 스스로 만드는 것이다 L.론허바드\",\\\n",
        "\"16번째 명언입니다. 어리석은 자는 멀리서 행복을 찾고, 현명한 자는 자신의 발치에서 행복을 키워간다  -제임스 오펜하임\",\\\n",
        "\"17번째 명언입니다. 너무 소심하고 까다롭게 자신의 행동을 고민하지 말라 . 모든 인생은 실험이다 . 더많이 실험할수록 더나아진다  – 랄프 왈도 에머슨\",\\\n",
        "\"18번째 명언입니다. 한번의 실패와 영원한 실패를 혼동하지 마라 - F.스콧 핏제랄드\",\\\n",
        "\"19번째 명언입니다. 내일은 내일의 태양이 뜬다\",\\\n",
        "\"20번째 명언입니다. 피할수 없으면 즐겨라 -로버트 엘리엇\",\\\n",
        "\"21번째 명언입니다. 절대 어제를 후회하지 마라. 인생은 오늘의  내 안에 있고 내일은 스스로 만드는것이다. -L론허바드\",\\\n",
        "\"22번째 명언입니다. 계단을 밟아야 계단 위에 올라설수 있다, -터키속담\",\\\n",
        "\"23번째 명언입니다. 오랫동안 꿈을 그리는 사람은 마침내 그 꿈을 닮아 간다, -앙드레 말로\",\\\n",
        "\"24번째 명언입니다. 좋은 성과를 얻으려면 한 걸음 한 걸음이 힘차고 충실하지 않으면 안 된다, -단테\",\\\n",
        "\"25번째 명언입니다. 행복은 습관이다,그것을 몸에 지니라 -허버드\",\\\n",
        "\"26번째 명언입니다. 성공의 비결은 단 한 가지, 잘할 수 있는 일에 광적으로 집중하는 것이다.- 톰 모나건\",\\\n",
        "\"27번째 명언입니다. 자신감 있는 표정을 지으면 자신감이 생긴다 -찰스다윈\",\\\n",
        "\"28번째 명언입니다. 평생 살 것처럼 꿈을 꾸어라.그리고 내일 죽을 것처럼 오늘을 살아라. – 제임스 딘\",\\\n",
        "\"29번째 명언입니다. 네 믿음은 네 생각이 된다 . 네 생각은  네 말이 된다. 네말은 네 행동이 된다 네행동은 네 습관이된다 . 네 습관은 네 가치가 된다 . 네 가치는 네 운명이 된다 – 간디\",\\\n",
        "\"30번째 명언입니다. 일하는 시간과 노는 시간을 뚜렷이 구분하라 . 시간의 중요성을 이해하고 매순간을 즐겁게 보내고 유용하게 활용하라. 그러면 젋은 날은 유쾌함으로 가득찰것이고 늙어서도 후회할 일이 적어질것이며 비록 가난할 때라도 인생을 아름답게 살아갈수있다. – 루이사 메이올콧\",\\\n",
        "\"31번째 명언입니다. 절대 포기하지 말라. 당신이 되고 싶은 무언가가 있다면, 그에 대해 자부심을 가져라. 당신 자신에게 기회를 주어라. 스스로가 형편없다고 생각하지 말라. 그래봐야 아무 것도 얻을 것이 없다. 목표를 높이 세워라.인생은 그렇게 살아야 한다. – 마이크 맥라렌\",\\\n",
        "\"32번째 명언입니다. 1퍼센트의 가능성, 그것이 나의 길이다. -나폴레옹\",\\\n",
        "\"33번째 명언입니다. 그대 자신의 영혼을 탐구하라.다른 누구에게도 의지하지 말고 오직 그대 혼자의 힘으로 하라. 그대의 여정에 다른 이들이 끼어들지 못하게 하라. 이 길은 그대만의 길이요,  그대 혼자 가야할 길임을 명심하라.  비록 다른 이들과 함께 걸을 수는 있으나 다른 그 어느 누구도 그대가 선택한 길을 대신 가줄 수 없음을 알라. - 인디언 속담\",\\\n",
        "\"33번째 명언입니다. 고통이 남기고 간 뒤를 보라! 고난이 지나면 반드시 기쁨이 스며든다. -괴테\",\n",
        "\"34번째 명언입니다. 삶은 소유물이 아니라 순간 순간의 있음이다 영원한 것이 어디 있는가 모두가 한때일뿐 그러나 그 한때를 최선을 다해 최대한으로 살수 있어야 한다 삶은 놀라운 신비요 아름다움이다. 법정스님 - 버리고 떠나기\",\\\n",
        "\"35번째 명언입니다. 꿈을 계속 간직하고 있으면 반드시 실현할 때가 온다. -괴테\",\\\n",
        "\"36번째 명언입니다. 화려한 일을 추구하지 말라. 중요한 것은 스스로의 재능이며, 자신의 행동에 쏟아 붓는 사랑의 정도이다. -머더 테레사\",\\\n",
        "\"37번째 명언입니다. 마음만을 가지고 있어서는 안된다. 반드시 실천하여야 한다. -이소룡\",\\\n",
        "\"38번째 명언입니다. 흔히 사람들은 기회를 기다리고 있지만 기회는 기다리는 사람에게 잡히지 않는 법이다. 우리는 기회를 기다리는 사람이 되기 전에 기회를 얻을 수 있는 실력을 갖춰야 한다. 일에 더 열중하는 사람이 되어야한다. - 안창호\",\\\n",
        "\"39번째 명언입니다. 나이가 60이다 70이다 하는 것으로 그 사람이 늙었다 젊었다 할 수 없다. 늙고 젊은 것은 그 사람의 신념이 늙었느냐 젊었느냐 하는데 있다. -맥아더\",\\\n",
        "\"40번째 명언입니다. 만약 우리가 할 수 있는 일을 모두 한다면 우리들은 우리자신에 깜짝 놀랄 것이다. -에디슨\"]\n",
        "\n",
        "print(random.choice(l))"
      ],
      "metadata": {
        "colab": {
          "base_uri": "https://localhost:8080/"
        },
        "id": "eXBXod2DKa_l",
        "outputId": "cc16d8fb-9063-44c8-a8a3-61c733e0873d"
      },
      "execution_count": 6,
      "outputs": [
        {
          "output_type": "stream",
          "name": "stdout",
          "text": [
            "39번째 명언입니다. 나이가 60이다 70이다 하는 것으로 그 사람이 늙었다 젊었다 할 수 없다. 늙고 젊은 것은 그 사람의 신념이 늙었느냐 젊었느냐 하는데 있다. -맥아더\n"
          ]
        }
      ]
    },
    {
      "cell_type": "code",
      "source": [
        "nl = [10, 20, 30]\n",
        "nl[2:3] = [200, 201]\n",
        "print(nl)"
      ],
      "metadata": {
        "colab": {
          "base_uri": "https://localhost:8080/"
        },
        "id": "hRL1A2opiP4L",
        "outputId": "55693777-c5b1-4768-dbfb-90c2e09394ef"
      },
      "execution_count": 9,
      "outputs": [
        {
          "output_type": "stream",
          "name": "stdout",
          "text": [
            "[10, 20, 200, 201]\n"
          ]
        }
      ]
    },
    {
      "cell_type": "code",
      "source": [
        "from google.colab import output\n",
        "import random\n",
        "\n",
        "boardL = [ [1, 2, 3], [4, 5, 6], [7, 8, 9] ]\n",
        "\n",
        "def display_board() :\n",
        "  print(\"+---+---+---+\")\n",
        "  print(\"|\", boardL[0][0], \"|\", boardL[0][1], \"|\", boardL[0][2], \"|\")\n",
        "  print(\"+---+---+---+\")\n",
        "  print(\"|\", boardL[1][0], \"|\", boardL[1][1], \"|\", boardL[1][2], \"|\")\n",
        "  print(\"+---+---+---+\")\n",
        "  print(\"|\", boardL[2][0], \"|\", boardL[2][1], \"|\", boardL[2][2], \"|\")\n",
        "  print(\"+---+---+---+\")\n",
        "\n",
        "cl = [1, 2, 3, 4, 5, 6, 7, 8, 9]\n",
        "c_n = []\n",
        "d = []\n",
        "\n",
        "def us() :\n",
        "  display_board()\n",
        "  u = int(input(\"위치를 선택하세요 : \"))\n",
        "  cl.remove(u)\n",
        "  for x in range(3):\n",
        "    for y in range(3):\n",
        "      output.clear()\n",
        "      if u == boardL[x][y] : boardL[x][y] = \"O\"\n",
        "\n",
        "def cs() :\n",
        "  r = random.choice(cl)\n",
        "  cl.remove(r)\n",
        "  c_n.append(r)\n",
        "  for x in range(3):\n",
        "    for y in range(3):\n",
        "      output.clear()\n",
        "      if r == boardL[x][y] : boardL[x][y] = \"X\"\n",
        "\n",
        "while True :\n",
        "  if cl == d :\n",
        "    break\n",
        "  else:\n",
        "    if boardL[0][0] == boardL[0][1] == boardL[0][2] or boardL[1][0] == boardL[1][1] == boardL[1][2] or boardL[2][0] == boardL[2][1] == boardL[2][2] == \"O\" :\n",
        "      print(\"당신은 승리 했습니다.\")\n",
        "      break\n",
        "    \n",
        "    elif boardL[0][0] == boardL[1][0] == boardL[2][0] or boardL[0][1] == boardL[1][1] == boardL[2][1] or boardL[0][2] == boardL[1][2] == boardL[2][2] == \"O\" :\n",
        "      print(\"당신은 승리 했습니다.\")\n",
        "      break\n",
        "\n",
        "    elif boardL[0][0] == boardL[1][1] == boardL[2][2] or boardL[0][2] == boardL[1][1] == boardL[2][0] == \"O\" :\n",
        "      print(\"당신은 승리 했습니다.\")\n",
        "      break\n",
        "\n",
        "    elif boardL[0][0] == boardL[0][1] == boardL[0][2] or boardL[1][0] == boardL[1][1] == boardL[1][2] or boardL[2][0] == boardL[2][1] == boardL[2][2] == \"X\" :\n",
        "      print(\"당신은 패배 했습니다.\")\n",
        "      break\n",
        "    \n",
        "    elif boardL[0][0] == boardL[1][0] == boardL[2][0] or boardL[0][1] == boardL[1][1] == boardL[2][1] or boardL[0][2] == boardL[1][2] == boardL[2][2] == \"X\" :\n",
        "      print(\"당신은 패배 했습니다.\")\n",
        "      break\n",
        "    \n",
        "    elif boardL[0][0] == boardL[1][1] == boardL[2][2] or boardL[0][2] == boardL[1][1] == boardL[2][0] == \"X\" :\n",
        "      print(\"당신은 패배 했습니다.\")\n",
        "      break\n",
        "      \n",
        "    elif cl == d:\n",
        "      print(\"무승부 입니다.\")\n",
        "      break\n",
        "\n",
        "    else:\n",
        "      us()\n",
        "      if boardL[0][0] == boardL[0][1] == boardL[0][2] or boardL[1][0] == boardL[1][1] == boardL[1][2] or boardL[2][0] == boardL[2][1] == boardL[2][2] == \"O\" :\n",
        "        print(\"당신은 승리 했습니다.\")\n",
        "        break\n",
        "      \n",
        "      elif boardL[0][0] == boardL[1][0] == boardL[2][0] or boardL[0][1] == boardL[1][1] == boardL[2][1] or boardL[0][2] == boardL[1][2] == boardL[2][2] == \"O\" :\n",
        "        print(\"당신은 승리 했습니다.\")\n",
        "        break\n",
        "\n",
        "      elif boardL[0][0] == boardL[1][1] == boardL[2][2] or boardL[0][2] == boardL[1][1] == boardL[2][0] == \"O\" :\n",
        "        print(\"당신은 승리 했습니다.\")\n",
        "        break\n",
        "\n",
        "      elif boardL[0][0] == boardL[0][1] == boardL[0][2] or boardL[1][0] == boardL[1][1] == boardL[1][2] or boardL[2][0] == boardL[2][1] == boardL[2][2] == \"X\" :\n",
        "        print(\"당신은 패배 했습니다.\")\n",
        "        break\n",
        "      \n",
        "      elif boardL[0][0] == boardL[1][0] == boardL[2][0] or boardL[0][1] == boardL[1][1] == boardL[2][1] or boardL[0][2] == boardL[1][2] == boardL[2][2] == \"X\" :\n",
        "        print(\"당신은 패배 했습니다.\")\n",
        "        break\n",
        "      \n",
        "      elif boardL[0][0] == boardL[1][1] == boardL[2][2] or boardL[0][2] == boardL[1][1] == boardL[2][0] == \"X\" :\n",
        "        print(\"당신은 패배 했습니다.\")\n",
        "        break\n",
        "      \n",
        "      elif cl == d:\n",
        "        print(\"무승부 입니다.\")\n",
        "        break\n",
        "      else:\n",
        "        cs()\n",
        "        "
      ],
      "metadata": {
        "colab": {
          "base_uri": "https://localhost:8080/"
        },
        "id": "Z81vOWHsoSZ7",
        "outputId": "091694b0-8d37-4bed-9b5e-222bea9f0605"
      },
      "execution_count": 133,
      "outputs": [
        {
          "output_type": "stream",
          "name": "stdout",
          "text": [
            "당신은 승리 했습니다.\n"
          ]
        }
      ]
    }
  ]
}