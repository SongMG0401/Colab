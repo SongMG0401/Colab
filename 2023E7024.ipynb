{
  "nbformat": 4,
  "nbformat_minor": 0,
  "metadata": {
    "colab": {
      "provenance": [],
      "authorship_tag": "ABX9TyMTF6IYx0CBKLAwWUnVPmNK",
      "include_colab_link": true
    },
    "kernelspec": {
      "name": "python3",
      "display_name": "Python 3"
    },
    "language_info": {
      "name": "python"
    }
  },
  "cells": [
    {
      "cell_type": "markdown",
      "metadata": {
        "id": "view-in-github",
        "colab_type": "text"
      },
      "source": [
        "<a href=\"https://colab.research.google.com/github/SongMG0401/Colab/blob/main/2023E7024.ipynb\" target=\"_parent\"><img src=\"https://colab.research.google.com/assets/colab-badge.svg\" alt=\"Open In Colab\"/></a>"
      ]
    },
    {
      "cell_type": "code",
      "execution_count": null,
      "metadata": {
        "colab": {
          "base_uri": "https://localhost:8080/"
        },
        "id": "muIMEF5a5fZ_",
        "outputId": "b3f86c9e-7dc1-4cc0-cfed-11803b9be265"
      },
      "outputs": [
        {
          "output_type": "stream",
          "name": "stdout",
          "text": [
            "\n",
            "_ _ _ _ \n",
            "알파벳 > a\n",
            "포함됨\n",
            "\n",
            "_ a _ a \n",
            "알파벳 > d\n",
            "포함됨\n",
            "\n",
            "d a _ a \n",
            "알파벳 > c\n",
            "포함되지 않음\n",
            "\n",
            "d a _ a \n",
            "알파벳 > s\n",
            "포함되지 않음\n",
            "\n",
            "d a _ a \n",
            "알파벳 > t\n",
            "포함됨\n",
            "\n",
            "d a t a \n",
            "정답\n"
          ]
        }
      ],
      "source": [
        "from random import *\n",
        "words = [\"apple\", \"banana\", \"data\", \"orange\", \"machine\"]\n",
        "word = choice(words)\n",
        "letters = \"\"\n",
        "\n",
        "while True:\n",
        "    succeed = True\n",
        "    print()\n",
        "    for w in word:\n",
        "        if w in letters:\n",
        "            print(w, end=\" \")\n",
        "        else:\n",
        "            print(\"_\", end=\" \")\n",
        "            succeed = False\n",
        "    print()\n",
        "\n",
        "    if succeed:\n",
        "        print(\"정답\")\n",
        "        break\n",
        "\n",
        "    letter = input(\"알파벳 > \")\n",
        "    if letter not in letters:\n",
        "        letters += letter\n",
        "\n",
        "    if letter in word:\n",
        "        print(\"포함됨\")\n",
        "    else:\n",
        "        print(\"포함되지 않음\")"
      ]
    }
  ]
}