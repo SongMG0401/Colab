{
  "nbformat": 4,
  "nbformat_minor": 0,
  "metadata": {
    "colab": {
      "provenance": [],
      "authorship_tag": "ABX9TyMJXvkiQcxzal10Yaw1pG6W",
      "include_colab_link": true
    },
    "kernelspec": {
      "name": "python3",
      "display_name": "Python 3"
    },
    "language_info": {
      "name": "python"
    }
  },
  "cells": [
    {
      "cell_type": "markdown",
      "metadata": {
        "id": "view-in-github",
        "colab_type": "text"
      },
      "source": [
        "<a href=\"https://colab.research.google.com/github/SongMG0401/Colab/blob/main/Lession8_2.ipynb\" target=\"_parent\"><img src=\"https://colab.research.google.com/assets/colab-badge.svg\" alt=\"Open In Colab\"/></a>"
      ]
    },
    {
      "cell_type": "code",
      "execution_count": null,
      "metadata": {
        "colab": {
          "base_uri": "https://localhost:8080/"
        },
        "id": "BiiYvF1UX0xu",
        "outputId": "caa7e2c6-4761-4b15-9152-34383d88ec68"
      },
      "outputs": [
        {
          "output_type": "stream",
          "name": "stdout",
          "text": [
            "오늘의 날짜를 입력하세요. (예: 2011-11-11) 2022-10-11\n",
            "확인할 날짜를 입력하세요. (예: 2011-11-11) 2004-4-1\n",
            "6767.0 일\n"
          ]
        }
      ],
      "source": [
        "import time\n",
        "from datetime import datetime\n",
        "\n",
        "d1 = input(\"오늘의 날짜를 입력하세요. (예: 2011-11-11) \")\n",
        "d2 = input(\"확인할 날짜를 입력하세요. (예: 2011-11-11) \")\n",
        "t1 = time.mktime(datetime.strptime(d1,'%Y-%m-%d').timetuple())\n",
        "t2 = time.mktime(datetime.strptime(d2,'%Y-%m-%d').timetuple())\n",
        "\n",
        "d3 = (t1 - t2)\n",
        "\n",
        "if d3 < 0 :\n",
        "  d3 = (t1 - t2) * -1\n",
        "\n",
        "d4 = d3 / 86400\n",
        "\n",
        "print(d4, \"일\")"
      ]
    }
  ]
}