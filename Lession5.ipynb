{
  "nbformat": 4,
  "nbformat_minor": 0,
  "metadata": {
    "colab": {
      "provenance": [],
      "collapsed_sections": [],
      "authorship_tag": "ABX9TyN6LPxAsYaO5PY1rGTZpilC",
      "include_colab_link": true
    },
    "kernelspec": {
      "name": "python3",
      "display_name": "Python 3"
    },
    "language_info": {
      "name": "python"
    }
  },
  "cells": [
    {
      "cell_type": "markdown",
      "metadata": {
        "id": "view-in-github",
        "colab_type": "text"
      },
      "source": [
        "<a href=\"https://colab.research.google.com/github/SongMG0401/Colab/blob/main/Lession5.ipynb\" target=\"_parent\"><img src=\"https://colab.research.google.com/assets/colab-badge.svg\" alt=\"Open In Colab\"/></a>"
      ]
    },
    {
      "cell_type": "markdown",
      "source": [
        "IF문 예제"
      ],
      "metadata": {
        "id": "x0sQ9_H50ELN"
      }
    },
    {
      "cell_type": "code",
      "execution_count": 1,
      "metadata": {
        "colab": {
          "base_uri": "https://localhost:8080/"
        },
        "id": "IeqABzgg0AR_",
        "outputId": "65e99366-90de-4cb4-c58b-186fb7e5a14c"
      },
      "outputs": [
        {
          "output_type": "stream",
          "name": "stdout",
          "text": [
            "100보다 작습니다.\n"
          ]
        }
      ],
      "source": [
        "num = 99\n",
        "if num < 100 :\n",
        "    print(\"100보다 작습니다.\")"
      ]
    },
    {
      "cell_type": "code",
      "source": [
        "num = 200\n",
        "if num < 100 :\n",
        "  print(\"100보다 작군요.\")\n",
        "else :\n",
        "  print(\"100보다 크군요.\")"
      ],
      "metadata": {
        "colab": {
          "base_uri": "https://localhost:8080/"
        },
        "id": "8n_puXMj2ohV",
        "outputId": "370e51ef-489e-4003-9af6-dc57fba16d1a"
      },
      "execution_count": 2,
      "outputs": [
        {
          "output_type": "stream",
          "name": "stdout",
          "text": [
            "100보다 크군요.\n"
          ]
        }
      ]
    },
    {
      "cell_type": "code",
      "source": [
        "num = int(input(\"정수를 입력하세요 : \"))\n",
        "\n",
        "if num%2 == 0 :\n",
        "  print(num,\"은(는) 짝수입니다.\")\n",
        "else :\n",
        "  print(num,\"은(는) 홀수입니다.\")"
      ],
      "metadata": {
        "colab": {
          "base_uri": "https://localhost:8080/"
        },
        "id": "u_EtVH6P44JT",
        "outputId": "78d2d951-5a20-40cf-dbfe-6d5828fe604e"
      },
      "execution_count": 7,
      "outputs": [
        {
          "output_type": "stream",
          "name": "stdout",
          "text": [
            "정수를 입력하세요 : 100\n",
            "100 은(는) 짝수입니다.\n"
          ]
        }
      ]
    },
    {
      "cell_type": "code",
      "source": [
        "num = int(input(\"정수를 입력하세요 : \"))\n",
        "\n",
        "if num > 100 :\n",
        "  if num < 1000 :\n",
        "    print(\"100보다 크고 1000보다 작군요.\")\n",
        "  else :\n",
        "    print(\"1000보다 크군요.\")\n",
        "else :\n",
        "  print(\"100보다 작군요.\")"
      ],
      "metadata": {
        "colab": {
          "base_uri": "https://localhost:8080/"
        },
        "id": "iPwSeIt15SB6",
        "outputId": "48b53daf-fe0a-4dc0-fe66-ca8cae13cc13"
      },
      "execution_count": 10,
      "outputs": [
        {
          "output_type": "stream",
          "name": "stdout",
          "text": [
            "정수를 입력하세요 : 150\n",
            "100보다 크고 1000보다 작군요.\n"
          ]
        }
      ]
    },
    {
      "cell_type": "code",
      "source": [
        "a = int(input(\"학점을 입력하세요 : \"))\n",
        "\n",
        "if a >= 90 :\n",
        "  print(\"학점은 A입니다\")\n",
        "else :\n",
        "  if a >= 80 :\n",
        "    print(\"학점은 B입니다\")\n",
        "  else : \n",
        "    if a >= 70 :\n",
        "      print(\"학점은 C입니다\")\n",
        "    else :\n",
        "      if a >= 60 :\n",
        "        print(\"학점은 D입니다\")\n",
        "      else : \n",
        "        if a < 60 :\n",
        "         print(\"학점은 F입니다\") "
      ],
      "metadata": {
        "colab": {
          "base_uri": "https://localhost:8080/"
        },
        "id": "N-5LuqXb8BEb",
        "outputId": "cb681c86-64aa-4f2c-8346-5e0ddbb3d34b"
      },
      "execution_count": 16,
      "outputs": [
        {
          "output_type": "stream",
          "name": "stdout",
          "text": [
            "학점을 입력하세요 : 10\n",
            "학점은 F입니다\n"
          ]
        }
      ]
    },
    {
      "cell_type": "code",
      "source": [
        "a = int(input(\"학점을 입력하세요 : \"))\n",
        "\n",
        "if a >= 90 :\n",
        "  print(\"학점은 A입니다\")\n",
        "elif a >= 80 :\n",
        "  print(\"학점은 B입니다\")\n",
        "elif a >= 70 :\n",
        "  print(\"학점은 C입니다\")\n",
        "elif a >= 60 :\n",
        "  print(\"학점은 D입니다\")\n",
        "else :\n",
        "  print(\"학점은 F입니다\") "
      ],
      "metadata": {
        "colab": {
          "base_uri": "https://localhost:8080/"
        },
        "id": "Qw0AfD7PBkYi",
        "outputId": "7a4d5f47-6209-427e-b600-b542aab0c74b"
      },
      "execution_count": 17,
      "outputs": [
        {
          "output_type": "stream",
          "name": "stdout",
          "text": [
            "학점을 입력하세요 : 10\n",
            "학점은 F입니다\n"
          ]
        }
      ]
    },
    {
      "cell_type": "code",
      "source": [
        "import random\n",
        "\n",
        "rnd = random.randint(1,45)\n",
        "lunch = random.choice([\"짜장면\",\"라면\",\"김밥\"])\n",
        "\n",
        "print(rnd, lunch)"
      ],
      "metadata": {
        "colab": {
          "base_uri": "https://localhost:8080/"
        },
        "id": "ZbUp0fpBDcRR",
        "outputId": "80137769-0f4d-4a04-8076-6ace6a2d9a3a"
      },
      "execution_count": 21,
      "outputs": [
        {
          "output_type": "stream",
          "name": "stdout",
          "text": [
            "8 라면\n"
          ]
        }
      ]
    },
    {
      "cell_type": "code",
      "source": [
        "a = input(\"가위 바위 보 중 하나를 입력하세요 : \")\n",
        "b = random.choice([\"가위\", \"바위\", \"보\"])\n",
        "\n",
        "print(a, b)\n",
        "if a == b :\n",
        "  print(\"비겼다.\")\n",
        "elif ((a == '바위') and (b == '가위')) or ((a == '가위') and (b == '보')) or ((a == '보') and (b == '바위')):\n",
        "  print(\"이겼다.\")\n",
        "else :\n",
        "  print(\"졌다.\")  "
      ],
      "metadata": {
        "colab": {
          "base_uri": "https://localhost:8080/"
        },
        "id": "8fsGKhbdFp6p",
        "outputId": "f8a40e8f-392c-4323-8c0f-5e1bc71304dd"
      },
      "execution_count": 48,
      "outputs": [
        {
          "output_type": "stream",
          "name": "stdout",
          "text": [
            "가위 바위 보 중 하나를 입력하세요 : 가위\n",
            "가위 보\n",
            "이겼다.\n"
          ]
        }
      ]
    },
    {
      "cell_type": "code",
      "source": [
        "if n > 0:\n",
        "  n = 0\n",
        "  d = 0\n",
        "  l = 0\n",
        "  while True :\n",
        "    a = input(\"가위 바위 보 중 하나를 입력하세요 : \")\n",
        "    b = random.choice([\"가위\", \"바위\", \"보\"])\n",
        "    w = 0\n",
        "    n = n + 1\n",
        "    print(a, b)\n",
        "    if a == b :\n",
        "      print(\"비겼다.\")\n",
        "      d = d + 1\n",
        "    elif ((a == '바위') and (b == '가위')) or ((a == '가위') and (b == '보')) or ((a == '보') and (b == '바위')):\n",
        "      print(\"이겼다.\")\n",
        "      w = w + 1\n",
        "      if w == 1 : \n",
        "        print(\"가위 바위 보를 시도한 횟수는\", n,\"회 입니다.\", \"패배횟수\", l,\"회 / 비긴횟수\",d,\"회\")\n",
        "        break\n",
        "    else :\n",
        "      print(\"졌다.\")\n",
        "      l = l + 1"
      ],
      "metadata": {
        "colab": {
          "base_uri": "https://localhost:8080/"
        },
        "id": "Pv9Wv-Y9Hb-C",
        "outputId": "af525b21-cdcf-42ae-b011-d030acf3ee58"
      },
      "execution_count": 88,
      "outputs": [
        {
          "output_type": "stream",
          "name": "stdout",
          "text": [
            "가위 바위 보 중 하나를 입력하세요 : 보\n",
            "보 바위\n",
            "이겼다.\n",
            "가위 바위 보를 시도한 횟수는 1 회 입니다. 패배횟수 0 회 / 비긴횟수 0 회\n"
          ]
        }
      ]
    },
    {
      "cell_type": "code",
      "source": [
        "a = input(\"주사위게임을 시작하시려면 시작을 입력하세요 : \")\n",
        "\n",
        "if a == \"시작\" :\n",
        "  if n > 0 :\n",
        "    n = 0\n",
        "  while True :\n",
        "   a = input(\"주사위게임을 계속하려면 ㄱ을 입력해주세요 : \")\n",
        "   d1 = random.randint(1,6)\n",
        "   d2 = random.randint(1,6)\n",
        "   print(d1,d2)\n",
        "   n = n + 1\n",
        "   if d1 > d2 :\n",
        "     print(\"주사위게임에서 승리하셨습니다.\")\n",
        "     print(\"시도횟수 : \", n, \"회\")\n",
        "     break\n",
        "\n",
        "   elif d1 == d2 :\n",
        "     print(\"주사위게임에서 비기셨습니다.\")\n",
        "\n",
        "   else :\n",
        "     print(\"주사위게임에서 패배하셨습니다.\")"
      ],
      "metadata": {
        "colab": {
          "base_uri": "https://localhost:8080/"
        },
        "id": "bd8qi3esXp2_",
        "outputId": "f3e680d3-833b-4fd5-c950-f2691eece5f7"
      },
      "execution_count": 157,
      "outputs": [
        {
          "output_type": "stream",
          "name": "stdout",
          "text": [
            "주사위게임을 시작하시려면 시작을 입력하세요 : 시작\n",
            "주사위게임을 계속하려면 ㄱ을 입력해주세요 : ㄱ\n",
            "2 5\n",
            "주사위게임에서 패배하셨습니다.\n",
            "주사위게임을 계속하려면 ㄱ을 입력해주세요 : ㄱ\n",
            "4 1\n",
            "주사위게임에서 승리하셨습니다.\n",
            "시도횟수 :  2 회\n"
          ]
        }
      ]
    },
    {
      "cell_type": "code",
      "source": [
        "a = input(\"주사위게임을 시작하시려면 시작을 입력하세요 : \")\n",
        "d = random.randint(1,6)\n",
        "\n",
        "if a == \"시작\":\n",
        "  if d == 1:\n",
        "    print(\"□□□□□□□\")\n",
        "    print(\"□□□□□□□\")\n",
        "    print(\"□□□□□□□\")\n",
        "    print(\"□□□■□□□\")\n",
        "    print(\"□□□□□□□\")\n",
        "    print(\"□□□□□□□\")\n",
        "    print(\"□□□□□□□\")\n",
        "    print(\"숫자는\", d, \"입니다.\")\n",
        "\n",
        "  elif d == 2:\n",
        "    print(\"□□□□□□□\")\n",
        "    print(\"□□□□□■□\")\n",
        "    print(\"□□□□□□□\")\n",
        "    print(\"□□□□□□□\")\n",
        "    print(\"□□□□□□□\")\n",
        "    print(\"□■□□□□□\")\n",
        "    print(\"□□□□□□□\")\n",
        "    print(\"숫자는\", d, \"입니다.\")\n",
        "\n",
        "  elif d == 3:\n",
        "    print(\"□□□□□□□\")\n",
        "    print(\"□□□□□■□\")\n",
        "    print(\"□□□□□□□\")\n",
        "    print(\"□□□■□□□\")\n",
        "    print(\"□□□□□□□\")\n",
        "    print(\"□■□□□□□\")\n",
        "    print(\"□□□□□□□\")\n",
        "    print(\"숫자는\", d, \"입니다.\")\n",
        "\n",
        "  elif d == 4:\n",
        "    print(\"□□□□□□□\")\n",
        "    print(\"□■□□□■□\")\n",
        "    print(\"□□□□□□□\")\n",
        "    print(\"□□□□□□□\")\n",
        "    print(\"□□□□□□□\")\n",
        "    print(\"□■□□□■□\")\n",
        "    print(\"□□□□□□□\")\n",
        "    print(\"숫자는\", d, \"입니다.\")\n",
        "\n",
        "  elif d == 5:\n",
        "    print(\"□□□□□□□\")\n",
        "    print(\"□■□□□■□\")\n",
        "    print(\"□□□□□□□\")\n",
        "    print(\"□□□■□□□\")\n",
        "    print(\"□□□□□□□\")\n",
        "    print(\"□■□□□■□\")\n",
        "    print(\"□□□□□□□\")\n",
        "    pprint(\"숫자는\", d, \"입니다.\")\n",
        "\n",
        "  elif d == 6:\n",
        "    print(\"□□□□□□□\")\n",
        "    print(\"□■□□□■□\")\n",
        "    print(\"□□□□□□□\")\n",
        "    print(\"□■□□□■□\")\n",
        "    print(\"□□□□□□□\")\n",
        "    print(\"□■□□□■□\")\n",
        "    print(\"□□□□□□□\")\n",
        "    print(\"숫자는\", d, \"입니다.\")"
      ],
      "metadata": {
        "colab": {
          "base_uri": "https://localhost:8080/"
        },
        "id": "nhoy3aHTaPCF",
        "outputId": "d311ee99-8881-4bc4-a7a8-c2ce7e5092eb"
      },
      "execution_count": 102,
      "outputs": [
        {
          "output_type": "stream",
          "name": "stdout",
          "text": [
            "주사위게임을 시작하시려면 시작을 입력하세요 : 시작\n",
            "□□□□□□□\n",
            "□□□□□■□\n",
            "□□□□□□□\n",
            "□□□□□□□\n",
            "□□□□□□□\n",
            "□■□□□□□\n",
            "□□□□□□□\n",
            "숫자는 2 입니다.\n"
          ]
        }
      ]
    },
    {
      "cell_type": "code",
      "source": [
        "a = int(input(\"나이를 입력하세요 : \"))\n",
        "\n",
        "if a < 19:\n",
        "  print(\"만 19세 미만의 청소년은 밤 10시이후에는 PC방 이용이 불가합니다.\")\n",
        "  print(\"협조감사합니다.\")\n",
        "else:\n",
        "  print(\"계속 하셔도됩니다.\")\n",
        "  print(\"협조감사합니다.\")"
      ],
      "metadata": {
        "colab": {
          "base_uri": "https://localhost:8080/"
        },
        "id": "DfPiNzb1fqZm",
        "outputId": "b0ec0ba8-0e95-49ad-d327-3cb5da60c7f5"
      },
      "execution_count": 104,
      "outputs": [
        {
          "output_type": "stream",
          "name": "stdout",
          "text": [
            "나이를 입력하세요 : 16\n",
            "만 19세 미만의 청소년은 밤 10시이후에는 PC방 이용이 불가합니다.\n",
            "협조감사합니다.\n"
          ]
        }
      ]
    },
    {
      "cell_type": "code",
      "source": [
        "#!pip3 install ColabTurtle\n",
        "import ColabTurtle.Turtle as turtle\n",
        "import random\n",
        "\n",
        "if n > 0:\n",
        "  n = 0\n",
        "  m = 0\n",
        "\n",
        "turtle.initializeTurtle()\n",
        "print(turtle.DEFAULT_WINDOW_SIZE)\n",
        "turtle.left(90)\n",
        "while True :\n",
        "  turtle.left(random.randint(0,360))\n",
        "  turtle.forward(random.randint(50, 100))\n",
        "  m = m + 1\n",
        "  print(turtle.getx(), turtle.gety())\n",
        "  if ((turtle.getx() > 700 or turtle.gety() > 400)) or ((turtle.getx() < 100 or turtle.gety() < 100)):\n",
        "    n = n + 1\n",
        "    print (\"가출 (현재 가출횟수 :\", n,\"회)\")\n",
        "    turtle.penup()\n",
        "    turtle.setx(400)\n",
        "    turtle.sety(250)\n",
        "    turtle.pendown()\n",
        "    if n >= 10 :\n",
        "      print(\"이동을 한 회수는\", m, \"회 입니다.\")\n",
        "      break"
      ],
      "metadata": {
        "colab": {
          "base_uri": "https://localhost:8080/",
          "height": 1000
        },
        "id": "8WNd8UEMhyfM",
        "outputId": "47a91603-c234-4d63-acbd-d40055106f1e"
      },
      "execution_count": 134,
      "outputs": [
        {
          "output_type": "display_data",
          "data": {
            "text/plain": [
              "<IPython.core.display.HTML object>"
            ],
            "text/html": [
              "\n",
              "      <svg width=\"800\" height=\"500\">\n",
              "        <rect width=\"100%\" height=\"100%\" fill=\"black\"/>\n",
              "        <line x1=\"400\" y1=\"250\" x2=\"434.979\" y2=\"328.565\" stroke-linecap=\"round\" style=\"stroke:white;stroke-width:4\"/><line x1=\"434.979\" y1=\"328.565\" x2=\"449.89\" y2=\"377.337\" stroke-linecap=\"round\" style=\"stroke:white;stroke-width:4\"/><line x1=\"449.89\" y1=\"377.337\" x2=\"366.094\" y2=\"357.991\" stroke-linecap=\"round\" style=\"stroke:white;stroke-width:4\"/><line x1=\"366.094\" y1=\"357.991\" x2=\"322.155\" y2=\"328.354\" stroke-linecap=\"round\" style=\"stroke:white;stroke-width:4\"/><line x1=\"322.155\" y1=\"328.354\" x2=\"283.658\" y2=\"400.756\" stroke-linecap=\"round\" style=\"stroke:white;stroke-width:4\"/><line x1=\"400\" y1=\"250\" x2=\"314.901\" y2=\"231.912\" stroke-linecap=\"round\" style=\"stroke:white;stroke-width:4\"/><line x1=\"314.901\" y1=\"231.912\" x2=\"375.168\" y2=\"207.563\" stroke-linecap=\"round\" style=\"stroke:white;stroke-width:4\"/><line x1=\"375.168\" y1=\"207.563\" x2=\"403.818\" y2=\"290.769\" stroke-linecap=\"round\" style=\"stroke:white;stroke-width:4\"/><line x1=\"403.818\" y1=\"290.769\" x2=\"386.375\" y2=\"338.693\" stroke-linecap=\"round\" style=\"stroke:white;stroke-width:4\"/><line x1=\"386.375\" y1=\"338.693\" x2=\"298.029\" y2=\"321.52\" stroke-linecap=\"round\" style=\"stroke:white;stroke-width:4\"/><line x1=\"298.029\" y1=\"321.52\" x2=\"226.431\" y2=\"288.133\" stroke-linecap=\"round\" style=\"stroke:white;stroke-width:4\"/><line x1=\"226.431\" y1=\"288.133\" x2=\"293.149\" y2=\"263.85\" stroke-linecap=\"round\" style=\"stroke:white;stroke-width:4\"/><line x1=\"293.149\" y1=\"263.85\" x2=\"213.432\" y2=\"313.662\" stroke-linecap=\"round\" style=\"stroke:white;stroke-width:4\"/><line x1=\"213.432\" y1=\"313.662\" x2=\"196.383\" y2=\"233.454\" stroke-linecap=\"round\" style=\"stroke:white;stroke-width:4\"/><line x1=\"196.383\" y1=\"233.454\" x2=\"169.686\" y2=\"310.987\" stroke-linecap=\"round\" style=\"stroke:white;stroke-width:4\"/><line x1=\"169.686\" y1=\"310.987\" x2=\"118.491\" y2=\"263.247\" stroke-linecap=\"round\" style=\"stroke:white;stroke-width:4\"/><line x1=\"118.491\" y1=\"263.247\" x2=\"32.414\" y2=\"281.543\" stroke-linecap=\"round\" style=\"stroke:white;stroke-width:4\"/><line x1=\"400\" y1=\"250\" x2=\"385.499\" y2=\"324.604\" stroke-linecap=\"round\" style=\"stroke:white;stroke-width:4\"/><line x1=\"385.499\" y1=\"324.604\" x2=\"427.925\" y2=\"367.03\" stroke-linecap=\"round\" style=\"stroke:white;stroke-width:4\"/><line x1=\"427.925\" y1=\"367.03\" x2=\"474.467\" y2=\"415.226\" stroke-linecap=\"round\" style=\"stroke:white;stroke-width:4\"/><line x1=\"400\" y1=\"250\" x2=\"454.751\" y2=\"182.388\" stroke-linecap=\"round\" style=\"stroke:white;stroke-width:4\"/><line x1=\"454.751\" y1=\"182.388\" x2=\"399.693\" y2=\"167.635\" stroke-linecap=\"round\" style=\"stroke:white;stroke-width:4\"/><line x1=\"399.693\" y1=\"167.635\" x2=\"423.976\" y2=\"234.353\" stroke-linecap=\"round\" style=\"stroke:white;stroke-width:4\"/><line x1=\"423.976\" y1=\"234.353\" x2=\"332.326\" y2=\"242.371\" stroke-linecap=\"round\" style=\"stroke:white;stroke-width:4\"/><line x1=\"332.326\" y1=\"242.371\" x2=\"290.608\" y2=\"172.94\" stroke-linecap=\"round\" style=\"stroke:white;stroke-width:4\"/><line x1=\"290.608\" y1=\"172.94\" x2=\"292.109\" y2=\"258.927\" stroke-linecap=\"round\" style=\"stroke:white;stroke-width:4\"/><line x1=\"292.109\" y1=\"258.927\" x2=\"225.46\" y2=\"276.786\" stroke-linecap=\"round\" style=\"stroke:white;stroke-width:4\"/><line x1=\"225.46\" y1=\"276.786\" x2=\"176.601\" y2=\"306.143\" stroke-linecap=\"round\" style=\"stroke:white;stroke-width:4\"/><line x1=\"176.601\" y1=\"306.143\" x2=\"147.863\" y2=\"367.772\" stroke-linecap=\"round\" style=\"stroke:white;stroke-width:4\"/><line x1=\"147.863\" y1=\"367.772\" x2=\"54.168\" y2=\"342.667\" stroke-linecap=\"round\" style=\"stroke:white;stroke-width:4\"/><line x1=\"400\" y1=\"250\" x2=\"381.682\" y2=\"155.764\" stroke-linecap=\"round\" style=\"stroke:white;stroke-width:4\"/><line x1=\"381.682\" y1=\"155.764\" x2=\"332.185\" y2=\"106.267\" stroke-linecap=\"round\" style=\"stroke:white;stroke-width:4\"/><line x1=\"332.185\" y1=\"106.267\" x2=\"286.147\" y2=\"150.725\" stroke-linecap=\"round\" style=\"stroke:white;stroke-width:4\"/><line x1=\"286.147\" y1=\"150.725\" x2=\"302.988\" y2=\"229.955\" stroke-linecap=\"round\" style=\"stroke:white;stroke-width:4\"/><line x1=\"302.988\" y1=\"229.955\" x2=\"215.295\" y2=\"250.201\" stroke-linecap=\"round\" style=\"stroke:white;stroke-width:4\"/><line x1=\"215.295\" y1=\"250.201\" x2=\"172.921\" y2=\"294.081\" stroke-linecap=\"round\" style=\"stroke:white;stroke-width:4\"/><line x1=\"172.921\" y1=\"294.081\" x2=\"202.14\" y2=\"221.761\" stroke-linecap=\"round\" style=\"stroke:white;stroke-width:4\"/><line x1=\"202.14\" y1=\"221.761\" x2=\"175.242\" y2=\"309.741\" stroke-linecap=\"round\" style=\"stroke:white;stroke-width:4\"/><line x1=\"175.242\" y1=\"309.741\" x2=\"172.101\" y2=\"399.686\" stroke-linecap=\"round\" style=\"stroke:white;stroke-width:4\"/><line x1=\"172.101\" y1=\"399.686\" x2=\"122.848\" y2=\"462.727\" stroke-linecap=\"round\" style=\"stroke:white;stroke-width:4\"/><line x1=\"400\" y1=\"250\" x2=\"423.176\" y2=\"178.671\" stroke-linecap=\"round\" style=\"stroke:white;stroke-width:4\"/><line x1=\"423.176\" y1=\"178.671\" x2=\"377.277\" y2=\"152.171\" stroke-linecap=\"round\" style=\"stroke:white;stroke-width:4\"/><line x1=\"377.277\" y1=\"152.171\" x2=\"352.29\" y2=\"203.402\" stroke-linecap=\"round\" style=\"stroke:white;stroke-width:4\"/><line x1=\"352.29\" y1=\"203.402\" x2=\"392.438\" y2=\"158.813\" stroke-linecap=\"round\" style=\"stroke:white;stroke-width:4\"/><line x1=\"392.438\" y1=\"158.813\" x2=\"339.511\" y2=\"156.039\" stroke-linecap=\"round\" style=\"stroke:white;stroke-width:4\"/><line x1=\"339.511\" y1=\"156.039\" x2=\"264.439\" y2=\"93.046\" stroke-linecap=\"round\" style=\"stroke:white;stroke-width:4\"/><line x1=\"400\" y1=\"250\" x2=\"320.627\" y2=\"274.267\" stroke-linecap=\"round\" style=\"stroke:white;stroke-width:4\"/><line x1=\"320.627\" y1=\"274.267\" x2=\"313.624\" y2=\"340.9\" stroke-linecap=\"round\" style=\"stroke:white;stroke-width:4\"/><line x1=\"313.624\" y1=\"340.9\" x2=\"234.34\" y2=\"283.297\" stroke-linecap=\"round\" style=\"stroke:white;stroke-width:4\"/><line x1=\"234.34\" y1=\"283.297\" x2=\"285.007\" y2=\"294.994\" stroke-linecap=\"round\" style=\"stroke:white;stroke-width:4\"/><line x1=\"285.007\" y1=\"294.994\" x2=\"255.044\" y2=\"236.188\" stroke-linecap=\"round\" style=\"stroke:white;stroke-width:4\"/><line x1=\"255.044\" y1=\"236.188\" x2=\"286.976\" y2=\"289.332\" stroke-linecap=\"round\" style=\"stroke:white;stroke-width:4\"/><line x1=\"286.976\" y1=\"289.332\" x2=\"193.205\" y2=\"295.889\" stroke-linecap=\"round\" style=\"stroke:white;stroke-width:4\"/><line x1=\"193.205\" y1=\"295.889\" x2=\"159.16\" y2=\"384.579\" stroke-linecap=\"round\" style=\"stroke:white;stroke-width:4\"/><line x1=\"159.16\" y1=\"384.579\" x2=\"135.552\" y2=\"430.911\" stroke-linecap=\"round\" style=\"stroke:white;stroke-width:4\"/><line x1=\"400\" y1=\"250\" x2=\"384.028\" y2=\"180.82\" stroke-linecap=\"round\" style=\"stroke:white;stroke-width:4\"/><line x1=\"384.028\" y1=\"180.82\" x2=\"449.488\" y2=\"244.034\" stroke-linecap=\"round\" style=\"stroke:white;stroke-width:4\"/><line x1=\"449.488\" y1=\"244.034\" x2=\"499.523\" y2=\"212.769\" stroke-linecap=\"round\" style=\"stroke:white;stroke-width:4\"/><line x1=\"499.523\" y1=\"212.769\" x2=\"533.21\" y2=\"300.526\" stroke-linecap=\"round\" style=\"stroke:white;stroke-width:4\"/><line x1=\"533.21\" y1=\"300.526\" x2=\"491.793\" y2=\"389.344\" stroke-linecap=\"round\" style=\"stroke:white;stroke-width:4\"/><line x1=\"491.793\" y1=\"389.344\" x2=\"537.081\" y2=\"418.755\" stroke-linecap=\"round\" style=\"stroke:white;stroke-width:4\"/><line x1=\"400\" y1=\"250\" x2=\"336.739\" y2=\"282.233\" stroke-linecap=\"round\" style=\"stroke:white;stroke-width:4\"/><line x1=\"336.739\" y1=\"282.233\" x2=\"274.098\" y2=\"227.78\" stroke-linecap=\"round\" style=\"stroke:white;stroke-width:4\"/><line x1=\"274.098\" y1=\"227.78\" x2=\"182.224\" y2=\"222.965\" stroke-linecap=\"round\" style=\"stroke:white;stroke-width:4\"/><line x1=\"182.224\" y1=\"222.965\" x2=\"84.358\" y2=\"228.094\" stroke-linecap=\"round\" style=\"stroke:white;stroke-width:4\"/><line x1=\"400\" y1=\"250\" x2=\"319.098\" y2=\"308.779\" stroke-linecap=\"round\" style=\"stroke:white;stroke-width:4\"/><line x1=\"319.098\" y1=\"308.779\" x2=\"310.242\" y2=\"258.554\" stroke-linecap=\"round\" style=\"stroke:white;stroke-width:4\"/><line x1=\"310.242\" y1=\"258.554\" x2=\"256.768\" y2=\"266.069\" stroke-linecap=\"round\" style=\"stroke:white;stroke-width:4\"/><line x1=\"256.768\" y1=\"266.069\" x2=\"234.753\" y2=\"177.772\" stroke-linecap=\"round\" style=\"stroke:white;stroke-width:4\"/><line x1=\"234.753\" y1=\"177.772\" x2=\"232.136\" y2=\"127.841\" stroke-linecap=\"round\" style=\"stroke:white;stroke-width:4\"/><line x1=\"232.136\" y1=\"127.841\" x2=\"155.926\" y2=\"171.841\" stroke-linecap=\"round\" style=\"stroke:white;stroke-width:4\"/><line x1=\"155.926\" y1=\"171.841\" x2=\"163.243\" y2=\"102.224\" stroke-linecap=\"round\" style=\"stroke:white;stroke-width:4\"/><line x1=\"163.243\" y1=\"102.224\" x2=\"169.521\" y2=\"192.005\" stroke-linecap=\"round\" style=\"stroke:white;stroke-width:4\"/><line x1=\"169.521\" y1=\"192.005\" x2=\"235.7\" y2=\"255.914\" stroke-linecap=\"round\" style=\"stroke:white;stroke-width:4\"/><line x1=\"235.7\" y1=\"255.914\" x2=\"153.181\" y2=\"289.254\" stroke-linecap=\"round\" style=\"stroke:white;stroke-width:4\"/><line x1=\"153.181\" y1=\"289.254\" x2=\"76.862\" y2=\"239.692\" stroke-linecap=\"round\" style=\"stroke:white;stroke-width:4\"/>\n",
              "        <g visibility=visible transform=\"rotate(303,400,250) translate(382, 232)\">\n",
              "<path style=\" stroke:none;fill-rule:evenodd;fill:white;fill-opacity:1;\" d=\"M 18.214844 0.632812 C 16.109375 1.800781 15.011719 4.074219 15.074219 7.132812 L 15.085938 7.652344 L 14.785156 7.496094 C 13.476562 6.824219 11.957031 6.671875 10.40625 7.066406 C 8.46875 7.550781 6.515625 9.15625 4.394531 11.992188 C 3.0625 13.777344 2.679688 14.636719 3.042969 15.027344 L 3.15625 15.152344 L 3.519531 15.152344 C 4.238281 15.152344 4.828125 14.886719 8.1875 13.039062 C 9.386719 12.378906 10.371094 11.839844 10.378906 11.839844 C 10.386719 11.839844 10.355469 11.929688 10.304688 12.035156 C 9.832031 13.09375 9.257812 14.820312 8.96875 16.078125 C 7.914062 20.652344 8.617188 24.53125 11.070312 27.660156 C 11.351562 28.015625 11.363281 27.914062 10.972656 28.382812 C 8.925781 30.84375 7.945312 33.28125 8.238281 35.1875 C 8.289062 35.527344 8.28125 35.523438 8.917969 35.523438 C 10.941406 35.523438 13.074219 34.207031 15.136719 31.6875 C 15.359375 31.417969 15.328125 31.425781 15.5625 31.574219 C 16.292969 32.042969 18.023438 32.964844 18.175781 32.964844 C 18.335938 32.964844 19.941406 32.210938 20.828125 31.71875 C 20.996094 31.625 21.136719 31.554688 21.136719 31.558594 C 21.203125 31.664062 21.898438 32.414062 22.222656 32.730469 C 23.835938 34.300781 25.5625 35.132812 27.582031 35.300781 C 27.90625 35.328125 27.9375 35.308594 28.007812 34.984375 C 28.382812 33.242188 27.625 30.925781 25.863281 28.425781 L 25.542969 27.96875 L 25.699219 27.785156 C 28.945312 23.960938 29.132812 18.699219 26.257812 11.96875 L 26.207031 11.84375 L 27.945312 12.703125 C 31.53125 14.476562 32.316406 14.800781 33.03125 14.800781 C 33.976562 14.800781 33.78125 13.9375 32.472656 12.292969 C 28.519531 7.355469 25.394531 5.925781 21.921875 7.472656 L 21.558594 7.636719 L 21.578125 7.542969 C 21.699219 6.992188 21.761719 5.742188 21.699219 5.164062 C 21.496094 3.296875 20.664062 1.964844 19.003906 0.855469 C 18.480469 0.503906 18.457031 0.5 18.214844 0.632812\"/>\n",
              "</g>\n",
              "      </svg>\n",
              "    "
            ]
          },
          "metadata": {}
        },
        {
          "output_type": "stream",
          "name": "stdout",
          "text": [
            "(800, 500)\n",
            "434.979 328.565\n",
            "449.89 377.337\n",
            "366.094 357.991\n",
            "322.155 328.354\n",
            "283.658 400.756\n",
            "가출 (현재 가출횟수 : 1 회)\n",
            "314.901 231.912\n",
            "375.168 207.563\n",
            "403.818 290.769\n",
            "386.375 338.693\n",
            "298.029 321.52\n",
            "226.431 288.133\n",
            "293.149 263.85\n",
            "213.432 313.662\n",
            "196.383 233.454\n",
            "169.686 310.987\n",
            "118.491 263.247\n",
            "32.414 281.543\n",
            "가출 (현재 가출횟수 : 2 회)\n",
            "385.499 324.604\n",
            "427.925 367.03\n",
            "474.467 415.226\n",
            "가출 (현재 가출횟수 : 3 회)\n",
            "454.751 182.388\n",
            "399.693 167.635\n",
            "423.976 234.353\n",
            "332.326 242.371\n",
            "290.608 172.94\n",
            "292.109 258.927\n",
            "225.46 276.786\n",
            "176.601 306.143\n",
            "147.863 367.772\n",
            "54.168 342.667\n",
            "가출 (현재 가출횟수 : 4 회)\n",
            "381.682 155.764\n",
            "332.185 106.267\n",
            "286.147 150.725\n",
            "302.988 229.955\n",
            "215.295 250.201\n",
            "172.921 294.081\n",
            "202.14 221.761\n",
            "175.242 309.741\n",
            "172.101 399.686\n",
            "122.848 462.727\n",
            "가출 (현재 가출횟수 : 5 회)\n",
            "423.176 178.671\n",
            "377.277 152.171\n",
            "352.29 203.402\n",
            "392.438 158.813\n",
            "339.511 156.039\n",
            "264.439 93.046\n",
            "가출 (현재 가출횟수 : 6 회)\n",
            "320.627 274.267\n",
            "313.624 340.9\n",
            "234.34 283.297\n",
            "285.007 294.994\n",
            "255.044 236.188\n",
            "286.976 289.332\n",
            "193.205 295.889\n",
            "159.16 384.579\n",
            "135.552 430.911\n",
            "가출 (현재 가출횟수 : 7 회)\n",
            "384.028 180.82\n",
            "449.488 244.034\n",
            "499.523 212.769\n",
            "533.21 300.526\n",
            "491.793 389.344\n",
            "537.081 418.755\n",
            "가출 (현재 가출횟수 : 8 회)\n",
            "336.739 282.233\n",
            "274.098 227.78\n",
            "182.224 222.965\n",
            "84.358 228.094\n",
            "가출 (현재 가출횟수 : 9 회)\n",
            "319.098 308.779\n",
            "310.242 258.554\n",
            "256.768 266.069\n",
            "234.753 177.772\n",
            "232.136 127.841\n",
            "155.926 171.841\n",
            "163.243 102.224\n",
            "169.521 192.005\n",
            "235.7 255.914\n",
            "153.181 289.254\n",
            "76.862 239.692\n",
            "가출 (현재 가출횟수 : 10 회)\n",
            "이동을 한 회수는 76 회 입니다.\n"
          ]
        }
      ]
    },
    {
      "cell_type": "code",
      "source": [
        "#!pip3 install ColabTurtle\n",
        "import ColabTurtle.Turtle as turtle\n",
        "import random\n",
        "\n",
        "if n > 0:\n",
        "  n = 0\n",
        "\n",
        "turtle.initializeTurtle()\n",
        "print(turtle.DEFAULT_WINDOW_SIZE)\n",
        "while True :\n",
        "  turtle.left(random.randint(0,360))\n",
        "  turtle.forward(500)\n",
        "  if ((turtle.getx() > 700 or turtle.gety() > 400)) or ((turtle.getx() < 100 or turtle.gety() < 100)):\n",
        "    turtle.penup()\n",
        "    turtle.setx(400)\n",
        "    turtle.sety(250)\n",
        "    turtle.color((random.randint(0,255)),(random.randint(0,255)),(random.randint(0,255)))\n",
        "    turtle.pendown()\n",
        "    n = n + 1\n",
        "    if n >= 300 :\n",
        "      turtle.color(\"black\")\n",
        "      break"
      ],
      "metadata": {
        "colab": {
          "base_uri": "https://localhost:8080/",
          "height": 538
        },
        "id": "FxxA-tvDqUvP",
        "outputId": "8ef83d42-ae77-46fe-f027-022386458891"
      },
      "execution_count": 161,
      "outputs": [
        {
          "output_type": "display_data",
          "data": {
            "text/plain": [
              "<IPython.core.display.HTML object>"
            ],
            "text/html": [
              "\n",
              "      <svg width=\"800\" height=\"500\">\n",
              "        <rect width=\"100%\" height=\"100%\" fill=\"black\"/>\n",
              "        <line x1=\"400\" y1=\"250\" x2=\"664.96\" y2=\"-174.024\" stroke-linecap=\"round\" style=\"stroke:white;stroke-width:4\"/><line x1=\"400\" y1=\"250\" x2=\"270.59\" y2=\"732.963\" stroke-linecap=\"round\" style=\"stroke:rgb(190,198,176);stroke-width:4\"/><line x1=\"400\" y1=\"250\" x2=\"78.606\" y2=\"-133.022\" stroke-linecap=\"round\" style=\"stroke:rgb(254,217,37);stroke-width:4\"/><line x1=\"400\" y1=\"250\" x2=\"895.134\" y2=\"319.587\" stroke-linecap=\"round\" style=\"stroke:rgb(211,3,192);stroke-width:4\"/><line x1=\"400\" y1=\"250\" x2=\"828.584\" y2=\"507.519\" stroke-linecap=\"round\" style=\"stroke:rgb(233,199,58);stroke-width:4\"/><line x1=\"400\" y1=\"250\" x2=\"127.68\" y2=\"-169.335\" stroke-linecap=\"round\" style=\"stroke:rgb(26,47,88);stroke-width:4\"/><line x1=\"400\" y1=\"250\" x2=\"150.0\" y2=\"683.013\" stroke-linecap=\"round\" style=\"stroke:rgb(102,105,97);stroke-width:4\"/><line x1=\"400\" y1=\"250\" x2=\"279.039\" y2=\"735.148\" stroke-linecap=\"round\" style=\"stroke:rgb(236,20,189);stroke-width:4\"/><line x1=\"400\" y1=\"250\" x2=\"714.66\" y2=\"638.573\" stroke-linecap=\"round\" style=\"stroke:rgb(141,227,57);stroke-width:4\"/><line x1=\"400\" y1=\"250\" x2=\"253.814\" y2=\"-228.152\" stroke-linecap=\"round\" style=\"stroke:rgb(94,67,81);stroke-width:4\"/><line x1=\"400\" y1=\"250\" x2=\"898.097\" y2=\"293.578\" stroke-linecap=\"round\" style=\"stroke:rgb(181,246,143);stroke-width:4\"/><line x1=\"400\" y1=\"250\" x2=\"814.519\" y2=\"-29.596\" stroke-linecap=\"round\" style=\"stroke:rgb(251,215,100);stroke-width:4\"/><line x1=\"400\" y1=\"250\" x2=\"157.595\" y2=\"-187.31\" stroke-linecap=\"round\" style=\"stroke:rgb(4,155,10);stroke-width:4\"/><line x1=\"400\" y1=\"250\" x2=\"740.999\" y2=\"-115.677\" stroke-linecap=\"round\" style=\"stroke:rgb(79,232,217);stroke-width:4\"/><line x1=\"400\" y1=\"250\" x2=\"642.405\" y2=\"-187.31\" stroke-linecap=\"round\" style=\"stroke:rgb(140,197,33);stroke-width:4\"/><line x1=\"400\" y1=\"250\" x2=\"-85.148\" y2=\"129.039\" stroke-linecap=\"round\" style=\"stroke:rgb(165,33,198);stroke-width:4\"/><line x1=\"400\" y1=\"250\" x2=\"899.315\" y2=\"223.832\" stroke-linecap=\"round\" style=\"stroke:rgb(169,254,25);stroke-width:4\"/><line x1=\"400\" y1=\"250\" x2=\"-37.31\" y2=\"7.595\" stroke-linecap=\"round\" style=\"stroke:rgb(37,252,46);stroke-width:4\"/><line x1=\"400\" y1=\"250\" x2=\"503.956\" y2=\"-239.074\" stroke-linecap=\"round\" style=\"stroke:rgb(57,218,109);stroke-width:4\"/><line x1=\"400\" y1=\"250\" x2=\"11.427\" y2=\"-64.66\" stroke-linecap=\"round\" style=\"stroke:rgb(242,121,225);stroke-width:4\"/><line x1=\"400\" y1=\"250\" x2=\"469.587\" y2=\"745.134\" stroke-linecap=\"round\" style=\"stroke:rgb(148,239,232);stroke-width:4\"/><line x1=\"400\" y1=\"250\" x2=\"-69.846\" y2=\"78.99\" stroke-linecap=\"round\" style=\"stroke:rgb(35,234,27);stroke-width:4\"/><line x1=\"400\" y1=\"250\" x2=\"885.148\" y2=\"370.961\" stroke-linecap=\"round\" style=\"stroke:rgb(133,33,94);stroke-width:4\"/><line x1=\"400\" y1=\"250\" x2=\"220.816\" y2=\"716.79\" stroke-linecap=\"round\" style=\"stroke:rgb(87,244,225);stroke-width:4\"/><line x1=\"400\" y1=\"250\" x2=\"707.831\" y2=\"-144.005\" stroke-linecap=\"round\" style=\"stroke:rgb(210,92,245);stroke-width:4\"/><line x1=\"400\" y1=\"250\" x2=\"-98.097\" y2=\"206.422\" stroke-linecap=\"round\" style=\"stroke:rgb(200,80,61);stroke-width:4\"/><line x1=\"400\" y1=\"250\" x2=\"804.508\" y2=\"-43.893\" stroke-linecap=\"round\" style=\"stroke:rgb(109,57,29);stroke-width:4\"/><line x1=\"400\" y1=\"250\" x2=\"828.584\" y2=\"-7.519\" stroke-linecap=\"round\" style=\"stroke:rgb(74,51,243);stroke-width:4\"/><line x1=\"400\" y1=\"250\" x2=\"99.092\" y2=\"649.318\" stroke-linecap=\"round\" style=\"stroke:rgb(160,44,198);stroke-width:4\"/><line x1=\"400\" y1=\"250\" x2=\"228.99\" y2=\"719.846\" stroke-linecap=\"round\" style=\"stroke:rgb(81,143,241);stroke-width:4\"/><line x1=\"400\" y1=\"250\" x2=\"537.819\" y2=\"730.631\" stroke-linecap=\"round\" style=\"stroke:rgb(236,129,199);stroke-width:4\"/><line x1=\"400\" y1=\"250\" x2=\"809.576\" y2=\"-36.788\" stroke-linecap=\"round\" style=\"stroke:rgb(208,236,122);stroke-width:4\"/><line x1=\"400\" y1=\"250\" x2=\"-99.315\" y2=\"276.168\" stroke-linecap=\"round\" style=\"stroke:rgb(24,239,107);stroke-width:4\"/><line x1=\"400\" y1=\"250\" x2=\"180.814\" y2=\"699.397\" stroke-linecap=\"round\" style=\"stroke:rgb(34,221,159);stroke-width:4\"/><line x1=\"400\" y1=\"250\" x2=\"-98.782\" y2=\"284.878\" stroke-linecap=\"round\" style=\"stroke:rgb(26,125,34);stroke-width:4\"/><line x1=\"400\" y1=\"250\" x2=\"828.584\" y2=\"-7.519\" stroke-linecap=\"round\" style=\"stroke:rgb(180,20,94);stroke-width:4\"/><line x1=\"400\" y1=\"250\" x2=\"657.519\" y2=\"-178.584\" stroke-linecap=\"round\" style=\"stroke:rgb(235,75,10);stroke-width:4\"/><line x1=\"400\" y1=\"250\" x2=\"34.323\" y2=\"590.999\" stroke-linecap=\"round\" style=\"stroke:rgb(232,64,244);stroke-width:4\"/><line x1=\"400\" y1=\"250\" x2=\"872.759\" y2=\"412.784\" stroke-linecap=\"round\" style=\"stroke:rgb(235,92,221);stroke-width:4\"/><line x1=\"400\" y1=\"250\" x2=\"-19.335\" y2=\"522.32\" stroke-linecap=\"round\" style=\"stroke:rgb(23,128,179);stroke-width:4\"/><line x1=\"400\" y1=\"250\" x2=\"747.329\" y2=\"609.67\" stroke-linecap=\"round\" style=\"stroke:rgb(38,138,153);stroke-width:4\"/><line x1=\"400\" y1=\"250\" x2=\"339.065\" y2=\"-246.273\" stroke-linecap=\"round\" style=\"stroke:rgb(228,131,147);stroke-width:4\"/><line x1=\"400\" y1=\"250\" x2=\"837.31\" y2=\"492.405\" stroke-linecap=\"round\" style=\"stroke:rgb(92,161,119);stroke-width:4\"/><line x1=\"400\" y1=\"250\" x2=\"899.695\" y2=\"267.45\" stroke-linecap=\"round\" style=\"stroke:rgb(124,43,61);stroke-width:4\"/><line x1=\"400\" y1=\"250\" x2=\"634.736\" y2=\"-191.474\" stroke-linecap=\"round\" style=\"stroke:rgb(197,79,154);stroke-width:4\"/><line x1=\"400\" y1=\"250\" x2=\"-82.963\" y2=\"120.59\" stroke-linecap=\"round\" style=\"stroke:rgb(150,215,52);stroke-width:4\"/><line x1=\"400\" y1=\"250\" x2=\"856.773\" y2=\"46.632\" stroke-linecap=\"round\" style=\"stroke:rgb(185,4,70);stroke-width:4\"/><line x1=\"400\" y1=\"250\" x2=\"157.595\" y2=\"-187.31\" stroke-linecap=\"round\" style=\"stroke:rgb(154,94,235);stroke-width:4\"/><line x1=\"400\" y1=\"250\" x2=\"-99.315\" y2=\"276.168\" stroke-linecap=\"round\" style=\"stroke:rgb(189,125,62);stroke-width:4\"/><line x1=\"400\" y1=\"250\" x2=\"546.186\" y2=\"-228.152\" stroke-linecap=\"round\" style=\"stroke:rgb(63,6,22);stroke-width:4\"/><line x1=\"400\" y1=\"250\" x2=\"728.03\" y2=\"-127.355\" stroke-linecap=\"round\" style=\"stroke:rgb(141,164,137);stroke-width:4\"/><line x1=\"400\" y1=\"250\" x2=\"837.31\" y2=\"7.595\" stroke-linecap=\"round\" style=\"stroke:rgb(213,193,122);stroke-width:4\"/><line x1=\"400\" y1=\"250\" x2=\"579.184\" y2=\"716.79\" stroke-linecap=\"round\" style=\"stroke:rgb(236,227,123);stroke-width:4\"/><line x1=\"400\" y1=\"250\" x2=\"-98.097\" y2=\"293.578\" stroke-linecap=\"round\" style=\"stroke:rgb(137,190,24);stroke-width:4\"/><line x1=\"400\" y1=\"250\" x2=\"897.261\" y2=\"302.264\" stroke-linecap=\"round\" style=\"stroke:rgb(9,153,35);stroke-width:4\"/><line x1=\"400\" y1=\"250\" x2=\"587.303\" y2=\"713.592\" stroke-linecap=\"round\" style=\"stroke:rgb(44,86,156);stroke-width:4\"/><line x1=\"400\" y1=\"250\" x2=\"-95.134\" y2=\"319.587\" stroke-linecap=\"round\" style=\"stroke:rgb(99,20,161);stroke-width:4\"/><line x1=\"400\" y1=\"250\" x2=\"28.428\" y2=\"584.565\" stroke-linecap=\"round\" style=\"stroke:rgb(44,237,102);stroke-width:4\"/><line x1=\"400\" y1=\"250\" x2=\"657.519\" y2=\"-178.584\" stroke-linecap=\"round\" style=\"stroke:rgb(17,196,33);stroke-width:4\"/><line x1=\"400\" y1=\"250\" x2=\"-56.773\" y2=\"453.368\" stroke-linecap=\"round\" style=\"stroke:rgb(190,75,14);stroke-width:4\"/><line x1=\"400\" y1=\"250\" x2=\"165.264\" y2=\"691.474\" stroke-linecap=\"round\" style=\"stroke:rgb(130,1,71);stroke-width:4\"/><line x1=\"400\" y1=\"250\" x2=\"804.508\" y2=\"543.893\" stroke-linecap=\"round\" style=\"stroke:rgb(143,110,175);stroke-width:4\"/><line x1=\"400\" y1=\"250\" x2=\"16.978\" y2=\"-71.394\" stroke-linecap=\"round\" style=\"stroke:rgb(222,41,190);stroke-width:4\"/><line x1=\"400\" y1=\"250\" x2=\"426.168\" y2=\"-249.315\" stroke-linecap=\"round\" style=\"stroke:rgb(85,219,124);stroke-width:4\"/><line x1=\"400\" y1=\"250\" x2=\"-98.097\" y2=\"206.422\" stroke-linecap=\"round\" style=\"stroke:rgb(67,7,188);stroke-width:4\"/><line x1=\"400\" y1=\"250\" x2=\"34.323\" y2=\"590.999\" stroke-linecap=\"round\" style=\"stroke:rgb(9,253,140);stroke-width:4\"/><line x1=\"400\" y1=\"250\" x2=\"734.565\" y2=\"621.572\" stroke-linecap=\"round\" style=\"stroke:rgb(119,151,50);stroke-width:4\"/><line x1=\"400\" y1=\"250\" x2=\"-99.924\" y2=\"241.274\" stroke-linecap=\"round\" style=\"stroke:rgb(250,106,129);stroke-width:4\"/><line x1=\"400\" y1=\"250\" x2=\"373.832\" y2=\"749.315\" stroke-linecap=\"round\" style=\"stroke:rgb(99,53,68);stroke-width:4\"/><line x1=\"400\" y1=\"250\" x2=\"893.844\" y2=\"328.217\" stroke-linecap=\"round\" style=\"stroke:rgb(30,65,78);stroke-width:4\"/><line x1=\"400\" y1=\"250\" x2=\"824.024\" y2=\"-14.96\" stroke-linecap=\"round\" style=\"stroke:rgb(231,29,160);stroke-width:4\"/><line x1=\"400\" y1=\"250\" x2=\"819.335\" y2=\"-22.32\" stroke-linecap=\"round\" style=\"stroke:rgb(29,151,73);stroke-width:4\"/><line x1=\"400\" y1=\"250\" x2=\"262.181\" y2=\"-230.631\" stroke-linecap=\"round\" style=\"stroke:rgb(89,37,158);stroke-width:4\"/><line x1=\"400\" y1=\"250\" x2=\"537.819\" y2=\"730.631\" stroke-linecap=\"round\" style=\"stroke:rgb(191,230,135);stroke-width:4\"/><line x1=\"400\" y1=\"250\" x2=\"426.168\" y2=\"749.315\" stroke-linecap=\"round\" style=\"stroke:rgb(144,61,246);stroke-width:4\"/><line x1=\"400\" y1=\"250\" x2=\"634.736\" y2=\"691.474\" stroke-linecap=\"round\" style=\"stroke:rgb(222,211,82);stroke-width:4\"/><line x1=\"400\" y1=\"250\" x2=\"434.878\" y2=\"-248.782\" stroke-linecap=\"round\" style=\"stroke:rgb(140,20,39);stroke-width:4\"/><line x1=\"400\" y1=\"250\" x2=\"863.592\" y2=\"437.303\" stroke-linecap=\"round\" style=\"stroke:rgb(198,152,202);stroke-width:4\"/><line x1=\"400\" y1=\"250\" x2=\"546.186\" y2=\"728.152\" stroke-linecap=\"round\" style=\"stroke:rgb(199,206,183);stroke-width:4\"/><line x1=\"400\" y1=\"250\" x2=\"-99.695\" y2=\"232.55\" stroke-linecap=\"round\" style=\"stroke:rgb(66,171,125);stroke-width:4\"/><line x1=\"400\" y1=\"250\" x2=\"765.677\" y2=\"590.999\" stroke-linecap=\"round\" style=\"stroke:rgb(179,205,43);stroke-width:4\"/><line x1=\"400\" y1=\"250\" x2=\"196.632\" y2=\"706.773\" stroke-linecap=\"round\" style=\"stroke:rgb(91,174,154);stroke-width:4\"/><line x1=\"400\" y1=\"250\" x2=\"611.309\" y2=\"703.154\" stroke-linecap=\"round\" style=\"stroke:rgb(81,1,144);stroke-width:4\"/><line x1=\"400\" y1=\"250\" x2=\"196.632\" y2=\"706.773\" stroke-linecap=\"round\" style=\"stroke:rgb(12,253,119);stroke-width:4\"/><line x1=\"400\" y1=\"250\" x2=\"899.315\" y2=\"276.168\" stroke-linecap=\"round\" style=\"stroke:rgb(158,42,255);stroke-width:4\"/><line x1=\"400\" y1=\"250\" x2=\"-14.519\" y2=\"-29.596\" stroke-linecap=\"round\" style=\"stroke:rgb(87,241,94);stroke-width:4\"/><line x1=\"400\" y1=\"250\" x2=\"714.66\" y2=\"638.573\" stroke-linecap=\"round\" style=\"stroke:rgb(252,3,183);stroke-width:4\"/><line x1=\"400\" y1=\"250\" x2=\"-53.154\" y2=\"461.309\" stroke-linecap=\"round\" style=\"stroke:rgb(19,132,197);stroke-width:4\"/><line x1=\"400\" y1=\"250\" x2=\"898.097\" y2=\"206.422\" stroke-linecap=\"round\" style=\"stroke:rgb(92,0,186);stroke-width:4\"/><line x1=\"400\" y1=\"250\" x2=\"135.04\" y2=\"-174.024\" stroke-linecap=\"round\" style=\"stroke:rgb(203,112,174);stroke-width:4\"/><line x1=\"400\" y1=\"250\" x2=\"819.335\" y2=\"522.32\" stroke-linecap=\"round\" style=\"stroke:rgb(177,252,136);stroke-width:4\"/><line x1=\"400\" y1=\"250\" x2=\"-66.79\" y2=\"70.816\" stroke-linecap=\"round\" style=\"stroke:rgb(146,134,254);stroke-width:4\"/><line x1=\"400\" y1=\"250\" x2=\"799.318\" y2=\"-50.908\" stroke-linecap=\"round\" style=\"stroke:rgb(233,188,128);stroke-width:4\"/><line x1=\"400\" y1=\"250\" x2=\"875.528\" y2=\"404.508\" stroke-linecap=\"round\" style=\"stroke:rgb(204,133,218);stroke-width:4\"/><line x1=\"400\" y1=\"250\" x2=\"819.335\" y2=\"-22.32\" stroke-linecap=\"round\" style=\"stroke:rgb(11,134,191);stroke-width:4\"/><line x1=\"400\" y1=\"250\" x2=\"872.759\" y2=\"412.784\" stroke-linecap=\"round\" style=\"stroke:rgb(45,123,94);stroke-width:4\"/><line x1=\"400\" y1=\"250\" x2=\"693.893\" y2=\"654.508\" stroke-linecap=\"round\" style=\"stroke:rgb(152,235,40);stroke-width:4\"/><line x1=\"400\" y1=\"250\" x2=\"686.788\" y2=\"-159.576\" stroke-linecap=\"round\" style=\"stroke:rgb(133,188,116);stroke-width:4\"/><line x1=\"400\" y1=\"250\" x2=\"228.99\" y2=\"-219.846\" stroke-linecap=\"round\" style=\"stroke:rgb(118,38,114);stroke-width:4\"/><line x1=\"400\" y1=\"250\" x2=\"693.893\" y2=\"-154.508\" stroke-linecap=\"round\" style=\"stroke:rgb(111,41,254);stroke-width:4\"/><line x1=\"400\" y1=\"250\" x2=\"860.252\" y2=\"445.366\" stroke-linecap=\"round\" style=\"stroke:rgb(41,240,230);stroke-width:4\"/><line x1=\"400\" y1=\"250\" x2=\"841.474\" y2=\"15.264\" stroke-linecap=\"round\" style=\"stroke:rgb(89,13,172);stroke-width:4\"/><line x1=\"400\" y1=\"250\" x2=\"52.671\" y2=\"609.67\" stroke-linecap=\"round\" style=\"stroke:rgb(195,193,48);stroke-width:4\"/><line x1=\"400\" y1=\"250\" x2=\"853.154\" y2=\"38.691\" stroke-linecap=\"round\" style=\"stroke:rgb(233,234,247);stroke-width:4\"/><line x1=\"400\" y1=\"250\" x2=\"642.405\" y2=\"687.31\" stroke-linecap=\"round\" style=\"stroke:rgb(253,249,38);stroke-width:4\"/><line x1=\"400\" y1=\"250\" x2=\"-96.273\" y2=\"310.935\" stroke-linecap=\"round\" style=\"stroke:rgb(170,206,37);stroke-width:4\"/><line x1=\"400\" y1=\"250\" x2=\"734.565\" y2=\"-121.572\" stroke-linecap=\"round\" style=\"stroke:rgb(160,204,69);stroke-width:4\"/><line x1=\"400\" y1=\"250\" x2=\"408.726\" y2=\"749.924\" stroke-linecap=\"round\" style=\"stroke:rgb(241,68,202);stroke-width:4\"/><line x1=\"400\" y1=\"250\" x2=\"173.005\" y2=\"-195.503\" stroke-linecap=\"round\" style=\"stroke:rgb(143,165,234);stroke-width:4\"/><line x1=\"400\" y1=\"250\" x2=\"634.736\" y2=\"-191.474\" stroke-linecap=\"round\" style=\"stroke:rgb(17,28,90);stroke-width:4\"/><line x1=\"400\" y1=\"250\" x2=\"707.831\" y2=\"644.005\" stroke-linecap=\"round\" style=\"stroke:rgb(217,96,41);stroke-width:4\"/><line x1=\"400\" y1=\"250\" x2=\"-98.097\" y2=\"206.422\" stroke-linecap=\"round\" style=\"stroke:rgb(85,184,130);stroke-width:4\"/><line x1=\"400\" y1=\"250\" x2=\"890.814\" y2=\"345.404\" stroke-linecap=\"round\" style=\"stroke:rgb(121,115,11);stroke-width:4\"/><line x1=\"400\" y1=\"250\" x2=\"863.592\" y2=\"62.697\" stroke-linecap=\"round\" style=\"stroke:rgb(130,38,25);stroke-width:4\"/><line x1=\"400\" y1=\"250\" x2=\"-87.185\" y2=\"137.524\" stroke-linecap=\"round\" style=\"stroke:rgb(172,139,226);stroke-width:4\"/><line x1=\"400\" y1=\"250\" x2=\"-80.631\" y2=\"112.181\" stroke-linecap=\"round\" style=\"stroke:rgb(26,53,24);stroke-width:4\"/><line x1=\"400\" y1=\"250\" x2=\"794.005\" y2=\"557.831\" stroke-linecap=\"round\" style=\"stroke:rgb(126,200,45);stroke-width:4\"/><line x1=\"400\" y1=\"250\" x2=\"804.508\" y2=\"-43.893\" stroke-linecap=\"round\" style=\"stroke:rgb(112,190,219);stroke-width:4\"/><line x1=\"400\" y1=\"250\" x2=\"28.428\" y2=\"-84.565\" stroke-linecap=\"round\" style=\"stroke:rgb(78,132,171);stroke-width:4\"/><line x1=\"400\" y1=\"250\" x2=\"270.59\" y2=\"732.963\" stroke-linecap=\"round\" style=\"stroke:rgb(6,241,160);stroke-width:4\"/><line x1=\"400\" y1=\"250\" x2=\"-60.252\" y2=\"445.366\" stroke-linecap=\"round\" style=\"stroke:rgb(38,15,16);stroke-width:4\"/><line x1=\"400\" y1=\"250\" x2=\"382.55\" y2=\"-249.695\" stroke-linecap=\"round\" style=\"stroke:rgb(30,106,100);stroke-width:4\"/><line x1=\"400\" y1=\"250\" x2=\"120.404\" y2=\"664.519\" stroke-linecap=\"round\" style=\"stroke:rgb(51,172,167);stroke-width:4\"/><line x1=\"400\" y1=\"250\" x2=\"546.186\" y2=\"728.152\" stroke-linecap=\"round\" style=\"stroke:rgb(206,104,130);stroke-width:4\"/><line x1=\"400\" y1=\"250\" x2=\"899.315\" y2=\"276.168\" stroke-linecap=\"round\" style=\"stroke:rgb(239,176,249);stroke-width:4\"/><line x1=\"400\" y1=\"250\" x2=\"892.404\" y2=\"336.824\" stroke-linecap=\"round\" style=\"stroke:rgb(241,57,180);stroke-width:4\"/><line x1=\"400\" y1=\"250\" x2=\"520.961\" y2=\"-235.148\" stroke-linecap=\"round\" style=\"stroke:rgb(62,158,229);stroke-width:4\"/><line x1=\"400\" y1=\"250\" x2=\"-99.695\" y2=\"232.55\" stroke-linecap=\"round\" style=\"stroke:rgb(72,4,114);stroke-width:4\"/><line x1=\"400\" y1=\"250\" x2=\"672.32\" y2=\"-169.335\" stroke-linecap=\"round\" style=\"stroke:rgb(195,149,192);stroke-width:4\"/><line x1=\"400\" y1=\"250\" x2=\"872.759\" y2=\"412.784\" stroke-linecap=\"round\" style=\"stroke:rgb(68,155,162);stroke-width:4\"/><line x1=\"400\" y1=\"250\" x2=\"819.335\" y2=\"-22.32\" stroke-linecap=\"round\" style=\"stroke:rgb(203,94,50);stroke-width:4\"/><line x1=\"400\" y1=\"250\" x2=\"220.816\" y2=\"716.79\" stroke-linecap=\"round\" style=\"stroke:rgb(85,203,116);stroke-width:4\"/><line x1=\"400\" y1=\"250\" x2=\"495.404\" y2=\"740.814\" stroke-linecap=\"round\" style=\"stroke:rgb(155,11,39);stroke-width:4\"/><line x1=\"400\" y1=\"250\" x2=\"-19.335\" y2=\"-22.32\" stroke-linecap=\"round\" style=\"stroke:rgb(166,213,7);stroke-width:4\"/><line x1=\"400\" y1=\"250\" x2=\"196.632\" y2=\"-206.773\" stroke-linecap=\"round\" style=\"stroke:rgb(177,237,15);stroke-width:4\"/><line x1=\"400\" y1=\"250\" x2=\"-19.335\" y2=\"-22.32\" stroke-linecap=\"round\" style=\"stroke:rgb(96,53,82);stroke-width:4\"/><line x1=\"400\" y1=\"250\" x2=\"22.645\" y2=\"578.03\" stroke-linecap=\"round\" style=\"stroke:rgb(113,6,206);stroke-width:4\"/><line x1=\"400\" y1=\"250\" x2=\"819.335\" y2=\"522.32\" stroke-linecap=\"round\" style=\"stroke:rgb(192,53,95);stroke-width:4\"/><line x1=\"400\" y1=\"250\" x2=\"899.695\" y2=\"232.55\" stroke-linecap=\"round\" style=\"stroke:rgb(219,43,56);stroke-width:4\"/><line x1=\"400\" y1=\"250\" x2=\"460.935\" y2=\"746.273\" stroke-linecap=\"round\" style=\"stroke:rgb(106,179,195);stroke-width:4\"/><line x1=\"400\" y1=\"250\" x2=\"356.422\" y2=\"748.097\" stroke-linecap=\"round\" style=\"stroke:rgb(213,186,183);stroke-width:4\"/><line x1=\"400\" y1=\"250\" x2=\"788.573\" y2=\"-64.66\" stroke-linecap=\"round\" style=\"stroke:rgb(250,186,125);stroke-width:4\"/><line x1=\"400\" y1=\"250\" x2=\"52.671\" y2=\"-109.67\" stroke-linecap=\"round\" style=\"stroke:rgb(11,133,196);stroke-width:4\"/><line x1=\"400\" y1=\"250\" x2=\"150.0\" y2=\"683.013\" stroke-linecap=\"round\" style=\"stroke:rgb(99,150,237);stroke-width:4\"/><line x1=\"400\" y1=\"250\" x2=\"771.572\" y2=\"584.565\" stroke-linecap=\"round\" style=\"stroke:rgb(104,96,50);stroke-width:4\"/><line x1=\"400\" y1=\"250\" x2=\"626.995\" y2=\"-195.503\" stroke-linecap=\"round\" style=\"stroke:rgb(174,180,233);stroke-width:4\"/><line x1=\"400\" y1=\"250\" x2=\"356.422\" y2=\"748.097\" stroke-linecap=\"round\" style=\"stroke:rgb(16,157,136);stroke-width:4\"/><line x1=\"400\" y1=\"250\" x2=\"228.99\" y2=\"719.846\" stroke-linecap=\"round\" style=\"stroke:rgb(157,164,253);stroke-width:4\"/><line x1=\"400\" y1=\"250\" x2=\"664.96\" y2=\"674.024\" stroke-linecap=\"round\" style=\"stroke:rgb(117,248,167);stroke-width:4\"/><line x1=\"400\" y1=\"250\" x2=\"872.759\" y2=\"412.784\" stroke-linecap=\"round\" style=\"stroke:rgb(167,63,146);stroke-width:4\"/><line x1=\"400\" y1=\"250\" x2=\"657.519\" y2=\"678.584\" stroke-linecap=\"round\" style=\"stroke:rgb(188,67,214);stroke-width:4\"/><line x1=\"400\" y1=\"250\" x2=\"759.67\" y2=\"597.329\" stroke-linecap=\"round\" style=\"stroke:rgb(211,11,76);stroke-width:4\"/><line x1=\"400\" y1=\"250\" x2=\"296.044\" y2=\"739.074\" stroke-linecap=\"round\" style=\"stroke:rgb(236,184,232);stroke-width:4\"/><line x1=\"400\" y1=\"250\" x2=\"896.273\" y2=\"189.065\" stroke-linecap=\"round\" style=\"stroke:rgb(231,221,39);stroke-width:4\"/><line x1=\"400\" y1=\"250\" x2=\"330.413\" y2=\"-245.134\" stroke-linecap=\"round\" style=\"stroke:rgb(28,177,118);stroke-width:4\"/><line x1=\"400\" y1=\"250\" x2=\"520.961\" y2=\"735.148\" stroke-linecap=\"round\" style=\"stroke:rgb(99,108,209);stroke-width:4\"/><line x1=\"400\" y1=\"250\" x2=\"878.152\" y2=\"396.186\" stroke-linecap=\"round\" style=\"stroke:rgb(33,51,35);stroke-width:4\"/><line x1=\"400\" y1=\"250\" x2=\"-96.273\" y2=\"310.935\" stroke-linecap=\"round\" style=\"stroke:rgb(254,221,1);stroke-width:4\"/><line x1=\"400\" y1=\"250\" x2=\"824.024\" y2=\"-14.96\" stroke-linecap=\"round\" style=\"stroke:rgb(101,117,44);stroke-width:4\"/><line x1=\"400\" y1=\"250\" x2=\"734.565\" y2=\"621.572\" stroke-linecap=\"round\" style=\"stroke:rgb(159,25,234);stroke-width:4\"/><line x1=\"400\" y1=\"250\" x2=\"878.152\" y2=\"396.186\" stroke-linecap=\"round\" style=\"stroke:rgb(104,20,37);stroke-width:4\"/><line x1=\"400\" y1=\"250\" x2=\"824.024\" y2=\"514.96\" stroke-linecap=\"round\" style=\"stroke:rgb(9,106,160);stroke-width:4\"/><line x1=\"400\" y1=\"250\" x2=\"40.33\" y2=\"597.329\" stroke-linecap=\"round\" style=\"stroke:rgb(25,28,7);stroke-width:4\"/><line x1=\"400\" y1=\"250\" x2=\"869.846\" y2=\"78.99\" stroke-linecap=\"round\" style=\"stroke:rgb(69,201,50);stroke-width:4\"/><line x1=\"400\" y1=\"250\" x2=\"204.634\" y2=\"710.252\" stroke-linecap=\"round\" style=\"stroke:rgb(56,150,222);stroke-width:4\"/><line x1=\"400\" y1=\"250\" x2=\"869.846\" y2=\"421.01\" stroke-linecap=\"round\" style=\"stroke:rgb(245,70,11);stroke-width:4\"/><line x1=\"400\" y1=\"250\" x2=\"16.978\" y2=\"-71.394\" stroke-linecap=\"round\" style=\"stroke:rgb(22,114,107);stroke-width:4\"/><line x1=\"400\" y1=\"250\" x2=\"841.474\" y2=\"15.264\" stroke-linecap=\"round\" style=\"stroke:rgb(192,209,175);stroke-width:4\"/><line x1=\"400\" y1=\"250\" x2=\"85.34\" y2=\"638.573\" stroke-linecap=\"round\" style=\"stroke:rgb(204,119,240);stroke-width:4\"/><line x1=\"400\" y1=\"250\" x2=\"679.596\" y2=\"-164.519\" stroke-linecap=\"round\" style=\"stroke:rgb(18,155,72);stroke-width:4\"/><line x1=\"400\" y1=\"250\" x2=\"872.759\" y2=\"87.216\" stroke-linecap=\"round\" style=\"stroke:rgb(129,248,20);stroke-width:4\"/><line x1=\"400\" y1=\"250\" x2=\"-28.584\" y2=\"507.519\" stroke-linecap=\"round\" style=\"stroke:rgb(147,135,228);stroke-width:4\"/><line x1=\"400\" y1=\"250\" x2=\"892.404\" y2=\"336.824\" stroke-linecap=\"round\" style=\"stroke:rgb(122,232,14);stroke-width:4\"/><line x1=\"400\" y1=\"250\" x2=\"872.759\" y2=\"412.784\" stroke-linecap=\"round\" style=\"stroke:rgb(83,104,15);stroke-width:4\"/><line x1=\"400\" y1=\"250\" x2=\"512.476\" y2=\"737.185\" stroke-linecap=\"round\" style=\"stroke:rgb(195,237,163);stroke-width:4\"/><line x1=\"400\" y1=\"250\" x2=\"-53.154\" y2=\"38.691\" stroke-linecap=\"round\" style=\"stroke:rgb(29,18,67);stroke-width:4\"/><line x1=\"400\" y1=\"250\" x2=\"898.782\" y2=\"215.122\" stroke-linecap=\"round\" style=\"stroke:rgb(116,152,200);stroke-width:4\"/><line x1=\"400\" y1=\"250\" x2=\"408.726\" y2=\"-249.924\" stroke-linecap=\"round\" style=\"stroke:rgb(117,83,204);stroke-width:4\"/><line x1=\"400\" y1=\"250\" x2=\"-78.152\" y2=\"396.186\" stroke-linecap=\"round\" style=\"stroke:rgb(81,42,76);stroke-width:4\"/><line x1=\"400\" y1=\"250\" x2=\"882.963\" y2=\"120.59\" stroke-linecap=\"round\" style=\"stroke:rgb(255,13,31);stroke-width:4\"/><line x1=\"400\" y1=\"250\" x2=\"-4.508\" y2=\"543.893\" stroke-linecap=\"round\" style=\"stroke:rgb(222,13,196);stroke-width:4\"/><line x1=\"400\" y1=\"250\" x2=\"794.005\" y2=\"557.831\" stroke-linecap=\"round\" style=\"stroke:rgb(107,103,241);stroke-width:4\"/><line x1=\"400\" y1=\"250\" x2=\"-33.013\" y2=\"500.0\" stroke-linecap=\"round\" style=\"stroke:rgb(59,248,66);stroke-width:4\"/><line x1=\"400\" y1=\"250\" x2=\"-87.185\" y2=\"362.476\" stroke-linecap=\"round\" style=\"stroke:rgb(66,114,136);stroke-width:4\"/><line x1=\"400\" y1=\"250\" x2=\"788.573\" y2=\"564.66\" stroke-linecap=\"round\" style=\"stroke:rgb(119,111,203);stroke-width:4\"/><line x1=\"400\" y1=\"250\" x2=\"889.074\" y2=\"146.044\" stroke-linecap=\"round\" style=\"stroke:rgb(50,213,60);stroke-width:4\"/><line x1=\"400\" y1=\"250\" x2=\"-33.013\" y2=\"500.0\" stroke-linecap=\"round\" style=\"stroke:rgb(0,255,167);stroke-width:4\"/><line x1=\"400\" y1=\"250\" x2=\"899.315\" y2=\"276.168\" stroke-linecap=\"round\" style=\"stroke:rgb(58,232,34);stroke-width:4\"/><line x1=\"400\" y1=\"250\" x2=\"-96.273\" y2=\"310.935\" stroke-linecap=\"round\" style=\"stroke:rgb(144,46,217);stroke-width:4\"/><line x1=\"400\" y1=\"250\" x2=\"619.186\" y2=\"-199.397\" stroke-linecap=\"round\" style=\"stroke:rgb(133,1,128);stroke-width:4\"/><line x1=\"400\" y1=\"250\" x2=\"900.0\" y2=\"250.0\" stroke-linecap=\"round\" style=\"stroke:rgb(207,233,38);stroke-width:4\"/><line x1=\"400\" y1=\"250\" x2=\"22.645\" y2=\"578.03\" stroke-linecap=\"round\" style=\"stroke:rgb(142,103,192);stroke-width:4\"/><line x1=\"400\" y1=\"250\" x2=\"512.476\" y2=\"737.185\" stroke-linecap=\"round\" style=\"stroke:rgb(76,115,235);stroke-width:4\"/><line x1=\"400\" y1=\"250\" x2=\"714.66\" y2=\"638.573\" stroke-linecap=\"round\" style=\"stroke:rgb(222,215,166);stroke-width:4\"/><line x1=\"400\" y1=\"250\" x2=\"579.184\" y2=\"-216.79\" stroke-linecap=\"round\" style=\"stroke:rgb(180,221,60);stroke-width:4\"/><line x1=\"400\" y1=\"250\" x2=\"642.405\" y2=\"-187.31\" stroke-linecap=\"round\" style=\"stroke:rgb(81,52,15);stroke-width:4\"/><line x1=\"400\" y1=\"250\" x2=\"16.978\" y2=\"571.394\" stroke-linecap=\"round\" style=\"stroke:rgb(195,42,222);stroke-width:4\"/><line x1=\"400\" y1=\"250\" x2=\"611.309\" y2=\"703.154\" stroke-linecap=\"round\" style=\"stroke:rgb(188,124,39);stroke-width:4\"/><line x1=\"400\" y1=\"250\" x2=\"872.759\" y2=\"87.216\" stroke-linecap=\"round\" style=\"stroke:rgb(116,85,37);stroke-width:4\"/><line x1=\"400\" y1=\"250\" x2=\"-24.024\" y2=\"-14.96\" stroke-linecap=\"round\" style=\"stroke:rgb(254,26,238);stroke-width:4\"/><line x1=\"400\" y1=\"250\" x2=\"46.447\" y2=\"603.553\" stroke-linecap=\"round\" style=\"stroke:rgb(53,23,64);stroke-width:4\"/><line x1=\"400\" y1=\"250\" x2=\"-45.503\" y2=\"476.995\" stroke-linecap=\"round\" style=\"stroke:rgb(231,181,201);stroke-width:4\"/><line x1=\"400\" y1=\"250\" x2=\"700.908\" y2=\"-149.318\" stroke-linecap=\"round\" style=\"stroke:rgb(209,127,44);stroke-width:4\"/><line x1=\"400\" y1=\"250\" x2=\"856.773\" y2=\"453.368\" stroke-linecap=\"round\" style=\"stroke:rgb(201,195,189);stroke-width:4\"/><line x1=\"400\" y1=\"250\" x2=\"99.092\" y2=\"649.318\" stroke-linecap=\"round\" style=\"stroke:rgb(238,250,209);stroke-width:4\"/><line x1=\"400\" y1=\"250\" x2=\"747.329\" y2=\"609.67\" stroke-linecap=\"round\" style=\"stroke:rgb(255,200,238);stroke-width:4\"/><line x1=\"400\" y1=\"250\" x2=\"520.961\" y2=\"-235.148\" stroke-linecap=\"round\" style=\"stroke:rgb(236,17,166);stroke-width:4\"/><line x1=\"400\" y1=\"250\" x2=\"686.788\" y2=\"-159.576\" stroke-linecap=\"round\" style=\"stroke:rgb(221,231,245);stroke-width:4\"/><line x1=\"400\" y1=\"250\" x2=\"-95.134\" y2=\"180.413\" stroke-linecap=\"round\" style=\"stroke:rgb(223,71,255);stroke-width:4\"/><line x1=\"400\" y1=\"250\" x2=\"-56.773\" y2=\"453.368\" stroke-linecap=\"round\" style=\"stroke:rgb(180,139,3);stroke-width:4\"/><line x1=\"400\" y1=\"250\" x2=\"896.273\" y2=\"189.065\" stroke-linecap=\"round\" style=\"stroke:rgb(251,50,160);stroke-width:4\"/><line x1=\"400\" y1=\"250\" x2=\"245.492\" y2=\"-225.528\" stroke-linecap=\"round\" style=\"stroke:rgb(4,80,246);stroke-width:4\"/><line x1=\"400\" y1=\"250\" x2=\"-97.261\" y2=\"197.736\" stroke-linecap=\"round\" style=\"stroke:rgb(206,146,51);stroke-width:4\"/><line x1=\"400\" y1=\"250\" x2=\"-78.152\" y2=\"396.186\" stroke-linecap=\"round\" style=\"stroke:rgb(234,141,177);stroke-width:4\"/><line x1=\"400\" y1=\"250\" x2=\"753.553\" y2=\"-103.553\" stroke-linecap=\"round\" style=\"stroke:rgb(150,219,133);stroke-width:4\"/><line x1=\"400\" y1=\"250\" x2=\"882.963\" y2=\"120.59\" stroke-linecap=\"round\" style=\"stroke:rgb(143,195,57);stroke-width:4\"/><line x1=\"400\" y1=\"250\" x2=\"-75.528\" y2=\"95.492\" stroke-linecap=\"round\" style=\"stroke:rgb(188,199,171);stroke-width:4\"/><line x1=\"400\" y1=\"250\" x2=\"-87.185\" y2=\"362.476\" stroke-linecap=\"round\" style=\"stroke:rgb(137,226,21);stroke-width:4\"/><line x1=\"400\" y1=\"250\" x2=\"849.397\" y2=\"30.814\" stroke-linecap=\"round\" style=\"stroke:rgb(85,185,100);stroke-width:4\"/><line x1=\"400\" y1=\"250\" x2=\"562.784\" y2=\"-222.759\" stroke-linecap=\"round\" style=\"stroke:rgb(121,68,24);stroke-width:4\"/><line x1=\"400\" y1=\"250\" x2=\"-92.404\" y2=\"163.176\" stroke-linecap=\"round\" style=\"stroke:rgb(255,105,103);stroke-width:4\"/><line x1=\"400\" y1=\"250\" x2=\"882.963\" y2=\"120.59\" stroke-linecap=\"round\" style=\"stroke:rgb(172,197,178);stroke-width:4\"/><line x1=\"400\" y1=\"250\" x2=\"71.97\" y2=\"627.355\" stroke-linecap=\"round\" style=\"stroke:rgb(227,219,5);stroke-width:4\"/><line x1=\"400\" y1=\"250\" x2=\"5.995\" y2=\"557.831\" stroke-linecap=\"round\" style=\"stroke:rgb(192,112,203);stroke-width:4\"/><line x1=\"400\" y1=\"250\" x2=\"220.816\" y2=\"-216.79\" stroke-linecap=\"round\" style=\"stroke:rgb(124,196,245);stroke-width:4\"/><line x1=\"400\" y1=\"250\" x2=\"180.814\" y2=\"-199.397\" stroke-linecap=\"round\" style=\"stroke:rgb(106,73,6);stroke-width:4\"/><line x1=\"400\" y1=\"250\" x2=\"529.41\" y2=\"-232.963\" stroke-linecap=\"round\" style=\"stroke:rgb(239,119,168);stroke-width:4\"/><line x1=\"400\" y1=\"250\" x2=\"237.216\" y2=\"-222.759\" stroke-linecap=\"round\" style=\"stroke:rgb(245,4,9);stroke-width:4\"/><line x1=\"400\" y1=\"250\" x2=\"-41.474\" y2=\"484.736\" stroke-linecap=\"round\" style=\"stroke:rgb(28,91,224);stroke-width:4\"/><line x1=\"400\" y1=\"250\" x2=\"486.824\" y2=\"742.404\" stroke-linecap=\"round\" style=\"stroke:rgb(244,23,165);stroke-width:4\"/><line x1=\"400\" y1=\"250\" x2=\"875.528\" y2=\"95.492\" stroke-linecap=\"round\" style=\"stroke:rgb(61,5,38);stroke-width:4\"/><line x1=\"400\" y1=\"250\" x2=\"893.844\" y2=\"171.783\" stroke-linecap=\"round\" style=\"stroke:rgb(15,206,152);stroke-width:4\"/><line x1=\"400\" y1=\"250\" x2=\"896.273\" y2=\"189.065\" stroke-linecap=\"round\" style=\"stroke:rgb(201,167,4);stroke-width:4\"/><line x1=\"400\" y1=\"250\" x2=\"-80.631\" y2=\"387.819\" stroke-linecap=\"round\" style=\"stroke:rgb(24,193,170);stroke-width:4\"/><line x1=\"400\" y1=\"250\" x2=\"-9.576\" y2=\"-36.788\" stroke-linecap=\"round\" style=\"stroke:rgb(195,26,5);stroke-width:4\"/><line x1=\"400\" y1=\"250\" x2=\"34.323\" y2=\"590.999\" stroke-linecap=\"round\" style=\"stroke:rgb(201,56,136);stroke-width:4\"/><line x1=\"400\" y1=\"250\" x2=\"106.107\" y2=\"654.508\" stroke-linecap=\"round\" style=\"stroke:rgb(52,230,135);stroke-width:4\"/><line x1=\"400\" y1=\"250\" x2=\"845.503\" y2=\"23.005\" stroke-linecap=\"round\" style=\"stroke:rgb(149,68,149);stroke-width:4\"/><line x1=\"400\" y1=\"250\" x2=\"426.168\" y2=\"749.315\" stroke-linecap=\"round\" style=\"stroke:rgb(44,92,239);stroke-width:4\"/><line x1=\"400\" y1=\"250\" x2=\"-56.773\" y2=\"453.368\" stroke-linecap=\"round\" style=\"stroke:rgb(222,186,140);stroke-width:4\"/><line x1=\"400\" y1=\"250\" x2=\"747.329\" y2=\"609.67\" stroke-linecap=\"round\" style=\"stroke:rgb(126,160,107);stroke-width:4\"/><line x1=\"400\" y1=\"250\" x2=\"887.185\" y2=\"362.476\" stroke-linecap=\"round\" style=\"stroke:rgb(57,18,222);stroke-width:4\"/><line x1=\"400\" y1=\"250\" x2=\"443.578\" y2=\"-248.097\" stroke-linecap=\"round\" style=\"stroke:rgb(78,94,253);stroke-width:4\"/><line x1=\"400\" y1=\"250\" x2=\"-75.528\" y2=\"95.492\" stroke-linecap=\"round\" style=\"stroke:rgb(85,160,204);stroke-width:4\"/><line x1=\"400\" y1=\"250\" x2=\"794.005\" y2=\"-57.831\" stroke-linecap=\"round\" style=\"stroke:rgb(35,134,254);stroke-width:4\"/><line x1=\"400\" y1=\"250\" x2=\"-14.519\" y2=\"-29.596\" stroke-linecap=\"round\" style=\"stroke:rgb(164,37,247);stroke-width:4\"/><line x1=\"400\" y1=\"250\" x2=\"52.671\" y2=\"-109.67\" stroke-linecap=\"round\" style=\"stroke:rgb(208,82,188);stroke-width:4\"/><line x1=\"400\" y1=\"250\" x2=\"753.553\" y2=\"603.553\" stroke-linecap=\"round\" style=\"stroke:rgb(190,40,65);stroke-width:4\"/><line x1=\"400\" y1=\"250\" x2=\"721.394\" y2=\"-133.022\" stroke-linecap=\"round\" style=\"stroke:rgb(151,125,84);stroke-width:4\"/><line x1=\"400\" y1=\"250\" x2=\"872.759\" y2=\"412.784\" stroke-linecap=\"round\" style=\"stroke:rgb(190,8,54);stroke-width:4\"/><line x1=\"400\" y1=\"250\" x2=\"150.0\" y2=\"683.013\" stroke-linecap=\"round\" style=\"stroke:rgb(163,68,117);stroke-width:4\"/><line x1=\"400\" y1=\"250\" x2=\"-89.074\" y2=\"146.044\" stroke-linecap=\"round\" style=\"stroke:rgb(176,186,250);stroke-width:4\"/><line x1=\"400\" y1=\"250\" x2=\"-24.024\" y2=\"-14.96\" stroke-linecap=\"round\" style=\"stroke:rgb(27,99,107);stroke-width:4\"/><line x1=\"400\" y1=\"250\" x2=\"634.736\" y2=\"-191.474\" stroke-linecap=\"round\" style=\"stroke:rgb(86,107,178);stroke-width:4\"/><line x1=\"400\" y1=\"250\" x2=\"-45.503\" y2=\"476.995\" stroke-linecap=\"round\" style=\"stroke:rgb(72,179,192);stroke-width:4\"/><line x1=\"400\" y1=\"250\" x2=\"-93.844\" y2=\"171.783\" stroke-linecap=\"round\" style=\"stroke:rgb(167,189,60);stroke-width:4\"/><line x1=\"400\" y1=\"250\" x2=\"150.0\" y2=\"683.013\" stroke-linecap=\"round\" style=\"stroke:rgb(76,206,148);stroke-width:4\"/><line x1=\"400\" y1=\"250\" x2=\"52.671\" y2=\"609.67\" stroke-linecap=\"round\" style=\"stroke:rgb(106,206,220);stroke-width:4\"/><line x1=\"400\" y1=\"250\" x2=\"-87.185\" y2=\"362.476\" stroke-linecap=\"round\" style=\"stroke:rgb(131,27,176);stroke-width:4\"/><line x1=\"400\" y1=\"250\" x2=\"-60.252\" y2=\"445.366\" stroke-linecap=\"round\" style=\"stroke:rgb(239,29,52);stroke-width:4\"/><line x1=\"400\" y1=\"250\" x2=\"382.55\" y2=\"749.695\" stroke-linecap=\"round\" style=\"stroke:rgb(170,41,154);stroke-width:4\"/><line x1=\"400\" y1=\"250\" x2=\"562.784\" y2=\"-222.759\" stroke-linecap=\"round\" style=\"stroke:rgb(76,24,27);stroke-width:4\"/><line x1=\"400\" y1=\"250\" x2=\"777.355\" y2=\"-78.03\" stroke-linecap=\"round\" style=\"stroke:rgb(118,47,140);stroke-width:4\"/><line x1=\"400\" y1=\"250\" x2=\"587.303\" y2=\"713.592\" stroke-linecap=\"round\" style=\"stroke:rgb(194,77,3);stroke-width:4\"/><line x1=\"400\" y1=\"250\" x2=\"837.31\" y2=\"492.405\" stroke-linecap=\"round\" style=\"stroke:rgb(122,95,84);stroke-width:4\"/><line x1=\"400\" y1=\"250\" x2=\"-45.503\" y2=\"23.005\" stroke-linecap=\"round\" style=\"stroke:rgb(85,211,167);stroke-width:4\"/><line x1=\"400\" y1=\"250\" x2=\"400.0\" y2=\"-250.0\" stroke-linecap=\"round\" style=\"stroke:rgb(196,89,119);stroke-width:4\"/><line x1=\"400\" y1=\"250\" x2=\"765.677\" y2=\"590.999\" stroke-linecap=\"round\" style=\"stroke:rgb(174,6,176);stroke-width:4\"/><line x1=\"400\" y1=\"250\" x2=\"866.79\" y2=\"429.184\" stroke-linecap=\"round\" style=\"stroke:rgb(147,194,191);stroke-width:4\"/><line x1=\"400\" y1=\"250\" x2=\"-75.528\" y2=\"95.492\" stroke-linecap=\"round\" style=\"stroke:rgb(223,144,32);stroke-width:4\"/><line x1=\"400\" y1=\"250\" x2=\"287.524\" y2=\"737.185\" stroke-linecap=\"round\" style=\"stroke:rgb(23,169,192);stroke-width:4\"/><line x1=\"400\" y1=\"250\" x2=\"841.474\" y2=\"484.736\" stroke-linecap=\"round\" style=\"stroke:rgb(231,65,88);stroke-width:4\"/><line x1=\"400\" y1=\"250\" x2=\"5.995\" y2=\"557.831\" stroke-linecap=\"round\" style=\"stroke:rgb(69,73,172);stroke-width:4\"/><line x1=\"400\" y1=\"250\" x2=\"469.587\" y2=\"745.134\" stroke-linecap=\"round\" style=\"stroke:rgb(233,148,188);stroke-width:4\"/><line x1=\"400\" y1=\"250\" x2=\"52.671\" y2=\"-109.67\" stroke-linecap=\"round\" style=\"stroke:rgb(223,22,1);stroke-width:4\"/><line x1=\"400\" y1=\"250\" x2=\"-82.963\" y2=\"120.59\" stroke-linecap=\"round\" style=\"stroke:rgb(223,32,125);stroke-width:4\"/><line x1=\"400\" y1=\"250\" x2=\"-99.695\" y2=\"267.45\" stroke-linecap=\"round\" style=\"stroke:rgb(45,56,137);stroke-width:4\"/><line x1=\"400\" y1=\"250\" x2=\"878.152\" y2=\"396.186\" stroke-linecap=\"round\" style=\"stroke:rgb(150,151,239);stroke-width:4\"/><line x1=\"400\" y1=\"250\" x2=\"85.34\" y2=\"638.573\" stroke-linecap=\"round\" style=\"stroke:rgb(225,250,89);stroke-width:4\"/><line x1=\"400\" y1=\"250\" x2=\"408.726\" y2=\"-249.924\" stroke-linecap=\"round\" style=\"stroke:rgb(89,217,52);stroke-width:4\"/><line x1=\"400\" y1=\"250\" x2=\"196.632\" y2=\"706.773\" stroke-linecap=\"round\" style=\"stroke:rgb(23,22,192);stroke-width:4\"/><line x1=\"400\" y1=\"250\" x2=\"799.318\" y2=\"550.908\" stroke-linecap=\"round\" style=\"stroke:rgb(221,225,206);stroke-width:4\"/><line x1=\"400\" y1=\"250\" x2=\"650.0\" y2=\"-183.013\" stroke-linecap=\"round\" style=\"stroke:rgb(193,99,35);stroke-width:4\"/><line x1=\"400\" y1=\"250\" x2=\"728.03\" y2=\"627.355\" stroke-linecap=\"round\" style=\"stroke:rgb(163,191,0);stroke-width:4\"/><line x1=\"400\" y1=\"250\" x2=\"339.065\" y2=\"-246.273\" stroke-linecap=\"round\" style=\"stroke:rgb(107,143,37);stroke-width:4\"/><line x1=\"400\" y1=\"250\" x2=\"759.67\" y2=\"-97.329\" stroke-linecap=\"round\" style=\"stroke:rgb(220,8,70);stroke-width:4\"/><line x1=\"400\" y1=\"250\" x2=\"228.99\" y2=\"719.846\" stroke-linecap=\"round\" style=\"stroke:rgb(116,199,138);stroke-width:4\"/><line x1=\"400\" y1=\"250\" x2=\"634.736\" y2=\"691.474\" stroke-linecap=\"round\" style=\"stroke:rgb(98,225,191);stroke-width:4\"/><line x1=\"400\" y1=\"250\" x2=\"228.99\" y2=\"-219.846\" stroke-linecap=\"round\" style=\"stroke:rgb(15,171,84);stroke-width:4\"/><line x1=\"400\" y1=\"250\" x2=\"828.584\" y2=\"507.519\" stroke-linecap=\"round\" style=\"stroke:rgb(7,158,23);stroke-width:4\"/><line x1=\"400\" y1=\"250\" x2=\"5.995\" y2=\"-57.831\" stroke-linecap=\"round\" style=\"stroke:rgb(6,36,113);stroke-width:4\"/><line x1=\"400\" y1=\"250\" x2=\"885.148\" y2=\"370.961\" stroke-linecap=\"round\" style=\"stroke:rgb(83,225,10);stroke-width:4\"/><line x1=\"400\" y1=\"250\" x2=\"135.04\" y2=\"-174.024\" stroke-linecap=\"round\" style=\"stroke:rgb(202,106,115);stroke-width:4\"/><line x1=\"400\" y1=\"250\" x2=\"900.0\" y2=\"250.0\" stroke-linecap=\"round\" style=\"stroke:rgb(53,188,131);stroke-width:4\"/><line x1=\"400\" y1=\"250\" x2=\"287.524\" y2=\"-237.185\" stroke-linecap=\"round\" style=\"stroke:rgb(53,160,151);stroke-width:4\"/><line x1=\"400\" y1=\"250\" x2=\"-53.154\" y2=\"461.309\" stroke-linecap=\"round\" style=\"stroke:rgb(7,23,150);stroke-width:4\"/><line x1=\"400\" y1=\"250\" x2=\"-53.154\" y2=\"38.691\" stroke-linecap=\"round\" style=\"stroke:rgb(30,169,157);stroke-width:4\"/><line x1=\"400\" y1=\"250\" x2=\"220.816\" y2=\"716.79\" stroke-linecap=\"round\" style=\"stroke:rgb(79,175,103);stroke-width:4\"/><line x1=\"400\" y1=\"250\" x2=\"579.184\" y2=\"-216.79\" stroke-linecap=\"round\" style=\"stroke:rgb(55,12,65);stroke-width:4\"/><line x1=\"400\" y1=\"250\" x2=\"642.405\" y2=\"-187.31\" stroke-linecap=\"round\" style=\"stroke:rgb(31,140,169);stroke-width:4\"/>\n",
              "        <g visibility=visible transform=\"rotate(389,400,250) translate(382, 232)\">\n",
              "<path style=\" stroke:none;fill-rule:evenodd;fill:black;fill-opacity:1;\" d=\"M 18.214844 0.632812 C 16.109375 1.800781 15.011719 4.074219 15.074219 7.132812 L 15.085938 7.652344 L 14.785156 7.496094 C 13.476562 6.824219 11.957031 6.671875 10.40625 7.066406 C 8.46875 7.550781 6.515625 9.15625 4.394531 11.992188 C 3.0625 13.777344 2.679688 14.636719 3.042969 15.027344 L 3.15625 15.152344 L 3.519531 15.152344 C 4.238281 15.152344 4.828125 14.886719 8.1875 13.039062 C 9.386719 12.378906 10.371094 11.839844 10.378906 11.839844 C 10.386719 11.839844 10.355469 11.929688 10.304688 12.035156 C 9.832031 13.09375 9.257812 14.820312 8.96875 16.078125 C 7.914062 20.652344 8.617188 24.53125 11.070312 27.660156 C 11.351562 28.015625 11.363281 27.914062 10.972656 28.382812 C 8.925781 30.84375 7.945312 33.28125 8.238281 35.1875 C 8.289062 35.527344 8.28125 35.523438 8.917969 35.523438 C 10.941406 35.523438 13.074219 34.207031 15.136719 31.6875 C 15.359375 31.417969 15.328125 31.425781 15.5625 31.574219 C 16.292969 32.042969 18.023438 32.964844 18.175781 32.964844 C 18.335938 32.964844 19.941406 32.210938 20.828125 31.71875 C 20.996094 31.625 21.136719 31.554688 21.136719 31.558594 C 21.203125 31.664062 21.898438 32.414062 22.222656 32.730469 C 23.835938 34.300781 25.5625 35.132812 27.582031 35.300781 C 27.90625 35.328125 27.9375 35.308594 28.007812 34.984375 C 28.382812 33.242188 27.625 30.925781 25.863281 28.425781 L 25.542969 27.96875 L 25.699219 27.785156 C 28.945312 23.960938 29.132812 18.699219 26.257812 11.96875 L 26.207031 11.84375 L 27.945312 12.703125 C 31.53125 14.476562 32.316406 14.800781 33.03125 14.800781 C 33.976562 14.800781 33.78125 13.9375 32.472656 12.292969 C 28.519531 7.355469 25.394531 5.925781 21.921875 7.472656 L 21.558594 7.636719 L 21.578125 7.542969 C 21.699219 6.992188 21.761719 5.742188 21.699219 5.164062 C 21.496094 3.296875 20.664062 1.964844 19.003906 0.855469 C 18.480469 0.503906 18.457031 0.5 18.214844 0.632812\"/>\n",
              "</g>\n",
              "      </svg>\n",
              "    "
            ]
          },
          "metadata": {}
        },
        {
          "output_type": "stream",
          "name": "stdout",
          "text": [
            "(800, 500)\n"
          ]
        }
      ]
    }
  ]
}