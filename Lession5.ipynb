{
  "nbformat": 4,
  "nbformat_minor": 0,
  "metadata": {
    "colab": {
      "provenance": [],
      "collapsed_sections": [],
      "authorship_tag": "ABX9TyNrjK08HNYo+VW21OTecnO3",
      "include_colab_link": true
    },
    "kernelspec": {
      "name": "python3",
      "display_name": "Python 3"
    },
    "language_info": {
      "name": "python"
    }
  },
  "cells": [
    {
      "cell_type": "markdown",
      "metadata": {
        "id": "view-in-github",
        "colab_type": "text"
      },
      "source": [
        "<a href=\"https://colab.research.google.com/github/SongMG0401/Colab/blob/main/Lession5.ipynb\" target=\"_parent\"><img src=\"https://colab.research.google.com/assets/colab-badge.svg\" alt=\"Open In Colab\"/></a>"
      ]
    },
    {
      "cell_type": "markdown",
      "source": [
        "IF문 예제"
      ],
      "metadata": {
        "id": "x0sQ9_H50ELN"
      }
    },
    {
      "cell_type": "code",
      "execution_count": 1,
      "metadata": {
        "colab": {
          "base_uri": "https://localhost:8080/"
        },
        "id": "IeqABzgg0AR_",
        "outputId": "65e99366-90de-4cb4-c58b-186fb7e5a14c"
      },
      "outputs": [
        {
          "output_type": "stream",
          "name": "stdout",
          "text": [
            "100보다 작습니다.\n"
          ]
        }
      ],
      "source": [
        "num = 99\n",
        "if num < 100 :\n",
        "    print(\"100보다 작습니다.\")"
      ]
    },
    {
      "cell_type": "code",
      "source": [
        "num = 200\n",
        "if num < 100 :\n",
        "  print(\"100보다 작군요.\")\n",
        "else :\n",
        "  print(\"100보다 크군요.\")"
      ],
      "metadata": {
        "colab": {
          "base_uri": "https://localhost:8080/"
        },
        "id": "8n_puXMj2ohV",
        "outputId": "370e51ef-489e-4003-9af6-dc57fba16d1a"
      },
      "execution_count": 2,
      "outputs": [
        {
          "output_type": "stream",
          "name": "stdout",
          "text": [
            "100보다 크군요.\n"
          ]
        }
      ]
    },
    {
      "cell_type": "code",
      "source": [
        "num = int(input(\"정수를 입력하세요 : \"))\n",
        "\n",
        "if num%2 == 0 :\n",
        "  print(num,\"은(는) 짝수입니다.\")\n",
        "else :\n",
        "  print(num,\"은(는) 홀수입니다.\")"
      ],
      "metadata": {
        "colab": {
          "base_uri": "https://localhost:8080/"
        },
        "id": "u_EtVH6P44JT",
        "outputId": "78d2d951-5a20-40cf-dbfe-6d5828fe604e"
      },
      "execution_count": 7,
      "outputs": [
        {
          "output_type": "stream",
          "name": "stdout",
          "text": [
            "정수를 입력하세요 : 100\n",
            "100 은(는) 짝수입니다.\n"
          ]
        }
      ]
    },
    {
      "cell_type": "code",
      "source": [
        "num = int(input(\"정수를 입력하세요 : \"))\n",
        "\n",
        "if num > 100 :\n",
        "  if num < 1000 :\n",
        "    print(\"100보다 크고 1000보다 작군요.\")\n",
        "  else :\n",
        "    print(\"1000보다 크군요.\")\n",
        "else :\n",
        "  print(\"100보다 작군요.\")"
      ],
      "metadata": {
        "colab": {
          "base_uri": "https://localhost:8080/"
        },
        "id": "iPwSeIt15SB6",
        "outputId": "48b53daf-fe0a-4dc0-fe66-ca8cae13cc13"
      },
      "execution_count": 10,
      "outputs": [
        {
          "output_type": "stream",
          "name": "stdout",
          "text": [
            "정수를 입력하세요 : 150\n",
            "100보다 크고 1000보다 작군요.\n"
          ]
        }
      ]
    },
    {
      "cell_type": "code",
      "source": [
        "a = int(input(\"학점을 입력하세요 : \"))\n",
        "\n",
        "if a >= 90 :\n",
        "  print(\"학점은 A입니다\")\n",
        "else :\n",
        "  if a >= 80 :\n",
        "    print(\"학점은 B입니다\")\n",
        "  else : \n",
        "    if a >= 70 :\n",
        "      print(\"학점은 C입니다\")\n",
        "    else :\n",
        "      if a >= 60 :\n",
        "        print(\"학점은 D입니다\")\n",
        "      else : \n",
        "        if a < 60 :\n",
        "         print(\"학점은 F입니다\") "
      ],
      "metadata": {
        "colab": {
          "base_uri": "https://localhost:8080/"
        },
        "id": "N-5LuqXb8BEb",
        "outputId": "cb681c86-64aa-4f2c-8346-5e0ddbb3d34b"
      },
      "execution_count": 16,
      "outputs": [
        {
          "output_type": "stream",
          "name": "stdout",
          "text": [
            "학점을 입력하세요 : 10\n",
            "학점은 F입니다\n"
          ]
        }
      ]
    },
    {
      "cell_type": "code",
      "source": [
        "a = int(input(\"학점을 입력하세요 : \"))\n",
        "\n",
        "if a >= 90 :\n",
        "  print(\"학점은 A입니다\")\n",
        "elif a >= 80 :\n",
        "  print(\"학점은 B입니다\")\n",
        "elif a >= 70 :\n",
        "  print(\"학점은 C입니다\")\n",
        "elif a >= 60 :\n",
        "  print(\"학점은 D입니다\")\n",
        "else :\n",
        "  print(\"학점은 F입니다\") "
      ],
      "metadata": {
        "colab": {
          "base_uri": "https://localhost:8080/"
        },
        "id": "Qw0AfD7PBkYi",
        "outputId": "7a4d5f47-6209-427e-b600-b542aab0c74b"
      },
      "execution_count": 17,
      "outputs": [
        {
          "output_type": "stream",
          "name": "stdout",
          "text": [
            "학점을 입력하세요 : 10\n",
            "학점은 F입니다\n"
          ]
        }
      ]
    },
    {
      "cell_type": "code",
      "source": [
        "import random\n",
        "\n",
        "rnd = random.randint(1,45)\n",
        "lunch = random.choice([\"짜장면\",\"라면\",\"김밥\"])\n",
        "\n",
        "print(rnd, lunch)"
      ],
      "metadata": {
        "colab": {
          "base_uri": "https://localhost:8080/"
        },
        "id": "ZbUp0fpBDcRR",
        "outputId": "80137769-0f4d-4a04-8076-6ace6a2d9a3a"
      },
      "execution_count": 21,
      "outputs": [
        {
          "output_type": "stream",
          "name": "stdout",
          "text": [
            "8 라면\n"
          ]
        }
      ]
    },
    {
      "cell_type": "code",
      "source": [
        "a = input(\"가위 바위 보 중 하나를 입력하세요 : \")\n",
        "b = random.choice([\"가위\", \"바위\", \"보\"])\n",
        "\n",
        "print(a, b)\n",
        "if a == b :\n",
        "  print(\"비겼다.\")\n",
        "elif ((a == '바위') and (b == '가위')) or ((a == '가위') and (b == '보')) or ((a == '보') and (b == '바위')):\n",
        "  print(\"이겼다.\")\n",
        "else :\n",
        "  print(\"졌다.\")  "
      ],
      "metadata": {
        "colab": {
          "base_uri": "https://localhost:8080/"
        },
        "id": "8fsGKhbdFp6p",
        "outputId": "f8a40e8f-392c-4323-8c0f-5e1bc71304dd"
      },
      "execution_count": 48,
      "outputs": [
        {
          "output_type": "stream",
          "name": "stdout",
          "text": [
            "가위 바위 보 중 하나를 입력하세요 : 가위\n",
            "가위 보\n",
            "이겼다.\n"
          ]
        }
      ]
    },
    {
      "cell_type": "code",
      "source": [
        "if n > 0:\n",
        "  n = 0\n",
        "  d = 0\n",
        "  l = 0\n",
        "  while True :\n",
        "    a = input(\"가위 바위 보 중 하나를 입력하세요 : \")\n",
        "    b = random.choice([\"가위\", \"바위\", \"보\"])\n",
        "    w = 0\n",
        "    n = n + 1\n",
        "    print(a, b)\n",
        "    if a == b :\n",
        "      print(\"비겼다.\")\n",
        "      d = d + 1\n",
        "    elif ((a == '바위') and (b == '가위')) or ((a == '가위') and (b == '보')) or ((a == '보') and (b == '바위')):\n",
        "      print(\"이겼다.\")\n",
        "      w = w + 1\n",
        "      if w == 1 : \n",
        "        print(\"가위 바위 보를 시도한 횟수는\", n,\"회 입니다.\", \"패배횟수\", l,\"회 / 비긴횟수\",d,\"회\")\n",
        "        break\n",
        "    else :\n",
        "      print(\"졌다.\")\n",
        "      l = l + 1"
      ],
      "metadata": {
        "colab": {
          "base_uri": "https://localhost:8080/"
        },
        "id": "Pv9Wv-Y9Hb-C",
        "outputId": "af525b21-cdcf-42ae-b011-d030acf3ee58"
      },
      "execution_count": 88,
      "outputs": [
        {
          "output_type": "stream",
          "name": "stdout",
          "text": [
            "가위 바위 보 중 하나를 입력하세요 : 보\n",
            "보 바위\n",
            "이겼다.\n",
            "가위 바위 보를 시도한 횟수는 1 회 입니다. 패배횟수 0 회 / 비긴횟수 0 회\n"
          ]
        }
      ]
    },
    {
      "cell_type": "code",
      "source": [
        "a = input(\"주사위게임을 시작하시려면 시작을 입력하세요 : \")\n",
        "\n",
        "if a == \"시작\" :\n",
        "  if n > 0 :\n",
        "    n = 0\n",
        "  while True :\n",
        "   a = input(\"주사위게임을 계속하려면 ㄱ을 입력해주세요 : \")\n",
        "   d1 = random.randint(1,6)\n",
        "   d2 = random.randint(1,6)\n",
        "   print(d1,d2)\n",
        "   n = n + 1\n",
        "   if d1 > d2 :\n",
        "     print(\"주사위게임에서 승리하셨습니다.\")\n",
        "     print(\"시도횟수 : \", n, \"회\")\n",
        "     break\n",
        "\n",
        "   elif d1 == d2 :\n",
        "     print(\"주사위게임에서 비기셨습니다.\")\n",
        "\n",
        "   else :\n",
        "     print(\"주사위게임에서 패배하셨습니다.\")"
      ],
      "metadata": {
        "colab": {
          "base_uri": "https://localhost:8080/"
        },
        "id": "bd8qi3esXp2_",
        "outputId": "d433372b-ea8d-496d-f595-66d97ff89666"
      },
      "execution_count": 89,
      "outputs": [
        {
          "output_type": "stream",
          "name": "stdout",
          "text": [
            "주사위게임을 시작하시려면 시작을 입력하세요 : 시작\n",
            "주사위게임을 계속하려면 ㄱ을 입력해주세요 : ㄱ\n",
            "4 6\n",
            "주사위게임에서 패배하셨습니다.\n",
            "주사위게임을 계속하려면 ㄱ을 입력해주세요 : ㄱ\n",
            "1 3\n",
            "주사위게임에서 패배하셨습니다.\n",
            "주사위게임을 계속하려면 ㄱ을 입력해주세요 : ㄱ\n",
            "2 1\n",
            "주사위게임에서 승리하셨습니다.\n",
            "시도횟수 :  3 회\n"
          ]
        }
      ]
    },
    {
      "cell_type": "code",
      "source": [
        "a = input(\"주사위게임을 시작하시려면 시작을 입력하세요 : \")\n",
        "d = random.randint(1,6)\n",
        "\n",
        "if a == \"시작\":\n",
        "  if d == 1:\n",
        "    print(\"□□□□□□□\")\n",
        "    print(\"□□□□□□□\")\n",
        "    print(\"□□□□□□□\")\n",
        "    print(\"□□□■□□□\")\n",
        "    print(\"□□□□□□□\")\n",
        "    print(\"□□□□□□□\")\n",
        "    print(\"□□□□□□□\")\n",
        "    print(\"숫자는\", d, \"입니다.\")\n",
        "\n",
        "  elif d == 2:\n",
        "    print(\"□□□□□□□\")\n",
        "    print(\"□□□□□■□\")\n",
        "    print(\"□□□□□□□\")\n",
        "    print(\"□□□□□□□\")\n",
        "    print(\"□□□□□□□\")\n",
        "    print(\"□■□□□□□\")\n",
        "    print(\"□□□□□□□\")\n",
        "    print(\"숫자는\", d, \"입니다.\")\n",
        "\n",
        "  elif d == 3:\n",
        "    print(\"□□□□□□□\")\n",
        "    print(\"□□□□□■□\")\n",
        "    print(\"□□□□□□□\")\n",
        "    print(\"□□□■□□□\")\n",
        "    print(\"□□□□□□□\")\n",
        "    print(\"□■□□□□□\")\n",
        "    print(\"□□□□□□□\")\n",
        "    print(\"숫자는\", d, \"입니다.\")\n",
        "\n",
        "  elif d == 4:\n",
        "    print(\"□□□□□□□\")\n",
        "    print(\"□■□□□■□\")\n",
        "    print(\"□□□□□□□\")\n",
        "    print(\"□□□□□□□\")\n",
        "    print(\"□□□□□□□\")\n",
        "    print(\"□■□□□■□\")\n",
        "    print(\"□□□□□□□\")\n",
        "    print(\"숫자는\", d, \"입니다.\")\n",
        "\n",
        "  elif d == 5:\n",
        "    print(\"□□□□□□□\")\n",
        "    print(\"□■□□□■□\")\n",
        "    print(\"□□□□□□□\")\n",
        "    print(\"□□□■□□□\")\n",
        "    print(\"□□□□□□□\")\n",
        "    print(\"□■□□□■□\")\n",
        "    print(\"□□□□□□□\")\n",
        "    pprint(\"숫자는\", d, \"입니다.\")\n",
        "\n",
        "  elif d == 6:\n",
        "    print(\"□□□□□□□\")\n",
        "    print(\"□■□□□■□\")\n",
        "    print(\"□□□□□□□\")\n",
        "    print(\"□■□□□■□\")\n",
        "    print(\"□□□□□□□\")\n",
        "    print(\"□■□□□■□\")\n",
        "    print(\"□□□□□□□\")\n",
        "    print(\"숫자는\", d, \"입니다.\")"
      ],
      "metadata": {
        "colab": {
          "base_uri": "https://localhost:8080/"
        },
        "id": "nhoy3aHTaPCF",
        "outputId": "d311ee99-8881-4bc4-a7a8-c2ce7e5092eb"
      },
      "execution_count": 102,
      "outputs": [
        {
          "output_type": "stream",
          "name": "stdout",
          "text": [
            "주사위게임을 시작하시려면 시작을 입력하세요 : 시작\n",
            "□□□□□□□\n",
            "□□□□□■□\n",
            "□□□□□□□\n",
            "□□□□□□□\n",
            "□□□□□□□\n",
            "□■□□□□□\n",
            "□□□□□□□\n",
            "숫자는 2 입니다.\n"
          ]
        }
      ]
    },
    {
      "cell_type": "code",
      "source": [
        "a = int(input(\"나이를 입력하세요 : \"))\n",
        "\n",
        "if a < 19:\n",
        "  print(\"만 19세 미만의 청소년은 밤 10시이후에는 PC방 이용이 불가합니다.\")\n",
        "  print(\"협조감사합니다.\")\n",
        "else:\n",
        "  print(\"계속 하셔도됩니다.\")\n",
        "  print(\"협조감사합니다.\")"
      ],
      "metadata": {
        "colab": {
          "base_uri": "https://localhost:8080/"
        },
        "id": "DfPiNzb1fqZm",
        "outputId": "b0ec0ba8-0e95-49ad-d327-3cb5da60c7f5"
      },
      "execution_count": 104,
      "outputs": [
        {
          "output_type": "stream",
          "name": "stdout",
          "text": [
            "나이를 입력하세요 : 16\n",
            "만 19세 미만의 청소년은 밤 10시이후에는 PC방 이용이 불가합니다.\n",
            "협조감사합니다.\n"
          ]
        }
      ]
    },
    {
      "cell_type": "code",
      "source": [
        "#!pip3 install ColabTurtle\n",
        "import ColabTurtle.Turtle as turtle\n",
        "import random\n",
        "\n",
        "if n > 0:\n",
        "  n = 0\n",
        "  m = 0\n",
        "\n",
        "turtle.initializeTurtle()\n",
        "print(turtle.DEFAULT_WINDOW_SIZE)\n",
        "turtle.left(90)\n",
        "while True :\n",
        "  turtle.left(random.randint(0,360))\n",
        "  turtle.forward(random.randint(50, 100))\n",
        "  m = m + 1\n",
        "  print(turtle.getx(), turtle.gety())\n",
        "  if ((turtle.getx() > 700 or turtle.gety() > 400)) or ((turtle.getx() < 100 or turtle.gety() < 100)):\n",
        "    n = n + 1\n",
        "    print (\"가출 (현재 가출횟수 :\", n,\"회)\")\n",
        "    turtle.penup()\n",
        "    turtle.setx(400)\n",
        "    turtle.sety(250)\n",
        "    turtle.pendown()\n",
        "    if n >= 10 :\n",
        "      print(\"이동을 한 회수는\", m, \"회 입니다.\")\n",
        "      break"
      ],
      "metadata": {
        "colab": {
          "base_uri": "https://localhost:8080/",
          "height": 1000
        },
        "id": "8WNd8UEMhyfM",
        "outputId": "47a91603-c234-4d63-acbd-d40055106f1e"
      },
      "execution_count": 134,
      "outputs": [
        {
          "output_type": "display_data",
          "data": {
            "text/plain": [
              "<IPython.core.display.HTML object>"
            ],
            "text/html": [
              "\n",
              "      <svg width=\"800\" height=\"500\">\n",
              "        <rect width=\"100%\" height=\"100%\" fill=\"black\"/>\n",
              "        <line x1=\"400\" y1=\"250\" x2=\"434.979\" y2=\"328.565\" stroke-linecap=\"round\" style=\"stroke:white;stroke-width:4\"/><line x1=\"434.979\" y1=\"328.565\" x2=\"449.89\" y2=\"377.337\" stroke-linecap=\"round\" style=\"stroke:white;stroke-width:4\"/><line x1=\"449.89\" y1=\"377.337\" x2=\"366.094\" y2=\"357.991\" stroke-linecap=\"round\" style=\"stroke:white;stroke-width:4\"/><line x1=\"366.094\" y1=\"357.991\" x2=\"322.155\" y2=\"328.354\" stroke-linecap=\"round\" style=\"stroke:white;stroke-width:4\"/><line x1=\"322.155\" y1=\"328.354\" x2=\"283.658\" y2=\"400.756\" stroke-linecap=\"round\" style=\"stroke:white;stroke-width:4\"/><line x1=\"400\" y1=\"250\" x2=\"314.901\" y2=\"231.912\" stroke-linecap=\"round\" style=\"stroke:white;stroke-width:4\"/><line x1=\"314.901\" y1=\"231.912\" x2=\"375.168\" y2=\"207.563\" stroke-linecap=\"round\" style=\"stroke:white;stroke-width:4\"/><line x1=\"375.168\" y1=\"207.563\" x2=\"403.818\" y2=\"290.769\" stroke-linecap=\"round\" style=\"stroke:white;stroke-width:4\"/><line x1=\"403.818\" y1=\"290.769\" x2=\"386.375\" y2=\"338.693\" stroke-linecap=\"round\" style=\"stroke:white;stroke-width:4\"/><line x1=\"386.375\" y1=\"338.693\" x2=\"298.029\" y2=\"321.52\" stroke-linecap=\"round\" style=\"stroke:white;stroke-width:4\"/><line x1=\"298.029\" y1=\"321.52\" x2=\"226.431\" y2=\"288.133\" stroke-linecap=\"round\" style=\"stroke:white;stroke-width:4\"/><line x1=\"226.431\" y1=\"288.133\" x2=\"293.149\" y2=\"263.85\" stroke-linecap=\"round\" style=\"stroke:white;stroke-width:4\"/><line x1=\"293.149\" y1=\"263.85\" x2=\"213.432\" y2=\"313.662\" stroke-linecap=\"round\" style=\"stroke:white;stroke-width:4\"/><line x1=\"213.432\" y1=\"313.662\" x2=\"196.383\" y2=\"233.454\" stroke-linecap=\"round\" style=\"stroke:white;stroke-width:4\"/><line x1=\"196.383\" y1=\"233.454\" x2=\"169.686\" y2=\"310.987\" stroke-linecap=\"round\" style=\"stroke:white;stroke-width:4\"/><line x1=\"169.686\" y1=\"310.987\" x2=\"118.491\" y2=\"263.247\" stroke-linecap=\"round\" style=\"stroke:white;stroke-width:4\"/><line x1=\"118.491\" y1=\"263.247\" x2=\"32.414\" y2=\"281.543\" stroke-linecap=\"round\" style=\"stroke:white;stroke-width:4\"/><line x1=\"400\" y1=\"250\" x2=\"385.499\" y2=\"324.604\" stroke-linecap=\"round\" style=\"stroke:white;stroke-width:4\"/><line x1=\"385.499\" y1=\"324.604\" x2=\"427.925\" y2=\"367.03\" stroke-linecap=\"round\" style=\"stroke:white;stroke-width:4\"/><line x1=\"427.925\" y1=\"367.03\" x2=\"474.467\" y2=\"415.226\" stroke-linecap=\"round\" style=\"stroke:white;stroke-width:4\"/><line x1=\"400\" y1=\"250\" x2=\"454.751\" y2=\"182.388\" stroke-linecap=\"round\" style=\"stroke:white;stroke-width:4\"/><line x1=\"454.751\" y1=\"182.388\" x2=\"399.693\" y2=\"167.635\" stroke-linecap=\"round\" style=\"stroke:white;stroke-width:4\"/><line x1=\"399.693\" y1=\"167.635\" x2=\"423.976\" y2=\"234.353\" stroke-linecap=\"round\" style=\"stroke:white;stroke-width:4\"/><line x1=\"423.976\" y1=\"234.353\" x2=\"332.326\" y2=\"242.371\" stroke-linecap=\"round\" style=\"stroke:white;stroke-width:4\"/><line x1=\"332.326\" y1=\"242.371\" x2=\"290.608\" y2=\"172.94\" stroke-linecap=\"round\" style=\"stroke:white;stroke-width:4\"/><line x1=\"290.608\" y1=\"172.94\" x2=\"292.109\" y2=\"258.927\" stroke-linecap=\"round\" style=\"stroke:white;stroke-width:4\"/><line x1=\"292.109\" y1=\"258.927\" x2=\"225.46\" y2=\"276.786\" stroke-linecap=\"round\" style=\"stroke:white;stroke-width:4\"/><line x1=\"225.46\" y1=\"276.786\" x2=\"176.601\" y2=\"306.143\" stroke-linecap=\"round\" style=\"stroke:white;stroke-width:4\"/><line x1=\"176.601\" y1=\"306.143\" x2=\"147.863\" y2=\"367.772\" stroke-linecap=\"round\" style=\"stroke:white;stroke-width:4\"/><line x1=\"147.863\" y1=\"367.772\" x2=\"54.168\" y2=\"342.667\" stroke-linecap=\"round\" style=\"stroke:white;stroke-width:4\"/><line x1=\"400\" y1=\"250\" x2=\"381.682\" y2=\"155.764\" stroke-linecap=\"round\" style=\"stroke:white;stroke-width:4\"/><line x1=\"381.682\" y1=\"155.764\" x2=\"332.185\" y2=\"106.267\" stroke-linecap=\"round\" style=\"stroke:white;stroke-width:4\"/><line x1=\"332.185\" y1=\"106.267\" x2=\"286.147\" y2=\"150.725\" stroke-linecap=\"round\" style=\"stroke:white;stroke-width:4\"/><line x1=\"286.147\" y1=\"150.725\" x2=\"302.988\" y2=\"229.955\" stroke-linecap=\"round\" style=\"stroke:white;stroke-width:4\"/><line x1=\"302.988\" y1=\"229.955\" x2=\"215.295\" y2=\"250.201\" stroke-linecap=\"round\" style=\"stroke:white;stroke-width:4\"/><line x1=\"215.295\" y1=\"250.201\" x2=\"172.921\" y2=\"294.081\" stroke-linecap=\"round\" style=\"stroke:white;stroke-width:4\"/><line x1=\"172.921\" y1=\"294.081\" x2=\"202.14\" y2=\"221.761\" stroke-linecap=\"round\" style=\"stroke:white;stroke-width:4\"/><line x1=\"202.14\" y1=\"221.761\" x2=\"175.242\" y2=\"309.741\" stroke-linecap=\"round\" style=\"stroke:white;stroke-width:4\"/><line x1=\"175.242\" y1=\"309.741\" x2=\"172.101\" y2=\"399.686\" stroke-linecap=\"round\" style=\"stroke:white;stroke-width:4\"/><line x1=\"172.101\" y1=\"399.686\" x2=\"122.848\" y2=\"462.727\" stroke-linecap=\"round\" style=\"stroke:white;stroke-width:4\"/><line x1=\"400\" y1=\"250\" x2=\"423.176\" y2=\"178.671\" stroke-linecap=\"round\" style=\"stroke:white;stroke-width:4\"/><line x1=\"423.176\" y1=\"178.671\" x2=\"377.277\" y2=\"152.171\" stroke-linecap=\"round\" style=\"stroke:white;stroke-width:4\"/><line x1=\"377.277\" y1=\"152.171\" x2=\"352.29\" y2=\"203.402\" stroke-linecap=\"round\" style=\"stroke:white;stroke-width:4\"/><line x1=\"352.29\" y1=\"203.402\" x2=\"392.438\" y2=\"158.813\" stroke-linecap=\"round\" style=\"stroke:white;stroke-width:4\"/><line x1=\"392.438\" y1=\"158.813\" x2=\"339.511\" y2=\"156.039\" stroke-linecap=\"round\" style=\"stroke:white;stroke-width:4\"/><line x1=\"339.511\" y1=\"156.039\" x2=\"264.439\" y2=\"93.046\" stroke-linecap=\"round\" style=\"stroke:white;stroke-width:4\"/><line x1=\"400\" y1=\"250\" x2=\"320.627\" y2=\"274.267\" stroke-linecap=\"round\" style=\"stroke:white;stroke-width:4\"/><line x1=\"320.627\" y1=\"274.267\" x2=\"313.624\" y2=\"340.9\" stroke-linecap=\"round\" style=\"stroke:white;stroke-width:4\"/><line x1=\"313.624\" y1=\"340.9\" x2=\"234.34\" y2=\"283.297\" stroke-linecap=\"round\" style=\"stroke:white;stroke-width:4\"/><line x1=\"234.34\" y1=\"283.297\" x2=\"285.007\" y2=\"294.994\" stroke-linecap=\"round\" style=\"stroke:white;stroke-width:4\"/><line x1=\"285.007\" y1=\"294.994\" x2=\"255.044\" y2=\"236.188\" stroke-linecap=\"round\" style=\"stroke:white;stroke-width:4\"/><line x1=\"255.044\" y1=\"236.188\" x2=\"286.976\" y2=\"289.332\" stroke-linecap=\"round\" style=\"stroke:white;stroke-width:4\"/><line x1=\"286.976\" y1=\"289.332\" x2=\"193.205\" y2=\"295.889\" stroke-linecap=\"round\" style=\"stroke:white;stroke-width:4\"/><line x1=\"193.205\" y1=\"295.889\" x2=\"159.16\" y2=\"384.579\" stroke-linecap=\"round\" style=\"stroke:white;stroke-width:4\"/><line x1=\"159.16\" y1=\"384.579\" x2=\"135.552\" y2=\"430.911\" stroke-linecap=\"round\" style=\"stroke:white;stroke-width:4\"/><line x1=\"400\" y1=\"250\" x2=\"384.028\" y2=\"180.82\" stroke-linecap=\"round\" style=\"stroke:white;stroke-width:4\"/><line x1=\"384.028\" y1=\"180.82\" x2=\"449.488\" y2=\"244.034\" stroke-linecap=\"round\" style=\"stroke:white;stroke-width:4\"/><line x1=\"449.488\" y1=\"244.034\" x2=\"499.523\" y2=\"212.769\" stroke-linecap=\"round\" style=\"stroke:white;stroke-width:4\"/><line x1=\"499.523\" y1=\"212.769\" x2=\"533.21\" y2=\"300.526\" stroke-linecap=\"round\" style=\"stroke:white;stroke-width:4\"/><line x1=\"533.21\" y1=\"300.526\" x2=\"491.793\" y2=\"389.344\" stroke-linecap=\"round\" style=\"stroke:white;stroke-width:4\"/><line x1=\"491.793\" y1=\"389.344\" x2=\"537.081\" y2=\"418.755\" stroke-linecap=\"round\" style=\"stroke:white;stroke-width:4\"/><line x1=\"400\" y1=\"250\" x2=\"336.739\" y2=\"282.233\" stroke-linecap=\"round\" style=\"stroke:white;stroke-width:4\"/><line x1=\"336.739\" y1=\"282.233\" x2=\"274.098\" y2=\"227.78\" stroke-linecap=\"round\" style=\"stroke:white;stroke-width:4\"/><line x1=\"274.098\" y1=\"227.78\" x2=\"182.224\" y2=\"222.965\" stroke-linecap=\"round\" style=\"stroke:white;stroke-width:4\"/><line x1=\"182.224\" y1=\"222.965\" x2=\"84.358\" y2=\"228.094\" stroke-linecap=\"round\" style=\"stroke:white;stroke-width:4\"/><line x1=\"400\" y1=\"250\" x2=\"319.098\" y2=\"308.779\" stroke-linecap=\"round\" style=\"stroke:white;stroke-width:4\"/><line x1=\"319.098\" y1=\"308.779\" x2=\"310.242\" y2=\"258.554\" stroke-linecap=\"round\" style=\"stroke:white;stroke-width:4\"/><line x1=\"310.242\" y1=\"258.554\" x2=\"256.768\" y2=\"266.069\" stroke-linecap=\"round\" style=\"stroke:white;stroke-width:4\"/><line x1=\"256.768\" y1=\"266.069\" x2=\"234.753\" y2=\"177.772\" stroke-linecap=\"round\" style=\"stroke:white;stroke-width:4\"/><line x1=\"234.753\" y1=\"177.772\" x2=\"232.136\" y2=\"127.841\" stroke-linecap=\"round\" style=\"stroke:white;stroke-width:4\"/><line x1=\"232.136\" y1=\"127.841\" x2=\"155.926\" y2=\"171.841\" stroke-linecap=\"round\" style=\"stroke:white;stroke-width:4\"/><line x1=\"155.926\" y1=\"171.841\" x2=\"163.243\" y2=\"102.224\" stroke-linecap=\"round\" style=\"stroke:white;stroke-width:4\"/><line x1=\"163.243\" y1=\"102.224\" x2=\"169.521\" y2=\"192.005\" stroke-linecap=\"round\" style=\"stroke:white;stroke-width:4\"/><line x1=\"169.521\" y1=\"192.005\" x2=\"235.7\" y2=\"255.914\" stroke-linecap=\"round\" style=\"stroke:white;stroke-width:4\"/><line x1=\"235.7\" y1=\"255.914\" x2=\"153.181\" y2=\"289.254\" stroke-linecap=\"round\" style=\"stroke:white;stroke-width:4\"/><line x1=\"153.181\" y1=\"289.254\" x2=\"76.862\" y2=\"239.692\" stroke-linecap=\"round\" style=\"stroke:white;stroke-width:4\"/>\n",
              "        <g visibility=visible transform=\"rotate(303,400,250) translate(382, 232)\">\n",
              "<path style=\" stroke:none;fill-rule:evenodd;fill:white;fill-opacity:1;\" d=\"M 18.214844 0.632812 C 16.109375 1.800781 15.011719 4.074219 15.074219 7.132812 L 15.085938 7.652344 L 14.785156 7.496094 C 13.476562 6.824219 11.957031 6.671875 10.40625 7.066406 C 8.46875 7.550781 6.515625 9.15625 4.394531 11.992188 C 3.0625 13.777344 2.679688 14.636719 3.042969 15.027344 L 3.15625 15.152344 L 3.519531 15.152344 C 4.238281 15.152344 4.828125 14.886719 8.1875 13.039062 C 9.386719 12.378906 10.371094 11.839844 10.378906 11.839844 C 10.386719 11.839844 10.355469 11.929688 10.304688 12.035156 C 9.832031 13.09375 9.257812 14.820312 8.96875 16.078125 C 7.914062 20.652344 8.617188 24.53125 11.070312 27.660156 C 11.351562 28.015625 11.363281 27.914062 10.972656 28.382812 C 8.925781 30.84375 7.945312 33.28125 8.238281 35.1875 C 8.289062 35.527344 8.28125 35.523438 8.917969 35.523438 C 10.941406 35.523438 13.074219 34.207031 15.136719 31.6875 C 15.359375 31.417969 15.328125 31.425781 15.5625 31.574219 C 16.292969 32.042969 18.023438 32.964844 18.175781 32.964844 C 18.335938 32.964844 19.941406 32.210938 20.828125 31.71875 C 20.996094 31.625 21.136719 31.554688 21.136719 31.558594 C 21.203125 31.664062 21.898438 32.414062 22.222656 32.730469 C 23.835938 34.300781 25.5625 35.132812 27.582031 35.300781 C 27.90625 35.328125 27.9375 35.308594 28.007812 34.984375 C 28.382812 33.242188 27.625 30.925781 25.863281 28.425781 L 25.542969 27.96875 L 25.699219 27.785156 C 28.945312 23.960938 29.132812 18.699219 26.257812 11.96875 L 26.207031 11.84375 L 27.945312 12.703125 C 31.53125 14.476562 32.316406 14.800781 33.03125 14.800781 C 33.976562 14.800781 33.78125 13.9375 32.472656 12.292969 C 28.519531 7.355469 25.394531 5.925781 21.921875 7.472656 L 21.558594 7.636719 L 21.578125 7.542969 C 21.699219 6.992188 21.761719 5.742188 21.699219 5.164062 C 21.496094 3.296875 20.664062 1.964844 19.003906 0.855469 C 18.480469 0.503906 18.457031 0.5 18.214844 0.632812\"/>\n",
              "</g>\n",
              "      </svg>\n",
              "    "
            ]
          },
          "metadata": {}
        },
        {
          "output_type": "stream",
          "name": "stdout",
          "text": [
            "(800, 500)\n",
            "434.979 328.565\n",
            "449.89 377.337\n",
            "366.094 357.991\n",
            "322.155 328.354\n",
            "283.658 400.756\n",
            "가출 (현재 가출횟수 : 1 회)\n",
            "314.901 231.912\n",
            "375.168 207.563\n",
            "403.818 290.769\n",
            "386.375 338.693\n",
            "298.029 321.52\n",
            "226.431 288.133\n",
            "293.149 263.85\n",
            "213.432 313.662\n",
            "196.383 233.454\n",
            "169.686 310.987\n",
            "118.491 263.247\n",
            "32.414 281.543\n",
            "가출 (현재 가출횟수 : 2 회)\n",
            "385.499 324.604\n",
            "427.925 367.03\n",
            "474.467 415.226\n",
            "가출 (현재 가출횟수 : 3 회)\n",
            "454.751 182.388\n",
            "399.693 167.635\n",
            "423.976 234.353\n",
            "332.326 242.371\n",
            "290.608 172.94\n",
            "292.109 258.927\n",
            "225.46 276.786\n",
            "176.601 306.143\n",
            "147.863 367.772\n",
            "54.168 342.667\n",
            "가출 (현재 가출횟수 : 4 회)\n",
            "381.682 155.764\n",
            "332.185 106.267\n",
            "286.147 150.725\n",
            "302.988 229.955\n",
            "215.295 250.201\n",
            "172.921 294.081\n",
            "202.14 221.761\n",
            "175.242 309.741\n",
            "172.101 399.686\n",
            "122.848 462.727\n",
            "가출 (현재 가출횟수 : 5 회)\n",
            "423.176 178.671\n",
            "377.277 152.171\n",
            "352.29 203.402\n",
            "392.438 158.813\n",
            "339.511 156.039\n",
            "264.439 93.046\n",
            "가출 (현재 가출횟수 : 6 회)\n",
            "320.627 274.267\n",
            "313.624 340.9\n",
            "234.34 283.297\n",
            "285.007 294.994\n",
            "255.044 236.188\n",
            "286.976 289.332\n",
            "193.205 295.889\n",
            "159.16 384.579\n",
            "135.552 430.911\n",
            "가출 (현재 가출횟수 : 7 회)\n",
            "384.028 180.82\n",
            "449.488 244.034\n",
            "499.523 212.769\n",
            "533.21 300.526\n",
            "491.793 389.344\n",
            "537.081 418.755\n",
            "가출 (현재 가출횟수 : 8 회)\n",
            "336.739 282.233\n",
            "274.098 227.78\n",
            "182.224 222.965\n",
            "84.358 228.094\n",
            "가출 (현재 가출횟수 : 9 회)\n",
            "319.098 308.779\n",
            "310.242 258.554\n",
            "256.768 266.069\n",
            "234.753 177.772\n",
            "232.136 127.841\n",
            "155.926 171.841\n",
            "163.243 102.224\n",
            "169.521 192.005\n",
            "235.7 255.914\n",
            "153.181 289.254\n",
            "76.862 239.692\n",
            "가출 (현재 가출횟수 : 10 회)\n",
            "이동을 한 회수는 76 회 입니다.\n"
          ]
        }
      ]
    },
    {
      "cell_type": "code",
      "source": [
        "#!pip3 install ColabTurtle\n",
        "import ColabTurtle.Turtle as turtle\n",
        "import random\n",
        "\n",
        "if n > 0:\n",
        "  n = 0\n",
        "\n",
        "turtle.initializeTurtle()\n",
        "print(turtle.DEFAULT_WINDOW_SIZE)\n",
        "turtle.left(90)\n",
        "while True :\n",
        "  turtle.left(random.randint(0,360))\n",
        "  turtle.forward(500)\n",
        "  if ((turtle.getx() > 700 or turtle.gety() > 400)) or ((turtle.getx() < 100 or turtle.gety() < 100)):\n",
        "    turtle.penup()\n",
        "    turtle.setx(400)\n",
        "    turtle.sety(250)\n",
        "    turtle.color((random.randint(0,255)),(random.randint(0,255)),(random.randint(0,255)))\n",
        "    turtle.pendown()\n",
        "    n = n + 1\n",
        "    if n >= 100 :\n",
        "      break"
      ],
      "metadata": {
        "colab": {
          "base_uri": "https://localhost:8080/",
          "height": 538
        },
        "id": "FxxA-tvDqUvP",
        "outputId": "01f9cb59-fa4b-4511-b43d-d9c152b9722c"
      },
      "execution_count": 156,
      "outputs": [
        {
          "output_type": "display_data",
          "data": {
            "text/plain": [
              "<IPython.core.display.HTML object>"
            ],
            "text/html": [
              "\n",
              "      <svg width=\"800\" height=\"500\">\n",
              "        <rect width=\"100%\" height=\"100%\" fill=\"black\"/>\n",
              "        <line x1=\"400\" y1=\"250\" x2=\"898.097\" y2=\"206.422\" stroke-linecap=\"round\" style=\"stroke:white;stroke-width:4\"/><line x1=\"400\" y1=\"250\" x2=\"571.01\" y2=\"719.846\" stroke-linecap=\"round\" style=\"stroke:rgb(206,238,120);stroke-width:4\"/><line x1=\"400\" y1=\"250\" x2=\"650.0\" y2=\"-183.013\" stroke-linecap=\"round\" style=\"stroke:rgb(243,16,109);stroke-width:4\"/><line x1=\"400\" y1=\"250\" x2=\"-99.924\" y2=\"258.726\" stroke-linecap=\"round\" style=\"stroke:rgb(197,17,95);stroke-width:4\"/><line x1=\"400\" y1=\"250\" x2=\"460.935\" y2=\"746.273\" stroke-linecap=\"round\" style=\"stroke:rgb(17,211,177);stroke-width:4\"/><line x1=\"400\" y1=\"250\" x2=\"469.587\" y2=\"-245.134\" stroke-linecap=\"round\" style=\"stroke:rgb(223,213,0);stroke-width:4\"/><line x1=\"400\" y1=\"250\" x2=\"-63.592\" y2=\"62.697\" stroke-linecap=\"round\" style=\"stroke:rgb(68,184,3);stroke-width:4\"/><line x1=\"400\" y1=\"250\" x2=\"-80.631\" y2=\"112.181\" stroke-linecap=\"round\" style=\"stroke:rgb(52,95,162);stroke-width:4\"/><line x1=\"400\" y1=\"250\" x2=\"-80.631\" y2=\"112.181\" stroke-linecap=\"round\" style=\"stroke:rgb(70,69,214);stroke-width:4\"/><line x1=\"400\" y1=\"250\" x2=\"875.528\" y2=\"95.492\" stroke-linecap=\"round\" style=\"stroke:rgb(39,196,79);stroke-width:4\"/><line x1=\"400\" y1=\"250\" x2=\"672.32\" y2=\"-169.335\" stroke-linecap=\"round\" style=\"stroke:rgb(38,189,51);stroke-width:4\"/><line x1=\"400\" y1=\"250\" x2=\"626.995\" y2=\"-195.503\" stroke-linecap=\"round\" style=\"stroke:rgb(171,111,121);stroke-width:4\"/><line x1=\"400\" y1=\"250\" x2=\"880.631\" y2=\"112.181\" stroke-linecap=\"round\" style=\"stroke:rgb(225,208,54);stroke-width:4\"/><line x1=\"400\" y1=\"250\" x2=\"-98.097\" y2=\"206.422\" stroke-linecap=\"round\" style=\"stroke:rgb(12,41,91);stroke-width:4\"/><line x1=\"400\" y1=\"250\" x2=\"828.584\" y2=\"507.519\" stroke-linecap=\"round\" style=\"stroke:rgb(103,25,130);stroke-width:4\"/><line x1=\"400\" y1=\"250\" x2=\"-14.519\" y2=\"-29.596\" stroke-linecap=\"round\" style=\"stroke:rgb(158,149,185);stroke-width:4\"/><line x1=\"400\" y1=\"250\" x2=\"237.216\" y2=\"-222.759\" stroke-linecap=\"round\" style=\"stroke:rgb(37,248,22);stroke-width:4\"/><line x1=\"400\" y1=\"250\" x2=\"321.783\" y2=\"-243.844\" stroke-linecap=\"round\" style=\"stroke:rgb(148,110,76);stroke-width:4\"/><line x1=\"400\" y1=\"250\" x2=\"106.107\" y2=\"654.508\" stroke-linecap=\"round\" style=\"stroke:rgb(109,89,103);stroke-width:4\"/><line x1=\"400\" y1=\"250\" x2=\"849.397\" y2=\"469.186\" stroke-linecap=\"round\" style=\"stroke:rgb(55,163,82);stroke-width:4\"/><line x1=\"400\" y1=\"250\" x2=\"-69.846\" y2=\"78.99\" stroke-linecap=\"round\" style=\"stroke:rgb(229,175,244);stroke-width:4\"/><line x1=\"400\" y1=\"250\" x2=\"478.217\" y2=\"743.844\" stroke-linecap=\"round\" style=\"stroke:rgb(162,189,104);stroke-width:4\"/><line x1=\"400\" y1=\"250\" x2=\"478.217\" y2=\"-243.844\" stroke-linecap=\"round\" style=\"stroke:rgb(13,120,255);stroke-width:4\"/><line x1=\"400\" y1=\"250\" x2=\"-19.335\" y2=\"-22.32\" stroke-linecap=\"round\" style=\"stroke:rgb(204,18,114);stroke-width:4\"/><line x1=\"400\" y1=\"250\" x2=\"-97.261\" y2=\"197.736\" stroke-linecap=\"round\" style=\"stroke:rgb(77,100,58);stroke-width:4\"/><line x1=\"400\" y1=\"250\" x2=\"860.252\" y2=\"54.634\" stroke-linecap=\"round\" style=\"stroke:rgb(57,242,209);stroke-width:4\"/><line x1=\"400\" y1=\"250\" x2=\"587.303\" y2=\"-213.592\" stroke-linecap=\"round\" style=\"stroke:rgb(200,14,84);stroke-width:4\"/><line x1=\"400\" y1=\"250\" x2=\"714.66\" y2=\"-138.573\" stroke-linecap=\"round\" style=\"stroke:rgb(67,153,55);stroke-width:4\"/><line x1=\"400\" y1=\"250\" x2=\"495.404\" y2=\"740.814\" stroke-linecap=\"round\" style=\"stroke:rgb(153,126,116);stroke-width:4\"/><line x1=\"400\" y1=\"250\" x2=\"262.181\" y2=\"730.631\" stroke-linecap=\"round\" style=\"stroke:rgb(238,128,255);stroke-width:4\"/><line x1=\"400\" y1=\"250\" x2=\"443.578\" y2=\"748.097\" stroke-linecap=\"round\" style=\"stroke:rgb(5,204,83);stroke-width:4\"/><line x1=\"400\" y1=\"250\" x2=\"809.576\" y2=\"536.788\" stroke-linecap=\"round\" style=\"stroke:rgb(81,195,108);stroke-width:4\"/><line x1=\"400\" y1=\"250\" x2=\"426.168\" y2=\"749.315\" stroke-linecap=\"round\" style=\"stroke:rgb(138,142,77);stroke-width:4\"/><line x1=\"400\" y1=\"250\" x2=\"895.134\" y2=\"319.587\" stroke-linecap=\"round\" style=\"stroke:rgb(150,34,3);stroke-width:4\"/><line x1=\"400\" y1=\"250\" x2=\"365.122\" y2=\"-248.782\" stroke-linecap=\"round\" style=\"stroke:rgb(112,59,250);stroke-width:4\"/><line x1=\"400\" y1=\"250\" x2=\"-75.528\" y2=\"404.508\" stroke-linecap=\"round\" style=\"stroke:rgb(150,165,57);stroke-width:4\"/><line x1=\"400\" y1=\"250\" x2=\"452.264\" y2=\"-247.261\" stroke-linecap=\"round\" style=\"stroke:rgb(40,52,160);stroke-width:4\"/><line x1=\"400\" y1=\"250\" x2=\"40.33\" y2=\"597.329\" stroke-linecap=\"round\" style=\"stroke:rgb(127,233,159);stroke-width:4\"/><line x1=\"400\" y1=\"250\" x2=\"799.318\" y2=\"-50.908\" stroke-linecap=\"round\" style=\"stroke:rgb(108,111,96);stroke-width:4\"/><line x1=\"400\" y1=\"250\" x2=\"434.878\" y2=\"748.782\" stroke-linecap=\"round\" style=\"stroke:rgb(107,146,101);stroke-width:4\"/><line x1=\"400\" y1=\"250\" x2=\"-90.814\" y2=\"154.596\" stroke-linecap=\"round\" style=\"stroke:rgb(35,213,58);stroke-width:4\"/><line x1=\"400\" y1=\"250\" x2=\"734.565\" y2=\"-121.572\" stroke-linecap=\"round\" style=\"stroke:rgb(72,64,180);stroke-width:4\"/><line x1=\"400\" y1=\"250\" x2=\"135.04\" y2=\"-174.024\" stroke-linecap=\"round\" style=\"stroke:rgb(14,241,3);stroke-width:4\"/><line x1=\"400\" y1=\"250\" x2=\"150.0\" y2=\"-183.013\" stroke-linecap=\"round\" style=\"stroke:rgb(212,26,92);stroke-width:4\"/><line x1=\"400\" y1=\"250\" x2=\"899.315\" y2=\"223.832\" stroke-linecap=\"round\" style=\"stroke:rgb(113,253,240);stroke-width:4\"/><line x1=\"400\" y1=\"250\" x2=\"611.309\" y2=\"703.154\" stroke-linecap=\"round\" style=\"stroke:rgb(153,125,161);stroke-width:4\"/><line x1=\"400\" y1=\"250\" x2=\"330.413\" y2=\"-245.134\" stroke-linecap=\"round\" style=\"stroke:rgb(136,193,9);stroke-width:4\"/><line x1=\"400\" y1=\"250\" x2=\"895.134\" y2=\"180.413\" stroke-linecap=\"round\" style=\"stroke:rgb(212,31,142);stroke-width:4\"/><line x1=\"400\" y1=\"250\" x2=\"188.691\" y2=\"703.154\" stroke-linecap=\"round\" style=\"stroke:rgb(203,249,203);stroke-width:4\"/><line x1=\"400\" y1=\"250\" x2=\"875.528\" y2=\"404.508\" stroke-linecap=\"round\" style=\"stroke:rgb(164,205,44);stroke-width:4\"/><line x1=\"400\" y1=\"250\" x2=\"845.503\" y2=\"476.995\" stroke-linecap=\"round\" style=\"stroke:rgb(166,88,72);stroke-width:4\"/><line x1=\"400\" y1=\"250\" x2=\"783.022\" y2=\"571.394\" stroke-linecap=\"round\" style=\"stroke:rgb(141,178,216);stroke-width:4\"/><line x1=\"400\" y1=\"250\" x2=\"71.97\" y2=\"-127.355\" stroke-linecap=\"round\" style=\"stroke:rgb(60,200,217);stroke-width:4\"/><line x1=\"400\" y1=\"250\" x2=\"-9.576\" y2=\"536.788\" stroke-linecap=\"round\" style=\"stroke:rgb(166,135,0);stroke-width:4\"/><line x1=\"400\" y1=\"250\" x2=\"878.152\" y2=\"396.186\" stroke-linecap=\"round\" style=\"stroke:rgb(232,62,9);stroke-width:4\"/><line x1=\"400\" y1=\"250\" x2=\"-66.79\" y2=\"429.184\" stroke-linecap=\"round\" style=\"stroke:rgb(151,129,111);stroke-width:4\"/><line x1=\"400\" y1=\"250\" x2=\"237.216\" y2=\"-222.759\" stroke-linecap=\"round\" style=\"stroke:rgb(151,84,200);stroke-width:4\"/><line x1=\"400\" y1=\"250\" x2=\"-49.397\" y2=\"30.814\" stroke-linecap=\"round\" style=\"stroke:rgb(254,212,244);stroke-width:4\"/><line x1=\"400\" y1=\"250\" x2=\"113.212\" y2=\"-159.576\" stroke-linecap=\"round\" style=\"stroke:rgb(230,21,244);stroke-width:4\"/><line x1=\"400\" y1=\"250\" x2=\"330.413\" y2=\"745.134\" stroke-linecap=\"round\" style=\"stroke:rgb(158,169,53);stroke-width:4\"/><line x1=\"400\" y1=\"250\" x2=\"853.154\" y2=\"461.309\" stroke-linecap=\"round\" style=\"stroke:rgb(160,107,115);stroke-width:4\"/><line x1=\"400\" y1=\"250\" x2=\"892.404\" y2=\"336.824\" stroke-linecap=\"round\" style=\"stroke:rgb(119,18,27);stroke-width:4\"/><line x1=\"400\" y1=\"250\" x2=\"-45.503\" y2=\"23.005\" stroke-linecap=\"round\" style=\"stroke:rgb(100,200,209);stroke-width:4\"/><line x1=\"400\" y1=\"250\" x2=\"595.366\" y2=\"710.252\" stroke-linecap=\"round\" style=\"stroke:rgb(234,124,26);stroke-width:4\"/><line x1=\"400\" y1=\"250\" x2=\"135.04\" y2=\"-174.024\" stroke-linecap=\"round\" style=\"stroke:rgb(57,144,109);stroke-width:4\"/><line x1=\"400\" y1=\"250\" x2=\"-97.261\" y2=\"302.264\" stroke-linecap=\"round\" style=\"stroke:rgb(169,251,148);stroke-width:4\"/><line x1=\"400\" y1=\"250\" x2=\"747.329\" y2=\"609.67\" stroke-linecap=\"round\" style=\"stroke:rgb(111,151,221);stroke-width:4\"/><line x1=\"400\" y1=\"250\" x2=\"173.005\" y2=\"-195.503\" stroke-linecap=\"round\" style=\"stroke:rgb(108,158,196);stroke-width:4\"/><line x1=\"400\" y1=\"250\" x2=\"824.024\" y2=\"514.96\" stroke-linecap=\"round\" style=\"stroke:rgb(190,174,146);stroke-width:4\"/><line x1=\"400\" y1=\"250\" x2=\"-66.79\" y2=\"429.184\" stroke-linecap=\"round\" style=\"stroke:rgb(175,53,5);stroke-width:4\"/><line x1=\"400\" y1=\"250\" x2=\"106.107\" y2=\"654.508\" stroke-linecap=\"round\" style=\"stroke:rgb(68,143,53);stroke-width:4\"/><line x1=\"400\" y1=\"250\" x2=\"579.184\" y2=\"-216.79\" stroke-linecap=\"round\" style=\"stroke:rgb(56,58,25);stroke-width:4\"/><line x1=\"400\" y1=\"250\" x2=\"554.508\" y2=\"-225.528\" stroke-linecap=\"round\" style=\"stroke:rgb(236,68,70);stroke-width:4\"/><line x1=\"400\" y1=\"250\" x2=\"-56.773\" y2=\"453.368\" stroke-linecap=\"round\" style=\"stroke:rgb(144,84,244);stroke-width:4\"/><line x1=\"400\" y1=\"250\" x2=\"373.832\" y2=\"-249.315\" stroke-linecap=\"round\" style=\"stroke:rgb(129,204,195);stroke-width:4\"/><line x1=\"400\" y1=\"250\" x2=\"434.878\" y2=\"748.782\" stroke-linecap=\"round\" style=\"stroke:rgb(113,3,75);stroke-width:4\"/><line x1=\"400\" y1=\"250\" x2=\"434.878\" y2=\"-248.782\" stroke-linecap=\"round\" style=\"stroke:rgb(87,9,151);stroke-width:4\"/><line x1=\"400\" y1=\"250\" x2=\"728.03\" y2=\"-127.355\" stroke-linecap=\"round\" style=\"stroke:rgb(55,132,2);stroke-width:4\"/><line x1=\"400\" y1=\"250\" x2=\"562.784\" y2=\"722.759\" stroke-linecap=\"round\" style=\"stroke:rgb(208,145,103);stroke-width:4\"/><line x1=\"400\" y1=\"250\" x2=\"529.41\" y2=\"-232.963\" stroke-linecap=\"round\" style=\"stroke:rgb(133,158,15);stroke-width:4\"/><line x1=\"400\" y1=\"250\" x2=\"833.013\" y2=\"500.0\" stroke-linecap=\"round\" style=\"stroke:rgb(194,170,20);stroke-width:4\"/><line x1=\"400\" y1=\"250\" x2=\"417.45\" y2=\"749.695\" stroke-linecap=\"round\" style=\"stroke:rgb(16,52,187);stroke-width:4\"/><line x1=\"400\" y1=\"250\" x2=\"824.024\" y2=\"514.96\" stroke-linecap=\"round\" style=\"stroke:rgb(82,76,160);stroke-width:4\"/><line x1=\"400\" y1=\"250\" x2=\"634.736\" y2=\"691.474\" stroke-linecap=\"round\" style=\"stroke:rgb(139,71,201);stroke-width:4\"/><line x1=\"400\" y1=\"250\" x2=\"804.508\" y2=\"-43.893\" stroke-linecap=\"round\" style=\"stroke:rgb(19,213,146);stroke-width:4\"/><line x1=\"400\" y1=\"250\" x2=\"165.264\" y2=\"691.474\" stroke-linecap=\"round\" style=\"stroke:rgb(253,84,28);stroke-width:4\"/><line x1=\"400\" y1=\"250\" x2=\"-28.584\" y2=\"-7.519\" stroke-linecap=\"round\" style=\"stroke:rgb(94,65,249);stroke-width:4\"/><line x1=\"400\" y1=\"250\" x2=\"52.671\" y2=\"-109.67\" stroke-linecap=\"round\" style=\"stroke:rgb(44,201,249);stroke-width:4\"/><line x1=\"400\" y1=\"250\" x2=\"866.79\" y2=\"70.816\" stroke-linecap=\"round\" style=\"stroke:rgb(118,16,228);stroke-width:4\"/><line x1=\"400\" y1=\"250\" x2=\"-14.519\" y2=\"-29.596\" stroke-linecap=\"round\" style=\"stroke:rgb(4,87,90);stroke-width:4\"/><line x1=\"400\" y1=\"250\" x2=\"85.34\" y2=\"-138.573\" stroke-linecap=\"round\" style=\"stroke:rgb(167,155,53);stroke-width:4\"/><line x1=\"400\" y1=\"250\" x2=\"382.55\" y2=\"749.695\" stroke-linecap=\"round\" style=\"stroke:rgb(81,189,56);stroke-width:4\"/><line x1=\"400\" y1=\"250\" x2=\"893.844\" y2=\"171.783\" stroke-linecap=\"round\" style=\"stroke:rgb(171,183,108);stroke-width:4\"/><line x1=\"400\" y1=\"250\" x2=\"-99.924\" y2=\"258.726\" stroke-linecap=\"round\" style=\"stroke:rgb(191,200,220);stroke-width:4\"/><line x1=\"400\" y1=\"250\" x2=\"-9.576\" y2=\"536.788\" stroke-linecap=\"round\" style=\"stroke:rgb(144,159,70);stroke-width:4\"/><line x1=\"400\" y1=\"250\" x2=\"898.097\" y2=\"293.578\" stroke-linecap=\"round\" style=\"stroke:rgb(155,49,125);stroke-width:4\"/><line x1=\"400\" y1=\"250\" x2=\"520.961\" y2=\"-235.148\" stroke-linecap=\"round\" style=\"stroke:rgb(201,120,228);stroke-width:4\"/><line x1=\"400\" y1=\"250\" x2=\"554.508\" y2=\"-225.528\" stroke-linecap=\"round\" style=\"stroke:rgb(53,32,20);stroke-width:4\"/><line x1=\"400\" y1=\"250\" x2=\"85.34\" y2=\"638.573\" stroke-linecap=\"round\" style=\"stroke:rgb(0,204,220);stroke-width:4\"/><line x1=\"400\" y1=\"250\" x2=\"-96.273\" y2=\"310.935\" stroke-linecap=\"round\" style=\"stroke:rgb(246,61,184);stroke-width:4\"/>\n",
              "        <g visibility=visible transform=\"rotate(263,400,250) translate(382, 232)\">\n",
              "<path style=\" stroke:none;fill-rule:evenodd;fill:rgb(68,116,204);fill-opacity:1;\" d=\"M 18.214844 0.632812 C 16.109375 1.800781 15.011719 4.074219 15.074219 7.132812 L 15.085938 7.652344 L 14.785156 7.496094 C 13.476562 6.824219 11.957031 6.671875 10.40625 7.066406 C 8.46875 7.550781 6.515625 9.15625 4.394531 11.992188 C 3.0625 13.777344 2.679688 14.636719 3.042969 15.027344 L 3.15625 15.152344 L 3.519531 15.152344 C 4.238281 15.152344 4.828125 14.886719 8.1875 13.039062 C 9.386719 12.378906 10.371094 11.839844 10.378906 11.839844 C 10.386719 11.839844 10.355469 11.929688 10.304688 12.035156 C 9.832031 13.09375 9.257812 14.820312 8.96875 16.078125 C 7.914062 20.652344 8.617188 24.53125 11.070312 27.660156 C 11.351562 28.015625 11.363281 27.914062 10.972656 28.382812 C 8.925781 30.84375 7.945312 33.28125 8.238281 35.1875 C 8.289062 35.527344 8.28125 35.523438 8.917969 35.523438 C 10.941406 35.523438 13.074219 34.207031 15.136719 31.6875 C 15.359375 31.417969 15.328125 31.425781 15.5625 31.574219 C 16.292969 32.042969 18.023438 32.964844 18.175781 32.964844 C 18.335938 32.964844 19.941406 32.210938 20.828125 31.71875 C 20.996094 31.625 21.136719 31.554688 21.136719 31.558594 C 21.203125 31.664062 21.898438 32.414062 22.222656 32.730469 C 23.835938 34.300781 25.5625 35.132812 27.582031 35.300781 C 27.90625 35.328125 27.9375 35.308594 28.007812 34.984375 C 28.382812 33.242188 27.625 30.925781 25.863281 28.425781 L 25.542969 27.96875 L 25.699219 27.785156 C 28.945312 23.960938 29.132812 18.699219 26.257812 11.96875 L 26.207031 11.84375 L 27.945312 12.703125 C 31.53125 14.476562 32.316406 14.800781 33.03125 14.800781 C 33.976562 14.800781 33.78125 13.9375 32.472656 12.292969 C 28.519531 7.355469 25.394531 5.925781 21.921875 7.472656 L 21.558594 7.636719 L 21.578125 7.542969 C 21.699219 6.992188 21.761719 5.742188 21.699219 5.164062 C 21.496094 3.296875 20.664062 1.964844 19.003906 0.855469 C 18.480469 0.503906 18.457031 0.5 18.214844 0.632812\"/>\n",
              "</g>\n",
              "      </svg>\n",
              "    "
            ]
          },
          "metadata": {}
        },
        {
          "output_type": "stream",
          "name": "stdout",
          "text": [
            "(800, 500)\n"
          ]
        }
      ]
    },
    {
      "cell_type": "code",
      "source": [],
      "metadata": {
        "id": "CvabX11Qz8gQ"
      },
      "execution_count": 149,
      "outputs": []
    }
  ]
}