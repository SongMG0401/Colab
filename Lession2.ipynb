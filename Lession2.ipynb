{
  "nbformat": 4,
  "nbformat_minor": 0,
  "metadata": {
    "colab": {
      "name": "Lession2.ipynb",
      "provenance": [],
      "collapsed_sections": [],
      "authorship_tag": "ABX9TyM8/fUNGl7Di7018B29qhdi",
      "include_colab_link": true
    },
    "kernelspec": {
      "name": "python3",
      "display_name": "Python 3"
    },
    "language_info": {
      "name": "python"
    }
  },
  "cells": [
    {
      "cell_type": "markdown",
      "metadata": {
        "id": "view-in-github",
        "colab_type": "text"
      },
      "source": [
        "<a href=\"https://colab.research.google.com/github/SongMG0401/Colab/blob/main/Lession2.ipynb\" target=\"_parent\"><img src=\"https://colab.research.google.com/assets/colab-badge.svg\" alt=\"Open In Colab\"/></a>"
      ]
    },
    {
      "cell_type": "markdown",
      "source": [
        "파이썬 2장"
      ],
      "metadata": {
        "id": "2Co8Ri-zB_Fd"
      }
    },
    {
      "cell_type": "markdown",
      "source": [
        "  간단한 예제"
      ],
      "metadata": {
        "id": "Gt5E01jREHHl"
      }
    },
    {
      "cell_type": "code",
      "execution_count": null,
      "metadata": {
        "colab": {
          "base_uri": "https://localhost:8080/"
        },
        "id": "8mMtUu5TB01U",
        "outputId": "913400d5-3c87-495e-c0ee-a1b662bcc64f"
      },
      "outputs": [
        {
          "output_type": "stream",
          "name": "stdout",
          "text": [
            "100 + 200 = 300\n",
            "100 - 200 = -100\n",
            "100 * 200 = 20000\n",
            "100 / 200 = 0.5\n"
          ]
        }
      ],
      "source": [
        "a = 100\n",
        "b = 200\n",
        "\n",
        "print(a, \"+\" ,b ,\"=\", a+b)\n",
        "print(a, \"-\" ,b ,\"=\", a-b)\n",
        "print(a, \"*\" ,b ,\"=\", a*b)\n",
        "print(a, \"/\" ,b ,\"=\", a/b)"
      ]
    },
    {
      "cell_type": "markdown",
      "source": [
        "INPUT() 함수 예제"
      ],
      "metadata": {
        "id": "Paxys_TFGhMV"
      }
    },
    {
      "cell_type": "code",
      "source": [
        "a = int(input(\"첫번째 숫자 입력 => \"))\n",
        "b = int(input(\"두번째 숫자 입력 => \"))\n",
        "\n",
        "print(a, \"+\" ,b ,\"=\", a+b)\n",
        "print(a, \"-\" ,b ,\"=\", a-b)\n",
        "print(a, \"*\" ,b ,\"=\", a*b)\n",
        "print(a, \"/\" ,b ,\"=\", a/b)"
      ],
      "metadata": {
        "colab": {
          "base_uri": "https://localhost:8080/"
        },
        "id": "pmUz8r4cDuFc",
        "outputId": "72a35ee4-eb91-45e7-b30d-438bd26d4654"
      },
      "execution_count": null,
      "outputs": [
        {
          "output_type": "stream",
          "name": "stdout",
          "text": [
            "첫번째 숫자 => 100\n",
            "두번째 숫자 => 200\n",
            "100 + 200 = 300\n",
            "100 - 200 = -100\n",
            "100 * 200 = 20000\n",
            "100 / 200 = 0.5\n"
          ]
        }
      ]
    },
    {
      "cell_type": "markdown",
      "source": [
        "INPUT() 함수를 이용한 간단한 계산기"
      ],
      "metadata": {
        "id": "-ThAVoMHJQZU"
      }
    },
    {
      "cell_type": "code",
      "source": [
        "print(\"** 논술형 문제 - input()함수를 이용한 간단한 계산기 **\")\n",
        "a = float(input(\"첫번째 숫자를 입력 : \"))\n",
        "b = float(input(\"두번째 숫자를 입력 : \"))\n",
        "\n",
        "print(a, \"+\" ,b ,\"=\", a+b)\n",
        "print(a, \"-\" ,b ,\"=\", a-b)\n",
        "print(a, \"*\" ,b ,\"=\", a*b)\n",
        "print(a, \"/\" ,b ,\"=\", a/b)"
      ],
      "metadata": {
        "colab": {
          "base_uri": "https://localhost:8080/"
        },
        "id": "SEDxa0aNJV9d",
        "outputId": "76912abc-dd4d-43ef-9aef-d1d0caeb86d7"
      },
      "execution_count": null,
      "outputs": [
        {
          "output_type": "stream",
          "name": "stdout",
          "text": [
            "** 논술형 문제 - input()함수를 이용한 간단한 계산기 **\n",
            "첫번째 숫자 입력 => 100\n",
            "두번째 숫자 입력 => 200\n",
            "100.0 + 200.0 = 300.0\n",
            "100.0 - 200.0 = -100.0\n",
            "100.0 * 200.0 = 20000.0\n",
            "100.0 / 200.0 = 0.5\n"
          ]
        }
      ]
    },
    {
      "cell_type": "code",
      "source": [
        "a = input(\"이름을 입력하세요 : \")\n",
        "b = input(\"전화번호를 입력하세요 : \")\n",
        "\n",
        "print(\"제 이름은 \", a, \"이고, 연락처는\", b, \"입니다.\")"
      ],
      "metadata": {
        "colab": {
          "base_uri": "https://localhost:8080/"
        },
        "id": "cA-_8XX8Jxrj",
        "outputId": "709558a7-2eb1-4ff3-aaf2-be16624ce7f9"
      },
      "execution_count": null,
      "outputs": [
        {
          "output_type": "stream",
          "name": "stdout",
          "text": [
            "이름을 입력하세요 : 난처르\n",
            "전화번호를 입력하세요 : 01012341234\n",
            "제 이름은  난처르 이고, 연락처는 01012341234 입니다.\n"
          ]
        }
      ]
    },
    {
      "cell_type": "code",
      "source": [
        "print(\"## 택배를 보내기 위한 정보를 입력하세요. ##\")\n",
        "a = input(\"받는사람 : \")\n",
        "b = input(\"주소 : \")\n",
        "c = int(input(\"무게(g) : \"))\n",
        "print(\"** 받는 사람 ==>  \", a)\n",
        "print(\"** 주소 ==> \", b)\n",
        "print(\"** 배송비 ==> \", c*5,\"원\")"
      ],
      "metadata": {
        "colab": {
          "base_uri": "https://localhost:8080/"
        },
        "id": "LRfKIHp5PfyM",
        "outputId": "ef529fd8-7eb0-4fe1-b036-b8613ee12ec4"
      },
      "execution_count": null,
      "outputs": [
        {
          "output_type": "stream",
          "name": "stdout",
          "text": [
            "## 택배를 보내기 위한 정보를 입력하세요. ##\n",
            "받는사람 : 김난생\n",
            "주소 : 1234\n",
            "무게(g) : 5\n",
            "** 받는 사람 ==>   김난생\n",
            "** 주소 ==>  1234\n",
            "** 배송비 ==>  25 원\n"
          ]
        }
      ]
    },
    {
      "cell_type": "code",
      "source": [
        "a = int(input(\"숫자1 ==> : \"))\n",
        "b = int(input(\"숫자2 ==> : \"))\n",
        "\n",
        "print(a, \"+\" ,b ,\"=\", a+b)\n",
        "print(a, \"-\" ,b ,\"=\", a-b)\n",
        "print(a, \"*\" ,b ,\"=\", a*b)\n",
        "print(a, \"/\" ,b ,\"=\", a/b)\n",
        "print(a, \"//\" ,b ,\"=\", a//b)\n",
        "print(a, \"%\" ,b ,\"=\", a%b)\n",
        "print(a, \"**\" ,b ,\"=\", a**b)"
      ],
      "metadata": {
        "colab": {
          "base_uri": "https://localhost:8080/"
        },
        "id": "kuN6A_s-Rgiy",
        "outputId": "e043beeb-a435-4504-f734-66eb0b91db74"
      },
      "execution_count": null,
      "outputs": [
        {
          "output_type": "stream",
          "name": "stdout",
          "text": [
            "숫자1 ==> : 100\n",
            "숫자2 ==> : 10\n",
            "100 + 10 = 110\n",
            "100 - 10 = 90\n",
            "100 * 10 = 1000\n",
            "100 / 10 = 10.0\n",
            "100 // 10 = 10\n",
            "100 % 10 = 0\n",
            "100 ** 10 = 100000000000000000000\n"
          ]
        }
      ]
    },
    {
      "cell_type": "markdown",
      "source": [
        "거북이 예제"
      ],
      "metadata": {
        "id": "YYRvAHIaWE6z"
      }
    },
    {
      "cell_type": "code",
      "source": [
        "#!pip3 install ColabTurtle\n",
        "import ColabTurtle.Turtle as turtle\n",
        "\n",
        "turtle.initializeTurtle()\n",
        "turtle.forward(100)\n",
        "turtle.left(143)\n",
        "turtle.forward(100)\n",
        "turtle.left(143)\n",
        "turtle.forward(100)\n",
        "turtle.left(143)\n",
        "turtle.forward(100)\n",
        "turtle.left(143)\n",
        "turtle.forward(100)"
      ],
      "metadata": {
        "colab": {
          "base_uri": "https://localhost:8080/",
          "height": 751
        },
        "id": "Gs0JHFH0TfsZ",
        "outputId": "26d8d52f-4428-4b32-b7e8-1cadb0e6b676"
      },
      "execution_count": null,
      "outputs": [
        {
          "output_type": "display_data",
          "data": {
            "text/plain": [
              "<IPython.core.display.HTML object>"
            ],
            "text/html": [
              "\n",
              "      <svg width=\"800\" height=\"500\">\n",
              "        <rect width=\"100%\" height=\"100%\" fill=\"black\"/>\n",
              "        <line x1=\"400\" y1=\"250\" x2=\"400.0\" y2=\"150.0\" stroke-linecap=\"round\" style=\"stroke:white;stroke-width:4\"/><line x1=\"400.0\" y1=\"150.0\" x2=\"339.818\" y2=\"229.864\" stroke-linecap=\"round\" style=\"stroke:white;stroke-width:4\"/><line x1=\"339.818\" y1=\"229.864\" x2=\"435.944\" y2=\"202.3\" stroke-linecap=\"round\" style=\"stroke:white;stroke-width:4\"/><line x1=\"435.944\" y1=\"202.3\" x2=\"342.586\" y2=\"166.463\" stroke-linecap=\"round\" style=\"stroke:white;stroke-width:4\"/><line x1=\"342.586\" y1=\"166.463\" x2=\"395.578\" y2=\"251.268\" stroke-linecap=\"round\" style=\"stroke:white;stroke-width:4\"/>\n",
              "        <g visibility=visible transform=\"rotate(148,395.578,251.268) translate(377.578, 233.268)\">\n",
              "<path style=\" stroke:none;fill-rule:evenodd;fill:white;fill-opacity:1;\" d=\"M 18.214844 0.632812 C 16.109375 1.800781 15.011719 4.074219 15.074219 7.132812 L 15.085938 7.652344 L 14.785156 7.496094 C 13.476562 6.824219 11.957031 6.671875 10.40625 7.066406 C 8.46875 7.550781 6.515625 9.15625 4.394531 11.992188 C 3.0625 13.777344 2.679688 14.636719 3.042969 15.027344 L 3.15625 15.152344 L 3.519531 15.152344 C 4.238281 15.152344 4.828125 14.886719 8.1875 13.039062 C 9.386719 12.378906 10.371094 11.839844 10.378906 11.839844 C 10.386719 11.839844 10.355469 11.929688 10.304688 12.035156 C 9.832031 13.09375 9.257812 14.820312 8.96875 16.078125 C 7.914062 20.652344 8.617188 24.53125 11.070312 27.660156 C 11.351562 28.015625 11.363281 27.914062 10.972656 28.382812 C 8.925781 30.84375 7.945312 33.28125 8.238281 35.1875 C 8.289062 35.527344 8.28125 35.523438 8.917969 35.523438 C 10.941406 35.523438 13.074219 34.207031 15.136719 31.6875 C 15.359375 31.417969 15.328125 31.425781 15.5625 31.574219 C 16.292969 32.042969 18.023438 32.964844 18.175781 32.964844 C 18.335938 32.964844 19.941406 32.210938 20.828125 31.71875 C 20.996094 31.625 21.136719 31.554688 21.136719 31.558594 C 21.203125 31.664062 21.898438 32.414062 22.222656 32.730469 C 23.835938 34.300781 25.5625 35.132812 27.582031 35.300781 C 27.90625 35.328125 27.9375 35.308594 28.007812 34.984375 C 28.382812 33.242188 27.625 30.925781 25.863281 28.425781 L 25.542969 27.96875 L 25.699219 27.785156 C 28.945312 23.960938 29.132812 18.699219 26.257812 11.96875 L 26.207031 11.84375 L 27.945312 12.703125 C 31.53125 14.476562 32.316406 14.800781 33.03125 14.800781 C 33.976562 14.800781 33.78125 13.9375 32.472656 12.292969 C 28.519531 7.355469 25.394531 5.925781 21.921875 7.472656 L 21.558594 7.636719 L 21.578125 7.542969 C 21.699219 6.992188 21.761719 5.742188 21.699219 5.164062 C 21.496094 3.296875 20.664062 1.964844 19.003906 0.855469 C 18.480469 0.503906 18.457031 0.5 18.214844 0.632812\"/>\n",
              "</g>\n",
              "      </svg>\n",
              "    "
            ]
          },
          "metadata": {}
        },
        {
          "output_type": "error",
          "ename": "AttributeError",
          "evalue": "ignored",
          "traceback": [
            "\u001b[0;31m---------------------------------------------------------------------------\u001b[0m",
            "\u001b[0;31mAttributeError\u001b[0m                            Traceback (most recent call last)",
            "\u001b[0;32m<ipython-input-40-895e8b42f953>\u001b[0m in \u001b[0;36m<module>\u001b[0;34m\u001b[0m\n\u001b[1;32m     12\u001b[0m \u001b[0mturtle\u001b[0m\u001b[0;34m.\u001b[0m\u001b[0mleft\u001b[0m\u001b[0;34m(\u001b[0m\u001b[0;36m143\u001b[0m\u001b[0;34m)\u001b[0m\u001b[0;34m\u001b[0m\u001b[0;34m\u001b[0m\u001b[0m\n\u001b[1;32m     13\u001b[0m \u001b[0mturtle\u001b[0m\u001b[0;34m.\u001b[0m\u001b[0mforward\u001b[0m\u001b[0;34m(\u001b[0m\u001b[0;36m100\u001b[0m\u001b[0;34m)\u001b[0m\u001b[0;34m\u001b[0m\u001b[0;34m\u001b[0m\u001b[0m\n\u001b[0;32m---> 14\u001b[0;31m \u001b[0mturtle\u001b[0m\u001b[0;34m.\u001b[0m\u001b[0mpanup\u001b[0m\u001b[0;34m(\u001b[0m\u001b[0;34m)\u001b[0m\u001b[0;34m\u001b[0m\u001b[0;34m\u001b[0m\u001b[0m\n\u001b[0m\u001b[1;32m     15\u001b[0m \u001b[0mturtle\u001b[0m\u001b[0;34m.\u001b[0m\u001b[0mforward\u001b[0m\u001b[0;34m(\u001b[0m\u001b[0;36m100\u001b[0m\u001b[0;34m)\u001b[0m\u001b[0;34m\u001b[0m\u001b[0;34m\u001b[0m\u001b[0m\n\u001b[1;32m     16\u001b[0m \u001b[0mturtle\u001b[0m\u001b[0;34m.\u001b[0m\u001b[0mpandown\u001b[0m\u001b[0;34m(\u001b[0m\u001b[0;34m)\u001b[0m\u001b[0;34m\u001b[0m\u001b[0;34m\u001b[0m\u001b[0m\n",
            "\u001b[0;31mAttributeError\u001b[0m: module 'ColabTurtle.Turtle' has no attribute 'panup'"
          ]
        }
      ]
    },
    {
      "cell_type": "code",
      "source": [],
      "metadata": {
        "id": "y6x-fmDNXKvy"
      },
      "execution_count": null,
      "outputs": []
    }
  ]
}