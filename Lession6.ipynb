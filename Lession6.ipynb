{
  "nbformat": 4,
  "nbformat_minor": 0,
  "metadata": {
    "colab": {
      "provenance": [],
      "collapsed_sections": [],
      "authorship_tag": "ABX9TyMjWG1o7BsfCtyZLt/0zukn",
      "include_colab_link": true
    },
    "kernelspec": {
      "name": "python3",
      "display_name": "Python 3"
    },
    "language_info": {
      "name": "python"
    }
  },
  "cells": [
    {
      "cell_type": "markdown",
      "metadata": {
        "id": "view-in-github",
        "colab_type": "text"
      },
      "source": [
        "<a href=\"https://colab.research.google.com/github/SongMG0401/Colab/blob/main/Lession6.ipynb\" target=\"_parent\"><img src=\"https://colab.research.google.com/assets/colab-badge.svg\" alt=\"Open In Colab\"/></a>"
      ]
    },
    {
      "cell_type": "markdown",
      "source": [
        "6장 예제"
      ],
      "metadata": {
        "id": "6_V0c7jHIXpT"
      }
    },
    {
      "cell_type": "code",
      "source": [
        "for i in range(3) :\n",
        "  print(\"안산공고 컴퓨터과 최고\")"
      ],
      "metadata": {
        "colab": {
          "base_uri": "https://localhost:8080/"
        },
        "id": "DcDhq0gLIWOz",
        "outputId": "5654e97c-403c-4ac7-f20d-c2465c041eab"
      },
      "execution_count": null,
      "outputs": [
        {
          "output_type": "stream",
          "name": "stdout",
          "text": [
            "안산공고 컴퓨터과 최고\n",
            "안산공고 컴퓨터과 최고\n",
            "안산공고 컴퓨터과 최고\n"
          ]
        }
      ]
    },
    {
      "cell_type": "code",
      "source": [
        "myList = [\"가위\", \"바위\", \"보\"]\n",
        "for i in myList :\n",
        "  print(i)"
      ],
      "metadata": {
        "colab": {
          "base_uri": "https://localhost:8080/"
        },
        "id": "qTy4WoYPKQ3C",
        "outputId": "d1943863-7bf8-4d32-c737-7b91cf6f0047"
      },
      "execution_count": null,
      "outputs": [
        {
          "output_type": "stream",
          "name": "stdout",
          "text": [
            "가위\n",
            "바위\n",
            "보\n"
          ]
        }
      ]
    },
    {
      "cell_type": "code",
      "source": [
        "myList = [\"가위\", \"1\", \"29\", \"안산\", \"공고\"]\n",
        "temp = input(\"입력 : \")\n",
        "if temp in myList :\n",
        "  print(temp,\"은(는) 리스트 목록에 있습니다.\")"
      ],
      "metadata": {
        "colab": {
          "base_uri": "https://localhost:8080/"
        },
        "id": "lUY9zsGtKzEx",
        "outputId": "a6251076-6167-47e8-97e0-59018e80fc45"
      },
      "execution_count": null,
      "outputs": [
        {
          "name": "stdout",
          "output_type": "stream",
          "text": [
            "입력 : 28\n"
          ]
        }
      ]
    },
    {
      "cell_type": "code",
      "source": [
        "x = 1\n",
        "\n",
        "for i in range(1, 6, 1) :\n",
        "  x = x * i\n",
        "print(\"5명의 학생들을 순서대로 세우는 경우의 수는\", x, \"가지 입니다.\")"
      ],
      "metadata": {
        "colab": {
          "base_uri": "https://localhost:8080/"
        },
        "id": "sy5vx0JSLizS",
        "outputId": "3fbe6639-5ac4-4c81-a1d9-122ca4ec5e7b"
      },
      "execution_count": null,
      "outputs": [
        {
          "output_type": "stream",
          "name": "stdout",
          "text": [
            "5명의 학생들을 순서대로 세우는 경우의 수는 120 가지 입니다.\n"
          ]
        }
      ]
    },
    {
      "cell_type": "code",
      "source": [
        "x = 0\n",
        "for i in range(1, 11, 1):\n",
        "  x = x + i\n",
        "\n",
        "print(\"1~10의 합 :\", x)"
      ],
      "metadata": {
        "colab": {
          "base_uri": "https://localhost:8080/"
        },
        "id": "VC7HSOrlPBYB",
        "outputId": "7d10aae8-532f-44a3-9af4-1ab3bd9c99fe"
      },
      "execution_count": null,
      "outputs": [
        {
          "output_type": "stream",
          "name": "stdout",
          "text": [
            "1~10의 합 : 55\n"
          ]
        }
      ]
    },
    {
      "cell_type": "code",
      "source": [
        "i, x = 0, 0\n",
        "\n",
        "for i in range(1001, 2001, 2) :\n",
        "  x += i\n",
        "\n",
        "print(\"1000에서 2000까지의 홀수의 합 :\", x)"
      ],
      "metadata": {
        "colab": {
          "base_uri": "https://localhost:8080/"
        },
        "id": "m5p2FK6fPukR",
        "outputId": "4b0bcd47-d0a1-4ab4-bcfc-a3d121d9bce6"
      },
      "execution_count": null,
      "outputs": [
        {
          "output_type": "stream",
          "name": "stdout",
          "text": [
            "1000에서 2000까지의 홀수의 합 : 750000\n"
          ]
        }
      ]
    },
    {
      "cell_type": "code",
      "source": [
        "for i in range(3) :\n",
        "  for k in range(2) :\n",
        "    print(\"난생처음은 쉽습니다. ^^(i값 :\", i,\",k값 :\", k,\")\")"
      ],
      "metadata": {
        "colab": {
          "base_uri": "https://localhost:8080/"
        },
        "id": "IPuS_UrEQi9A",
        "outputId": "83a4dffc-d36e-4310-ded0-a53806bf5c2c"
      },
      "execution_count": null,
      "outputs": [
        {
          "output_type": "stream",
          "name": "stdout",
          "text": [
            "난생처음은 쉽습니다. ^^(i값 : 0 ,k값 : 0 )\n",
            "난생처음은 쉽습니다. ^^(i값 : 0 ,k값 : 1 )\n",
            "난생처음은 쉽습니다. ^^(i값 : 1 ,k값 : 0 )\n",
            "난생처음은 쉽습니다. ^^(i값 : 1 ,k값 : 1 )\n",
            "난생처음은 쉽습니다. ^^(i값 : 2 ,k값 : 0 )\n",
            "난생처음은 쉽습니다. ^^(i값 : 2 ,k값 : 1 )\n"
          ]
        }
      ]
    },
    {
      "cell_type": "code",
      "source": [
        "n = int(input(\"숫자를 입력하세요 :\"))\n",
        "\n",
        "for i in range(1, 10, 1) :\n",
        "  x = n * i\n",
        "  print(n, \"*\", i, \"=\", x)"
      ],
      "metadata": {
        "colab": {
          "base_uri": "https://localhost:8080/",
          "height": 398
        },
        "id": "3aRreh-OUc8B",
        "outputId": "3814cfc2-d147-4885-f913-7bbd3bc3be03"
      },
      "execution_count": null,
      "outputs": [
        {
          "output_type": "error",
          "ename": "KeyboardInterrupt",
          "evalue": "ignored",
          "traceback": [
            "\u001b[0;31m---------------------------------------------------------------------------\u001b[0m",
            "\u001b[0;31mKeyboardInterrupt\u001b[0m                         Traceback (most recent call last)",
            "\u001b[0;32m<ipython-input-40-7a1c8b4deb76>\u001b[0m in \u001b[0;36m<module>\u001b[0;34m\u001b[0m\n\u001b[0;32m----> 1\u001b[0;31m \u001b[0mn\u001b[0m \u001b[0;34m=\u001b[0m \u001b[0mint\u001b[0m\u001b[0;34m(\u001b[0m\u001b[0minput\u001b[0m\u001b[0;34m(\u001b[0m\u001b[0;34m\"숫자를 입력하세요 :\"\u001b[0m\u001b[0;34m)\u001b[0m\u001b[0;34m)\u001b[0m\u001b[0;34m\u001b[0m\u001b[0;34m\u001b[0m\u001b[0m\n\u001b[0m\u001b[1;32m      2\u001b[0m \u001b[0;34m\u001b[0m\u001b[0m\n\u001b[1;32m      3\u001b[0m \u001b[0;32mfor\u001b[0m \u001b[0mi\u001b[0m \u001b[0;32min\u001b[0m \u001b[0mrange\u001b[0m\u001b[0;34m(\u001b[0m\u001b[0;36m1\u001b[0m\u001b[0;34m,\u001b[0m \u001b[0;36m10\u001b[0m\u001b[0;34m,\u001b[0m \u001b[0;36m1\u001b[0m\u001b[0;34m)\u001b[0m \u001b[0;34m:\u001b[0m\u001b[0;34m\u001b[0m\u001b[0;34m\u001b[0m\u001b[0m\n\u001b[1;32m      4\u001b[0m   \u001b[0mx\u001b[0m \u001b[0;34m=\u001b[0m \u001b[0mn\u001b[0m \u001b[0;34m*\u001b[0m \u001b[0mi\u001b[0m\u001b[0;34m\u001b[0m\u001b[0;34m\u001b[0m\u001b[0m\n\u001b[1;32m      5\u001b[0m   \u001b[0mprint\u001b[0m\u001b[0;34m(\u001b[0m\u001b[0mn\u001b[0m\u001b[0;34m,\u001b[0m \u001b[0;34m\"*\"\u001b[0m\u001b[0;34m,\u001b[0m \u001b[0mi\u001b[0m\u001b[0;34m,\u001b[0m \u001b[0;34m\"=\"\u001b[0m\u001b[0;34m,\u001b[0m \u001b[0mx\u001b[0m\u001b[0;34m)\u001b[0m\u001b[0;34m\u001b[0m\u001b[0;34m\u001b[0m\u001b[0m\n",
            "\u001b[0;32m/usr/local/lib/python3.7/dist-packages/ipykernel/kernelbase.py\u001b[0m in \u001b[0;36mraw_input\u001b[0;34m(self, prompt)\u001b[0m\n\u001b[1;32m    861\u001b[0m             \u001b[0mself\u001b[0m\u001b[0;34m.\u001b[0m\u001b[0m_parent_ident\u001b[0m\u001b[0;34m,\u001b[0m\u001b[0;34m\u001b[0m\u001b[0;34m\u001b[0m\u001b[0m\n\u001b[1;32m    862\u001b[0m             \u001b[0mself\u001b[0m\u001b[0;34m.\u001b[0m\u001b[0m_parent_header\u001b[0m\u001b[0;34m,\u001b[0m\u001b[0;34m\u001b[0m\u001b[0;34m\u001b[0m\u001b[0m\n\u001b[0;32m--> 863\u001b[0;31m             \u001b[0mpassword\u001b[0m\u001b[0;34m=\u001b[0m\u001b[0;32mFalse\u001b[0m\u001b[0;34m,\u001b[0m\u001b[0;34m\u001b[0m\u001b[0;34m\u001b[0m\u001b[0m\n\u001b[0m\u001b[1;32m    864\u001b[0m         )\n\u001b[1;32m    865\u001b[0m \u001b[0;34m\u001b[0m\u001b[0m\n",
            "\u001b[0;32m/usr/local/lib/python3.7/dist-packages/ipykernel/kernelbase.py\u001b[0m in \u001b[0;36m_input_request\u001b[0;34m(self, prompt, ident, parent, password)\u001b[0m\n\u001b[1;32m    902\u001b[0m             \u001b[0;32mexcept\u001b[0m \u001b[0mKeyboardInterrupt\u001b[0m\u001b[0;34m:\u001b[0m\u001b[0;34m\u001b[0m\u001b[0;34m\u001b[0m\u001b[0m\n\u001b[1;32m    903\u001b[0m                 \u001b[0;31m# re-raise KeyboardInterrupt, to truncate traceback\u001b[0m\u001b[0;34m\u001b[0m\u001b[0;34m\u001b[0m\u001b[0;34m\u001b[0m\u001b[0m\n\u001b[0;32m--> 904\u001b[0;31m                 \u001b[0;32mraise\u001b[0m \u001b[0mKeyboardInterrupt\u001b[0m\u001b[0;34m(\u001b[0m\u001b[0;34m\"Interrupted by user\"\u001b[0m\u001b[0;34m)\u001b[0m \u001b[0;32mfrom\u001b[0m \u001b[0;32mNone\u001b[0m\u001b[0;34m\u001b[0m\u001b[0;34m\u001b[0m\u001b[0m\n\u001b[0m\u001b[1;32m    905\u001b[0m             \u001b[0;32mexcept\u001b[0m \u001b[0mException\u001b[0m \u001b[0;32mas\u001b[0m \u001b[0me\u001b[0m\u001b[0;34m:\u001b[0m\u001b[0;34m\u001b[0m\u001b[0;34m\u001b[0m\u001b[0m\n\u001b[1;32m    906\u001b[0m                 \u001b[0mself\u001b[0m\u001b[0;34m.\u001b[0m\u001b[0mlog\u001b[0m\u001b[0;34m.\u001b[0m\u001b[0mwarning\u001b[0m\u001b[0;34m(\u001b[0m\u001b[0;34m\"Invalid Message:\"\u001b[0m\u001b[0;34m,\u001b[0m \u001b[0mexc_info\u001b[0m\u001b[0;34m=\u001b[0m\u001b[0;32mTrue\u001b[0m\u001b[0;34m)\u001b[0m\u001b[0;34m\u001b[0m\u001b[0;34m\u001b[0m\u001b[0m\n",
            "\u001b[0;31mKeyboardInterrupt\u001b[0m: Interrupted by user"
          ]
        }
      ]
    },
    {
      "cell_type": "code",
      "source": [
        "i = 0\n",
        "j = 0\n",
        "\n",
        "for i in range(2, 10) :\n",
        "  for j in range(1, 10) :\n",
        "    print(i, \"*\", j, \"=\", i*j)\n",
        "  print(\"\")"
      ],
      "metadata": {
        "colab": {
          "base_uri": "https://localhost:8080/"
        },
        "id": "Xis0NineVQaw",
        "outputId": "ec5bccec-2f79-4423-8c30-f482e29cbd9b"
      },
      "execution_count": null,
      "outputs": [
        {
          "output_type": "stream",
          "name": "stdout",
          "text": [
            "2 * 1 = 2\n",
            "2 * 2 = 4\n",
            "2 * 3 = 6\n",
            "2 * 4 = 8\n",
            "2 * 5 = 10\n",
            "2 * 6 = 12\n",
            "2 * 7 = 14\n",
            "2 * 8 = 16\n",
            "2 * 9 = 18\n",
            "\n",
            "3 * 1 = 3\n",
            "3 * 2 = 6\n",
            "3 * 3 = 9\n",
            "3 * 4 = 12\n",
            "3 * 5 = 15\n",
            "3 * 6 = 18\n",
            "3 * 7 = 21\n",
            "3 * 8 = 24\n",
            "3 * 9 = 27\n",
            "\n",
            "4 * 1 = 4\n",
            "4 * 2 = 8\n",
            "4 * 3 = 12\n",
            "4 * 4 = 16\n",
            "4 * 5 = 20\n",
            "4 * 6 = 24\n",
            "4 * 7 = 28\n",
            "4 * 8 = 32\n",
            "4 * 9 = 36\n",
            "\n",
            "5 * 1 = 5\n",
            "5 * 2 = 10\n",
            "5 * 3 = 15\n",
            "5 * 4 = 20\n",
            "5 * 5 = 25\n",
            "5 * 6 = 30\n",
            "5 * 7 = 35\n",
            "5 * 8 = 40\n",
            "5 * 9 = 45\n",
            "\n",
            "6 * 1 = 6\n",
            "6 * 2 = 12\n",
            "6 * 3 = 18\n",
            "6 * 4 = 24\n",
            "6 * 5 = 30\n",
            "6 * 6 = 36\n",
            "6 * 7 = 42\n",
            "6 * 8 = 48\n",
            "6 * 9 = 54\n",
            "\n",
            "7 * 1 = 7\n",
            "7 * 2 = 14\n",
            "7 * 3 = 21\n",
            "7 * 4 = 28\n",
            "7 * 5 = 35\n",
            "7 * 6 = 42\n",
            "7 * 7 = 49\n",
            "7 * 8 = 56\n",
            "7 * 9 = 63\n",
            "\n",
            "8 * 1 = 8\n",
            "8 * 2 = 16\n",
            "8 * 3 = 24\n",
            "8 * 4 = 32\n",
            "8 * 5 = 40\n",
            "8 * 6 = 48\n",
            "8 * 7 = 56\n",
            "8 * 8 = 64\n",
            "8 * 9 = 72\n",
            "\n",
            "9 * 1 = 9\n",
            "9 * 2 = 18\n",
            "9 * 3 = 27\n",
            "9 * 4 = 36\n",
            "9 * 5 = 45\n",
            "9 * 6 = 54\n",
            "9 * 7 = 63\n",
            "9 * 8 = 72\n",
            "9 * 9 = 81\n",
            "\n"
          ]
        }
      ]
    },
    {
      "cell_type": "code",
      "source": [
        "i = 0\n",
        "\n",
        "while (i < 3) :\n",
        "  print(i, \": 난생처음 파이썬은 재미있습니다. ^^\")\n",
        "  i = i + 1"
      ],
      "metadata": {
        "colab": {
          "base_uri": "https://localhost:8080/"
        },
        "id": "0rpQ6drLWGxZ",
        "outputId": "3a648c89-31c6-4ec1-eed1-4ad097f022b3"
      },
      "execution_count": null,
      "outputs": [
        {
          "output_type": "stream",
          "name": "stdout",
          "text": [
            "0 : 난생처음 파이썬은 재미있습니다. ^^\n",
            "1 : 난생처음 파이썬은 재미있습니다. ^^\n",
            "2 : 난생처음 파이썬은 재미있습니다. ^^\n"
          ]
        }
      ]
    },
    {
      "cell_type": "code",
      "source": [
        "while True :\n",
        "  a = int(input(\"숫자 1 :\"))\n",
        "  b = int(input(\"숫자 2 :\"))\n",
        "  if a == 0:\n",
        "    break\n",
        "  else:\n",
        "    print(a, \"+\", b, \"=\", a+b)"
      ],
      "metadata": {
        "colab": {
          "base_uri": "https://localhost:8080/",
          "height": 398
        },
        "id": "IpUOxYiKXMyC",
        "outputId": "b18a0753-8a95-4d26-8332-a4a0d1e39cb8"
      },
      "execution_count": null,
      "outputs": [
        {
          "output_type": "error",
          "ename": "KeyboardInterrupt",
          "evalue": "ignored",
          "traceback": [
            "\u001b[0;31m---------------------------------------------------------------------------\u001b[0m",
            "\u001b[0;31mKeyboardInterrupt\u001b[0m                         Traceback (most recent call last)",
            "\u001b[0;32m<ipython-input-55-401ec3483281>\u001b[0m in \u001b[0;36m<module>\u001b[0;34m\u001b[0m\n\u001b[1;32m      1\u001b[0m \u001b[0;32mwhile\u001b[0m \u001b[0;32mTrue\u001b[0m \u001b[0;34m:\u001b[0m\u001b[0;34m\u001b[0m\u001b[0;34m\u001b[0m\u001b[0m\n\u001b[0;32m----> 2\u001b[0;31m   \u001b[0ma\u001b[0m \u001b[0;34m=\u001b[0m \u001b[0mint\u001b[0m\u001b[0;34m(\u001b[0m\u001b[0minput\u001b[0m\u001b[0;34m(\u001b[0m\u001b[0;34m\"숫자 1 :\"\u001b[0m\u001b[0;34m)\u001b[0m\u001b[0;34m)\u001b[0m\u001b[0;34m\u001b[0m\u001b[0;34m\u001b[0m\u001b[0m\n\u001b[0m\u001b[1;32m      3\u001b[0m   \u001b[0mb\u001b[0m \u001b[0;34m=\u001b[0m \u001b[0mint\u001b[0m\u001b[0;34m(\u001b[0m\u001b[0minput\u001b[0m\u001b[0;34m(\u001b[0m\u001b[0;34m\"숫자 2 :\"\u001b[0m\u001b[0;34m)\u001b[0m\u001b[0;34m)\u001b[0m\u001b[0;34m\u001b[0m\u001b[0;34m\u001b[0m\u001b[0m\n\u001b[1;32m      4\u001b[0m   \u001b[0;32mif\u001b[0m \u001b[0ma\u001b[0m \u001b[0;34m==\u001b[0m \u001b[0;36m0\u001b[0m\u001b[0;34m:\u001b[0m\u001b[0;34m\u001b[0m\u001b[0;34m\u001b[0m\u001b[0m\n\u001b[1;32m      5\u001b[0m     \u001b[0;32mbreak\u001b[0m\u001b[0;34m\u001b[0m\u001b[0;34m\u001b[0m\u001b[0m\n",
            "\u001b[0;32m/usr/local/lib/python3.7/dist-packages/ipykernel/kernelbase.py\u001b[0m in \u001b[0;36mraw_input\u001b[0;34m(self, prompt)\u001b[0m\n\u001b[1;32m    861\u001b[0m             \u001b[0mself\u001b[0m\u001b[0;34m.\u001b[0m\u001b[0m_parent_ident\u001b[0m\u001b[0;34m,\u001b[0m\u001b[0;34m\u001b[0m\u001b[0;34m\u001b[0m\u001b[0m\n\u001b[1;32m    862\u001b[0m             \u001b[0mself\u001b[0m\u001b[0;34m.\u001b[0m\u001b[0m_parent_header\u001b[0m\u001b[0;34m,\u001b[0m\u001b[0;34m\u001b[0m\u001b[0;34m\u001b[0m\u001b[0m\n\u001b[0;32m--> 863\u001b[0;31m             \u001b[0mpassword\u001b[0m\u001b[0;34m=\u001b[0m\u001b[0;32mFalse\u001b[0m\u001b[0;34m,\u001b[0m\u001b[0;34m\u001b[0m\u001b[0;34m\u001b[0m\u001b[0m\n\u001b[0m\u001b[1;32m    864\u001b[0m         )\n\u001b[1;32m    865\u001b[0m \u001b[0;34m\u001b[0m\u001b[0m\n",
            "\u001b[0;32m/usr/local/lib/python3.7/dist-packages/ipykernel/kernelbase.py\u001b[0m in \u001b[0;36m_input_request\u001b[0;34m(self, prompt, ident, parent, password)\u001b[0m\n\u001b[1;32m    902\u001b[0m             \u001b[0;32mexcept\u001b[0m \u001b[0mKeyboardInterrupt\u001b[0m\u001b[0;34m:\u001b[0m\u001b[0;34m\u001b[0m\u001b[0;34m\u001b[0m\u001b[0m\n\u001b[1;32m    903\u001b[0m                 \u001b[0;31m# re-raise KeyboardInterrupt, to truncate traceback\u001b[0m\u001b[0;34m\u001b[0m\u001b[0;34m\u001b[0m\u001b[0;34m\u001b[0m\u001b[0m\n\u001b[0;32m--> 904\u001b[0;31m                 \u001b[0;32mraise\u001b[0m \u001b[0mKeyboardInterrupt\u001b[0m\u001b[0;34m(\u001b[0m\u001b[0;34m\"Interrupted by user\"\u001b[0m\u001b[0;34m)\u001b[0m \u001b[0;32mfrom\u001b[0m \u001b[0;32mNone\u001b[0m\u001b[0;34m\u001b[0m\u001b[0;34m\u001b[0m\u001b[0m\n\u001b[0m\u001b[1;32m    905\u001b[0m             \u001b[0;32mexcept\u001b[0m \u001b[0mException\u001b[0m \u001b[0;32mas\u001b[0m \u001b[0me\u001b[0m\u001b[0;34m:\u001b[0m\u001b[0;34m\u001b[0m\u001b[0;34m\u001b[0m\u001b[0m\n\u001b[1;32m    906\u001b[0m                 \u001b[0mself\u001b[0m\u001b[0;34m.\u001b[0m\u001b[0mlog\u001b[0m\u001b[0;34m.\u001b[0m\u001b[0mwarning\u001b[0m\u001b[0;34m(\u001b[0m\u001b[0;34m\"Invalid Message:\"\u001b[0m\u001b[0;34m,\u001b[0m \u001b[0mexc_info\u001b[0m\u001b[0;34m=\u001b[0m\u001b[0;32mTrue\u001b[0m\u001b[0;34m)\u001b[0m\u001b[0;34m\u001b[0m\u001b[0;34m\u001b[0m\u001b[0m\n",
            "\u001b[0;31mKeyboardInterrupt\u001b[0m: Interrupted by user"
          ]
        }
      ]
    },
    {
      "cell_type": "code",
      "source": [
        "import random\n",
        "n = 0\n",
        "while True :\n",
        "  d1 = random.randint(1, 6)\n",
        "  d2 = random.randint(1, 6)\n",
        "  d3 = random.randint(1, 6)\n",
        "  n = n + 1\n",
        "  if d1 == d2 == d3 :\n",
        "    break    \n",
        "print(\"같은숫자가 나온 값은\", d1, \"입니다\")\n",
        "print(\"세개의 주사위가 같은 숫자가 나오는데에\", n, \"회 걸렸습니다\")"
      ],
      "metadata": {
        "colab": {
          "base_uri": "https://localhost:8080/"
        },
        "id": "YrqlT4IKYuw4",
        "outputId": "5edd835c-9fa2-4dc3-f30b-d9cd511f4505"
      },
      "execution_count": null,
      "outputs": [
        {
          "output_type": "stream",
          "name": "stdout",
          "text": [
            "같은숫자가 나온 값은 1 입니다\n",
            "세개의 주사위가 같은 숫자가 나오는데에 23 회 걸렸습니다\n"
          ]
        }
      ]
    },
    {
      "cell_type": "code",
      "source": [
        "import random\n",
        "n = 0\n",
        "a = 0\n",
        "while True :\n",
        "  num = random.randint(1, 5)\n",
        "  a = int(input(\"1~5의 숫자중 하나를 입력하세요. :\"))\n",
        "  if num == a :\n",
        "    print(\"성공 하셨습니다.\")\n",
        "    break\n",
        "  else :\n",
        "    print(\"틀렸습니다. 숫자는\", num, \"이었습니다.2\")"
      ],
      "metadata": {
        "colab": {
          "base_uri": "https://localhost:8080/"
        },
        "id": "UGERmSCacAwQ",
        "outputId": "caf44ccb-b455-4d3c-d399-866d53c3145e"
      },
      "execution_count": null,
      "outputs": [
        {
          "output_type": "stream",
          "name": "stdout",
          "text": [
            "1~5의 숫자중 하나를 입력하세요. :4\n",
            "틀렸습니다. 숫자는 5 이었습니다.2\n",
            "1~5의 숫자중 하나를 입력하세요. :3\n",
            "틀렸습니다. 숫자는 5 이었습니다.2\n",
            "1~5의 숫자중 하나를 입력하세요. :3\n",
            "성공 하셨습니다.\n"
          ]
        }
      ]
    },
    {
      "cell_type": "code",
      "source": [
        "import random\n",
        "cl = [1, 2, 3, 4, 5, 6, 7, 8, 9]\n",
        "c_n, u_n = [], []\n",
        "\n",
        "def uf() :\n",
        "  u = input(\"1~9까지의 숫자중 3개의 숫자를 입력하세요 :\")\n",
        "  for i in range(0, 5, 2) :\n",
        "    u_n.append(int(u[i]))\n",
        "\n",
        "for i in range(3) :\n",
        "  r = random.choice(cl)\n",
        "  cl.remove(r)\n",
        "  c_n.append(r)\n",
        "\n",
        "s, b, n = 0, 0, 0\n",
        "while True :\n",
        "  u_n.clear()\n",
        "  uf()\n",
        "  n = n + 1\n",
        "  for i in range(3) :\n",
        "    if c_n[i] == u_n[i] :\n",
        "      s = s + 1\n",
        "    elif u_n[i] in c_n :\n",
        "      b = b + 1\n",
        "  print(s, \"스트라이크 /\", b, \"볼\")\n",
        "  if s == 3 :\n",
        "    print(\"삼진 아웃! 시도횟수 :\", n, \"회\")\n",
        "    break\n",
        "  s, b = 0, 0"
      ],
      "metadata": {
        "id": "N17vnH7MdH_X",
        "colab": {
          "base_uri": "https://localhost:8080/"
        },
        "outputId": "26e8ada2-ab1f-42d4-c4b3-f491d7ac1de4"
      },
      "execution_count": null,
      "outputs": [
        {
          "output_type": "stream",
          "name": "stdout",
          "text": [
            "1~9까지의 숫자중 3개의 숫자를 입력하세요 :1 2 3\n",
            "1 스트라이크 / 0 볼\n",
            "1~9까지의 숫자중 3개의 숫자를 입력하세요 :4 5 6\n",
            "1 스트라이크 / 1 볼\n",
            "1~9까지의 숫자중 3개의 숫자를 입력하세요 :1 3 5\n",
            "0 스트라이크 / 2 볼\n",
            "1~9까지의 숫자중 3개의 숫자를 입력하세요 :6 5 3\n",
            "3 스트라이크 / 0 볼\n",
            "삼진 아웃! 시도횟수 : 4 회\n"
          ]
        }
      ]
    },
    {
      "cell_type": "code",
      "source": [
        "#!pip3 install ColabTurtle\n",
        "import ColabTurtle.Turtle as turtle\n",
        "import random\n",
        "\n",
        "turtle.initializeTurtle()\n",
        "turtle.speed(10)\n",
        "#help(turtle)\n",
        "for x in range(50,800, 50) :\n",
        "  for y in range(50, 500, 50) :\n",
        "    turtle.color((random.randint(0,255)),(random.randint(0,255)),(random.randint(0,255)))\n",
        "    turtle.penup()\n",
        "    turtle.goto(x, y)\n",
        "    turtle.pendown()\n",
        "    turtle.forward(1)"
      ],
      "metadata": {
        "colab": {
          "base_uri": "https://localhost:8080/",
          "height": 520
        },
        "id": "mJarV7mj7L7I",
        "outputId": "91e18fd3-a45f-4f13-b056-ce693c517732"
      },
      "execution_count": 39,
      "outputs": [
        {
          "output_type": "display_data",
          "data": {
            "text/plain": [
              "<IPython.core.display.HTML object>"
            ],
            "text/html": [
              "\n",
              "      <svg width=\"800\" height=\"500\">\n",
              "        <rect width=\"100%\" height=\"100%\" fill=\"black\"/>\n",
              "        <line x1=\"50\" y1=\"50\" x2=\"50.0\" y2=\"49.0\" stroke-linecap=\"round\" style=\"stroke:rgb(182,115,32);stroke-width:4\"/><line x1=\"50\" y1=\"100\" x2=\"50.0\" y2=\"99.0\" stroke-linecap=\"round\" style=\"stroke:rgb(9,28,185);stroke-width:4\"/><line x1=\"50\" y1=\"150\" x2=\"50.0\" y2=\"149.0\" stroke-linecap=\"round\" style=\"stroke:rgb(126,117,26);stroke-width:4\"/><line x1=\"50\" y1=\"200\" x2=\"50.0\" y2=\"199.0\" stroke-linecap=\"round\" style=\"stroke:rgb(131,15,28);stroke-width:4\"/><line x1=\"50\" y1=\"250\" x2=\"50.0\" y2=\"249.0\" stroke-linecap=\"round\" style=\"stroke:rgb(152,199,69);stroke-width:4\"/><line x1=\"50\" y1=\"300\" x2=\"50.0\" y2=\"299.0\" stroke-linecap=\"round\" style=\"stroke:rgb(162,83,102);stroke-width:4\"/><line x1=\"50\" y1=\"350\" x2=\"50.0\" y2=\"349.0\" stroke-linecap=\"round\" style=\"stroke:rgb(237,96,212);stroke-width:4\"/><line x1=\"50\" y1=\"400\" x2=\"50.0\" y2=\"399.0\" stroke-linecap=\"round\" style=\"stroke:rgb(180,235,41);stroke-width:4\"/><line x1=\"50\" y1=\"450\" x2=\"50.0\" y2=\"449.0\" stroke-linecap=\"round\" style=\"stroke:rgb(147,162,21);stroke-width:4\"/><line x1=\"100\" y1=\"50\" x2=\"100.0\" y2=\"49.0\" stroke-linecap=\"round\" style=\"stroke:rgb(130,193,106);stroke-width:4\"/><line x1=\"100\" y1=\"100\" x2=\"100.0\" y2=\"99.0\" stroke-linecap=\"round\" style=\"stroke:rgb(247,62,178);stroke-width:4\"/><line x1=\"100\" y1=\"150\" x2=\"100.0\" y2=\"149.0\" stroke-linecap=\"round\" style=\"stroke:rgb(124,196,244);stroke-width:4\"/><line x1=\"100\" y1=\"200\" x2=\"100.0\" y2=\"199.0\" stroke-linecap=\"round\" style=\"stroke:rgb(49,133,161);stroke-width:4\"/><line x1=\"100\" y1=\"250\" x2=\"100.0\" y2=\"249.0\" stroke-linecap=\"round\" style=\"stroke:rgb(252,178,15);stroke-width:4\"/><line x1=\"100\" y1=\"300\" x2=\"100.0\" y2=\"299.0\" stroke-linecap=\"round\" style=\"stroke:rgb(105,76,202);stroke-width:4\"/><line x1=\"100\" y1=\"350\" x2=\"100.0\" y2=\"349.0\" stroke-linecap=\"round\" style=\"stroke:rgb(89,233,33);stroke-width:4\"/><line x1=\"100\" y1=\"400\" x2=\"100.0\" y2=\"399.0\" stroke-linecap=\"round\" style=\"stroke:rgb(197,114,111);stroke-width:4\"/><line x1=\"100\" y1=\"450\" x2=\"100.0\" y2=\"449.0\" stroke-linecap=\"round\" style=\"stroke:rgb(81,77,85);stroke-width:4\"/><line x1=\"150\" y1=\"50\" x2=\"150.0\" y2=\"49.0\" stroke-linecap=\"round\" style=\"stroke:rgb(105,206,102);stroke-width:4\"/><line x1=\"150\" y1=\"100\" x2=\"150.0\" y2=\"99.0\" stroke-linecap=\"round\" style=\"stroke:rgb(138,65,131);stroke-width:4\"/><line x1=\"150\" y1=\"150\" x2=\"150.0\" y2=\"149.0\" stroke-linecap=\"round\" style=\"stroke:rgb(223,164,73);stroke-width:4\"/><line x1=\"150\" y1=\"200\" x2=\"150.0\" y2=\"199.0\" stroke-linecap=\"round\" style=\"stroke:rgb(126,160,140);stroke-width:4\"/><line x1=\"150\" y1=\"250\" x2=\"150.0\" y2=\"249.0\" stroke-linecap=\"round\" style=\"stroke:rgb(15,229,56);stroke-width:4\"/><line x1=\"150\" y1=\"300\" x2=\"150.0\" y2=\"299.0\" stroke-linecap=\"round\" style=\"stroke:rgb(12,217,238);stroke-width:4\"/><line x1=\"150\" y1=\"350\" x2=\"150.0\" y2=\"349.0\" stroke-linecap=\"round\" style=\"stroke:rgb(71,67,74);stroke-width:4\"/><line x1=\"150\" y1=\"400\" x2=\"150.0\" y2=\"399.0\" stroke-linecap=\"round\" style=\"stroke:rgb(213,68,151);stroke-width:4\"/><line x1=\"150\" y1=\"450\" x2=\"150.0\" y2=\"449.0\" stroke-linecap=\"round\" style=\"stroke:rgb(55,237,165);stroke-width:4\"/><line x1=\"200\" y1=\"50\" x2=\"200.0\" y2=\"49.0\" stroke-linecap=\"round\" style=\"stroke:rgb(246,194,210);stroke-width:4\"/><line x1=\"200\" y1=\"100\" x2=\"200.0\" y2=\"99.0\" stroke-linecap=\"round\" style=\"stroke:rgb(150,220,238);stroke-width:4\"/><line x1=\"200\" y1=\"150\" x2=\"200.0\" y2=\"149.0\" stroke-linecap=\"round\" style=\"stroke:rgb(159,207,235);stroke-width:4\"/><line x1=\"200\" y1=\"200\" x2=\"200.0\" y2=\"199.0\" stroke-linecap=\"round\" style=\"stroke:rgb(17,62,133);stroke-width:4\"/><line x1=\"200\" y1=\"250\" x2=\"200.0\" y2=\"249.0\" stroke-linecap=\"round\" style=\"stroke:rgb(25,151,126);stroke-width:4\"/><line x1=\"200\" y1=\"300\" x2=\"200.0\" y2=\"299.0\" stroke-linecap=\"round\" style=\"stroke:rgb(35,195,34);stroke-width:4\"/><line x1=\"200\" y1=\"350\" x2=\"200.0\" y2=\"349.0\" stroke-linecap=\"round\" style=\"stroke:rgb(124,76,58);stroke-width:4\"/><line x1=\"200\" y1=\"400\" x2=\"200.0\" y2=\"399.0\" stroke-linecap=\"round\" style=\"stroke:rgb(8,61,153);stroke-width:4\"/><line x1=\"200\" y1=\"450\" x2=\"200.0\" y2=\"449.0\" stroke-linecap=\"round\" style=\"stroke:rgb(212,79,181);stroke-width:4\"/><line x1=\"250\" y1=\"50\" x2=\"250.0\" y2=\"49.0\" stroke-linecap=\"round\" style=\"stroke:rgb(123,24,206);stroke-width:4\"/><line x1=\"250\" y1=\"100\" x2=\"250.0\" y2=\"99.0\" stroke-linecap=\"round\" style=\"stroke:rgb(165,93,198);stroke-width:4\"/><line x1=\"250\" y1=\"150\" x2=\"250.0\" y2=\"149.0\" stroke-linecap=\"round\" style=\"stroke:rgb(10,123,56);stroke-width:4\"/><line x1=\"250\" y1=\"200\" x2=\"250.0\" y2=\"199.0\" stroke-linecap=\"round\" style=\"stroke:rgb(202,116,84);stroke-width:4\"/><line x1=\"250\" y1=\"250\" x2=\"250.0\" y2=\"249.0\" stroke-linecap=\"round\" style=\"stroke:rgb(30,55,10);stroke-width:4\"/><line x1=\"250\" y1=\"300\" x2=\"250.0\" y2=\"299.0\" stroke-linecap=\"round\" style=\"stroke:rgb(58,172,129);stroke-width:4\"/><line x1=\"250\" y1=\"350\" x2=\"250.0\" y2=\"349.0\" stroke-linecap=\"round\" style=\"stroke:rgb(224,218,177);stroke-width:4\"/><line x1=\"250\" y1=\"400\" x2=\"250.0\" y2=\"399.0\" stroke-linecap=\"round\" style=\"stroke:rgb(69,103,194);stroke-width:4\"/><line x1=\"250\" y1=\"450\" x2=\"250.0\" y2=\"449.0\" stroke-linecap=\"round\" style=\"stroke:rgb(221,45,139);stroke-width:4\"/><line x1=\"300\" y1=\"50\" x2=\"300.0\" y2=\"49.0\" stroke-linecap=\"round\" style=\"stroke:rgb(5,3,33);stroke-width:4\"/><line x1=\"300\" y1=\"100\" x2=\"300.0\" y2=\"99.0\" stroke-linecap=\"round\" style=\"stroke:rgb(186,170,249);stroke-width:4\"/><line x1=\"300\" y1=\"150\" x2=\"300.0\" y2=\"149.0\" stroke-linecap=\"round\" style=\"stroke:rgb(143,29,35);stroke-width:4\"/><line x1=\"300\" y1=\"200\" x2=\"300.0\" y2=\"199.0\" stroke-linecap=\"round\" style=\"stroke:rgb(39,85,85);stroke-width:4\"/><line x1=\"300\" y1=\"250\" x2=\"300.0\" y2=\"249.0\" stroke-linecap=\"round\" style=\"stroke:rgb(69,170,59);stroke-width:4\"/><line x1=\"300\" y1=\"300\" x2=\"300.0\" y2=\"299.0\" stroke-linecap=\"round\" style=\"stroke:rgb(176,53,187);stroke-width:4\"/><line x1=\"300\" y1=\"350\" x2=\"300.0\" y2=\"349.0\" stroke-linecap=\"round\" style=\"stroke:rgb(79,205,82);stroke-width:4\"/><line x1=\"300\" y1=\"400\" x2=\"300.0\" y2=\"399.0\" stroke-linecap=\"round\" style=\"stroke:rgb(16,141,54);stroke-width:4\"/><line x1=\"300\" y1=\"450\" x2=\"300.0\" y2=\"449.0\" stroke-linecap=\"round\" style=\"stroke:rgb(68,159,214);stroke-width:4\"/><line x1=\"350\" y1=\"50\" x2=\"350.0\" y2=\"49.0\" stroke-linecap=\"round\" style=\"stroke:rgb(8,230,142);stroke-width:4\"/><line x1=\"350\" y1=\"100\" x2=\"350.0\" y2=\"99.0\" stroke-linecap=\"round\" style=\"stroke:rgb(140,194,86);stroke-width:4\"/><line x1=\"350\" y1=\"150\" x2=\"350.0\" y2=\"149.0\" stroke-linecap=\"round\" style=\"stroke:rgb(138,12,92);stroke-width:4\"/><line x1=\"350\" y1=\"200\" x2=\"350.0\" y2=\"199.0\" stroke-linecap=\"round\" style=\"stroke:rgb(233,187,150);stroke-width:4\"/><line x1=\"350\" y1=\"250\" x2=\"350.0\" y2=\"249.0\" stroke-linecap=\"round\" style=\"stroke:rgb(43,254,199);stroke-width:4\"/><line x1=\"350\" y1=\"300\" x2=\"350.0\" y2=\"299.0\" stroke-linecap=\"round\" style=\"stroke:rgb(193,1,38);stroke-width:4\"/><line x1=\"350\" y1=\"350\" x2=\"350.0\" y2=\"349.0\" stroke-linecap=\"round\" style=\"stroke:rgb(72,208,45);stroke-width:4\"/><line x1=\"350\" y1=\"400\" x2=\"350.0\" y2=\"399.0\" stroke-linecap=\"round\" style=\"stroke:rgb(238,153,166);stroke-width:4\"/><line x1=\"350\" y1=\"450\" x2=\"350.0\" y2=\"449.0\" stroke-linecap=\"round\" style=\"stroke:rgb(189,146,12);stroke-width:4\"/><line x1=\"400\" y1=\"50\" x2=\"400.0\" y2=\"49.0\" stroke-linecap=\"round\" style=\"stroke:rgb(147,224,158);stroke-width:4\"/><line x1=\"400\" y1=\"100\" x2=\"400.0\" y2=\"99.0\" stroke-linecap=\"round\" style=\"stroke:rgb(64,248,57);stroke-width:4\"/><line x1=\"400\" y1=\"150\" x2=\"400.0\" y2=\"149.0\" stroke-linecap=\"round\" style=\"stroke:rgb(91,69,236);stroke-width:4\"/><line x1=\"400\" y1=\"200\" x2=\"400.0\" y2=\"199.0\" stroke-linecap=\"round\" style=\"stroke:rgb(82,122,214);stroke-width:4\"/><line x1=\"400\" y1=\"250\" x2=\"400.0\" y2=\"249.0\" stroke-linecap=\"round\" style=\"stroke:rgb(240,205,233);stroke-width:4\"/><line x1=\"400\" y1=\"300\" x2=\"400.0\" y2=\"299.0\" stroke-linecap=\"round\" style=\"stroke:rgb(142,201,111);stroke-width:4\"/><line x1=\"400\" y1=\"350\" x2=\"400.0\" y2=\"349.0\" stroke-linecap=\"round\" style=\"stroke:rgb(122,117,43);stroke-width:4\"/><line x1=\"400\" y1=\"400\" x2=\"400.0\" y2=\"399.0\" stroke-linecap=\"round\" style=\"stroke:rgb(239,93,12);stroke-width:4\"/><line x1=\"400\" y1=\"450\" x2=\"400.0\" y2=\"449.0\" stroke-linecap=\"round\" style=\"stroke:rgb(233,78,231);stroke-width:4\"/><line x1=\"450\" y1=\"50\" x2=\"450.0\" y2=\"49.0\" stroke-linecap=\"round\" style=\"stroke:rgb(15,1,17);stroke-width:4\"/><line x1=\"450\" y1=\"100\" x2=\"450.0\" y2=\"99.0\" stroke-linecap=\"round\" style=\"stroke:rgb(74,110,172);stroke-width:4\"/><line x1=\"450\" y1=\"150\" x2=\"450.0\" y2=\"149.0\" stroke-linecap=\"round\" style=\"stroke:rgb(212,191,77);stroke-width:4\"/><line x1=\"450\" y1=\"200\" x2=\"450.0\" y2=\"199.0\" stroke-linecap=\"round\" style=\"stroke:rgb(40,156,216);stroke-width:4\"/><line x1=\"450\" y1=\"250\" x2=\"450.0\" y2=\"249.0\" stroke-linecap=\"round\" style=\"stroke:rgb(246,74,49);stroke-width:4\"/><line x1=\"450\" y1=\"300\" x2=\"450.0\" y2=\"299.0\" stroke-linecap=\"round\" style=\"stroke:rgb(145,74,164);stroke-width:4\"/><line x1=\"450\" y1=\"350\" x2=\"450.0\" y2=\"349.0\" stroke-linecap=\"round\" style=\"stroke:rgb(40,125,185);stroke-width:4\"/><line x1=\"450\" y1=\"400\" x2=\"450.0\" y2=\"399.0\" stroke-linecap=\"round\" style=\"stroke:rgb(49,30,24);stroke-width:4\"/><line x1=\"450\" y1=\"450\" x2=\"450.0\" y2=\"449.0\" stroke-linecap=\"round\" style=\"stroke:rgb(245,169,122);stroke-width:4\"/><line x1=\"500\" y1=\"50\" x2=\"500.0\" y2=\"49.0\" stroke-linecap=\"round\" style=\"stroke:rgb(35,52,53);stroke-width:4\"/><line x1=\"500\" y1=\"100\" x2=\"500.0\" y2=\"99.0\" stroke-linecap=\"round\" style=\"stroke:rgb(127,79,69);stroke-width:4\"/><line x1=\"500\" y1=\"150\" x2=\"500.0\" y2=\"149.0\" stroke-linecap=\"round\" style=\"stroke:rgb(5,138,84);stroke-width:4\"/><line x1=\"500\" y1=\"200\" x2=\"500.0\" y2=\"199.0\" stroke-linecap=\"round\" style=\"stroke:rgb(181,28,21);stroke-width:4\"/><line x1=\"500\" y1=\"250\" x2=\"500.0\" y2=\"249.0\" stroke-linecap=\"round\" style=\"stroke:rgb(232,40,141);stroke-width:4\"/><line x1=\"500\" y1=\"300\" x2=\"500.0\" y2=\"299.0\" stroke-linecap=\"round\" style=\"stroke:rgb(252,45,147);stroke-width:4\"/><line x1=\"500\" y1=\"350\" x2=\"500.0\" y2=\"349.0\" stroke-linecap=\"round\" style=\"stroke:rgb(5,44,7);stroke-width:4\"/><line x1=\"500\" y1=\"400\" x2=\"500.0\" y2=\"399.0\" stroke-linecap=\"round\" style=\"stroke:rgb(5,32,74);stroke-width:4\"/><line x1=\"500\" y1=\"450\" x2=\"500.0\" y2=\"449.0\" stroke-linecap=\"round\" style=\"stroke:rgb(19,249,242);stroke-width:4\"/><line x1=\"550\" y1=\"50\" x2=\"550.0\" y2=\"49.0\" stroke-linecap=\"round\" style=\"stroke:rgb(250,28,222);stroke-width:4\"/><line x1=\"550\" y1=\"100\" x2=\"550.0\" y2=\"99.0\" stroke-linecap=\"round\" style=\"stroke:rgb(183,107,147);stroke-width:4\"/><line x1=\"550\" y1=\"150\" x2=\"550.0\" y2=\"149.0\" stroke-linecap=\"round\" style=\"stroke:rgb(245,33,71);stroke-width:4\"/><line x1=\"550\" y1=\"200\" x2=\"550.0\" y2=\"199.0\" stroke-linecap=\"round\" style=\"stroke:rgb(148,143,114);stroke-width:4\"/><line x1=\"550\" y1=\"250\" x2=\"550.0\" y2=\"249.0\" stroke-linecap=\"round\" style=\"stroke:rgb(169,197,194);stroke-width:4\"/><line x1=\"550\" y1=\"300\" x2=\"550.0\" y2=\"299.0\" stroke-linecap=\"round\" style=\"stroke:rgb(8,48,246);stroke-width:4\"/><line x1=\"550\" y1=\"350\" x2=\"550.0\" y2=\"349.0\" stroke-linecap=\"round\" style=\"stroke:rgb(125,189,128);stroke-width:4\"/><line x1=\"550\" y1=\"400\" x2=\"550.0\" y2=\"399.0\" stroke-linecap=\"round\" style=\"stroke:rgb(18,194,86);stroke-width:4\"/><line x1=\"550\" y1=\"450\" x2=\"550.0\" y2=\"449.0\" stroke-linecap=\"round\" style=\"stroke:rgb(33,203,120);stroke-width:4\"/><line x1=\"600\" y1=\"50\" x2=\"600.0\" y2=\"49.0\" stroke-linecap=\"round\" style=\"stroke:rgb(76,187,34);stroke-width:4\"/><line x1=\"600\" y1=\"100\" x2=\"600.0\" y2=\"99.0\" stroke-linecap=\"round\" style=\"stroke:rgb(8,48,255);stroke-width:4\"/><line x1=\"600\" y1=\"150\" x2=\"600.0\" y2=\"149.0\" stroke-linecap=\"round\" style=\"stroke:rgb(140,61,214);stroke-width:4\"/><line x1=\"600\" y1=\"200\" x2=\"600.0\" y2=\"199.0\" stroke-linecap=\"round\" style=\"stroke:rgb(120,107,29);stroke-width:4\"/><line x1=\"600\" y1=\"250\" x2=\"600.0\" y2=\"249.0\" stroke-linecap=\"round\" style=\"stroke:rgb(154,44,130);stroke-width:4\"/><line x1=\"600\" y1=\"300\" x2=\"600.0\" y2=\"299.0\" stroke-linecap=\"round\" style=\"stroke:rgb(35,96,193);stroke-width:4\"/><line x1=\"600\" y1=\"350\" x2=\"600.0\" y2=\"349.0\" stroke-linecap=\"round\" style=\"stroke:rgb(229,240,39);stroke-width:4\"/><line x1=\"600\" y1=\"400\" x2=\"600.0\" y2=\"399.0\" stroke-linecap=\"round\" style=\"stroke:rgb(93,30,161);stroke-width:4\"/><line x1=\"600\" y1=\"450\" x2=\"600.0\" y2=\"449.0\" stroke-linecap=\"round\" style=\"stroke:rgb(161,181,182);stroke-width:4\"/><line x1=\"650\" y1=\"50\" x2=\"650.0\" y2=\"49.0\" stroke-linecap=\"round\" style=\"stroke:rgb(226,196,29);stroke-width:4\"/><line x1=\"650\" y1=\"100\" x2=\"650.0\" y2=\"99.0\" stroke-linecap=\"round\" style=\"stroke:rgb(177,22,114);stroke-width:4\"/><line x1=\"650\" y1=\"150\" x2=\"650.0\" y2=\"149.0\" stroke-linecap=\"round\" style=\"stroke:rgb(110,155,186);stroke-width:4\"/><line x1=\"650\" y1=\"200\" x2=\"650.0\" y2=\"199.0\" stroke-linecap=\"round\" style=\"stroke:rgb(214,11,230);stroke-width:4\"/><line x1=\"650\" y1=\"250\" x2=\"650.0\" y2=\"249.0\" stroke-linecap=\"round\" style=\"stroke:rgb(231,73,154);stroke-width:4\"/><line x1=\"650\" y1=\"300\" x2=\"650.0\" y2=\"299.0\" stroke-linecap=\"round\" style=\"stroke:rgb(215,198,215);stroke-width:4\"/><line x1=\"650\" y1=\"350\" x2=\"650.0\" y2=\"349.0\" stroke-linecap=\"round\" style=\"stroke:rgb(77,0,110);stroke-width:4\"/><line x1=\"650\" y1=\"400\" x2=\"650.0\" y2=\"399.0\" stroke-linecap=\"round\" style=\"stroke:rgb(165,137,238);stroke-width:4\"/><line x1=\"650\" y1=\"450\" x2=\"650.0\" y2=\"449.0\" stroke-linecap=\"round\" style=\"stroke:rgb(228,49,188);stroke-width:4\"/><line x1=\"700\" y1=\"50\" x2=\"700.0\" y2=\"49.0\" stroke-linecap=\"round\" style=\"stroke:rgb(72,112,209);stroke-width:4\"/><line x1=\"700\" y1=\"100\" x2=\"700.0\" y2=\"99.0\" stroke-linecap=\"round\" style=\"stroke:rgb(120,28,118);stroke-width:4\"/><line x1=\"700\" y1=\"150\" x2=\"700.0\" y2=\"149.0\" stroke-linecap=\"round\" style=\"stroke:rgb(238,149,246);stroke-width:4\"/><line x1=\"700\" y1=\"200\" x2=\"700.0\" y2=\"199.0\" stroke-linecap=\"round\" style=\"stroke:rgb(25,239,47);stroke-width:4\"/><line x1=\"700\" y1=\"250\" x2=\"700.0\" y2=\"249.0\" stroke-linecap=\"round\" style=\"stroke:rgb(185,93,12);stroke-width:4\"/><line x1=\"700\" y1=\"300\" x2=\"700.0\" y2=\"299.0\" stroke-linecap=\"round\" style=\"stroke:rgb(168,132,253);stroke-width:4\"/><line x1=\"700\" y1=\"350\" x2=\"700.0\" y2=\"349.0\" stroke-linecap=\"round\" style=\"stroke:rgb(117,17,178);stroke-width:4\"/><line x1=\"700\" y1=\"400\" x2=\"700.0\" y2=\"399.0\" stroke-linecap=\"round\" style=\"stroke:rgb(93,209,82);stroke-width:4\"/><line x1=\"700\" y1=\"450\" x2=\"700.0\" y2=\"449.0\" stroke-linecap=\"round\" style=\"stroke:rgb(132,89,124);stroke-width:4\"/><line x1=\"750\" y1=\"50\" x2=\"750.0\" y2=\"49.0\" stroke-linecap=\"round\" style=\"stroke:rgb(117,44,211);stroke-width:4\"/><line x1=\"750\" y1=\"100\" x2=\"750.0\" y2=\"99.0\" stroke-linecap=\"round\" style=\"stroke:rgb(108,214,248);stroke-width:4\"/><line x1=\"750\" y1=\"150\" x2=\"750.0\" y2=\"149.0\" stroke-linecap=\"round\" style=\"stroke:rgb(185,34,76);stroke-width:4\"/><line x1=\"750\" y1=\"200\" x2=\"750.0\" y2=\"199.0\" stroke-linecap=\"round\" style=\"stroke:rgb(167,46,232);stroke-width:4\"/><line x1=\"750\" y1=\"250\" x2=\"750.0\" y2=\"249.0\" stroke-linecap=\"round\" style=\"stroke:rgb(131,65,159);stroke-width:4\"/><line x1=\"750\" y1=\"300\" x2=\"750.0\" y2=\"299.0\" stroke-linecap=\"round\" style=\"stroke:rgb(153,110,101);stroke-width:4\"/><line x1=\"750\" y1=\"350\" x2=\"750.0\" y2=\"349.0\" stroke-linecap=\"round\" style=\"stroke:rgb(97,184,129);stroke-width:4\"/><line x1=\"750\" y1=\"400\" x2=\"750.0\" y2=\"399.0\" stroke-linecap=\"round\" style=\"stroke:rgb(18,248,44);stroke-width:4\"/><line x1=\"750\" y1=\"450\" x2=\"750.0\" y2=\"449.0\" stroke-linecap=\"round\" style=\"stroke:rgb(14,162,155);stroke-width:4\"/>\n",
              "        <g visibility=visible transform=\"rotate(360,750.0,449.0) translate(732.0, 431.0)\">\n",
              "<path style=\" stroke:none;fill-rule:evenodd;fill:rgb(14,162,155);fill-opacity:1;\" d=\"M 18.214844 0.632812 C 16.109375 1.800781 15.011719 4.074219 15.074219 7.132812 L 15.085938 7.652344 L 14.785156 7.496094 C 13.476562 6.824219 11.957031 6.671875 10.40625 7.066406 C 8.46875 7.550781 6.515625 9.15625 4.394531 11.992188 C 3.0625 13.777344 2.679688 14.636719 3.042969 15.027344 L 3.15625 15.152344 L 3.519531 15.152344 C 4.238281 15.152344 4.828125 14.886719 8.1875 13.039062 C 9.386719 12.378906 10.371094 11.839844 10.378906 11.839844 C 10.386719 11.839844 10.355469 11.929688 10.304688 12.035156 C 9.832031 13.09375 9.257812 14.820312 8.96875 16.078125 C 7.914062 20.652344 8.617188 24.53125 11.070312 27.660156 C 11.351562 28.015625 11.363281 27.914062 10.972656 28.382812 C 8.925781 30.84375 7.945312 33.28125 8.238281 35.1875 C 8.289062 35.527344 8.28125 35.523438 8.917969 35.523438 C 10.941406 35.523438 13.074219 34.207031 15.136719 31.6875 C 15.359375 31.417969 15.328125 31.425781 15.5625 31.574219 C 16.292969 32.042969 18.023438 32.964844 18.175781 32.964844 C 18.335938 32.964844 19.941406 32.210938 20.828125 31.71875 C 20.996094 31.625 21.136719 31.554688 21.136719 31.558594 C 21.203125 31.664062 21.898438 32.414062 22.222656 32.730469 C 23.835938 34.300781 25.5625 35.132812 27.582031 35.300781 C 27.90625 35.328125 27.9375 35.308594 28.007812 34.984375 C 28.382812 33.242188 27.625 30.925781 25.863281 28.425781 L 25.542969 27.96875 L 25.699219 27.785156 C 28.945312 23.960938 29.132812 18.699219 26.257812 11.96875 L 26.207031 11.84375 L 27.945312 12.703125 C 31.53125 14.476562 32.316406 14.800781 33.03125 14.800781 C 33.976562 14.800781 33.78125 13.9375 32.472656 12.292969 C 28.519531 7.355469 25.394531 5.925781 21.921875 7.472656 L 21.558594 7.636719 L 21.578125 7.542969 C 21.699219 6.992188 21.761719 5.742188 21.699219 5.164062 C 21.496094 3.296875 20.664062 1.964844 19.003906 0.855469 C 18.480469 0.503906 18.457031 0.5 18.214844 0.632812\"/>\n",
              "</g>\n",
              "      </svg>\n",
              "    "
            ]
          },
          "metadata": {}
        }
      ]
    },
    {
      "cell_type": "code",
      "source": [
        "#!pip3 install ColabTurtle\n",
        "import ColabTurtle.Turtle as turtle\n",
        "import random\n",
        "x, y, n = 0, 0, 0\n",
        "\n",
        "turtle.initializeTurtle()\n",
        "turtle.speed(13)\n",
        "#help(turtle)\n",
        "while True :\n",
        "  turtle.color((random.randint(155,255)),(random.randint(155,255)),(random.randint(155,255)))\n",
        "  turtle.penup()\n",
        "  turtle.setx(random.randint(50,750))\n",
        "  turtle.sety(random.randint(50,450))\n",
        "  turtle.pendown()\n",
        "  turtle.forward(13)\n",
        "  turtle.left(144)\n",
        "  turtle.forward(13)\n",
        "  turtle.left(144)\n",
        "  turtle.forward(13)\n",
        "  turtle.left(144)\n",
        "  turtle.forward(13)\n",
        "  turtle.left(144)\n",
        "  turtle.forward(13)\n",
        "  n = n + 1\n",
        "  if n == 100 :\n",
        "    break"
      ],
      "metadata": {
        "id": "3_WkGZ7Z_vAP",
        "colab": {
          "base_uri": "https://localhost:8080/",
          "height": 520
        },
        "outputId": "c2682f66-21c4-4d47-fcf8-24eee5aaccb9"
      },
      "execution_count": 38,
      "outputs": [
        {
          "output_type": "display_data",
          "data": {
            "text/plain": [
              "<IPython.core.display.HTML object>"
            ],
            "text/html": [
              "\n",
              "      <svg width=\"800\" height=\"500\">\n",
              "        <rect width=\"100%\" height=\"100%\" fill=\"black\"/>\n",
              "        <line x1=\"530\" y1=\"54\" x2=\"530.0\" y2=\"41.0\" stroke-linecap=\"round\" style=\"stroke:rgb(206,198,253);stroke-width:4\"/><line x1=\"530.0\" y1=\"41.0\" x2=\"522.359\" y2=\"51.517\" stroke-linecap=\"round\" style=\"stroke:rgb(206,198,253);stroke-width:4\"/><line x1=\"522.359\" y1=\"51.517\" x2=\"534.723\" y2=\"47.5\" stroke-linecap=\"round\" style=\"stroke:rgb(206,198,253);stroke-width:4\"/><line x1=\"534.723\" y1=\"47.5\" x2=\"522.359\" y2=\"43.483\" stroke-linecap=\"round\" style=\"stroke:rgb(206,198,253);stroke-width:4\"/><line x1=\"522.359\" y1=\"43.483\" x2=\"530.0\" y2=\"54.0\" stroke-linecap=\"round\" style=\"stroke:rgb(206,198,253);stroke-width:4\"/><line x1=\"243\" y1=\"148\" x2=\"250.641\" y2=\"158.517\" stroke-linecap=\"round\" style=\"stroke:rgb(251,202,155);stroke-width:4\"/><line x1=\"250.641\" y1=\"158.517\" x2=\"250.641\" y2=\"145.517\" stroke-linecap=\"round\" style=\"stroke:rgb(251,202,155);stroke-width:4\"/><line x1=\"250.641\" y1=\"145.517\" x2=\"243.0\" y2=\"156.034\" stroke-linecap=\"round\" style=\"stroke:rgb(251,202,155);stroke-width:4\"/><line x1=\"243.0\" y1=\"156.034\" x2=\"255.364\" y2=\"152.017\" stroke-linecap=\"round\" style=\"stroke:rgb(251,202,155);stroke-width:4\"/><line x1=\"255.364\" y1=\"152.017\" x2=\"243.0\" y2=\"148.0\" stroke-linecap=\"round\" style=\"stroke:rgb(251,202,155);stroke-width:4\"/><line x1=\"546\" y1=\"206\" x2=\"533.636\" y2=\"201.983\" stroke-linecap=\"round\" style=\"stroke:rgb(184,237,187);stroke-width:4\"/><line x1=\"533.636\" y1=\"201.983\" x2=\"541.277\" y2=\"212.5\" stroke-linecap=\"round\" style=\"stroke:rgb(184,237,187);stroke-width:4\"/><line x1=\"541.277\" y1=\"212.5\" x2=\"541.277\" y2=\"199.5\" stroke-linecap=\"round\" style=\"stroke:rgb(184,237,187);stroke-width:4\"/><line x1=\"541.277\" y1=\"199.5\" x2=\"533.636\" y2=\"210.017\" stroke-linecap=\"round\" style=\"stroke:rgb(184,237,187);stroke-width:4\"/><line x1=\"533.636\" y1=\"210.017\" x2=\"546.0\" y2=\"206.0\" stroke-linecap=\"round\" style=\"stroke:rgb(184,237,187);stroke-width:4\"/><line x1=\"318\" y1=\"208\" x2=\"330.364\" y2=\"203.983\" stroke-linecap=\"round\" style=\"stroke:rgb(200,193,171);stroke-width:4\"/><line x1=\"330.364\" y1=\"203.983\" x2=\"318.0\" y2=\"199.966\" stroke-linecap=\"round\" style=\"stroke:rgb(200,193,171);stroke-width:4\"/><line x1=\"318.0\" y1=\"199.966\" x2=\"325.641\" y2=\"210.483\" stroke-linecap=\"round\" style=\"stroke:rgb(200,193,171);stroke-width:4\"/><line x1=\"325.641\" y1=\"210.483\" x2=\"325.641\" y2=\"197.483\" stroke-linecap=\"round\" style=\"stroke:rgb(200,193,171);stroke-width:4\"/><line x1=\"325.641\" y1=\"197.483\" x2=\"318.0\" y2=\"208.0\" stroke-linecap=\"round\" style=\"stroke:rgb(200,193,171);stroke-width:4\"/><line x1=\"393\" y1=\"446\" x2=\"385.359\" y2=\"456.517\" stroke-linecap=\"round\" style=\"stroke:rgb(204,218,201);stroke-width:4\"/><line x1=\"385.359\" y1=\"456.517\" x2=\"397.723\" y2=\"452.5\" stroke-linecap=\"round\" style=\"stroke:rgb(204,218,201);stroke-width:4\"/><line x1=\"397.723\" y1=\"452.5\" x2=\"385.359\" y2=\"448.483\" stroke-linecap=\"round\" style=\"stroke:rgb(204,218,201);stroke-width:4\"/><line x1=\"385.359\" y1=\"448.483\" x2=\"393.0\" y2=\"459.0\" stroke-linecap=\"round\" style=\"stroke:rgb(204,218,201);stroke-width:4\"/><line x1=\"393.0\" y1=\"459.0\" x2=\"393.0\" y2=\"446.0\" stroke-linecap=\"round\" style=\"stroke:rgb(204,218,201);stroke-width:4\"/><line x1=\"240\" y1=\"258\" x2=\"240.0\" y2=\"245.0\" stroke-linecap=\"round\" style=\"stroke:rgb(252,189,211);stroke-width:4\"/><line x1=\"240.0\" y1=\"245.0\" x2=\"232.359\" y2=\"255.517\" stroke-linecap=\"round\" style=\"stroke:rgb(252,189,211);stroke-width:4\"/><line x1=\"232.359\" y1=\"255.517\" x2=\"244.723\" y2=\"251.5\" stroke-linecap=\"round\" style=\"stroke:rgb(252,189,211);stroke-width:4\"/><line x1=\"244.723\" y1=\"251.5\" x2=\"232.359\" y2=\"247.483\" stroke-linecap=\"round\" style=\"stroke:rgb(252,189,211);stroke-width:4\"/><line x1=\"232.359\" y1=\"247.483\" x2=\"240.0\" y2=\"258.0\" stroke-linecap=\"round\" style=\"stroke:rgb(252,189,211);stroke-width:4\"/><line x1=\"421\" y1=\"275\" x2=\"428.641\" y2=\"285.517\" stroke-linecap=\"round\" style=\"stroke:rgb(227,236,188);stroke-width:4\"/><line x1=\"428.641\" y1=\"285.517\" x2=\"428.641\" y2=\"272.517\" stroke-linecap=\"round\" style=\"stroke:rgb(227,236,188);stroke-width:4\"/><line x1=\"428.641\" y1=\"272.517\" x2=\"421.0\" y2=\"283.034\" stroke-linecap=\"round\" style=\"stroke:rgb(227,236,188);stroke-width:4\"/><line x1=\"421.0\" y1=\"283.034\" x2=\"433.364\" y2=\"279.017\" stroke-linecap=\"round\" style=\"stroke:rgb(227,236,188);stroke-width:4\"/><line x1=\"433.364\" y1=\"279.017\" x2=\"421.0\" y2=\"275.0\" stroke-linecap=\"round\" style=\"stroke:rgb(227,236,188);stroke-width:4\"/><line x1=\"317\" y1=\"144\" x2=\"304.636\" y2=\"139.983\" stroke-linecap=\"round\" style=\"stroke:rgb(222,193,248);stroke-width:4\"/><line x1=\"304.636\" y1=\"139.983\" x2=\"312.277\" y2=\"150.5\" stroke-linecap=\"round\" style=\"stroke:rgb(222,193,248);stroke-width:4\"/><line x1=\"312.277\" y1=\"150.5\" x2=\"312.277\" y2=\"137.5\" stroke-linecap=\"round\" style=\"stroke:rgb(222,193,248);stroke-width:4\"/><line x1=\"312.277\" y1=\"137.5\" x2=\"304.636\" y2=\"148.017\" stroke-linecap=\"round\" style=\"stroke:rgb(222,193,248);stroke-width:4\"/><line x1=\"304.636\" y1=\"148.017\" x2=\"317.0\" y2=\"144.0\" stroke-linecap=\"round\" style=\"stroke:rgb(222,193,248);stroke-width:4\"/><line x1=\"140\" y1=\"108\" x2=\"152.364\" y2=\"103.983\" stroke-linecap=\"round\" style=\"stroke:rgb(241,212,183);stroke-width:4\"/><line x1=\"152.364\" y1=\"103.983\" x2=\"140.0\" y2=\"99.966\" stroke-linecap=\"round\" style=\"stroke:rgb(241,212,183);stroke-width:4\"/><line x1=\"140.0\" y1=\"99.966\" x2=\"147.641\" y2=\"110.483\" stroke-linecap=\"round\" style=\"stroke:rgb(241,212,183);stroke-width:4\"/><line x1=\"147.641\" y1=\"110.483\" x2=\"147.641\" y2=\"97.483\" stroke-linecap=\"round\" style=\"stroke:rgb(241,212,183);stroke-width:4\"/><line x1=\"147.641\" y1=\"97.483\" x2=\"140.0\" y2=\"108.0\" stroke-linecap=\"round\" style=\"stroke:rgb(241,212,183);stroke-width:4\"/><line x1=\"261\" y1=\"146\" x2=\"253.359\" y2=\"156.517\" stroke-linecap=\"round\" style=\"stroke:rgb(172,192,210);stroke-width:4\"/><line x1=\"253.359\" y1=\"156.517\" x2=\"265.723\" y2=\"152.5\" stroke-linecap=\"round\" style=\"stroke:rgb(172,192,210);stroke-width:4\"/><line x1=\"265.723\" y1=\"152.5\" x2=\"253.359\" y2=\"148.483\" stroke-linecap=\"round\" style=\"stroke:rgb(172,192,210);stroke-width:4\"/><line x1=\"253.359\" y1=\"148.483\" x2=\"261.0\" y2=\"159.0\" stroke-linecap=\"round\" style=\"stroke:rgb(172,192,210);stroke-width:4\"/><line x1=\"261.0\" y1=\"159.0\" x2=\"261.0\" y2=\"146.0\" stroke-linecap=\"round\" style=\"stroke:rgb(172,192,210);stroke-width:4\"/><line x1=\"464\" y1=\"364\" x2=\"464.0\" y2=\"351.0\" stroke-linecap=\"round\" style=\"stroke:rgb(251,250,246);stroke-width:4\"/><line x1=\"464.0\" y1=\"351.0\" x2=\"456.359\" y2=\"361.517\" stroke-linecap=\"round\" style=\"stroke:rgb(251,250,246);stroke-width:4\"/><line x1=\"456.359\" y1=\"361.517\" x2=\"468.723\" y2=\"357.5\" stroke-linecap=\"round\" style=\"stroke:rgb(251,250,246);stroke-width:4\"/><line x1=\"468.723\" y1=\"357.5\" x2=\"456.359\" y2=\"353.483\" stroke-linecap=\"round\" style=\"stroke:rgb(251,250,246);stroke-width:4\"/><line x1=\"456.359\" y1=\"353.483\" x2=\"464.0\" y2=\"364.0\" stroke-linecap=\"round\" style=\"stroke:rgb(251,250,246);stroke-width:4\"/><line x1=\"79\" y1=\"376\" x2=\"86.641\" y2=\"386.517\" stroke-linecap=\"round\" style=\"stroke:rgb(171,202,201);stroke-width:4\"/><line x1=\"86.641\" y1=\"386.517\" x2=\"86.641\" y2=\"373.517\" stroke-linecap=\"round\" style=\"stroke:rgb(171,202,201);stroke-width:4\"/><line x1=\"86.641\" y1=\"373.517\" x2=\"79.0\" y2=\"384.034\" stroke-linecap=\"round\" style=\"stroke:rgb(171,202,201);stroke-width:4\"/><line x1=\"79.0\" y1=\"384.034\" x2=\"91.364\" y2=\"380.017\" stroke-linecap=\"round\" style=\"stroke:rgb(171,202,201);stroke-width:4\"/><line x1=\"91.364\" y1=\"380.017\" x2=\"79.0\" y2=\"376.0\" stroke-linecap=\"round\" style=\"stroke:rgb(171,202,201);stroke-width:4\"/><line x1=\"183\" y1=\"376\" x2=\"170.636\" y2=\"371.983\" stroke-linecap=\"round\" style=\"stroke:rgb(172,253,235);stroke-width:4\"/><line x1=\"170.636\" y1=\"371.983\" x2=\"178.277\" y2=\"382.5\" stroke-linecap=\"round\" style=\"stroke:rgb(172,253,235);stroke-width:4\"/><line x1=\"178.277\" y1=\"382.5\" x2=\"178.277\" y2=\"369.5\" stroke-linecap=\"round\" style=\"stroke:rgb(172,253,235);stroke-width:4\"/><line x1=\"178.277\" y1=\"369.5\" x2=\"170.636\" y2=\"380.017\" stroke-linecap=\"round\" style=\"stroke:rgb(172,253,235);stroke-width:4\"/><line x1=\"170.636\" y1=\"380.017\" x2=\"183.0\" y2=\"376.0\" stroke-linecap=\"round\" style=\"stroke:rgb(172,253,235);stroke-width:4\"/><line x1=\"404\" y1=\"93\" x2=\"416.364\" y2=\"88.983\" stroke-linecap=\"round\" style=\"stroke:rgb(239,195,169);stroke-width:4\"/><line x1=\"416.364\" y1=\"88.983\" x2=\"404.0\" y2=\"84.966\" stroke-linecap=\"round\" style=\"stroke:rgb(239,195,169);stroke-width:4\"/><line x1=\"404.0\" y1=\"84.966\" x2=\"411.641\" y2=\"95.483\" stroke-linecap=\"round\" style=\"stroke:rgb(239,195,169);stroke-width:4\"/><line x1=\"411.641\" y1=\"95.483\" x2=\"411.641\" y2=\"82.483\" stroke-linecap=\"round\" style=\"stroke:rgb(239,195,169);stroke-width:4\"/><line x1=\"411.641\" y1=\"82.483\" x2=\"404.0\" y2=\"93.0\" stroke-linecap=\"round\" style=\"stroke:rgb(239,195,169);stroke-width:4\"/><line x1=\"429\" y1=\"230\" x2=\"421.359\" y2=\"240.517\" stroke-linecap=\"round\" style=\"stroke:rgb(234,222,160);stroke-width:4\"/><line x1=\"421.359\" y1=\"240.517\" x2=\"433.723\" y2=\"236.5\" stroke-linecap=\"round\" style=\"stroke:rgb(234,222,160);stroke-width:4\"/><line x1=\"433.723\" y1=\"236.5\" x2=\"421.359\" y2=\"232.483\" stroke-linecap=\"round\" style=\"stroke:rgb(234,222,160);stroke-width:4\"/><line x1=\"421.359\" y1=\"232.483\" x2=\"429.0\" y2=\"243.0\" stroke-linecap=\"round\" style=\"stroke:rgb(234,222,160);stroke-width:4\"/><line x1=\"429.0\" y1=\"243.0\" x2=\"429.0\" y2=\"230.0\" stroke-linecap=\"round\" style=\"stroke:rgb(234,222,160);stroke-width:4\"/><line x1=\"532\" y1=\"429\" x2=\"532.0\" y2=\"416.0\" stroke-linecap=\"round\" style=\"stroke:rgb(186,217,173);stroke-width:4\"/><line x1=\"532.0\" y1=\"416.0\" x2=\"524.359\" y2=\"426.517\" stroke-linecap=\"round\" style=\"stroke:rgb(186,217,173);stroke-width:4\"/><line x1=\"524.359\" y1=\"426.517\" x2=\"536.723\" y2=\"422.5\" stroke-linecap=\"round\" style=\"stroke:rgb(186,217,173);stroke-width:4\"/><line x1=\"536.723\" y1=\"422.5\" x2=\"524.359\" y2=\"418.483\" stroke-linecap=\"round\" style=\"stroke:rgb(186,217,173);stroke-width:4\"/><line x1=\"524.359\" y1=\"418.483\" x2=\"532.0\" y2=\"429.0\" stroke-linecap=\"round\" style=\"stroke:rgb(186,217,173);stroke-width:4\"/><line x1=\"641\" y1=\"83\" x2=\"648.641\" y2=\"93.517\" stroke-linecap=\"round\" style=\"stroke:rgb(223,194,236);stroke-width:4\"/><line x1=\"648.641\" y1=\"93.517\" x2=\"648.641\" y2=\"80.517\" stroke-linecap=\"round\" style=\"stroke:rgb(223,194,236);stroke-width:4\"/><line x1=\"648.641\" y1=\"80.517\" x2=\"641.0\" y2=\"91.034\" stroke-linecap=\"round\" style=\"stroke:rgb(223,194,236);stroke-width:4\"/><line x1=\"641.0\" y1=\"91.034\" x2=\"653.364\" y2=\"87.017\" stroke-linecap=\"round\" style=\"stroke:rgb(223,194,236);stroke-width:4\"/><line x1=\"653.364\" y1=\"87.017\" x2=\"641.0\" y2=\"83.0\" stroke-linecap=\"round\" style=\"stroke:rgb(223,194,236);stroke-width:4\"/><line x1=\"214\" y1=\"385\" x2=\"201.636\" y2=\"380.983\" stroke-linecap=\"round\" style=\"stroke:rgb(228,238,251);stroke-width:4\"/><line x1=\"201.636\" y1=\"380.983\" x2=\"209.277\" y2=\"391.5\" stroke-linecap=\"round\" style=\"stroke:rgb(228,238,251);stroke-width:4\"/><line x1=\"209.277\" y1=\"391.5\" x2=\"209.277\" y2=\"378.5\" stroke-linecap=\"round\" style=\"stroke:rgb(228,238,251);stroke-width:4\"/><line x1=\"209.277\" y1=\"378.5\" x2=\"201.636\" y2=\"389.017\" stroke-linecap=\"round\" style=\"stroke:rgb(228,238,251);stroke-width:4\"/><line x1=\"201.636\" y1=\"389.017\" x2=\"214.0\" y2=\"385.0\" stroke-linecap=\"round\" style=\"stroke:rgb(228,238,251);stroke-width:4\"/><line x1=\"186\" y1=\"309\" x2=\"198.364\" y2=\"304.983\" stroke-linecap=\"round\" style=\"stroke:rgb(238,238,212);stroke-width:4\"/><line x1=\"198.364\" y1=\"304.983\" x2=\"186.0\" y2=\"300.966\" stroke-linecap=\"round\" style=\"stroke:rgb(238,238,212);stroke-width:4\"/><line x1=\"186.0\" y1=\"300.966\" x2=\"193.641\" y2=\"311.483\" stroke-linecap=\"round\" style=\"stroke:rgb(238,238,212);stroke-width:4\"/><line x1=\"193.641\" y1=\"311.483\" x2=\"193.641\" y2=\"298.483\" stroke-linecap=\"round\" style=\"stroke:rgb(238,238,212);stroke-width:4\"/><line x1=\"193.641\" y1=\"298.483\" x2=\"186.0\" y2=\"309.0\" stroke-linecap=\"round\" style=\"stroke:rgb(238,238,212);stroke-width:4\"/><line x1=\"439\" y1=\"183\" x2=\"431.359\" y2=\"193.517\" stroke-linecap=\"round\" style=\"stroke:rgb(254,209,221);stroke-width:4\"/><line x1=\"431.359\" y1=\"193.517\" x2=\"443.723\" y2=\"189.5\" stroke-linecap=\"round\" style=\"stroke:rgb(254,209,221);stroke-width:4\"/><line x1=\"443.723\" y1=\"189.5\" x2=\"431.359\" y2=\"185.483\" stroke-linecap=\"round\" style=\"stroke:rgb(254,209,221);stroke-width:4\"/><line x1=\"431.359\" y1=\"185.483\" x2=\"439.0\" y2=\"196.0\" stroke-linecap=\"round\" style=\"stroke:rgb(254,209,221);stroke-width:4\"/><line x1=\"439.0\" y1=\"196.0\" x2=\"439.0\" y2=\"183.0\" stroke-linecap=\"round\" style=\"stroke:rgb(254,209,221);stroke-width:4\"/><line x1=\"531\" y1=\"407\" x2=\"531.0\" y2=\"394.0\" stroke-linecap=\"round\" style=\"stroke:rgb(173,176,204);stroke-width:4\"/><line x1=\"531.0\" y1=\"394.0\" x2=\"523.359\" y2=\"404.517\" stroke-linecap=\"round\" style=\"stroke:rgb(173,176,204);stroke-width:4\"/><line x1=\"523.359\" y1=\"404.517\" x2=\"535.723\" y2=\"400.5\" stroke-linecap=\"round\" style=\"stroke:rgb(173,176,204);stroke-width:4\"/><line x1=\"535.723\" y1=\"400.5\" x2=\"523.359\" y2=\"396.483\" stroke-linecap=\"round\" style=\"stroke:rgb(173,176,204);stroke-width:4\"/><line x1=\"523.359\" y1=\"396.483\" x2=\"531.0\" y2=\"407.0\" stroke-linecap=\"round\" style=\"stroke:rgb(173,176,204);stroke-width:4\"/><line x1=\"146\" y1=\"128\" x2=\"153.641\" y2=\"138.517\" stroke-linecap=\"round\" style=\"stroke:rgb(237,214,217);stroke-width:4\"/><line x1=\"153.641\" y1=\"138.517\" x2=\"153.641\" y2=\"125.517\" stroke-linecap=\"round\" style=\"stroke:rgb(237,214,217);stroke-width:4\"/><line x1=\"153.641\" y1=\"125.517\" x2=\"146.0\" y2=\"136.034\" stroke-linecap=\"round\" style=\"stroke:rgb(237,214,217);stroke-width:4\"/><line x1=\"146.0\" y1=\"136.034\" x2=\"158.364\" y2=\"132.017\" stroke-linecap=\"round\" style=\"stroke:rgb(237,214,217);stroke-width:4\"/><line x1=\"158.364\" y1=\"132.017\" x2=\"146.0\" y2=\"128.0\" stroke-linecap=\"round\" style=\"stroke:rgb(237,214,217);stroke-width:4\"/><line x1=\"140\" y1=\"152\" x2=\"127.636\" y2=\"147.983\" stroke-linecap=\"round\" style=\"stroke:rgb(204,161,196);stroke-width:4\"/><line x1=\"127.636\" y1=\"147.983\" x2=\"135.277\" y2=\"158.5\" stroke-linecap=\"round\" style=\"stroke:rgb(204,161,196);stroke-width:4\"/><line x1=\"135.277\" y1=\"158.5\" x2=\"135.277\" y2=\"145.5\" stroke-linecap=\"round\" style=\"stroke:rgb(204,161,196);stroke-width:4\"/><line x1=\"135.277\" y1=\"145.5\" x2=\"127.636\" y2=\"156.017\" stroke-linecap=\"round\" style=\"stroke:rgb(204,161,196);stroke-width:4\"/><line x1=\"127.636\" y1=\"156.017\" x2=\"140.0\" y2=\"152.0\" stroke-linecap=\"round\" style=\"stroke:rgb(204,161,196);stroke-width:4\"/><line x1=\"681\" y1=\"89\" x2=\"693.364\" y2=\"84.983\" stroke-linecap=\"round\" style=\"stroke:rgb(179,178,238);stroke-width:4\"/><line x1=\"693.364\" y1=\"84.983\" x2=\"681.0\" y2=\"80.966\" stroke-linecap=\"round\" style=\"stroke:rgb(179,178,238);stroke-width:4\"/><line x1=\"681.0\" y1=\"80.966\" x2=\"688.641\" y2=\"91.483\" stroke-linecap=\"round\" style=\"stroke:rgb(179,178,238);stroke-width:4\"/><line x1=\"688.641\" y1=\"91.483\" x2=\"688.641\" y2=\"78.483\" stroke-linecap=\"round\" style=\"stroke:rgb(179,178,238);stroke-width:4\"/><line x1=\"688.641\" y1=\"78.483\" x2=\"681.0\" y2=\"89.0\" stroke-linecap=\"round\" style=\"stroke:rgb(179,178,238);stroke-width:4\"/><line x1=\"561\" y1=\"66\" x2=\"553.359\" y2=\"76.517\" stroke-linecap=\"round\" style=\"stroke:rgb(192,185,214);stroke-width:4\"/><line x1=\"553.359\" y1=\"76.517\" x2=\"565.723\" y2=\"72.5\" stroke-linecap=\"round\" style=\"stroke:rgb(192,185,214);stroke-width:4\"/><line x1=\"565.723\" y1=\"72.5\" x2=\"553.359\" y2=\"68.483\" stroke-linecap=\"round\" style=\"stroke:rgb(192,185,214);stroke-width:4\"/><line x1=\"553.359\" y1=\"68.483\" x2=\"561.0\" y2=\"79.0\" stroke-linecap=\"round\" style=\"stroke:rgb(192,185,214);stroke-width:4\"/><line x1=\"561.0\" y1=\"79.0\" x2=\"561.0\" y2=\"66.0\" stroke-linecap=\"round\" style=\"stroke:rgb(192,185,214);stroke-width:4\"/><line x1=\"91\" y1=\"442\" x2=\"91.0\" y2=\"429.0\" stroke-linecap=\"round\" style=\"stroke:rgb(198,232,164);stroke-width:4\"/><line x1=\"91.0\" y1=\"429.0\" x2=\"83.359\" y2=\"439.517\" stroke-linecap=\"round\" style=\"stroke:rgb(198,232,164);stroke-width:4\"/><line x1=\"83.359\" y1=\"439.517\" x2=\"95.723\" y2=\"435.5\" stroke-linecap=\"round\" style=\"stroke:rgb(198,232,164);stroke-width:4\"/><line x1=\"95.723\" y1=\"435.5\" x2=\"83.359\" y2=\"431.483\" stroke-linecap=\"round\" style=\"stroke:rgb(198,232,164);stroke-width:4\"/><line x1=\"83.359\" y1=\"431.483\" x2=\"91.0\" y2=\"442.0\" stroke-linecap=\"round\" style=\"stroke:rgb(198,232,164);stroke-width:4\"/><line x1=\"495\" y1=\"236\" x2=\"502.641\" y2=\"246.517\" stroke-linecap=\"round\" style=\"stroke:rgb(213,236,232);stroke-width:4\"/><line x1=\"502.641\" y1=\"246.517\" x2=\"502.641\" y2=\"233.517\" stroke-linecap=\"round\" style=\"stroke:rgb(213,236,232);stroke-width:4\"/><line x1=\"502.641\" y1=\"233.517\" x2=\"495.0\" y2=\"244.034\" stroke-linecap=\"round\" style=\"stroke:rgb(213,236,232);stroke-width:4\"/><line x1=\"495.0\" y1=\"244.034\" x2=\"507.364\" y2=\"240.017\" stroke-linecap=\"round\" style=\"stroke:rgb(213,236,232);stroke-width:4\"/><line x1=\"507.364\" y1=\"240.017\" x2=\"495.0\" y2=\"236.0\" stroke-linecap=\"round\" style=\"stroke:rgb(213,236,232);stroke-width:4\"/><line x1=\"281\" y1=\"282\" x2=\"268.636\" y2=\"277.983\" stroke-linecap=\"round\" style=\"stroke:rgb(178,162,241);stroke-width:4\"/><line x1=\"268.636\" y1=\"277.983\" x2=\"276.277\" y2=\"288.5\" stroke-linecap=\"round\" style=\"stroke:rgb(178,162,241);stroke-width:4\"/><line x1=\"276.277\" y1=\"288.5\" x2=\"276.277\" y2=\"275.5\" stroke-linecap=\"round\" style=\"stroke:rgb(178,162,241);stroke-width:4\"/><line x1=\"276.277\" y1=\"275.5\" x2=\"268.636\" y2=\"286.017\" stroke-linecap=\"round\" style=\"stroke:rgb(178,162,241);stroke-width:4\"/><line x1=\"268.636\" y1=\"286.017\" x2=\"281.0\" y2=\"282.0\" stroke-linecap=\"round\" style=\"stroke:rgb(178,162,241);stroke-width:4\"/><line x1=\"245\" y1=\"386\" x2=\"257.364\" y2=\"381.983\" stroke-linecap=\"round\" style=\"stroke:rgb(244,188,253);stroke-width:4\"/><line x1=\"257.364\" y1=\"381.983\" x2=\"245.0\" y2=\"377.966\" stroke-linecap=\"round\" style=\"stroke:rgb(244,188,253);stroke-width:4\"/><line x1=\"245.0\" y1=\"377.966\" x2=\"252.641\" y2=\"388.483\" stroke-linecap=\"round\" style=\"stroke:rgb(244,188,253);stroke-width:4\"/><line x1=\"252.641\" y1=\"388.483\" x2=\"252.641\" y2=\"375.483\" stroke-linecap=\"round\" style=\"stroke:rgb(244,188,253);stroke-width:4\"/><line x1=\"252.641\" y1=\"375.483\" x2=\"245.0\" y2=\"386.0\" stroke-linecap=\"round\" style=\"stroke:rgb(244,188,253);stroke-width:4\"/><line x1=\"156\" y1=\"187\" x2=\"148.359\" y2=\"197.517\" stroke-linecap=\"round\" style=\"stroke:rgb(250,169,211);stroke-width:4\"/><line x1=\"148.359\" y1=\"197.517\" x2=\"160.723\" y2=\"193.5\" stroke-linecap=\"round\" style=\"stroke:rgb(250,169,211);stroke-width:4\"/><line x1=\"160.723\" y1=\"193.5\" x2=\"148.359\" y2=\"189.483\" stroke-linecap=\"round\" style=\"stroke:rgb(250,169,211);stroke-width:4\"/><line x1=\"148.359\" y1=\"189.483\" x2=\"156.0\" y2=\"200.0\" stroke-linecap=\"round\" style=\"stroke:rgb(250,169,211);stroke-width:4\"/><line x1=\"156.0\" y1=\"200.0\" x2=\"156.0\" y2=\"187.0\" stroke-linecap=\"round\" style=\"stroke:rgb(250,169,211);stroke-width:4\"/><line x1=\"316\" y1=\"266\" x2=\"316.0\" y2=\"253.0\" stroke-linecap=\"round\" style=\"stroke:rgb(215,159,179);stroke-width:4\"/><line x1=\"316.0\" y1=\"253.0\" x2=\"308.359\" y2=\"263.517\" stroke-linecap=\"round\" style=\"stroke:rgb(215,159,179);stroke-width:4\"/><line x1=\"308.359\" y1=\"263.517\" x2=\"320.723\" y2=\"259.5\" stroke-linecap=\"round\" style=\"stroke:rgb(215,159,179);stroke-width:4\"/><line x1=\"320.723\" y1=\"259.5\" x2=\"308.359\" y2=\"255.483\" stroke-linecap=\"round\" style=\"stroke:rgb(215,159,179);stroke-width:4\"/><line x1=\"308.359\" y1=\"255.483\" x2=\"316.0\" y2=\"266.0\" stroke-linecap=\"round\" style=\"stroke:rgb(215,159,179);stroke-width:4\"/><line x1=\"566\" y1=\"51\" x2=\"573.641\" y2=\"61.517\" stroke-linecap=\"round\" style=\"stroke:rgb(166,217,192);stroke-width:4\"/><line x1=\"573.641\" y1=\"61.517\" x2=\"573.641\" y2=\"48.517\" stroke-linecap=\"round\" style=\"stroke:rgb(166,217,192);stroke-width:4\"/><line x1=\"573.641\" y1=\"48.517\" x2=\"566.0\" y2=\"59.034\" stroke-linecap=\"round\" style=\"stroke:rgb(166,217,192);stroke-width:4\"/><line x1=\"566.0\" y1=\"59.034\" x2=\"578.364\" y2=\"55.017\" stroke-linecap=\"round\" style=\"stroke:rgb(166,217,192);stroke-width:4\"/><line x1=\"578.364\" y1=\"55.017\" x2=\"566.0\" y2=\"51.0\" stroke-linecap=\"round\" style=\"stroke:rgb(166,217,192);stroke-width:4\"/><line x1=\"230\" y1=\"188\" x2=\"217.636\" y2=\"183.983\" stroke-linecap=\"round\" style=\"stroke:rgb(181,172,167);stroke-width:4\"/><line x1=\"217.636\" y1=\"183.983\" x2=\"225.277\" y2=\"194.5\" stroke-linecap=\"round\" style=\"stroke:rgb(181,172,167);stroke-width:4\"/><line x1=\"225.277\" y1=\"194.5\" x2=\"225.277\" y2=\"181.5\" stroke-linecap=\"round\" style=\"stroke:rgb(181,172,167);stroke-width:4\"/><line x1=\"225.277\" y1=\"181.5\" x2=\"217.636\" y2=\"192.017\" stroke-linecap=\"round\" style=\"stroke:rgb(181,172,167);stroke-width:4\"/><line x1=\"217.636\" y1=\"192.017\" x2=\"230.0\" y2=\"188.0\" stroke-linecap=\"round\" style=\"stroke:rgb(181,172,167);stroke-width:4\"/><line x1=\"323\" y1=\"136\" x2=\"335.364\" y2=\"131.983\" stroke-linecap=\"round\" style=\"stroke:rgb(169,248,196);stroke-width:4\"/><line x1=\"335.364\" y1=\"131.983\" x2=\"323.0\" y2=\"127.966\" stroke-linecap=\"round\" style=\"stroke:rgb(169,248,196);stroke-width:4\"/><line x1=\"323.0\" y1=\"127.966\" x2=\"330.641\" y2=\"138.483\" stroke-linecap=\"round\" style=\"stroke:rgb(169,248,196);stroke-width:4\"/><line x1=\"330.641\" y1=\"138.483\" x2=\"330.641\" y2=\"125.483\" stroke-linecap=\"round\" style=\"stroke:rgb(169,248,196);stroke-width:4\"/><line x1=\"330.641\" y1=\"125.483\" x2=\"323.0\" y2=\"136.0\" stroke-linecap=\"round\" style=\"stroke:rgb(169,248,196);stroke-width:4\"/><line x1=\"557\" y1=\"283\" x2=\"549.359\" y2=\"293.517\" stroke-linecap=\"round\" style=\"stroke:rgb(228,214,236);stroke-width:4\"/><line x1=\"549.359\" y1=\"293.517\" x2=\"561.723\" y2=\"289.5\" stroke-linecap=\"round\" style=\"stroke:rgb(228,214,236);stroke-width:4\"/><line x1=\"561.723\" y1=\"289.5\" x2=\"549.359\" y2=\"285.483\" stroke-linecap=\"round\" style=\"stroke:rgb(228,214,236);stroke-width:4\"/><line x1=\"549.359\" y1=\"285.483\" x2=\"557.0\" y2=\"296.0\" stroke-linecap=\"round\" style=\"stroke:rgb(228,214,236);stroke-width:4\"/><line x1=\"557.0\" y1=\"296.0\" x2=\"557.0\" y2=\"283.0\" stroke-linecap=\"round\" style=\"stroke:rgb(228,214,236);stroke-width:4\"/><line x1=\"725\" y1=\"53\" x2=\"725.0\" y2=\"40.0\" stroke-linecap=\"round\" style=\"stroke:rgb(170,205,253);stroke-width:4\"/><line x1=\"725.0\" y1=\"40.0\" x2=\"717.359\" y2=\"50.517\" stroke-linecap=\"round\" style=\"stroke:rgb(170,205,253);stroke-width:4\"/><line x1=\"717.359\" y1=\"50.517\" x2=\"729.723\" y2=\"46.5\" stroke-linecap=\"round\" style=\"stroke:rgb(170,205,253);stroke-width:4\"/><line x1=\"729.723\" y1=\"46.5\" x2=\"717.359\" y2=\"42.483\" stroke-linecap=\"round\" style=\"stroke:rgb(170,205,253);stroke-width:4\"/><line x1=\"717.359\" y1=\"42.483\" x2=\"725.0\" y2=\"53.0\" stroke-linecap=\"round\" style=\"stroke:rgb(170,205,253);stroke-width:4\"/><line x1=\"103\" y1=\"100\" x2=\"110.641\" y2=\"110.517\" stroke-linecap=\"round\" style=\"stroke:rgb(156,187,239);stroke-width:4\"/><line x1=\"110.641\" y1=\"110.517\" x2=\"110.641\" y2=\"97.517\" stroke-linecap=\"round\" style=\"stroke:rgb(156,187,239);stroke-width:4\"/><line x1=\"110.641\" y1=\"97.517\" x2=\"103.0\" y2=\"108.034\" stroke-linecap=\"round\" style=\"stroke:rgb(156,187,239);stroke-width:4\"/><line x1=\"103.0\" y1=\"108.034\" x2=\"115.364\" y2=\"104.017\" stroke-linecap=\"round\" style=\"stroke:rgb(156,187,239);stroke-width:4\"/><line x1=\"115.364\" y1=\"104.017\" x2=\"103.0\" y2=\"100.0\" stroke-linecap=\"round\" style=\"stroke:rgb(156,187,239);stroke-width:4\"/><line x1=\"347\" y1=\"303\" x2=\"334.636\" y2=\"298.983\" stroke-linecap=\"round\" style=\"stroke:rgb(223,194,204);stroke-width:4\"/><line x1=\"334.636\" y1=\"298.983\" x2=\"342.277\" y2=\"309.5\" stroke-linecap=\"round\" style=\"stroke:rgb(223,194,204);stroke-width:4\"/><line x1=\"342.277\" y1=\"309.5\" x2=\"342.277\" y2=\"296.5\" stroke-linecap=\"round\" style=\"stroke:rgb(223,194,204);stroke-width:4\"/><line x1=\"342.277\" y1=\"296.5\" x2=\"334.636\" y2=\"307.017\" stroke-linecap=\"round\" style=\"stroke:rgb(223,194,204);stroke-width:4\"/><line x1=\"334.636\" y1=\"307.017\" x2=\"347.0\" y2=\"303.0\" stroke-linecap=\"round\" style=\"stroke:rgb(223,194,204);stroke-width:4\"/><line x1=\"481\" y1=\"381\" x2=\"493.364\" y2=\"376.983\" stroke-linecap=\"round\" style=\"stroke:rgb(246,240,172);stroke-width:4\"/><line x1=\"493.364\" y1=\"376.983\" x2=\"481.0\" y2=\"372.966\" stroke-linecap=\"round\" style=\"stroke:rgb(246,240,172);stroke-width:4\"/><line x1=\"481.0\" y1=\"372.966\" x2=\"488.641\" y2=\"383.483\" stroke-linecap=\"round\" style=\"stroke:rgb(246,240,172);stroke-width:4\"/><line x1=\"488.641\" y1=\"383.483\" x2=\"488.641\" y2=\"370.483\" stroke-linecap=\"round\" style=\"stroke:rgb(246,240,172);stroke-width:4\"/><line x1=\"488.641\" y1=\"370.483\" x2=\"481.0\" y2=\"381.0\" stroke-linecap=\"round\" style=\"stroke:rgb(246,240,172);stroke-width:4\"/><line x1=\"641\" y1=\"354\" x2=\"633.359\" y2=\"364.517\" stroke-linecap=\"round\" style=\"stroke:rgb(195,164,242);stroke-width:4\"/><line x1=\"633.359\" y1=\"364.517\" x2=\"645.723\" y2=\"360.5\" stroke-linecap=\"round\" style=\"stroke:rgb(195,164,242);stroke-width:4\"/><line x1=\"645.723\" y1=\"360.5\" x2=\"633.359\" y2=\"356.483\" stroke-linecap=\"round\" style=\"stroke:rgb(195,164,242);stroke-width:4\"/><line x1=\"633.359\" y1=\"356.483\" x2=\"641.0\" y2=\"367.0\" stroke-linecap=\"round\" style=\"stroke:rgb(195,164,242);stroke-width:4\"/><line x1=\"641.0\" y1=\"367.0\" x2=\"641.0\" y2=\"354.0\" stroke-linecap=\"round\" style=\"stroke:rgb(195,164,242);stroke-width:4\"/><line x1=\"456\" y1=\"366\" x2=\"456.0\" y2=\"353.0\" stroke-linecap=\"round\" style=\"stroke:rgb(235,170,240);stroke-width:4\"/><line x1=\"456.0\" y1=\"353.0\" x2=\"448.359\" y2=\"363.517\" stroke-linecap=\"round\" style=\"stroke:rgb(235,170,240);stroke-width:4\"/><line x1=\"448.359\" y1=\"363.517\" x2=\"460.723\" y2=\"359.5\" stroke-linecap=\"round\" style=\"stroke:rgb(235,170,240);stroke-width:4\"/><line x1=\"460.723\" y1=\"359.5\" x2=\"448.359\" y2=\"355.483\" stroke-linecap=\"round\" style=\"stroke:rgb(235,170,240);stroke-width:4\"/><line x1=\"448.359\" y1=\"355.483\" x2=\"456.0\" y2=\"366.0\" stroke-linecap=\"round\" style=\"stroke:rgb(235,170,240);stroke-width:4\"/><line x1=\"260\" y1=\"84\" x2=\"267.641\" y2=\"94.517\" stroke-linecap=\"round\" style=\"stroke:rgb(156,219,213);stroke-width:4\"/><line x1=\"267.641\" y1=\"94.517\" x2=\"267.641\" y2=\"81.517\" stroke-linecap=\"round\" style=\"stroke:rgb(156,219,213);stroke-width:4\"/><line x1=\"267.641\" y1=\"81.517\" x2=\"260.0\" y2=\"92.034\" stroke-linecap=\"round\" style=\"stroke:rgb(156,219,213);stroke-width:4\"/><line x1=\"260.0\" y1=\"92.034\" x2=\"272.364\" y2=\"88.017\" stroke-linecap=\"round\" style=\"stroke:rgb(156,219,213);stroke-width:4\"/><line x1=\"272.364\" y1=\"88.017\" x2=\"260.0\" y2=\"84.0\" stroke-linecap=\"round\" style=\"stroke:rgb(156,219,213);stroke-width:4\"/><line x1=\"57\" y1=\"267\" x2=\"44.636\" y2=\"262.983\" stroke-linecap=\"round\" style=\"stroke:rgb(158,218,189);stroke-width:4\"/><line x1=\"44.636\" y1=\"262.983\" x2=\"52.277\" y2=\"273.5\" stroke-linecap=\"round\" style=\"stroke:rgb(158,218,189);stroke-width:4\"/><line x1=\"52.277\" y1=\"273.5\" x2=\"52.277\" y2=\"260.5\" stroke-linecap=\"round\" style=\"stroke:rgb(158,218,189);stroke-width:4\"/><line x1=\"52.277\" y1=\"260.5\" x2=\"44.636\" y2=\"271.017\" stroke-linecap=\"round\" style=\"stroke:rgb(158,218,189);stroke-width:4\"/><line x1=\"44.636\" y1=\"271.017\" x2=\"57.0\" y2=\"267.0\" stroke-linecap=\"round\" style=\"stroke:rgb(158,218,189);stroke-width:4\"/><line x1=\"575\" y1=\"404\" x2=\"587.364\" y2=\"399.983\" stroke-linecap=\"round\" style=\"stroke:rgb(195,239,195);stroke-width:4\"/><line x1=\"587.364\" y1=\"399.983\" x2=\"575.0\" y2=\"395.966\" stroke-linecap=\"round\" style=\"stroke:rgb(195,239,195);stroke-width:4\"/><line x1=\"575.0\" y1=\"395.966\" x2=\"582.641\" y2=\"406.483\" stroke-linecap=\"round\" style=\"stroke:rgb(195,239,195);stroke-width:4\"/><line x1=\"582.641\" y1=\"406.483\" x2=\"582.641\" y2=\"393.483\" stroke-linecap=\"round\" style=\"stroke:rgb(195,239,195);stroke-width:4\"/><line x1=\"582.641\" y1=\"393.483\" x2=\"575.0\" y2=\"404.0\" stroke-linecap=\"round\" style=\"stroke:rgb(195,239,195);stroke-width:4\"/><line x1=\"180\" y1=\"83\" x2=\"172.359\" y2=\"93.517\" stroke-linecap=\"round\" style=\"stroke:rgb(228,246,220);stroke-width:4\"/><line x1=\"172.359\" y1=\"93.517\" x2=\"184.723\" y2=\"89.5\" stroke-linecap=\"round\" style=\"stroke:rgb(228,246,220);stroke-width:4\"/><line x1=\"184.723\" y1=\"89.5\" x2=\"172.359\" y2=\"85.483\" stroke-linecap=\"round\" style=\"stroke:rgb(228,246,220);stroke-width:4\"/><line x1=\"172.359\" y1=\"85.483\" x2=\"180.0\" y2=\"96.0\" stroke-linecap=\"round\" style=\"stroke:rgb(228,246,220);stroke-width:4\"/><line x1=\"180.0\" y1=\"96.0\" x2=\"180.0\" y2=\"83.0\" stroke-linecap=\"round\" style=\"stroke:rgb(228,246,220);stroke-width:4\"/><line x1=\"610\" y1=\"297\" x2=\"610.0\" y2=\"284.0\" stroke-linecap=\"round\" style=\"stroke:rgb(182,234,173);stroke-width:4\"/><line x1=\"610.0\" y1=\"284.0\" x2=\"602.359\" y2=\"294.517\" stroke-linecap=\"round\" style=\"stroke:rgb(182,234,173);stroke-width:4\"/><line x1=\"602.359\" y1=\"294.517\" x2=\"614.723\" y2=\"290.5\" stroke-linecap=\"round\" style=\"stroke:rgb(182,234,173);stroke-width:4\"/><line x1=\"614.723\" y1=\"290.5\" x2=\"602.359\" y2=\"286.483\" stroke-linecap=\"round\" style=\"stroke:rgb(182,234,173);stroke-width:4\"/><line x1=\"602.359\" y1=\"286.483\" x2=\"610.0\" y2=\"297.0\" stroke-linecap=\"round\" style=\"stroke:rgb(182,234,173);stroke-width:4\"/><line x1=\"89\" y1=\"146\" x2=\"96.641\" y2=\"156.517\" stroke-linecap=\"round\" style=\"stroke:rgb(230,156,192);stroke-width:4\"/><line x1=\"96.641\" y1=\"156.517\" x2=\"96.641\" y2=\"143.517\" stroke-linecap=\"round\" style=\"stroke:rgb(230,156,192);stroke-width:4\"/><line x1=\"96.641\" y1=\"143.517\" x2=\"89.0\" y2=\"154.034\" stroke-linecap=\"round\" style=\"stroke:rgb(230,156,192);stroke-width:4\"/><line x1=\"89.0\" y1=\"154.034\" x2=\"101.364\" y2=\"150.017\" stroke-linecap=\"round\" style=\"stroke:rgb(230,156,192);stroke-width:4\"/><line x1=\"101.364\" y1=\"150.017\" x2=\"89.0\" y2=\"146.0\" stroke-linecap=\"round\" style=\"stroke:rgb(230,156,192);stroke-width:4\"/><line x1=\"474\" y1=\"330\" x2=\"461.636\" y2=\"325.983\" stroke-linecap=\"round\" style=\"stroke:rgb(227,239,183);stroke-width:4\"/><line x1=\"461.636\" y1=\"325.983\" x2=\"469.277\" y2=\"336.5\" stroke-linecap=\"round\" style=\"stroke:rgb(227,239,183);stroke-width:4\"/><line x1=\"469.277\" y1=\"336.5\" x2=\"469.277\" y2=\"323.5\" stroke-linecap=\"round\" style=\"stroke:rgb(227,239,183);stroke-width:4\"/><line x1=\"469.277\" y1=\"323.5\" x2=\"461.636\" y2=\"334.017\" stroke-linecap=\"round\" style=\"stroke:rgb(227,239,183);stroke-width:4\"/><line x1=\"461.636\" y1=\"334.017\" x2=\"474.0\" y2=\"330.0\" stroke-linecap=\"round\" style=\"stroke:rgb(227,239,183);stroke-width:4\"/><line x1=\"487\" y1=\"182\" x2=\"499.364\" y2=\"177.983\" stroke-linecap=\"round\" style=\"stroke:rgb(224,159,226);stroke-width:4\"/><line x1=\"499.364\" y1=\"177.983\" x2=\"487.0\" y2=\"173.966\" stroke-linecap=\"round\" style=\"stroke:rgb(224,159,226);stroke-width:4\"/><line x1=\"487.0\" y1=\"173.966\" x2=\"494.641\" y2=\"184.483\" stroke-linecap=\"round\" style=\"stroke:rgb(224,159,226);stroke-width:4\"/><line x1=\"494.641\" y1=\"184.483\" x2=\"494.641\" y2=\"171.483\" stroke-linecap=\"round\" style=\"stroke:rgb(224,159,226);stroke-width:4\"/><line x1=\"494.641\" y1=\"171.483\" x2=\"487.0\" y2=\"182.0\" stroke-linecap=\"round\" style=\"stroke:rgb(224,159,226);stroke-width:4\"/><line x1=\"145\" y1=\"435\" x2=\"137.359\" y2=\"445.517\" stroke-linecap=\"round\" style=\"stroke:rgb(187,155,177);stroke-width:4\"/><line x1=\"137.359\" y1=\"445.517\" x2=\"149.723\" y2=\"441.5\" stroke-linecap=\"round\" style=\"stroke:rgb(187,155,177);stroke-width:4\"/><line x1=\"149.723\" y1=\"441.5\" x2=\"137.359\" y2=\"437.483\" stroke-linecap=\"round\" style=\"stroke:rgb(187,155,177);stroke-width:4\"/><line x1=\"137.359\" y1=\"437.483\" x2=\"145.0\" y2=\"448.0\" stroke-linecap=\"round\" style=\"stroke:rgb(187,155,177);stroke-width:4\"/><line x1=\"145.0\" y1=\"448.0\" x2=\"145.0\" y2=\"435.0\" stroke-linecap=\"round\" style=\"stroke:rgb(187,155,177);stroke-width:4\"/><line x1=\"435\" y1=\"380\" x2=\"435.0\" y2=\"367.0\" stroke-linecap=\"round\" style=\"stroke:rgb(231,233,191);stroke-width:4\"/><line x1=\"435.0\" y1=\"367.0\" x2=\"427.359\" y2=\"377.517\" stroke-linecap=\"round\" style=\"stroke:rgb(231,233,191);stroke-width:4\"/><line x1=\"427.359\" y1=\"377.517\" x2=\"439.723\" y2=\"373.5\" stroke-linecap=\"round\" style=\"stroke:rgb(231,233,191);stroke-width:4\"/><line x1=\"439.723\" y1=\"373.5\" x2=\"427.359\" y2=\"369.483\" stroke-linecap=\"round\" style=\"stroke:rgb(231,233,191);stroke-width:4\"/><line x1=\"427.359\" y1=\"369.483\" x2=\"435.0\" y2=\"380.0\" stroke-linecap=\"round\" style=\"stroke:rgb(231,233,191);stroke-width:4\"/><line x1=\"61\" y1=\"343\" x2=\"68.641\" y2=\"353.517\" stroke-linecap=\"round\" style=\"stroke:rgb(162,218,183);stroke-width:4\"/><line x1=\"68.641\" y1=\"353.517\" x2=\"68.641\" y2=\"340.517\" stroke-linecap=\"round\" style=\"stroke:rgb(162,218,183);stroke-width:4\"/><line x1=\"68.641\" y1=\"340.517\" x2=\"61.0\" y2=\"351.034\" stroke-linecap=\"round\" style=\"stroke:rgb(162,218,183);stroke-width:4\"/><line x1=\"61.0\" y1=\"351.034\" x2=\"73.364\" y2=\"347.017\" stroke-linecap=\"round\" style=\"stroke:rgb(162,218,183);stroke-width:4\"/><line x1=\"73.364\" y1=\"347.017\" x2=\"61.0\" y2=\"343.0\" stroke-linecap=\"round\" style=\"stroke:rgb(162,218,183);stroke-width:4\"/><line x1=\"486\" y1=\"134\" x2=\"473.636\" y2=\"129.983\" stroke-linecap=\"round\" style=\"stroke:rgb(167,188,219);stroke-width:4\"/><line x1=\"473.636\" y1=\"129.983\" x2=\"481.277\" y2=\"140.5\" stroke-linecap=\"round\" style=\"stroke:rgb(167,188,219);stroke-width:4\"/><line x1=\"481.277\" y1=\"140.5\" x2=\"481.277\" y2=\"127.5\" stroke-linecap=\"round\" style=\"stroke:rgb(167,188,219);stroke-width:4\"/><line x1=\"481.277\" y1=\"127.5\" x2=\"473.636\" y2=\"138.017\" stroke-linecap=\"round\" style=\"stroke:rgb(167,188,219);stroke-width:4\"/><line x1=\"473.636\" y1=\"138.017\" x2=\"486.0\" y2=\"134.0\" stroke-linecap=\"round\" style=\"stroke:rgb(167,188,219);stroke-width:4\"/><line x1=\"353\" y1=\"277\" x2=\"365.364\" y2=\"272.983\" stroke-linecap=\"round\" style=\"stroke:rgb(178,242,244);stroke-width:4\"/><line x1=\"365.364\" y1=\"272.983\" x2=\"353.0\" y2=\"268.966\" stroke-linecap=\"round\" style=\"stroke:rgb(178,242,244);stroke-width:4\"/><line x1=\"353.0\" y1=\"268.966\" x2=\"360.641\" y2=\"279.483\" stroke-linecap=\"round\" style=\"stroke:rgb(178,242,244);stroke-width:4\"/><line x1=\"360.641\" y1=\"279.483\" x2=\"360.641\" y2=\"266.483\" stroke-linecap=\"round\" style=\"stroke:rgb(178,242,244);stroke-width:4\"/><line x1=\"360.641\" y1=\"266.483\" x2=\"353.0\" y2=\"277.0\" stroke-linecap=\"round\" style=\"stroke:rgb(178,242,244);stroke-width:4\"/><line x1=\"123\" y1=\"413\" x2=\"115.359\" y2=\"423.517\" stroke-linecap=\"round\" style=\"stroke:rgb(192,255,253);stroke-width:4\"/><line x1=\"115.359\" y1=\"423.517\" x2=\"127.723\" y2=\"419.5\" stroke-linecap=\"round\" style=\"stroke:rgb(192,255,253);stroke-width:4\"/><line x1=\"127.723\" y1=\"419.5\" x2=\"115.359\" y2=\"415.483\" stroke-linecap=\"round\" style=\"stroke:rgb(192,255,253);stroke-width:4\"/><line x1=\"115.359\" y1=\"415.483\" x2=\"123.0\" y2=\"426.0\" stroke-linecap=\"round\" style=\"stroke:rgb(192,255,253);stroke-width:4\"/><line x1=\"123.0\" y1=\"426.0\" x2=\"123.0\" y2=\"413.0\" stroke-linecap=\"round\" style=\"stroke:rgb(192,255,253);stroke-width:4\"/><line x1=\"442\" y1=\"443\" x2=\"442.0\" y2=\"430.0\" stroke-linecap=\"round\" style=\"stroke:rgb(225,178,180);stroke-width:4\"/><line x1=\"442.0\" y1=\"430.0\" x2=\"434.359\" y2=\"440.517\" stroke-linecap=\"round\" style=\"stroke:rgb(225,178,180);stroke-width:4\"/><line x1=\"434.359\" y1=\"440.517\" x2=\"446.723\" y2=\"436.5\" stroke-linecap=\"round\" style=\"stroke:rgb(225,178,180);stroke-width:4\"/><line x1=\"446.723\" y1=\"436.5\" x2=\"434.359\" y2=\"432.483\" stroke-linecap=\"round\" style=\"stroke:rgb(225,178,180);stroke-width:4\"/><line x1=\"434.359\" y1=\"432.483\" x2=\"442.0\" y2=\"443.0\" stroke-linecap=\"round\" style=\"stroke:rgb(225,178,180);stroke-width:4\"/><line x1=\"243\" y1=\"247\" x2=\"250.641\" y2=\"257.517\" stroke-linecap=\"round\" style=\"stroke:rgb(254,181,231);stroke-width:4\"/><line x1=\"250.641\" y1=\"257.517\" x2=\"250.641\" y2=\"244.517\" stroke-linecap=\"round\" style=\"stroke:rgb(254,181,231);stroke-width:4\"/><line x1=\"250.641\" y1=\"244.517\" x2=\"243.0\" y2=\"255.034\" stroke-linecap=\"round\" style=\"stroke:rgb(254,181,231);stroke-width:4\"/><line x1=\"243.0\" y1=\"255.034\" x2=\"255.364\" y2=\"251.017\" stroke-linecap=\"round\" style=\"stroke:rgb(254,181,231);stroke-width:4\"/><line x1=\"255.364\" y1=\"251.017\" x2=\"243.0\" y2=\"247.0\" stroke-linecap=\"round\" style=\"stroke:rgb(254,181,231);stroke-width:4\"/><line x1=\"182\" y1=\"259\" x2=\"169.636\" y2=\"254.983\" stroke-linecap=\"round\" style=\"stroke:rgb(162,171,163);stroke-width:4\"/><line x1=\"169.636\" y1=\"254.983\" x2=\"177.277\" y2=\"265.5\" stroke-linecap=\"round\" style=\"stroke:rgb(162,171,163);stroke-width:4\"/><line x1=\"177.277\" y1=\"265.5\" x2=\"177.277\" y2=\"252.5\" stroke-linecap=\"round\" style=\"stroke:rgb(162,171,163);stroke-width:4\"/><line x1=\"177.277\" y1=\"252.5\" x2=\"169.636\" y2=\"263.017\" stroke-linecap=\"round\" style=\"stroke:rgb(162,171,163);stroke-width:4\"/><line x1=\"169.636\" y1=\"263.017\" x2=\"182.0\" y2=\"259.0\" stroke-linecap=\"round\" style=\"stroke:rgb(162,171,163);stroke-width:4\"/><line x1=\"440\" y1=\"311\" x2=\"452.364\" y2=\"306.983\" stroke-linecap=\"round\" style=\"stroke:rgb(165,174,203);stroke-width:4\"/><line x1=\"452.364\" y1=\"306.983\" x2=\"440.0\" y2=\"302.966\" stroke-linecap=\"round\" style=\"stroke:rgb(165,174,203);stroke-width:4\"/><line x1=\"440.0\" y1=\"302.966\" x2=\"447.641\" y2=\"313.483\" stroke-linecap=\"round\" style=\"stroke:rgb(165,174,203);stroke-width:4\"/><line x1=\"447.641\" y1=\"313.483\" x2=\"447.641\" y2=\"300.483\" stroke-linecap=\"round\" style=\"stroke:rgb(165,174,203);stroke-width:4\"/><line x1=\"447.641\" y1=\"300.483\" x2=\"440.0\" y2=\"311.0\" stroke-linecap=\"round\" style=\"stroke:rgb(165,174,203);stroke-width:4\"/><line x1=\"633\" y1=\"406\" x2=\"625.359\" y2=\"416.517\" stroke-linecap=\"round\" style=\"stroke:rgb(169,162,199);stroke-width:4\"/><line x1=\"625.359\" y1=\"416.517\" x2=\"637.723\" y2=\"412.5\" stroke-linecap=\"round\" style=\"stroke:rgb(169,162,199);stroke-width:4\"/><line x1=\"637.723\" y1=\"412.5\" x2=\"625.359\" y2=\"408.483\" stroke-linecap=\"round\" style=\"stroke:rgb(169,162,199);stroke-width:4\"/><line x1=\"625.359\" y1=\"408.483\" x2=\"633.0\" y2=\"419.0\" stroke-linecap=\"round\" style=\"stroke:rgb(169,162,199);stroke-width:4\"/><line x1=\"633.0\" y1=\"419.0\" x2=\"633.0\" y2=\"406.0\" stroke-linecap=\"round\" style=\"stroke:rgb(169,162,199);stroke-width:4\"/><line x1=\"280\" y1=\"450\" x2=\"280.0\" y2=\"437.0\" stroke-linecap=\"round\" style=\"stroke:rgb(194,210,204);stroke-width:4\"/><line x1=\"280.0\" y1=\"437.0\" x2=\"272.359\" y2=\"447.517\" stroke-linecap=\"round\" style=\"stroke:rgb(194,210,204);stroke-width:4\"/><line x1=\"272.359\" y1=\"447.517\" x2=\"284.723\" y2=\"443.5\" stroke-linecap=\"round\" style=\"stroke:rgb(194,210,204);stroke-width:4\"/><line x1=\"284.723\" y1=\"443.5\" x2=\"272.359\" y2=\"439.483\" stroke-linecap=\"round\" style=\"stroke:rgb(194,210,204);stroke-width:4\"/><line x1=\"272.359\" y1=\"439.483\" x2=\"280.0\" y2=\"450.0\" stroke-linecap=\"round\" style=\"stroke:rgb(194,210,204);stroke-width:4\"/><line x1=\"493\" y1=\"285\" x2=\"500.641\" y2=\"295.517\" stroke-linecap=\"round\" style=\"stroke:rgb(204,226,200);stroke-width:4\"/><line x1=\"500.641\" y1=\"295.517\" x2=\"500.641\" y2=\"282.517\" stroke-linecap=\"round\" style=\"stroke:rgb(204,226,200);stroke-width:4\"/><line x1=\"500.641\" y1=\"282.517\" x2=\"493.0\" y2=\"293.034\" stroke-linecap=\"round\" style=\"stroke:rgb(204,226,200);stroke-width:4\"/><line x1=\"493.0\" y1=\"293.034\" x2=\"505.364\" y2=\"289.017\" stroke-linecap=\"round\" style=\"stroke:rgb(204,226,200);stroke-width:4\"/><line x1=\"505.364\" y1=\"289.017\" x2=\"493.0\" y2=\"285.0\" stroke-linecap=\"round\" style=\"stroke:rgb(204,226,200);stroke-width:4\"/><line x1=\"233\" y1=\"182\" x2=\"220.636\" y2=\"177.983\" stroke-linecap=\"round\" style=\"stroke:rgb(207,216,172);stroke-width:4\"/><line x1=\"220.636\" y1=\"177.983\" x2=\"228.277\" y2=\"188.5\" stroke-linecap=\"round\" style=\"stroke:rgb(207,216,172);stroke-width:4\"/><line x1=\"228.277\" y1=\"188.5\" x2=\"228.277\" y2=\"175.5\" stroke-linecap=\"round\" style=\"stroke:rgb(207,216,172);stroke-width:4\"/><line x1=\"228.277\" y1=\"175.5\" x2=\"220.636\" y2=\"186.017\" stroke-linecap=\"round\" style=\"stroke:rgb(207,216,172);stroke-width:4\"/><line x1=\"220.636\" y1=\"186.017\" x2=\"233.0\" y2=\"182.0\" stroke-linecap=\"round\" style=\"stroke:rgb(207,216,172);stroke-width:4\"/><line x1=\"597\" y1=\"425\" x2=\"609.364\" y2=\"420.983\" stroke-linecap=\"round\" style=\"stroke:rgb(193,173,226);stroke-width:4\"/><line x1=\"609.364\" y1=\"420.983\" x2=\"597.0\" y2=\"416.966\" stroke-linecap=\"round\" style=\"stroke:rgb(193,173,226);stroke-width:4\"/><line x1=\"597.0\" y1=\"416.966\" x2=\"604.641\" y2=\"427.483\" stroke-linecap=\"round\" style=\"stroke:rgb(193,173,226);stroke-width:4\"/><line x1=\"604.641\" y1=\"427.483\" x2=\"604.641\" y2=\"414.483\" stroke-linecap=\"round\" style=\"stroke:rgb(193,173,226);stroke-width:4\"/><line x1=\"604.641\" y1=\"414.483\" x2=\"597.0\" y2=\"425.0\" stroke-linecap=\"round\" style=\"stroke:rgb(193,173,226);stroke-width:4\"/><line x1=\"298\" y1=\"333\" x2=\"290.359\" y2=\"343.517\" stroke-linecap=\"round\" style=\"stroke:rgb(160,214,164);stroke-width:4\"/><line x1=\"290.359\" y1=\"343.517\" x2=\"302.723\" y2=\"339.5\" stroke-linecap=\"round\" style=\"stroke:rgb(160,214,164);stroke-width:4\"/><line x1=\"302.723\" y1=\"339.5\" x2=\"290.359\" y2=\"335.483\" stroke-linecap=\"round\" style=\"stroke:rgb(160,214,164);stroke-width:4\"/><line x1=\"290.359\" y1=\"335.483\" x2=\"298.0\" y2=\"346.0\" stroke-linecap=\"round\" style=\"stroke:rgb(160,214,164);stroke-width:4\"/><line x1=\"298.0\" y1=\"346.0\" x2=\"298.0\" y2=\"333.0\" stroke-linecap=\"round\" style=\"stroke:rgb(160,214,164);stroke-width:4\"/><line x1=\"168\" y1=\"372\" x2=\"168.0\" y2=\"359.0\" stroke-linecap=\"round\" style=\"stroke:rgb(223,170,192);stroke-width:4\"/><line x1=\"168.0\" y1=\"359.0\" x2=\"160.359\" y2=\"369.517\" stroke-linecap=\"round\" style=\"stroke:rgb(223,170,192);stroke-width:4\"/><line x1=\"160.359\" y1=\"369.517\" x2=\"172.723\" y2=\"365.5\" stroke-linecap=\"round\" style=\"stroke:rgb(223,170,192);stroke-width:4\"/><line x1=\"172.723\" y1=\"365.5\" x2=\"160.359\" y2=\"361.483\" stroke-linecap=\"round\" style=\"stroke:rgb(223,170,192);stroke-width:4\"/><line x1=\"160.359\" y1=\"361.483\" x2=\"168.0\" y2=\"372.0\" stroke-linecap=\"round\" style=\"stroke:rgb(223,170,192);stroke-width:4\"/><line x1=\"97\" y1=\"243\" x2=\"104.641\" y2=\"253.517\" stroke-linecap=\"round\" style=\"stroke:rgb(245,224,223);stroke-width:4\"/><line x1=\"104.641\" y1=\"253.517\" x2=\"104.641\" y2=\"240.517\" stroke-linecap=\"round\" style=\"stroke:rgb(245,224,223);stroke-width:4\"/><line x1=\"104.641\" y1=\"240.517\" x2=\"97.0\" y2=\"251.034\" stroke-linecap=\"round\" style=\"stroke:rgb(245,224,223);stroke-width:4\"/><line x1=\"97.0\" y1=\"251.034\" x2=\"109.364\" y2=\"247.017\" stroke-linecap=\"round\" style=\"stroke:rgb(245,224,223);stroke-width:4\"/><line x1=\"109.364\" y1=\"247.017\" x2=\"97.0\" y2=\"243.0\" stroke-linecap=\"round\" style=\"stroke:rgb(245,224,223);stroke-width:4\"/><line x1=\"122\" y1=\"157\" x2=\"109.636\" y2=\"152.983\" stroke-linecap=\"round\" style=\"stroke:rgb(239,183,194);stroke-width:4\"/><line x1=\"109.636\" y1=\"152.983\" x2=\"117.277\" y2=\"163.5\" stroke-linecap=\"round\" style=\"stroke:rgb(239,183,194);stroke-width:4\"/><line x1=\"117.277\" y1=\"163.5\" x2=\"117.277\" y2=\"150.5\" stroke-linecap=\"round\" style=\"stroke:rgb(239,183,194);stroke-width:4\"/><line x1=\"117.277\" y1=\"150.5\" x2=\"109.636\" y2=\"161.017\" stroke-linecap=\"round\" style=\"stroke:rgb(239,183,194);stroke-width:4\"/><line x1=\"109.636\" y1=\"161.017\" x2=\"122.0\" y2=\"157.0\" stroke-linecap=\"round\" style=\"stroke:rgb(239,183,194);stroke-width:4\"/><line x1=\"503\" y1=\"449\" x2=\"515.364\" y2=\"444.983\" stroke-linecap=\"round\" style=\"stroke:rgb(171,189,164);stroke-width:4\"/><line x1=\"515.364\" y1=\"444.983\" x2=\"503.0\" y2=\"440.966\" stroke-linecap=\"round\" style=\"stroke:rgb(171,189,164);stroke-width:4\"/><line x1=\"503.0\" y1=\"440.966\" x2=\"510.641\" y2=\"451.483\" stroke-linecap=\"round\" style=\"stroke:rgb(171,189,164);stroke-width:4\"/><line x1=\"510.641\" y1=\"451.483\" x2=\"510.641\" y2=\"438.483\" stroke-linecap=\"round\" style=\"stroke:rgb(171,189,164);stroke-width:4\"/><line x1=\"510.641\" y1=\"438.483\" x2=\"503.0\" y2=\"449.0\" stroke-linecap=\"round\" style=\"stroke:rgb(171,189,164);stroke-width:4\"/><line x1=\"722\" y1=\"119\" x2=\"714.359\" y2=\"129.517\" stroke-linecap=\"round\" style=\"stroke:rgb(220,236,216);stroke-width:4\"/><line x1=\"714.359\" y1=\"129.517\" x2=\"726.723\" y2=\"125.5\" stroke-linecap=\"round\" style=\"stroke:rgb(220,236,216);stroke-width:4\"/><line x1=\"726.723\" y1=\"125.5\" x2=\"714.359\" y2=\"121.483\" stroke-linecap=\"round\" style=\"stroke:rgb(220,236,216);stroke-width:4\"/><line x1=\"714.359\" y1=\"121.483\" x2=\"722.0\" y2=\"132.0\" stroke-linecap=\"round\" style=\"stroke:rgb(220,236,216);stroke-width:4\"/><line x1=\"722.0\" y1=\"132.0\" x2=\"722.0\" y2=\"119.0\" stroke-linecap=\"round\" style=\"stroke:rgb(220,236,216);stroke-width:4\"/><line x1=\"390\" y1=\"123\" x2=\"390.0\" y2=\"110.0\" stroke-linecap=\"round\" style=\"stroke:rgb(161,178,229);stroke-width:4\"/><line x1=\"390.0\" y1=\"110.0\" x2=\"382.359\" y2=\"120.517\" stroke-linecap=\"round\" style=\"stroke:rgb(161,178,229);stroke-width:4\"/><line x1=\"382.359\" y1=\"120.517\" x2=\"394.723\" y2=\"116.5\" stroke-linecap=\"round\" style=\"stroke:rgb(161,178,229);stroke-width:4\"/><line x1=\"394.723\" y1=\"116.5\" x2=\"382.359\" y2=\"112.483\" stroke-linecap=\"round\" style=\"stroke:rgb(161,178,229);stroke-width:4\"/><line x1=\"382.359\" y1=\"112.483\" x2=\"390.0\" y2=\"123.0\" stroke-linecap=\"round\" style=\"stroke:rgb(161,178,229);stroke-width:4\"/><line x1=\"567\" y1=\"354\" x2=\"574.641\" y2=\"364.517\" stroke-linecap=\"round\" style=\"stroke:rgb(178,232,202);stroke-width:4\"/><line x1=\"574.641\" y1=\"364.517\" x2=\"574.641\" y2=\"351.517\" stroke-linecap=\"round\" style=\"stroke:rgb(178,232,202);stroke-width:4\"/><line x1=\"574.641\" y1=\"351.517\" x2=\"567.0\" y2=\"362.034\" stroke-linecap=\"round\" style=\"stroke:rgb(178,232,202);stroke-width:4\"/><line x1=\"567.0\" y1=\"362.034\" x2=\"579.364\" y2=\"358.017\" stroke-linecap=\"round\" style=\"stroke:rgb(178,232,202);stroke-width:4\"/><line x1=\"579.364\" y1=\"358.017\" x2=\"567.0\" y2=\"354.0\" stroke-linecap=\"round\" style=\"stroke:rgb(178,232,202);stroke-width:4\"/><line x1=\"539\" y1=\"125\" x2=\"526.636\" y2=\"120.983\" stroke-linecap=\"round\" style=\"stroke:rgb(180,231,169);stroke-width:4\"/><line x1=\"526.636\" y1=\"120.983\" x2=\"534.277\" y2=\"131.5\" stroke-linecap=\"round\" style=\"stroke:rgb(180,231,169);stroke-width:4\"/><line x1=\"534.277\" y1=\"131.5\" x2=\"534.277\" y2=\"118.5\" stroke-linecap=\"round\" style=\"stroke:rgb(180,231,169);stroke-width:4\"/><line x1=\"534.277\" y1=\"118.5\" x2=\"526.636\" y2=\"129.017\" stroke-linecap=\"round\" style=\"stroke:rgb(180,231,169);stroke-width:4\"/><line x1=\"526.636\" y1=\"129.017\" x2=\"539.0\" y2=\"125.0\" stroke-linecap=\"round\" style=\"stroke:rgb(180,231,169);stroke-width:4\"/><line x1=\"345\" y1=\"440\" x2=\"357.364\" y2=\"435.983\" stroke-linecap=\"round\" style=\"stroke:rgb(209,165,219);stroke-width:4\"/><line x1=\"357.364\" y1=\"435.983\" x2=\"345.0\" y2=\"431.966\" stroke-linecap=\"round\" style=\"stroke:rgb(209,165,219);stroke-width:4\"/><line x1=\"345.0\" y1=\"431.966\" x2=\"352.641\" y2=\"442.483\" stroke-linecap=\"round\" style=\"stroke:rgb(209,165,219);stroke-width:4\"/><line x1=\"352.641\" y1=\"442.483\" x2=\"352.641\" y2=\"429.483\" stroke-linecap=\"round\" style=\"stroke:rgb(209,165,219);stroke-width:4\"/><line x1=\"352.641\" y1=\"429.483\" x2=\"345.0\" y2=\"440.0\" stroke-linecap=\"round\" style=\"stroke:rgb(209,165,219);stroke-width:4\"/><line x1=\"311\" y1=\"74\" x2=\"303.359\" y2=\"84.517\" stroke-linecap=\"round\" style=\"stroke:rgb(169,238,245);stroke-width:4\"/><line x1=\"303.359\" y1=\"84.517\" x2=\"315.723\" y2=\"80.5\" stroke-linecap=\"round\" style=\"stroke:rgb(169,238,245);stroke-width:4\"/><line x1=\"315.723\" y1=\"80.5\" x2=\"303.359\" y2=\"76.483\" stroke-linecap=\"round\" style=\"stroke:rgb(169,238,245);stroke-width:4\"/><line x1=\"303.359\" y1=\"76.483\" x2=\"311.0\" y2=\"87.0\" stroke-linecap=\"round\" style=\"stroke:rgb(169,238,245);stroke-width:4\"/><line x1=\"311.0\" y1=\"87.0\" x2=\"311.0\" y2=\"74.0\" stroke-linecap=\"round\" style=\"stroke:rgb(169,238,245);stroke-width:4\"/><line x1=\"332\" y1=\"324\" x2=\"332.0\" y2=\"311.0\" stroke-linecap=\"round\" style=\"stroke:rgb(218,255,234);stroke-width:4\"/><line x1=\"332.0\" y1=\"311.0\" x2=\"324.359\" y2=\"321.517\" stroke-linecap=\"round\" style=\"stroke:rgb(218,255,234);stroke-width:4\"/><line x1=\"324.359\" y1=\"321.517\" x2=\"336.723\" y2=\"317.5\" stroke-linecap=\"round\" style=\"stroke:rgb(218,255,234);stroke-width:4\"/><line x1=\"336.723\" y1=\"317.5\" x2=\"324.359\" y2=\"313.483\" stroke-linecap=\"round\" style=\"stroke:rgb(218,255,234);stroke-width:4\"/><line x1=\"324.359\" y1=\"313.483\" x2=\"332.0\" y2=\"324.0\" stroke-linecap=\"round\" style=\"stroke:rgb(218,255,234);stroke-width:4\"/><line x1=\"652\" y1=\"295\" x2=\"659.641\" y2=\"305.517\" stroke-linecap=\"round\" style=\"stroke:rgb(243,205,234);stroke-width:4\"/><line x1=\"659.641\" y1=\"305.517\" x2=\"659.641\" y2=\"292.517\" stroke-linecap=\"round\" style=\"stroke:rgb(243,205,234);stroke-width:4\"/><line x1=\"659.641\" y1=\"292.517\" x2=\"652.0\" y2=\"303.034\" stroke-linecap=\"round\" style=\"stroke:rgb(243,205,234);stroke-width:4\"/><line x1=\"652.0\" y1=\"303.034\" x2=\"664.364\" y2=\"299.017\" stroke-linecap=\"round\" style=\"stroke:rgb(243,205,234);stroke-width:4\"/><line x1=\"664.364\" y1=\"299.017\" x2=\"652.0\" y2=\"295.0\" stroke-linecap=\"round\" style=\"stroke:rgb(243,205,234);stroke-width:4\"/><line x1=\"198\" y1=\"140\" x2=\"185.636\" y2=\"135.983\" stroke-linecap=\"round\" style=\"stroke:rgb(255,172,156);stroke-width:4\"/><line x1=\"185.636\" y1=\"135.983\" x2=\"193.277\" y2=\"146.5\" stroke-linecap=\"round\" style=\"stroke:rgb(255,172,156);stroke-width:4\"/><line x1=\"193.277\" y1=\"146.5\" x2=\"193.277\" y2=\"133.5\" stroke-linecap=\"round\" style=\"stroke:rgb(255,172,156);stroke-width:4\"/><line x1=\"193.277\" y1=\"133.5\" x2=\"185.636\" y2=\"144.017\" stroke-linecap=\"round\" style=\"stroke:rgb(255,172,156);stroke-width:4\"/><line x1=\"185.636\" y1=\"144.017\" x2=\"198.0\" y2=\"140.0\" stroke-linecap=\"round\" style=\"stroke:rgb(255,172,156);stroke-width:4\"/><line x1=\"720\" y1=\"190\" x2=\"732.364\" y2=\"185.983\" stroke-linecap=\"round\" style=\"stroke:rgb(159,226,186);stroke-width:4\"/><line x1=\"732.364\" y1=\"185.983\" x2=\"720.0\" y2=\"181.966\" stroke-linecap=\"round\" style=\"stroke:rgb(159,226,186);stroke-width:4\"/><line x1=\"720.0\" y1=\"181.966\" x2=\"727.641\" y2=\"192.483\" stroke-linecap=\"round\" style=\"stroke:rgb(159,226,186);stroke-width:4\"/><line x1=\"727.641\" y1=\"192.483\" x2=\"727.641\" y2=\"179.483\" stroke-linecap=\"round\" style=\"stroke:rgb(159,226,186);stroke-width:4\"/><line x1=\"727.641\" y1=\"179.483\" x2=\"720.0\" y2=\"190.0\" stroke-linecap=\"round\" style=\"stroke:rgb(159,226,186);stroke-width:4\"/><line x1=\"646\" y1=\"137\" x2=\"638.359\" y2=\"147.517\" stroke-linecap=\"round\" style=\"stroke:rgb(161,191,195);stroke-width:4\"/><line x1=\"638.359\" y1=\"147.517\" x2=\"650.723\" y2=\"143.5\" stroke-linecap=\"round\" style=\"stroke:rgb(161,191,195);stroke-width:4\"/><line x1=\"650.723\" y1=\"143.5\" x2=\"638.359\" y2=\"139.483\" stroke-linecap=\"round\" style=\"stroke:rgb(161,191,195);stroke-width:4\"/><line x1=\"638.359\" y1=\"139.483\" x2=\"646.0\" y2=\"150.0\" stroke-linecap=\"round\" style=\"stroke:rgb(161,191,195);stroke-width:4\"/><line x1=\"646.0\" y1=\"150.0\" x2=\"646.0\" y2=\"137.0\" stroke-linecap=\"round\" style=\"stroke:rgb(161,191,195);stroke-width:4\"/><line x1=\"167\" y1=\"330\" x2=\"167.0\" y2=\"317.0\" stroke-linecap=\"round\" style=\"stroke:rgb(223,194,191);stroke-width:4\"/><line x1=\"167.0\" y1=\"317.0\" x2=\"159.359\" y2=\"327.517\" stroke-linecap=\"round\" style=\"stroke:rgb(223,194,191);stroke-width:4\"/><line x1=\"159.359\" y1=\"327.517\" x2=\"171.723\" y2=\"323.5\" stroke-linecap=\"round\" style=\"stroke:rgb(223,194,191);stroke-width:4\"/><line x1=\"171.723\" y1=\"323.5\" x2=\"159.359\" y2=\"319.483\" stroke-linecap=\"round\" style=\"stroke:rgb(223,194,191);stroke-width:4\"/><line x1=\"159.359\" y1=\"319.483\" x2=\"167.0\" y2=\"330.0\" stroke-linecap=\"round\" style=\"stroke:rgb(223,194,191);stroke-width:4\"/><line x1=\"265\" y1=\"102\" x2=\"272.641\" y2=\"112.517\" stroke-linecap=\"round\" style=\"stroke:rgb(253,239,219);stroke-width:4\"/><line x1=\"272.641\" y1=\"112.517\" x2=\"272.641\" y2=\"99.517\" stroke-linecap=\"round\" style=\"stroke:rgb(253,239,219);stroke-width:4\"/><line x1=\"272.641\" y1=\"99.517\" x2=\"265.0\" y2=\"110.034\" stroke-linecap=\"round\" style=\"stroke:rgb(253,239,219);stroke-width:4\"/><line x1=\"265.0\" y1=\"110.034\" x2=\"277.364\" y2=\"106.017\" stroke-linecap=\"round\" style=\"stroke:rgb(253,239,219);stroke-width:4\"/><line x1=\"277.364\" y1=\"106.017\" x2=\"265.0\" y2=\"102.0\" stroke-linecap=\"round\" style=\"stroke:rgb(253,239,219);stroke-width:4\"/><line x1=\"463\" y1=\"197\" x2=\"450.636\" y2=\"192.983\" stroke-linecap=\"round\" style=\"stroke:rgb(173,203,217);stroke-width:4\"/><line x1=\"450.636\" y1=\"192.983\" x2=\"458.277\" y2=\"203.5\" stroke-linecap=\"round\" style=\"stroke:rgb(173,203,217);stroke-width:4\"/><line x1=\"458.277\" y1=\"203.5\" x2=\"458.277\" y2=\"190.5\" stroke-linecap=\"round\" style=\"stroke:rgb(173,203,217);stroke-width:4\"/><line x1=\"458.277\" y1=\"190.5\" x2=\"450.636\" y2=\"201.017\" stroke-linecap=\"round\" style=\"stroke:rgb(173,203,217);stroke-width:4\"/><line x1=\"450.636\" y1=\"201.017\" x2=\"463.0\" y2=\"197.0\" stroke-linecap=\"round\" style=\"stroke:rgb(173,203,217);stroke-width:4\"/><line x1=\"647\" y1=\"135\" x2=\"659.364\" y2=\"130.983\" stroke-linecap=\"round\" style=\"stroke:rgb(220,246,203);stroke-width:4\"/><line x1=\"659.364\" y1=\"130.983\" x2=\"647.0\" y2=\"126.966\" stroke-linecap=\"round\" style=\"stroke:rgb(220,246,203);stroke-width:4\"/><line x1=\"647.0\" y1=\"126.966\" x2=\"654.641\" y2=\"137.483\" stroke-linecap=\"round\" style=\"stroke:rgb(220,246,203);stroke-width:4\"/><line x1=\"654.641\" y1=\"137.483\" x2=\"654.641\" y2=\"124.483\" stroke-linecap=\"round\" style=\"stroke:rgb(220,246,203);stroke-width:4\"/><line x1=\"654.641\" y1=\"124.483\" x2=\"647.0\" y2=\"135.0\" stroke-linecap=\"round\" style=\"stroke:rgb(220,246,203);stroke-width:4\"/><line x1=\"691\" y1=\"250\" x2=\"683.359\" y2=\"260.517\" stroke-linecap=\"round\" style=\"stroke:rgb(197,210,197);stroke-width:4\"/><line x1=\"683.359\" y1=\"260.517\" x2=\"695.723\" y2=\"256.5\" stroke-linecap=\"round\" style=\"stroke:rgb(197,210,197);stroke-width:4\"/><line x1=\"695.723\" y1=\"256.5\" x2=\"683.359\" y2=\"252.483\" stroke-linecap=\"round\" style=\"stroke:rgb(197,210,197);stroke-width:4\"/><line x1=\"683.359\" y1=\"252.483\" x2=\"691.0\" y2=\"263.0\" stroke-linecap=\"round\" style=\"stroke:rgb(197,210,197);stroke-width:4\"/><line x1=\"691.0\" y1=\"263.0\" x2=\"691.0\" y2=\"250.0\" stroke-linecap=\"round\" style=\"stroke:rgb(197,210,197);stroke-width:4\"/><line x1=\"170\" y1=\"331\" x2=\"170.0\" y2=\"318.0\" stroke-linecap=\"round\" style=\"stroke:rgb(166,246,185);stroke-width:4\"/><line x1=\"170.0\" y1=\"318.0\" x2=\"162.359\" y2=\"328.517\" stroke-linecap=\"round\" style=\"stroke:rgb(166,246,185);stroke-width:4\"/><line x1=\"162.359\" y1=\"328.517\" x2=\"174.723\" y2=\"324.5\" stroke-linecap=\"round\" style=\"stroke:rgb(166,246,185);stroke-width:4\"/><line x1=\"174.723\" y1=\"324.5\" x2=\"162.359\" y2=\"320.483\" stroke-linecap=\"round\" style=\"stroke:rgb(166,246,185);stroke-width:4\"/><line x1=\"162.359\" y1=\"320.483\" x2=\"170.0\" y2=\"331.0\" stroke-linecap=\"round\" style=\"stroke:rgb(166,246,185);stroke-width:4\"/><line x1=\"602\" y1=\"343\" x2=\"609.641\" y2=\"353.517\" stroke-linecap=\"round\" style=\"stroke:rgb(222,228,162);stroke-width:4\"/><line x1=\"609.641\" y1=\"353.517\" x2=\"609.641\" y2=\"340.517\" stroke-linecap=\"round\" style=\"stroke:rgb(222,228,162);stroke-width:4\"/><line x1=\"609.641\" y1=\"340.517\" x2=\"602.0\" y2=\"351.034\" stroke-linecap=\"round\" style=\"stroke:rgb(222,228,162);stroke-width:4\"/><line x1=\"602.0\" y1=\"351.034\" x2=\"614.364\" y2=\"347.017\" stroke-linecap=\"round\" style=\"stroke:rgb(222,228,162);stroke-width:4\"/><line x1=\"614.364\" y1=\"347.017\" x2=\"602.0\" y2=\"343.0\" stroke-linecap=\"round\" style=\"stroke:rgb(222,228,162);stroke-width:4\"/><line x1=\"649\" y1=\"421\" x2=\"636.636\" y2=\"416.983\" stroke-linecap=\"round\" style=\"stroke:rgb(248,243,226);stroke-width:4\"/><line x1=\"636.636\" y1=\"416.983\" x2=\"644.277\" y2=\"427.5\" stroke-linecap=\"round\" style=\"stroke:rgb(248,243,226);stroke-width:4\"/><line x1=\"644.277\" y1=\"427.5\" x2=\"644.277\" y2=\"414.5\" stroke-linecap=\"round\" style=\"stroke:rgb(248,243,226);stroke-width:4\"/><line x1=\"644.277\" y1=\"414.5\" x2=\"636.636\" y2=\"425.017\" stroke-linecap=\"round\" style=\"stroke:rgb(248,243,226);stroke-width:4\"/><line x1=\"636.636\" y1=\"425.017\" x2=\"649.0\" y2=\"421.0\" stroke-linecap=\"round\" style=\"stroke:rgb(248,243,226);stroke-width:4\"/><line x1=\"430\" y1=\"212\" x2=\"442.364\" y2=\"207.983\" stroke-linecap=\"round\" style=\"stroke:rgb(210,156,250);stroke-width:4\"/><line x1=\"442.364\" y1=\"207.983\" x2=\"430.0\" y2=\"203.966\" stroke-linecap=\"round\" style=\"stroke:rgb(210,156,250);stroke-width:4\"/><line x1=\"430.0\" y1=\"203.966\" x2=\"437.641\" y2=\"214.483\" stroke-linecap=\"round\" style=\"stroke:rgb(210,156,250);stroke-width:4\"/><line x1=\"437.641\" y1=\"214.483\" x2=\"437.641\" y2=\"201.483\" stroke-linecap=\"round\" style=\"stroke:rgb(210,156,250);stroke-width:4\"/><line x1=\"437.641\" y1=\"201.483\" x2=\"430.0\" y2=\"212.0\" stroke-linecap=\"round\" style=\"stroke:rgb(210,156,250);stroke-width:4\"/><line x1=\"323\" y1=\"299\" x2=\"315.359\" y2=\"309.517\" stroke-linecap=\"round\" style=\"stroke:rgb(232,227,238);stroke-width:4\"/><line x1=\"315.359\" y1=\"309.517\" x2=\"327.723\" y2=\"305.5\" stroke-linecap=\"round\" style=\"stroke:rgb(232,227,238);stroke-width:4\"/><line x1=\"327.723\" y1=\"305.5\" x2=\"315.359\" y2=\"301.483\" stroke-linecap=\"round\" style=\"stroke:rgb(232,227,238);stroke-width:4\"/><line x1=\"315.359\" y1=\"301.483\" x2=\"323.0\" y2=\"312.0\" stroke-linecap=\"round\" style=\"stroke:rgb(232,227,238);stroke-width:4\"/><line x1=\"323.0\" y1=\"312.0\" x2=\"323.0\" y2=\"299.0\" stroke-linecap=\"round\" style=\"stroke:rgb(232,227,238);stroke-width:4\"/><line x1=\"722\" y1=\"397\" x2=\"722.0\" y2=\"384.0\" stroke-linecap=\"round\" style=\"stroke:rgb(178,178,209);stroke-width:4\"/><line x1=\"722.0\" y1=\"384.0\" x2=\"714.359\" y2=\"394.517\" stroke-linecap=\"round\" style=\"stroke:rgb(178,178,209);stroke-width:4\"/><line x1=\"714.359\" y1=\"394.517\" x2=\"726.723\" y2=\"390.5\" stroke-linecap=\"round\" style=\"stroke:rgb(178,178,209);stroke-width:4\"/><line x1=\"726.723\" y1=\"390.5\" x2=\"714.359\" y2=\"386.483\" stroke-linecap=\"round\" style=\"stroke:rgb(178,178,209);stroke-width:4\"/><line x1=\"714.359\" y1=\"386.483\" x2=\"722.0\" y2=\"397.0\" stroke-linecap=\"round\" style=\"stroke:rgb(178,178,209);stroke-width:4\"/><line x1=\"546\" y1=\"116\" x2=\"553.641\" y2=\"126.517\" stroke-linecap=\"round\" style=\"stroke:rgb(161,227,201);stroke-width:4\"/><line x1=\"553.641\" y1=\"126.517\" x2=\"553.641\" y2=\"113.517\" stroke-linecap=\"round\" style=\"stroke:rgb(161,227,201);stroke-width:4\"/><line x1=\"553.641\" y1=\"113.517\" x2=\"546.0\" y2=\"124.034\" stroke-linecap=\"round\" style=\"stroke:rgb(161,227,201);stroke-width:4\"/><line x1=\"546.0\" y1=\"124.034\" x2=\"558.364\" y2=\"120.017\" stroke-linecap=\"round\" style=\"stroke:rgb(161,227,201);stroke-width:4\"/><line x1=\"558.364\" y1=\"120.017\" x2=\"546.0\" y2=\"116.0\" stroke-linecap=\"round\" style=\"stroke:rgb(161,227,201);stroke-width:4\"/><line x1=\"547\" y1=\"243\" x2=\"534.636\" y2=\"238.983\" stroke-linecap=\"round\" style=\"stroke:rgb(219,232,164);stroke-width:4\"/><line x1=\"534.636\" y1=\"238.983\" x2=\"542.277\" y2=\"249.5\" stroke-linecap=\"round\" style=\"stroke:rgb(219,232,164);stroke-width:4\"/><line x1=\"542.277\" y1=\"249.5\" x2=\"542.277\" y2=\"236.5\" stroke-linecap=\"round\" style=\"stroke:rgb(219,232,164);stroke-width:4\"/><line x1=\"542.277\" y1=\"236.5\" x2=\"534.636\" y2=\"247.017\" stroke-linecap=\"round\" style=\"stroke:rgb(219,232,164);stroke-width:4\"/><line x1=\"534.636\" y1=\"247.017\" x2=\"547.0\" y2=\"243.0\" stroke-linecap=\"round\" style=\"stroke:rgb(219,232,164);stroke-width:4\"/><line x1=\"404\" y1=\"118\" x2=\"416.364\" y2=\"113.983\" stroke-linecap=\"round\" style=\"stroke:rgb(245,207,186);stroke-width:4\"/><line x1=\"416.364\" y1=\"113.983\" x2=\"404.0\" y2=\"109.966\" stroke-linecap=\"round\" style=\"stroke:rgb(245,207,186);stroke-width:4\"/><line x1=\"404.0\" y1=\"109.966\" x2=\"411.641\" y2=\"120.483\" stroke-linecap=\"round\" style=\"stroke:rgb(245,207,186);stroke-width:4\"/><line x1=\"411.641\" y1=\"120.483\" x2=\"411.641\" y2=\"107.483\" stroke-linecap=\"round\" style=\"stroke:rgb(245,207,186);stroke-width:4\"/><line x1=\"411.641\" y1=\"107.483\" x2=\"404.0\" y2=\"118.0\" stroke-linecap=\"round\" style=\"stroke:rgb(245,207,186);stroke-width:4\"/><line x1=\"177\" y1=\"426\" x2=\"169.359\" y2=\"436.517\" stroke-linecap=\"round\" style=\"stroke:rgb(231,222,180);stroke-width:4\"/><line x1=\"169.359\" y1=\"436.517\" x2=\"181.723\" y2=\"432.5\" stroke-linecap=\"round\" style=\"stroke:rgb(231,222,180);stroke-width:4\"/><line x1=\"181.723\" y1=\"432.5\" x2=\"169.359\" y2=\"428.483\" stroke-linecap=\"round\" style=\"stroke:rgb(231,222,180);stroke-width:4\"/><line x1=\"169.359\" y1=\"428.483\" x2=\"177.0\" y2=\"439.0\" stroke-linecap=\"round\" style=\"stroke:rgb(231,222,180);stroke-width:4\"/><line x1=\"177.0\" y1=\"439.0\" x2=\"177.0\" y2=\"426.0\" stroke-linecap=\"round\" style=\"stroke:rgb(231,222,180);stroke-width:4\"/><line x1=\"251\" y1=\"114\" x2=\"251.0\" y2=\"101.0\" stroke-linecap=\"round\" style=\"stroke:rgb(240,163,186);stroke-width:4\"/><line x1=\"251.0\" y1=\"101.0\" x2=\"243.359\" y2=\"111.517\" stroke-linecap=\"round\" style=\"stroke:rgb(240,163,186);stroke-width:4\"/><line x1=\"243.359\" y1=\"111.517\" x2=\"255.723\" y2=\"107.5\" stroke-linecap=\"round\" style=\"stroke:rgb(240,163,186);stroke-width:4\"/><line x1=\"255.723\" y1=\"107.5\" x2=\"243.359\" y2=\"103.483\" stroke-linecap=\"round\" style=\"stroke:rgb(240,163,186);stroke-width:4\"/><line x1=\"243.359\" y1=\"103.483\" x2=\"251.0\" y2=\"114.0\" stroke-linecap=\"round\" style=\"stroke:rgb(240,163,186);stroke-width:4\"/><line x1=\"50\" y1=\"182\" x2=\"57.641\" y2=\"192.517\" stroke-linecap=\"round\" style=\"stroke:rgb(239,224,178);stroke-width:4\"/><line x1=\"57.641\" y1=\"192.517\" x2=\"57.641\" y2=\"179.517\" stroke-linecap=\"round\" style=\"stroke:rgb(239,224,178);stroke-width:4\"/><line x1=\"57.641\" y1=\"179.517\" x2=\"50.0\" y2=\"190.034\" stroke-linecap=\"round\" style=\"stroke:rgb(239,224,178);stroke-width:4\"/><line x1=\"50.0\" y1=\"190.034\" x2=\"62.364\" y2=\"186.017\" stroke-linecap=\"round\" style=\"stroke:rgb(239,224,178);stroke-width:4\"/><line x1=\"62.364\" y1=\"186.017\" x2=\"50.0\" y2=\"182.0\" stroke-linecap=\"round\" style=\"stroke:rgb(239,224,178);stroke-width:4\"/><line x1=\"749\" y1=\"197\" x2=\"736.636\" y2=\"192.983\" stroke-linecap=\"round\" style=\"stroke:rgb(236,220,254);stroke-width:4\"/><line x1=\"736.636\" y1=\"192.983\" x2=\"744.277\" y2=\"203.5\" stroke-linecap=\"round\" style=\"stroke:rgb(236,220,254);stroke-width:4\"/><line x1=\"744.277\" y1=\"203.5\" x2=\"744.277\" y2=\"190.5\" stroke-linecap=\"round\" style=\"stroke:rgb(236,220,254);stroke-width:4\"/><line x1=\"744.277\" y1=\"190.5\" x2=\"736.636\" y2=\"201.017\" stroke-linecap=\"round\" style=\"stroke:rgb(236,220,254);stroke-width:4\"/><line x1=\"736.636\" y1=\"201.017\" x2=\"749.0\" y2=\"197.0\" stroke-linecap=\"round\" style=\"stroke:rgb(236,220,254);stroke-width:4\"/><line x1=\"480\" y1=\"55\" x2=\"492.364\" y2=\"50.983\" stroke-linecap=\"round\" style=\"stroke:rgb(242,204,171);stroke-width:4\"/><line x1=\"492.364\" y1=\"50.983\" x2=\"480.0\" y2=\"46.966\" stroke-linecap=\"round\" style=\"stroke:rgb(242,204,171);stroke-width:4\"/><line x1=\"480.0\" y1=\"46.966\" x2=\"487.641\" y2=\"57.483\" stroke-linecap=\"round\" style=\"stroke:rgb(242,204,171);stroke-width:4\"/><line x1=\"487.641\" y1=\"57.483\" x2=\"487.641\" y2=\"44.483\" stroke-linecap=\"round\" style=\"stroke:rgb(242,204,171);stroke-width:4\"/><line x1=\"487.641\" y1=\"44.483\" x2=\"480.0\" y2=\"55.0\" stroke-linecap=\"round\" style=\"stroke:rgb(242,204,171);stroke-width:4\"/><line x1=\"225\" y1=\"445\" x2=\"217.359\" y2=\"455.517\" stroke-linecap=\"round\" style=\"stroke:rgb(220,189,240);stroke-width:4\"/><line x1=\"217.359\" y1=\"455.517\" x2=\"229.723\" y2=\"451.5\" stroke-linecap=\"round\" style=\"stroke:rgb(220,189,240);stroke-width:4\"/><line x1=\"229.723\" y1=\"451.5\" x2=\"217.359\" y2=\"447.483\" stroke-linecap=\"round\" style=\"stroke:rgb(220,189,240);stroke-width:4\"/><line x1=\"217.359\" y1=\"447.483\" x2=\"225.0\" y2=\"458.0\" stroke-linecap=\"round\" style=\"stroke:rgb(220,189,240);stroke-width:4\"/><line x1=\"225.0\" y1=\"458.0\" x2=\"225.0\" y2=\"445.0\" stroke-linecap=\"round\" style=\"stroke:rgb(220,189,240);stroke-width:4\"/>\n",
              "        <g visibility=visible transform=\"rotate(360,225.0,445.0) translate(207.0, 427.0)\">\n",
              "<path style=\" stroke:none;fill-rule:evenodd;fill:rgb(220,189,240);fill-opacity:1;\" d=\"M 18.214844 0.632812 C 16.109375 1.800781 15.011719 4.074219 15.074219 7.132812 L 15.085938 7.652344 L 14.785156 7.496094 C 13.476562 6.824219 11.957031 6.671875 10.40625 7.066406 C 8.46875 7.550781 6.515625 9.15625 4.394531 11.992188 C 3.0625 13.777344 2.679688 14.636719 3.042969 15.027344 L 3.15625 15.152344 L 3.519531 15.152344 C 4.238281 15.152344 4.828125 14.886719 8.1875 13.039062 C 9.386719 12.378906 10.371094 11.839844 10.378906 11.839844 C 10.386719 11.839844 10.355469 11.929688 10.304688 12.035156 C 9.832031 13.09375 9.257812 14.820312 8.96875 16.078125 C 7.914062 20.652344 8.617188 24.53125 11.070312 27.660156 C 11.351562 28.015625 11.363281 27.914062 10.972656 28.382812 C 8.925781 30.84375 7.945312 33.28125 8.238281 35.1875 C 8.289062 35.527344 8.28125 35.523438 8.917969 35.523438 C 10.941406 35.523438 13.074219 34.207031 15.136719 31.6875 C 15.359375 31.417969 15.328125 31.425781 15.5625 31.574219 C 16.292969 32.042969 18.023438 32.964844 18.175781 32.964844 C 18.335938 32.964844 19.941406 32.210938 20.828125 31.71875 C 20.996094 31.625 21.136719 31.554688 21.136719 31.558594 C 21.203125 31.664062 21.898438 32.414062 22.222656 32.730469 C 23.835938 34.300781 25.5625 35.132812 27.582031 35.300781 C 27.90625 35.328125 27.9375 35.308594 28.007812 34.984375 C 28.382812 33.242188 27.625 30.925781 25.863281 28.425781 L 25.542969 27.96875 L 25.699219 27.785156 C 28.945312 23.960938 29.132812 18.699219 26.257812 11.96875 L 26.207031 11.84375 L 27.945312 12.703125 C 31.53125 14.476562 32.316406 14.800781 33.03125 14.800781 C 33.976562 14.800781 33.78125 13.9375 32.472656 12.292969 C 28.519531 7.355469 25.394531 5.925781 21.921875 7.472656 L 21.558594 7.636719 L 21.578125 7.542969 C 21.699219 6.992188 21.761719 5.742188 21.699219 5.164062 C 21.496094 3.296875 20.664062 1.964844 19.003906 0.855469 C 18.480469 0.503906 18.457031 0.5 18.214844 0.632812\"/>\n",
              "</g>\n",
              "      </svg>\n",
              "    "
            ]
          },
          "metadata": {}
        }
      ]
    }
  ]
}