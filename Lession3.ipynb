{
  "nbformat": 4,
  "nbformat_minor": 0,
  "metadata": {
    "colab": {
      "name": "Lession3.ipynb",
      "provenance": [],
      "collapsed_sections": [],
      "authorship_tag": "ABX9TyOdFrqtH/G3WiCVuD4NSRm6",
      "include_colab_link": true
    },
    "kernelspec": {
      "name": "python3",
      "display_name": "Python 3"
    },
    "language_info": {
      "name": "python"
    }
  },
  "cells": [
    {
      "cell_type": "markdown",
      "metadata": {
        "id": "view-in-github",
        "colab_type": "text"
      },
      "source": [
        "<a href=\"https://colab.research.google.com/github/SongMG0401/Colab/blob/main/Lession3.ipynb\" target=\"_parent\"><img src=\"https://colab.research.google.com/assets/colab-badge.svg\" alt=\"Open In Colab\"/></a>"
      ]
    },
    {
      "cell_type": "markdown",
      "source": [
        "**3장 연산자**\n",
        "\n",
        "형성평가 - 파운드를 킬로그램으로 변경"
      ],
      "metadata": {
        "id": "lbBhmkinwfOW"
      }
    },
    {
      "cell_type": "code",
      "execution_count": null,
      "metadata": {
        "colab": {
          "base_uri": "https://localhost:8080/"
        },
        "id": "rjTPJ9gjvctr",
        "outputId": "cac48272-b9b7-4462-b866-43547d4d315a"
      },
      "outputs": [
        {
          "output_type": "stream",
          "name": "stdout",
          "text": [
            "파운드(lb)를 입력하세요 : 15\n",
            "15.0 파운드는 6.8038799999999995 킬로그램입니다.\n",
            "킬로그램(kg)을 입력하세요 : 15\n",
            "15.0 킬로그램은 33.069345000000006 파운드입니다.\n"
          ]
        }
      ],
      "source": [
        "paund = float(input(\"파운드(lb)를 입력하세요 : \"))\n",
        "kg = a * 0.453592\n",
        "print(paund,\"파운드는\", kg, \"킬로그램입니다.\")\n",
        "\n",
        "kg = float(input(\"킬로그램(kg)을 입력하세요 : \"))\n",
        "paund = kg * 2.204623\n",
        "print(kg,\"킬로그램은\", paund, \"파운드입니다.\")"
      ]
    },
    {
      "cell_type": "markdown",
      "source": [
        "형성평가 : 편의점 하루 매출 계산하기"
      ],
      "metadata": {
        "id": "NqOSNdgl4iyR"
      }
    },
    {
      "cell_type": "code",
      "source": [
        "a = int(0)\n",
        "#구입\n",
        "a = a - (900*10) #삼각김밥 10개\n",
        "a = a - (3500*5) #도시락 5개\n",
        "#판매\n",
        "a = a + (1800*2) #바나나 우유 2개\n",
        "a = a + (4000*4) #도시락 4개\n",
        "a = a + (1500*1) #콜라 1개\n",
        "a = a + (2000*4) #새우깡 4개\n",
        "a = a + (1800*5) #캔커피 5개\n",
        "\n",
        "print(\"오늘 총 금액은\", a, \"입니다.\")"
      ],
      "metadata": {
        "id": "yECiD8Eu08Kj"
      },
      "execution_count": null,
      "outputs": []
    },
    {
      "cell_type": "markdown",
      "source": [
        "비교 연산자"
      ],
      "metadata": {
        "id": "nCVahfTm-N96"
      }
    },
    {
      "cell_type": "code",
      "source": [
        "score = int(input(\"필기 시험점수를 입력하세요 ==> \"))\n",
        "print(score >= 70)"
      ],
      "metadata": {
        "colab": {
          "base_uri": "https://localhost:8080/"
        },
        "id": "Hw-lkRxi-SjI",
        "outputId": "e77575be-097e-490b-99e2-d99ca39c4706"
      },
      "execution_count": null,
      "outputs": [
        {
          "output_type": "stream",
          "name": "stdout",
          "text": [
            "필기 시험점수를 입력하세요 ==> 70\n",
            "True\n"
          ]
        }
      ]
    },
    {
      "cell_type": "code",
      "source": [
        "a = float(input(\"파이썬 시험점수를 입력하세요 ==> \"))\n",
        "b = float(input(\"모바일 시험점수를 입력하세요 ==> \"))\n",
        "c = float(input(\"엑셀 시험점수를 입력하세요 ==> \"))\n",
        "t = (a*3.5 + b*4.0 + c*4.5)/3\n",
        "\n",
        "print(\"안공씨의 평균 학점은\", t, \"점 입니다.\")"
      ],
      "metadata": {
        "colab": {
          "base_uri": "https://localhost:8080/"
        },
        "id": "Lcv_sPY6-uCX",
        "outputId": "701c0907-d98d-4dcf-d457-0833a2da9ed5"
      },
      "execution_count": null,
      "outputs": [
        {
          "output_type": "stream",
          "name": "stdout",
          "text": [
            "파이썬 시험점수를 입력하세요 ==> 3\n",
            "모바일 시험점수를 입력하세요 ==> 2\n",
            "엑셀 시험점수를 입력하세요 ==> 1\n",
            "안공씨의 평균 학점은 7.666666666666667 점 입니다.\n"
          ]
        }
      ]
    },
    {
      "cell_type": "code",
      "source": [
        "#!pip3 install ColabTurtle\n",
        "import ColabTurtle.Turtle as turtle\n",
        "\n",
        "turtle.initializeTurtle()\n",
        "turtle.forward(100)\n",
        "turtle.left(-90)\n",
        "turtle.forward(100)\n",
        "turtle.left(-90)\n",
        "turtle.forward(100)\n",
        "turtle.left(-90)\n",
        "turtle.forward(100)\n",
        "\n",
        "turtle.penup()\n",
        "turtle.forward(100)\n",
        "turtle.pendown()\n",
        "turtle.pencolor(\"red\")\n",
        "turtle.pensize(7)\n",
        "\n",
        "\n",
        "turtle.left(-90)\n",
        "turtle.forward(100)"
      ],
      "metadata": {
        "id": "IF5WgR05B5FA",
        "colab": {
          "base_uri": "https://localhost:8080/",
          "height": 520
        },
        "outputId": "0ab2cd4c-124d-4583-b7f1-00f9695116ff"
      },
      "execution_count": null,
      "outputs": [
        {
          "output_type": "display_data",
          "data": {
            "text/plain": [
              "<IPython.core.display.HTML object>"
            ],
            "text/html": [
              "\n",
              "      <svg width=\"800\" height=\"500\">\n",
              "        <rect width=\"100%\" height=\"100%\" fill=\"black\"/>\n",
              "        <line x1=\"400\" y1=\"250\" x2=\"400.0\" y2=\"150.0\" stroke-linecap=\"round\" style=\"stroke:white;stroke-width:4\"/><line x1=\"400.0\" y1=\"150.0\" x2=\"500.0\" y2=\"150.0\" stroke-linecap=\"round\" style=\"stroke:white;stroke-width:4\"/><line x1=\"500.0\" y1=\"150.0\" x2=\"500.0\" y2=\"250.0\" stroke-linecap=\"round\" style=\"stroke:white;stroke-width:4\"/><line x1=\"500.0\" y1=\"250.0\" x2=\"400.0\" y2=\"250.0\" stroke-linecap=\"round\" style=\"stroke:white;stroke-width:4\"/><line x1=\"300.0\" y1=\"250.0\" x2=\"300.0\" y2=\"150.0\" stroke-linecap=\"round\" style=\"stroke:red;stroke-width:7\"/>\n",
              "        <g visibility=visible transform=\"rotate(360,300.0,150.0) translate(282.0, 132.0)\">\n",
              "<path style=\" stroke:none;fill-rule:evenodd;fill:red;fill-opacity:1;\" d=\"M 18.214844 0.632812 C 16.109375 1.800781 15.011719 4.074219 15.074219 7.132812 L 15.085938 7.652344 L 14.785156 7.496094 C 13.476562 6.824219 11.957031 6.671875 10.40625 7.066406 C 8.46875 7.550781 6.515625 9.15625 4.394531 11.992188 C 3.0625 13.777344 2.679688 14.636719 3.042969 15.027344 L 3.15625 15.152344 L 3.519531 15.152344 C 4.238281 15.152344 4.828125 14.886719 8.1875 13.039062 C 9.386719 12.378906 10.371094 11.839844 10.378906 11.839844 C 10.386719 11.839844 10.355469 11.929688 10.304688 12.035156 C 9.832031 13.09375 9.257812 14.820312 8.96875 16.078125 C 7.914062 20.652344 8.617188 24.53125 11.070312 27.660156 C 11.351562 28.015625 11.363281 27.914062 10.972656 28.382812 C 8.925781 30.84375 7.945312 33.28125 8.238281 35.1875 C 8.289062 35.527344 8.28125 35.523438 8.917969 35.523438 C 10.941406 35.523438 13.074219 34.207031 15.136719 31.6875 C 15.359375 31.417969 15.328125 31.425781 15.5625 31.574219 C 16.292969 32.042969 18.023438 32.964844 18.175781 32.964844 C 18.335938 32.964844 19.941406 32.210938 20.828125 31.71875 C 20.996094 31.625 21.136719 31.554688 21.136719 31.558594 C 21.203125 31.664062 21.898438 32.414062 22.222656 32.730469 C 23.835938 34.300781 25.5625 35.132812 27.582031 35.300781 C 27.90625 35.328125 27.9375 35.308594 28.007812 34.984375 C 28.382812 33.242188 27.625 30.925781 25.863281 28.425781 L 25.542969 27.96875 L 25.699219 27.785156 C 28.945312 23.960938 29.132812 18.699219 26.257812 11.96875 L 26.207031 11.84375 L 27.945312 12.703125 C 31.53125 14.476562 32.316406 14.800781 33.03125 14.800781 C 33.976562 14.800781 33.78125 13.9375 32.472656 12.292969 C 28.519531 7.355469 25.394531 5.925781 21.921875 7.472656 L 21.558594 7.636719 L 21.578125 7.542969 C 21.699219 6.992188 21.761719 5.742188 21.699219 5.164062 C 21.496094 3.296875 20.664062 1.964844 19.003906 0.855469 C 18.480469 0.503906 18.457031 0.5 18.214844 0.632812\"/>\n",
              "</g>\n",
              "      </svg>\n",
              "    "
            ]
          },
          "metadata": {}
        }
      ]
    },
    {
      "cell_type": "code",
      "source": [
        "while True :\n",
        "    distance = int(input(\"거북이의 이동 거리 : \"))\n",
        "    if distance <= 0 :\n",
        "      break\n",
        "\n",
        "    each = int(input(\"거북이의 회전 각도 : \"))\n",
        "    turtle.left(each)\n",
        "    turtle.forward(distance)"
      ],
      "metadata": {
        "id": "cScHCJrrE3-v",
        "colab": {
          "base_uri": "https://localhost:8080/",
          "height": 539
        },
        "outputId": "1ddf2e75-300b-4577-9291-9f4b94d9d47e"
      },
      "execution_count": null,
      "outputs": [
        {
          "name": "stdout",
          "output_type": "stream",
          "text": [
            "거북이의 이동 거리 : 0\n"
          ]
        },
        {
          "output_type": "display_data",
          "data": {
            "text/plain": [
              "<IPython.core.display.HTML object>"
            ],
            "text/html": [
              "\n",
              "      <svg width=\"800\" height=\"500\">\n",
              "        <rect width=\"100%\" height=\"100%\" fill=\"black\"/>\n",
              "        <line x1=\"400\" y1=\"250\" x2=\"400.0\" y2=\"150.0\" stroke-linecap=\"round\" style=\"stroke:white;stroke-width:4\"/><line x1=\"400.0\" y1=\"150.0\" x2=\"500.0\" y2=\"150.0\" stroke-linecap=\"round\" style=\"stroke:white;stroke-width:4\"/><line x1=\"500.0\" y1=\"150.0\" x2=\"500.0\" y2=\"250.0\" stroke-linecap=\"round\" style=\"stroke:white;stroke-width:4\"/><line x1=\"500.0\" y1=\"250.0\" x2=\"400.0\" y2=\"250.0\" stroke-linecap=\"round\" style=\"stroke:white;stroke-width:4\"/><line x1=\"300.0\" y1=\"250.0\" x2=\"300.0\" y2=\"150.0\" stroke-linecap=\"round\" style=\"stroke:red;stroke-width:7\"/><line x1=\"300.0\" y1=\"150.0\" x2=\"300.0\" y2=\"50.0\" stroke-linecap=\"round\" style=\"stroke:red;stroke-width:7\"/><line x1=\"300.0\" y1=\"50.0\" x2=\"200.0\" y2=\"50.0\" stroke-linecap=\"round\" style=\"stroke:red;stroke-width:7\"/><line x1=\"200.0\" y1=\"50.0\" x2=\"20200.0\" y2=\"50.0\" stroke-linecap=\"round\" style=\"stroke:red;stroke-width:7\"/><line x1=\"20200.0\" y1=\"50.0\" x2=\"200.0\" y2=\"50.0\" stroke-linecap=\"round\" style=\"stroke:red;stroke-width:7\"/><line x1=\"200.0\" y1=\"50.0\" x2=\"200.0\" y2=\"250.0\" stroke-linecap=\"round\" style=\"stroke:red;stroke-width:7\"/><line x1=\"200.0\" y1=\"250.0\" x2=\"200.0\" y2=\"750.0\" stroke-linecap=\"round\" style=\"stroke:red;stroke-width:7\"/><line x1=\"200.0\" y1=\"750.0\" x2=\"200.0\" y2=\"250.0\" stroke-linecap=\"round\" style=\"stroke:red;stroke-width:7\"/><line x1=\"200.0\" y1=\"250.0\" x2=\"200.0\" y2=\"250.0\" stroke-linecap=\"round\" style=\"stroke:red;stroke-width:7\"/><line x1=\"200.0\" y1=\"250.0\" x2=\"-14695561.59\" y2=\"-8e+22\" stroke-linecap=\"round\" style=\"stroke:red;stroke-width:7\"/><line x1=\"-14695561.59\" y1=\"-8e+22\" x2=\"-14695561.59\" y2=\"-8e+22\" stroke-linecap=\"round\" style=\"stroke:red;stroke-width:7\"/><line x1=\"-14695561.59\" y1=\"-8e+22\" x2=\"-14695561.59\" y2=\"-8e+22\" stroke-linecap=\"round\" style=\"stroke:red;stroke-width:7\"/><line x1=\"-14695561.59\" y1=\"-8e+22\" x2=\"-14695561.59\" y2=\"-8e+22\" stroke-linecap=\"round\" style=\"stroke:red;stroke-width:7\"/>\n",
              "        <g visibility=visible transform=\"rotate(360,-14695561.59,-8e+22) translate(-14695579.59, -8e+22)\">\n",
              "<path style=\" stroke:none;fill-rule:evenodd;fill:red;fill-opacity:1;\" d=\"M 18.214844 0.632812 C 16.109375 1.800781 15.011719 4.074219 15.074219 7.132812 L 15.085938 7.652344 L 14.785156 7.496094 C 13.476562 6.824219 11.957031 6.671875 10.40625 7.066406 C 8.46875 7.550781 6.515625 9.15625 4.394531 11.992188 C 3.0625 13.777344 2.679688 14.636719 3.042969 15.027344 L 3.15625 15.152344 L 3.519531 15.152344 C 4.238281 15.152344 4.828125 14.886719 8.1875 13.039062 C 9.386719 12.378906 10.371094 11.839844 10.378906 11.839844 C 10.386719 11.839844 10.355469 11.929688 10.304688 12.035156 C 9.832031 13.09375 9.257812 14.820312 8.96875 16.078125 C 7.914062 20.652344 8.617188 24.53125 11.070312 27.660156 C 11.351562 28.015625 11.363281 27.914062 10.972656 28.382812 C 8.925781 30.84375 7.945312 33.28125 8.238281 35.1875 C 8.289062 35.527344 8.28125 35.523438 8.917969 35.523438 C 10.941406 35.523438 13.074219 34.207031 15.136719 31.6875 C 15.359375 31.417969 15.328125 31.425781 15.5625 31.574219 C 16.292969 32.042969 18.023438 32.964844 18.175781 32.964844 C 18.335938 32.964844 19.941406 32.210938 20.828125 31.71875 C 20.996094 31.625 21.136719 31.554688 21.136719 31.558594 C 21.203125 31.664062 21.898438 32.414062 22.222656 32.730469 C 23.835938 34.300781 25.5625 35.132812 27.582031 35.300781 C 27.90625 35.328125 27.9375 35.308594 28.007812 34.984375 C 28.382812 33.242188 27.625 30.925781 25.863281 28.425781 L 25.542969 27.96875 L 25.699219 27.785156 C 28.945312 23.960938 29.132812 18.699219 26.257812 11.96875 L 26.207031 11.84375 L 27.945312 12.703125 C 31.53125 14.476562 32.316406 14.800781 33.03125 14.800781 C 33.976562 14.800781 33.78125 13.9375 32.472656 12.292969 C 28.519531 7.355469 25.394531 5.925781 21.921875 7.472656 L 21.558594 7.636719 L 21.578125 7.542969 C 21.699219 6.992188 21.761719 5.742188 21.699219 5.164062 C 21.496094 3.296875 20.664062 1.964844 19.003906 0.855469 C 18.480469 0.503906 18.457031 0.5 18.214844 0.632812\"/>\n",
              "</g>\n",
              "      </svg>\n",
              "    "
            ]
          },
          "metadata": {}
        }
      ]
    },
    {
      "cell_type": "code",
      "source": [],
      "metadata": {
        "id": "BHaBmtfpX2dk"
      },
      "execution_count": null,
      "outputs": []
    }
  ]
}