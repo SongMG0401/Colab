{
  "nbformat": 4,
  "nbformat_minor": 0,
  "metadata": {
    "colab": {
      "name": "Lession3.ipynb",
      "provenance": [],
      "collapsed_sections": [],
      "authorship_tag": "ABX9TyNU/2txyelRTVm8mSE85Hu6",
      "include_colab_link": true
    },
    "kernelspec": {
      "name": "python3",
      "display_name": "Python 3"
    },
    "language_info": {
      "name": "python"
    }
  },
  "cells": [
    {
      "cell_type": "markdown",
      "metadata": {
        "id": "view-in-github",
        "colab_type": "text"
      },
      "source": [
        "<a href=\"https://colab.research.google.com/github/SongMG0401/Colab/blob/main/Lession3.ipynb\" target=\"_parent\"><img src=\"https://colab.research.google.com/assets/colab-badge.svg\" alt=\"Open In Colab\"/></a>"
      ]
    },
    {
      "cell_type": "markdown",
      "source": [
        "**3장 연산자**\n",
        "\n",
        "형성평가 - 파운드를 킬로그램으로 변경"
      ],
      "metadata": {
        "id": "lbBhmkinwfOW"
      }
    },
    {
      "cell_type": "code",
      "execution_count": 4,
      "metadata": {
        "colab": {
          "base_uri": "https://localhost:8080/"
        },
        "id": "rjTPJ9gjvctr",
        "outputId": "cac48272-b9b7-4462-b866-43547d4d315a"
      },
      "outputs": [
        {
          "output_type": "stream",
          "name": "stdout",
          "text": [
            "파운드(lb)를 입력하세요 : 15\n",
            "15.0 파운드는 6.8038799999999995 킬로그램입니다.\n",
            "킬로그램(kg)을 입력하세요 : 15\n",
            "15.0 킬로그램은 33.069345000000006 파운드입니다.\n"
          ]
        }
      ],
      "source": [
        "paund = float(input(\"파운드(lb)를 입력하세요 : \"))\n",
        "kg = a * 0.453592\n",
        "print(paund,\"파운드는\", kg, \"킬로그램입니다.\")\n",
        "\n",
        "kg = float(input(\"킬로그램(kg)을 입력하세요 : \"))\n",
        "paund = kg * 2.204623\n",
        "print(kg,\"킬로그램은\", paund, \"파운드입니다.\")"
      ]
    },
    {
      "cell_type": "markdown",
      "source": [
        "형성평가 : 편의점 하루 매출 계산하기"
      ],
      "metadata": {
        "id": "NqOSNdgl4iyR"
      }
    },
    {
      "cell_type": "code",
      "source": [
        "a = int(0)\n",
        "#구입\n",
        "a = a - (900*10) #삼각김밥 10개\n",
        "a = a - (3500*5) #도시락 5개\n",
        "#판매\n",
        "a = a + (1800*2) #바나나 우유 2개\n",
        "a = a + (4000*4) #도시락 4개\n",
        "a = a + (1500*1) #콜라 1개\n",
        "a = a + (2000*4) #새우깡 4개\n",
        "a = a + (1800*5) #캔커피 5개\n",
        "\n",
        "print(\"오늘 총 금액은\", a, \"입니다.\")"
      ],
      "metadata": {
        "id": "yECiD8Eu08Kj"
      },
      "execution_count": null,
      "outputs": []
    }
  ]
}