{
  "nbformat": 4,
  "nbformat_minor": 0,
  "metadata": {
    "colab": {
      "name": "Lession4.ipynb",
      "provenance": [],
      "collapsed_sections": [],
      "authorship_tag": "ABX9TyMqugon+aBCu7qd9L/sFkUT",
      "include_colab_link": true
    },
    "kernelspec": {
      "name": "python3",
      "display_name": "Python 3"
    },
    "language_info": {
      "name": "python"
    }
  },
  "cells": [
    {
      "cell_type": "markdown",
      "metadata": {
        "id": "view-in-github",
        "colab_type": "text"
      },
      "source": [
        "<a href=\"https://colab.research.google.com/github/SongMG0401/Colab/blob/main/Lession4.ipynb\" target=\"_parent\"><img src=\"https://colab.research.google.com/assets/colab-badge.svg\" alt=\"Open In Colab\"/></a>"
      ]
    },
    {
      "cell_type": "markdown",
      "source": [
        "데이터 타입"
      ],
      "metadata": {
        "id": "fmgjWXg1cSG_"
      }
    },
    {
      "cell_type": "code",
      "execution_count": null,
      "metadata": {
        "id": "HCgsP_WgZp5o",
        "colab": {
          "base_uri": "https://localhost:8080/"
        },
        "outputId": "ed07159c-6429-4c28-a4c3-83935d5f6d87"
      },
      "outputs": [
        {
          "output_type": "stream",
          "name": "stdout",
          "text": [
            "v1 변수의 데이터의 타입은  <class 'int'>\n",
            "v2 변수의 데이터의 타입은  <class 'float'>\n",
            "v3 변수의 데이터의 타입은  <class 'str'>\n",
            "v4 변수의 데이터의 타입은  <class 'bool'>\n"
          ]
        }
      ],
      "source": [
        "v1, v2, v3, v4 = 100, 3.14, \"안산공고\", True\n",
        "print(\"v1 변수의 데이터의 타입은 \", type(v1))\n",
        "print(\"v2 변수의 데이터의 타입은 \", type(v2))\n",
        "print(\"v3 변수의 데이터의 타입은 \", type(v3))\n",
        "print(\"v4 변수의 데이터의 타입은 \", type(v4))"
      ]
    },
    {
      "cell_type": "code",
      "source": [
        "print(\"\\n줄바꿈\\n연습 \")\n",
        "print(\"\\t텝키\\t연습\")\n",
        "print(\"어떤 글자를 \\\"강조\\\"하는 효과1\")\n",
        "print(\"어떤 글자를 \\'강조\\\"'하는 효과2\")\n",
        "print(\"\\\\\\\\ 백슬래시 2개 출력\")"
      ],
      "metadata": {
        "colab": {
          "base_uri": "https://localhost:8080/"
        },
        "id": "NrWZBiyect58",
        "outputId": "2bd0dd3d-7178-4104-f9c3-aa5c8c01378d"
      },
      "execution_count": null,
      "outputs": [
        {
          "output_type": "stream",
          "name": "stdout",
          "text": [
            "\n",
            "줄바꿈\n",
            "연습 \n",
            "\t텝키\t연습\n",
            "어떤 글자를 \"강조\"하는 효과1\n",
            "어떤 글자를 '강조\"'하는 효과2\n",
            "\\\\ 백슬래시 2개 출력\n"
          ]
        }
      ]
    },
    {
      "cell_type": "code",
      "source": [
        "a = len(input(\"첫 번째 문자열 ==> \"))\n",
        "b = len(input(\"두 번째 문자열 ==> \"))\n",
        "c = a - b\n",
        "print(\"두 문자열의 길이 차이는\", c, \"입니다.\")"
      ],
      "metadata": {
        "id": "zgoDzyRvjehD",
        "colab": {
          "base_uri": "https://localhost:8080/"
        },
        "outputId": "f21659fd-f109-478a-fd6e-0ed69cfb9e38"
      },
      "execution_count": 3,
      "outputs": [
        {
          "output_type": "stream",
          "name": "stdout",
          "text": [
            "첫 번째 문자열 ==> 광현이\n",
            "두 번째 문자열 ==> TFT중\n",
            "두 문자열의 길이 차이는 -1 입니다.\n"
          ]
        }
      ]
    },
    {
      "cell_type": "markdown",
      "source": [
        "문자영 함수 예제 len(), upper(), lower(), count(), isupper(), islower()"
      ],
      "metadata": {
        "id": "97sTIfF0ocrp"
      }
    },
    {
      "cell_type": "code",
      "source": [
        "a = input(\"문자열 입력 : \")\n",
        "print(\"입력된 문자열의 길이 : \", len(a))\n",
        "print(\"입력된 문자열을 대문자로 변환 : \", a.upper())\n",
        "print(\"입력된 문자열을 소문자로 변환 : \", a.lower())\n",
        "print(\"입력된 문자열 중 ansan이 몇번 나오는지 : \", a.count(\"ansan\"))\n",
        "print(\"입력된 문자열은 대문자 인가요?\", a.isupper())\n",
        "print(\"입력된 문자열은 소문자 인가요?\", a.islower())"
      ],
      "metadata": {
        "colab": {
          "base_uri": "https://localhost:8080/"
        },
        "id": "FJbGVwhUmJvR",
        "outputId": "08be2c57-1cb3-47a0-fb3f-2ceea4f1ad45"
      },
      "execution_count": 5,
      "outputs": [
        {
          "output_type": "stream",
          "name": "stdout",
          "text": [
            "문자열 입력 : ansan\n",
            "입력된 문자열의 길이 :  5\n",
            "입력된 문자열을 대문자로 변환 :  ANSAN\n",
            "입력된 문자열을 소문자로 변환 :  ansan\n",
            "입력된 문자열 중 ansan이 몇번 나오는지 :  1\n",
            "입력된 문자열은 대문자 인가요? False\n",
            "입력된 문자열은 소문자 인가요? True\n"
          ]
        }
      ]
    },
    {
      "cell_type": "markdown",
      "source": [
        "Let it be 가사 중 Let it be 가 몇번 나오는지"
      ],
      "metadata": {
        "id": "TuohZSfbq51q"
      }
    },
    {
      "cell_type": "code",
      "source": [
        "a = \"\"\"When I find myself in times of trouble\n",
        "Mother Mary comes to me\n",
        "Speaking words of wisdom\n",
        "Let it be\n",
        "And in my hour of darkness\n",
        "She is standing right in front of me\n",
        "Speaking words of wisdom\n",
        "Let it be\n",
        "Let is be, let it be\n",
        "Let it be, let it be\n",
        "Whisper words of wisdom\n",
        "Let it be\n",
        "And when the brokenhearted people\n",
        "Living in the world agree\n",
        "There will be an answer\n",
        "Let it be\n",
        "For though they may be parted\n",
        "There is still a chance that they will see\n",
        "There will be an answer\n",
        "Let it be\n",
        "Let is be, let it be\n",
        "Let it be, let it be\n",
        "Yeah, there will be an answer\n",
        "Let it be\n",
        "Let is be, let it be\n",
        "Let it be, let it be\n",
        "Whisper words of wisdom\n",
        "Let it be\n",
        "Let is be, let it be\n",
        "Let it be, yeah, let it be\n",
        "Whisper words of wisdom\n",
        "Let it be\n",
        "And when the night is cloudy\n",
        "There is still a light that shines on me\n",
        "Shine on 'til tomorrow\n",
        "Let it be\n",
        "I wake up to the sound of music\n",
        "Mother Mary comes to me\n",
        "Speaking words of wisdom\n",
        "Let it be, yeah\n",
        "Let it be, let it be\n",
        "Let it be, yeah, let it be\n",
        "Oh, there will be an answer\n",
        "Let it be\n",
        "Let it be, let it be\n",
        "Let it be, yeah, let it be\n",
        "Whisper words of wisdom\n",
        "Let it be\n",
        "\"\"\"\n",
        "b = a.count(\"let it be\") + a.count(\"Let it be\")\n",
        "\n",
        "print(\"가사에 let it be가 몇번 나오는 횟수 :\", b, \"번\")"
      ],
      "metadata": {
        "colab": {
          "base_uri": "https://localhost:8080/"
        },
        "id": "WzibW8tKpgRi",
        "outputId": "d410c271-3550-455c-994e-218190b46799"
      },
      "execution_count": 8,
      "outputs": [
        {
          "output_type": "stream",
          "name": "stdout",
          "text": [
            "가사에 let it be가 몇번 나오는 횟수 : 32 번\n"
          ]
        }
      ]
    },
    {
      "cell_type": "code",
      "source": [
        "a = \"\"\"Yesterday\n",
        "All my trouble seemed so far away\n",
        "Now it looks as though they're here to stay\n",
        "Oh, I believe in yesterday\n",
        "Suddenly\n",
        "I'm not half the man I used to be\n",
        "There's a shadow hanging over me\n",
        "Oh, yesterday came suddenly\n",
        "Why she had to go, I don't know\n",
        "She wouldn't say\n",
        "I said something wrong\n",
        "Now I long for yesterday\n",
        "Yesterday\n",
        "Love was such an easy game to play\n",
        "Now I need a place to hide away\n",
        "Oh, I believe in yesterday\n",
        "Why she had to go, I don't know\n",
        "She wouldn't say\n",
        "I said something wrong\n",
        "Now I long for yesterday\n",
        "Yesterday\n",
        "Love was such an easy game to play\n",
        "Now I need a place to hide away\n",
        "Oh, I believe in yesterday\n",
        "\"\"\"\n",
        "b = a.count(\"yesterday\") + a.count(\"Yesterday\")\n",
        "\n",
        "print(\"가사에 yesterday가 몇번 나오는 횟수 :\", b, \"번\")"
      ],
      "metadata": {
        "colab": {
          "base_uri": "https://localhost:8080/"
        },
        "id": "ML3UtPG9rgAR",
        "outputId": "a910ab4f-bf4b-4861-a385-0147697d20be"
      },
      "execution_count": 10,
      "outputs": [
        {
          "output_type": "stream",
          "name": "stdout",
          "text": [
            "가사에 yesterday가 몇번 나오는 횟수 : 9 번\n"
          ]
        }
      ]
    },
    {
      "cell_type": "markdown",
      "source": [
        "리스트 예제"
      ],
      "metadata": {
        "id": "atYUA0kbygHp"
      }
    },
    {
      "cell_type": "code",
      "source": [
        "myList = [10, 20, 30, \"안산\", \"공고\"]\n",
        "\n",
        "print(myList)\n",
        "print(myList[3])\n",
        "print(myList[2:4])"
      ],
      "metadata": {
        "colab": {
          "base_uri": "https://localhost:8080/"
        },
        "id": "H-XN9aLrxOOA",
        "outputId": "745cb1f2-3dfe-4a8a-dac6-9be0dd07ee2e"
      },
      "execution_count": 15,
      "outputs": [
        {
          "output_type": "stream",
          "name": "stdout",
          "text": [
            "[10, 20, 30, '안산', '공고']\n",
            "안산\n",
            "[30, '안산']\n"
          ]
        }
      ]
    },
    {
      "cell_type": "code",
      "source": [
        "a = \"안산공고 컴퓨터과 파이썬 수업\"\n",
        "\n",
        "print(a[0])\n",
        "print(a[10:13])"
      ],
      "metadata": {
        "colab": {
          "base_uri": "https://localhost:8080/"
        },
        "id": "icTb63QVyuXf",
        "outputId": "05523f67-f773-4382-83d0-d9c0566683a1"
      },
      "execution_count": 21,
      "outputs": [
        {
          "output_type": "stream",
          "name": "stdout",
          "text": [
            "안\n",
            "파이썬\n"
          ]
        }
      ]
    },
    {
      "cell_type": "markdown",
      "source": [
        "형성평가 : 문자열을 꺼꾸로 출력하는 프로그램"
      ],
      "metadata": {
        "id": "lhXauJzR0VLy"
      }
    },
    {
      "cell_type": "code",
      "source": [
        "a = input(\"가수 이름을 입력 : \")\n",
        "b = len(a)\n",
        "c = \"\"\n",
        "while b > 0 :\n",
        "    c = c + a[b-1]\n",
        "    b = b - 1\n",
        "print(c)"
      ],
      "metadata": {
        "colab": {
          "base_uri": "https://localhost:8080/"
        },
        "id": "gQ1d77vszWqO",
        "outputId": "7486320a-4a68-4b3c-ad87-f7fb91288944"
      },
      "execution_count": 35,
      "outputs": [
        {
          "output_type": "stream",
          "name": "stdout",
          "text": [
            "가수 이름을 입력 : 트와이스\n",
            "스이와트\n"
          ]
        }
      ]
    },
    {
      "cell_type": "code",
      "source": [
        "a = input(\"영어 단어 입력 : \")\n",
        "b = len(a)\n",
        "c = \"\"\n",
        "while b > 0 :\n",
        "    c = c + a[b-1]\n",
        "    b = b - 1\n",
        "print(c)"
      ],
      "metadata": {
        "colab": {
          "base_uri": "https://localhost:8080/"
        },
        "id": "xFFRUbn40jKg",
        "outputId": "10b9764b-f7ef-43e6-b66e-d118ecc96e2d"
      },
      "execution_count": 36,
      "outputs": [
        {
          "output_type": "stream",
          "name": "stdout",
          "text": [
            "영어 단어 입력 : f\n",
            "False\n"
          ]
        }
      ]
    },
    {
      "cell_type": "code",
      "source": [],
      "metadata": {
        "id": "v5DhLjxe5kAu"
      },
      "execution_count": null,
      "outputs": []
    }
  ]
}