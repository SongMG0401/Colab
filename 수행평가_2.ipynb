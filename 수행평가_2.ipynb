{
  "nbformat": 4,
  "nbformat_minor": 0,
  "metadata": {
    "colab": {
      "provenance": [],
      "authorship_tag": "ABX9TyPFTPW6GSGQiNorLcVfw6X/",
      "include_colab_link": true
    },
    "kernelspec": {
      "name": "python3",
      "display_name": "Python 3"
    },
    "language_info": {
      "name": "python"
    }
  },
  "cells": [
    {
      "cell_type": "markdown",
      "metadata": {
        "id": "view-in-github",
        "colab_type": "text"
      },
      "source": [
        "<a href=\"https://colab.research.google.com/github/SongMG0401/Colab/blob/main/%EC%88%98%ED%96%89%ED%8F%89%EA%B0%80_2.ipynb\" target=\"_parent\"><img src=\"https://colab.research.google.com/assets/colab-badge.svg\" alt=\"Open In Colab\"/></a>"
      ]
    },
    {
      "cell_type": "code",
      "execution_count": 3,
      "metadata": {
        "colab": {
          "base_uri": "https://localhost:8080/"
        },
        "id": "XuiDCjNtbQp2",
        "outputId": "461376a4-0e92-49bc-d90d-364c1da64bf1"
      },
      "outputs": [
        {
          "output_type": "stream",
          "name": "stdout",
          "text": [
            "정수를 입력하세요 : 4\n",
            "4 짝수입니다.\n"
          ]
        }
      ],
      "source": [
        "a = int(input(\"정수를 입력하세요 : \"))\n",
        "\n",
        "if a % 2 == 0 :\n",
        "  print(a, \"짝수입니다.\")\n",
        "else :\n",
        "  print(a, \"홀수입니다.\")"
      ]
    }
  ]
}