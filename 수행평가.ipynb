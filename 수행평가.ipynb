{
  "nbformat": 4,
  "nbformat_minor": 0,
  "metadata": {
    "colab": {
      "provenance": [],
      "authorship_tag": "ABX9TyMeKFbqDzS9LzkOTFcuVI8m",
      "include_colab_link": true
    },
    "kernelspec": {
      "name": "python3",
      "display_name": "Python 3"
    },
    "language_info": {
      "name": "python"
    }
  },
  "cells": [
    {
      "cell_type": "markdown",
      "metadata": {
        "id": "view-in-github",
        "colab_type": "text"
      },
      "source": [
        "<a href=\"https://colab.research.google.com/github/SongMG0401/Colab/blob/main/%EC%88%98%ED%96%89%ED%8F%89%EA%B0%80.ipynb\" target=\"_parent\"><img src=\"https://colab.research.google.com/assets/colab-badge.svg\" alt=\"Open In Colab\"/></a>"
      ]
    },
    {
      "cell_type": "code",
      "execution_count": 11,
      "metadata": {
        "id": "PookaY5yAKuA",
        "colab": {
          "base_uri": "https://localhost:8080/"
        },
        "outputId": "3946415c-fe1a-4ada-b7dc-36ed2ca0bdec"
      },
      "outputs": [
        {
          "output_type": "stream",
          "name": "stdout",
          "text": [
            "문자열을 입력하세요 : Python\n",
            "원본 문자열 : Python\n"
          ]
        }
      ],
      "source": [
        "text1 = input(\"문자열을 입력하세요 : \")\n",
        "textsize = len(text1)\n",
        "ts = 0\n",
        "\n",
        "print(\"원본 문자열 :\", text1)\n",
        "\n",
        "text2 = \"\"\n",
        "for i in range(0, textsize) :\n",
        "  if text1[ts].isupper():\n",
        "   text2 += text1[ts].lower()\n",
        "   ts = ts + 1\n",
        "  \n",
        "  if text1[ts].isupper():\n",
        "   text2 += text1[ts].upper()\n",
        "   ts = ts + 1"
      ]
    },
    {
      "cell_type": "code",
      "source": [
        "ss = \"Python\"\n",
        "print(\"원본 문자열 : \", ss)\n",
        "ts = 1\n",
        "ss2 = \"\"\n",
        "\n",
        "ss2 += ss[0].lower()\n",
        "for i in range(0, 5) :\n",
        "  ss2 += ss[ts].upper()\n",
        "  ts = ts + 1\n",
        "\n",
        "print(\"변화 문자열 : \", ss2)"
      ],
      "metadata": {
        "colab": {
          "base_uri": "https://localhost:8080/"
        },
        "id": "kLLcwU3zl3FB",
        "outputId": "eaeca23f-9d9c-4366-c15e-8df50cffe190"
      },
      "execution_count": 14,
      "outputs": [
        {
          "output_type": "stream",
          "name": "stdout",
          "text": [
            "원본 문자열 :  Python\n",
            "변화 문자열 :  pYTHON\n"
          ]
        }
      ]
    }
  ]
}