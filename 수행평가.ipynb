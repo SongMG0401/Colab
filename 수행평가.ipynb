{
  "nbformat": 4,
  "nbformat_minor": 0,
  "metadata": {
    "colab": {
      "provenance": [],
      "collapsed_sections": [],
      "authorship_tag": "ABX9TyP3GxEojAjPB1xyEXqmxlVc",
      "include_colab_link": true
    },
    "kernelspec": {
      "name": "python3",
      "display_name": "Python 3"
    },
    "language_info": {
      "name": "python"
    }
  },
  "cells": [
    {
      "cell_type": "markdown",
      "metadata": {
        "id": "view-in-github",
        "colab_type": "text"
      },
      "source": [
        "<a href=\"https://colab.research.google.com/github/SongMG0401/Colab/blob/main/%EC%88%98%ED%96%89%ED%8F%89%EA%B0%80.ipynb\" target=\"_parent\"><img src=\"https://colab.research.google.com/assets/colab-badge.svg\" alt=\"Open In Colab\"/></a>"
      ]
    },
    {
      "cell_type": "code",
      "execution_count": null,
      "metadata": {
        "id": "PookaY5yAKuA",
        "colab": {
          "base_uri": "https://localhost:8080/"
        },
        "outputId": "1ec5d4dc-509f-4327-b799-bf27fd2d889a"
      },
      "outputs": [
        {
          "output_type": "stream",
          "name": "stdout",
          "text": [
            "문자열을 입력하세요 : PYthon\n",
            "원본 문자열 : PYthon\n",
            "변화 문자열 : pyTHON\n"
          ]
        }
      ],
      "source": [
        "text1 = input(\"문자열을 입력하세요 : \")\n",
        "textsize = len(text1)\n",
        "ts = 0\n",
        "text2 = \"\"\n",
        "\n",
        "print(\"원본 문자열 :\", text1)\n",
        "\n",
        "for i in range(0, textsize) :\n",
        "  if text1[ts].isupper() == True :\n",
        "    text2 += text1[ts].lower()\n",
        "    ts = ts + 1\n",
        "  \n",
        "  elif text1[ts].isupper() == False :\n",
        "    text2 += text1[ts].upper()\n",
        "    ts = ts + 1\n",
        "\n",
        "print(\"변화 문자열 :\", text2)"
      ]
    },
    {
      "cell_type": "code",
      "source": [
        "ss = \"Python\"\n",
        "print(\"원본 문자열 : \", ss)\n",
        "ts = 1\n",
        "ss2 = \"\"\n",
        "\n",
        "ss2 += ss[0].lower()\n",
        "for i in range(0, 5) :\n",
        "  ss2 += ss[ts].upper()\n",
        "  ts = ts + 1\n",
        "\n",
        "print(\"변화 문자열 : \", ss2)"
      ],
      "metadata": {
        "colab": {
          "base_uri": "https://localhost:8080/"
        },
        "id": "kLLcwU3zl3FB",
        "outputId": "eaeca23f-9d9c-4366-c15e-8df50cffe190"
      },
      "execution_count": null,
      "outputs": [
        {
          "output_type": "stream",
          "name": "stdout",
          "text": [
            "원본 문자열 :  Python\n",
            "변화 문자열 :  pYTHON\n"
          ]
        }
      ]
    },
    {
      "cell_type": "code",
      "source": [
        "a = input(\"가수 이름을 입력 : \")\n",
        "b = len(a)\n",
        "c = \"\"\n",
        "\n",
        "for i in range(0, b) :\n",
        "  c = c + a[b-1]\n",
        "  b = b - 1\n",
        "  \n",
        "print(c)"
      ],
      "metadata": {
        "colab": {
          "base_uri": "https://localhost:8080/"
        },
        "id": "6VSiLN0PoKG4",
        "outputId": "6c858c6d-0949-4887-f936-793388b6e5da"
      },
      "execution_count": null,
      "outputs": [
        {
          "output_type": "stream",
          "name": "stdout",
          "text": [
            "가수 이름을 입력 : 트와이스\n",
            "스이와트\n"
          ]
        }
      ]
    },
    {
      "cell_type": "code",
      "source": [
        "text1 = input(\"첫 번째 문자열 : \")\n",
        "text2 = input(\"두 번째 문자열 : \")\n",
        "\n",
        "a = len(text1)\n",
        "b = len(text2)\n",
        "\n",
        "print(\"두 문자열의 길이 차이는\", a - b, \"입니다.\")"
      ],
      "metadata": {
        "colab": {
          "base_uri": "https://localhost:8080/"
        },
        "id": "8ExpRhqwxUxj",
        "outputId": "10cafe23-e08c-4632-c456-dfce34272c3a"
      },
      "execution_count": 32,
      "outputs": [
        {
          "output_type": "stream",
          "name": "stdout",
          "text": [
            "첫 번째 문자열 : 난생처음 파이썬\n",
            "두 번째 문자열 : First Python\n",
            "두 문자열의 길이 차이는 -4 입니다.\n"
          ]
        }
      ]
    },
    {
      "cell_type": "code",
      "source": [
        "paund = float(input(\"파운드(lb)를 입력하세요 : \"))\n",
        "kg = a * 0.453592\n",
        "print(paund,\"파운드는\", kg, \"킬로그램입니다.\")\n",
        "\n",
        "kg = float(input(\"킬로그램(kg)을 입력하세요 : \"))\n",
        "paund = kg * 2.204623\n",
        "print(kg,\"킬로그램은\", paund, \"파운드입니다.\")"
      ],
      "metadata": {
        "colab": {
          "base_uri": "https://localhost:8080/"
        },
        "id": "orod6-AB1SZD",
        "outputId": "f2b43201-11bc-4ea0-fc45-7733ad19324b"
      },
      "execution_count": 33,
      "outputs": [
        {
          "output_type": "stream",
          "name": "stdout",
          "text": [
            "파운드(lb)를 입력하세요 : 15\n",
            "15.0 파운드는 3.628736 킬로그램입니다.\n",
            "킬로그램(kg)을 입력하세요 : 15\n",
            "15.0 킬로그램은 33.069345000000006 파운드입니다.\n"
          ]
        }
      ]
    }
  ]
}